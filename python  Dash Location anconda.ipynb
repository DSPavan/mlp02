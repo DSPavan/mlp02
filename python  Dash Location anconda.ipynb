{
 "cells": [
  {
   "cell_type": "code",
   "execution_count": 1,
   "id": "39aedc3c",
   "metadata": {},
   "outputs": [
    {
     "data": {
      "text/plain": [
       "'C:\\\\ProgramData\\\\Anaconda3'"
      ]
     },
     "execution_count": 1,
     "metadata": {},
     "output_type": "execute_result"
    }
   ],
   "source": [
    "import os\n",
    "import sys\n",
    "os.path.dirname(sys.executable)"
   ]
  },
  {
   "cell_type": "code",
   "execution_count": 4,
   "id": "96b2fb95",
   "metadata": {},
   "outputs": [],
   "source": [
    "#conda install -c conda-forge dash\n",
    "\n",
    "#pip install dash\n",
    "\n",
    "#pip install jupyter-dash\n",
    "\n",
    "\n",
    "#C:\\ProgramData\\Anaconda3\\python DashA\\app.py"
   ]
  },
  {
   "cell_type": "raw",
   "id": "db4ca3e4",
   "metadata": {},
   "source": [
    "# https://dash.plotly.com/"
   ]
  },
  {
   "cell_type": "code",
   "execution_count": 5,
   "id": "5fe9f4ee",
   "metadata": {},
   "outputs": [],
   "source": [
    "# 1. APPS\n",
    "# 2. LAYOUT\n",
    "# 3. CALLBACK\n",
    "# 4, RUN_SERVER\n",
    "\n"
   ]
  },
  {
   "cell_type": "code",
   "execution_count": 7,
   "id": "aca9167e",
   "metadata": {},
   "outputs": [],
   "source": [
    "# GRAPHS\n"
   ]
  },
  {
   "cell_type": "code",
   "execution_count": 8,
   "id": "e2fb8dbf",
   "metadata": {},
   "outputs": [],
   "source": [
    "# RADIO BUTTON\n",
    "# DROP DOWN\n",
    "# CHOOSE BUTTON / CHOICE\n",
    "# SLIDER\n",
    "# INPUT\n",
    "# OUTPUT"
   ]
  },
  {
   "cell_type": "code",
   "execution_count": 9,
   "id": "e8913637",
   "metadata": {},
   "outputs": [],
   "source": [
    "# URLS routing\n",
    "# TABS"
   ]
  },
  {
   "cell_type": "code",
   "execution_count": 10,
   "id": "516318fe",
   "metadata": {},
   "outputs": [],
   "source": [
    "#Azure Kubernetes Service"
   ]
  },
  {
   "cell_type": "code",
   "execution_count": 11,
   "id": "be141a6e",
   "metadata": {},
   "outputs": [],
   "source": [
    "# pythonanywhere.com\n",
    "# KEROKU\n",
    "# OTHERS - AZURE, AWS, GOOGLE CLOUD"
   ]
  },
  {
   "cell_type": "code",
   "execution_count": 12,
   "id": "320aa697",
   "metadata": {},
   "outputs": [],
   "source": [
    "#wsgi.py\n",
    "\n",
    "#from myapp import app\n",
    "#application = app.server"
   ]
  },
  {
   "cell_type": "code",
   "execution_count": 13,
   "id": "cdc1ed26",
   "metadata": {},
   "outputs": [],
   "source": [
    "# https://tutorial.djangogirls.org/en/deploy/ - DJANGO"
   ]
  },
  {
   "cell_type": "code",
   "execution_count": 14,
   "id": "714dbde1",
   "metadata": {},
   "outputs": [],
   "source": [
    "# http://elsascola.com/the-easiest-way-to-deploy-your-dash-app-for-free/ - DASH"
   ]
  },
  {
   "cell_type": "code",
   "execution_count": 15,
   "id": "a2a6cf60",
   "metadata": {},
   "outputs": [
    {
     "name": "stdout",
     "output_type": "stream",
     "text": [
      "3.8.8 (default, Apr 13 2021, 15:08:03) [MSC v.1916 64 bit (AMD64)]\n"
     ]
    }
   ],
   "source": [
    "import sys\n",
    "print(sys.version)"
   ]
  },
  {
   "cell_type": "code",
   "execution_count": 16,
   "id": "2d48ce87",
   "metadata": {},
   "outputs": [],
   "source": [
    "# pythonanywhere\n",
    "\n",
    "#gpavankumar1974 , r31 $ gmail\n",
    "\n",
    "# /home/gpavankumar1974/mysite/flask_app.py"
   ]
  },
  {
   "cell_type": "code",
   "execution_count": 17,
   "id": "afc3b331",
   "metadata": {},
   "outputs": [],
   "source": [
    "#http://elsascola.com/the-easiest-way-to-deploy-your-dash-app-for-free/\n",
    "\n",
    "# very goood for simple hosting steps. I tested and working good for students"
   ]
  },
  {
   "cell_type": "code",
   "execution_count": 18,
   "id": "841d7622",
   "metadata": {},
   "outputs": [],
   "source": [
    "# APP.PY  -----> Pythonaywhere hosting\n",
    "# APP.PY to GITHUB -> Hosting on Heroku\n",
    "#"
   ]
  },
  {
   "cell_type": "code",
   "execution_count": null,
   "id": "bbb07bf6",
   "metadata": {},
   "outputs": [],
   "source": []
  }
 ],
 "metadata": {
  "kernelspec": {
   "display_name": "Python 3",
   "language": "python",
   "name": "python3"
  },
  "language_info": {
   "codemirror_mode": {
    "name": "ipython",
    "version": 3
   },
   "file_extension": ".py",
   "mimetype": "text/x-python",
   "name": "python",
   "nbconvert_exporter": "python",
   "pygments_lexer": "ipython3",
   "version": "3.8.8"
  }
 },
 "nbformat": 4,
 "nbformat_minor": 5
}
