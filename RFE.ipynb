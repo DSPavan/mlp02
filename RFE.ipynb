{
 "cells": [
  {
   "cell_type": "code",
   "execution_count": 44,
   "id": "834f7bb1",
   "metadata": {},
   "outputs": [],
   "source": [
    "# RFE  with  RandomForestClassifier\n",
    "# RFE  with SVC= support vector Classifier\n",
    "#  With ExtraTreesClassifier - Feature Selection"
   ]
  },
  {
   "cell_type": "code",
   "execution_count": 19,
   "id": "330bec42",
   "metadata": {},
   "outputs": [
    {
     "name": "stdout",
     "output_type": "stream",
     "text": [
      "  Predictor       740       741       742       743       744       745  \\\n",
      "0     HB-52  1.499853  1.500665  1.501564  1.502536  1.503537  1.504548   \n",
      "1     HB-52  1.530877  1.531669  1.532524  1.533419  1.534308  1.535169   \n",
      "2     HB-52  1.607175  1.608642  1.610044  1.611357  1.612540  1.613585   \n",
      "3     HB-52  1.677333  1.678098  1.678930  1.679809  1.680688  1.681539   \n",
      "4     HB-52  1.507830  1.509293  1.510683  1.511977  1.513145  1.514180   \n",
      "\n",
      "        746       747       748  ...      1061      1062      1063      1064  \\\n",
      "0  1.505588  1.506689  1.507828  ...  1.636411  1.637350  1.636452  1.634370   \n",
      "1  1.536024  1.536916  1.537830  ...  1.643299  1.644222  1.643302  1.641195   \n",
      "2  1.614534  1.615456  1.616359  ...  1.703343  1.704291  1.703329  1.701137   \n",
      "3  1.682384  1.683260  1.684145  ...  1.755067  1.756013  1.754996  1.752716   \n",
      "4  1.515125  1.516049  1.516964  ...  1.641968  1.642877  1.641946  1.639829   \n",
      "\n",
      "       1065      1066      1067      1068      1069      1070  \n",
      "0  1.632287  1.630265  1.630722  1.633166  1.636204  1.637872  \n",
      "1  1.639088  1.637046  1.637493  1.639938  1.642981  1.644649  \n",
      "2  1.698946  1.696822  1.697278  1.699806  1.702953  1.704677  \n",
      "3  1.750441  1.748238  1.748696  1.751290  1.754525  1.756294  \n",
      "4  1.637714  1.635664  1.636101  1.638535  1.641567  1.643227  \n",
      "\n",
      "[5 rows x 332 columns]\n",
      "(1200, 332)\n"
     ]
    }
   ],
   "source": [
    "import pandas as pd\n",
    "# CSV File - Read\n",
    "df = pd.read_csv('C:\\\\Users\\\\radha\\\\Desktop\\\\dsp27 Class\\\\Barley.csv')\n",
    "#  ,header=None ,skiprows=1 , names=['Cal', 'Pr', 'Fat', 'sod', 'Fib', 'Rting']\n",
    "print(df.head(5)) \n",
    "print(df.shape)"
   ]
  },
  {
   "cell_type": "code",
   "execution_count": 20,
   "id": "75381cba",
   "metadata": {},
   "outputs": [],
   "source": [
    "import numpy as np\n",
    "from sklearn.preprocessing import StandardScaler\n",
    "# split data table into data X and class labels y\n",
    "\n",
    "X = df.iloc[:,1:330]\n",
    "X_col = X.columns\n",
    "\n",
    "X = df.iloc[:,1:330].values\n",
    "y = df.iloc[:,0].values\n",
    "\n",
    "from sklearn.preprocessing import LabelEncoder\n",
    "labelencoder = LabelEncoder()\n",
    "y= labelencoder.fit_transform(y)"
   ]
  },
  {
   "cell_type": "code",
   "execution_count": 21,
   "id": "a7f15068",
   "metadata": {},
   "outputs": [],
   "source": [
    "from sklearn.ensemble import RandomForestClassifier\n",
    "from sklearn.model_selection import train_test_split\n",
    "X_train, X_test, y_train, y_test =train_test_split(X, y ,  test_size=0.2, random_state=123,stratify=y)\n",
    "\n",
    "Rf = RandomForestClassifier(random_state=52)\n",
    "\n",
    "from sklearn.neighbors import KNeighborsClassifier\n",
    "#Rf = KNeighborsClassifier(n_neighbors=3, algorithm=\"ball_tree\")\n",
    "\n",
    "Rf_fit=Rf.fit(X_train, y_train)\n",
    "y_pred = Rf_fit.predict(X_test)\n"
   ]
  },
  {
   "cell_type": "code",
   "execution_count": null,
   "id": "1c31cb8c",
   "metadata": {},
   "outputs": [
    {
     "name": "stderr",
     "output_type": "stream",
     "text": [
      "C:\\ProgramData\\Anaconda3\\lib\\site-packages\\sklearn\\utils\\validation.py:70: FutureWarning: Pass n_features_to_select=3 as keyword args. From version 1.0 (renaming of 0.25) passing these as positional arguments will result in an error\n",
      "  warnings.warn(f\"Pass {args_msg} as keyword args. From version \"\n"
     ]
    }
   ],
   "source": [
    "#Reduction of variables using Recursive Feature Elimination(RFE) techineque\n",
    "\n",
    "X = df.iloc[:,1:330]\n",
    "X_col = X.columns\n",
    "\n",
    "\n",
    "from sklearn.feature_selection import RFE\n",
    "\n",
    "# RFE with 10 features\n",
    "\n",
    "rfe_10 = RFE(Rf,3) \n",
    "\n",
    "#sfm = SelectFromModel(LassoCV(), 0.25)\n",
    "#sfm.fit(X_train, y_train)\n",
    "#print(sfm.estimator_.coef_)  # print \"importance\" scores\n",
    "\n",
    "rfe_10.fit(X_train, y_train)\n",
    "#feature_importances_\n",
    "\n",
    "# selected features\n",
    "features_bool = np.array(rfe_10.support_)\n",
    "features = np.array(X_col)\n",
    "result = features[features_bool]\n",
    "print('10 selected Features:')\n",
    "print(result)   "
   ]
  },
  {
   "cell_type": "code",
   "execution_count": null,
   "id": "bb9d9d79",
   "metadata": {},
   "outputs": [],
   "source": [
    "# 13:07 --- 13:38  = approx 30 minute\n",
    "# more time"
   ]
  },
  {
   "cell_type": "code",
   "execution_count": null,
   "id": "46b2576b",
   "metadata": {},
   "outputs": [],
   "source": [
    "# KNeighborsClassifier  RFE  Recursive Feature Elimination(RFE) techineque"
   ]
  },
  {
   "cell_type": "code",
   "execution_count": 23,
   "id": "03c64d8d",
   "metadata": {},
   "outputs": [
    {
     "name": "stdout",
     "output_type": "stream",
     "text": [
      "['887' '1049' '1063']\n"
     ]
    }
   ],
   "source": [
    "print(result)  \n",
    "# 3 best variables"
   ]
  },
  {
   "cell_type": "code",
   "execution_count": 24,
   "id": "2d48ccce",
   "metadata": {},
   "outputs": [],
   "source": [
    "#############\n",
    "\n",
    "from sklearn.neighbors import KNeighborsClassifier\n",
    "Rf = KNeighborsClassifier(n_neighbors=3, algorithm=\"ball_tree\")\n",
    "\n",
    "Rf_fit=Rf.fit(X_train, y_train)\n",
    "y_pred = Rf_fit.predict(X_test)"
   ]
  },
  {
   "cell_type": "code",
   "execution_count": 25,
   "id": "a4c9f619",
   "metadata": {},
   "outputs": [
    {
     "data": {
      "text/plain": [
       "array([ 1, 17, 11,  6, 16,  0,  5, 17,  1, 15,  3, 13, 10,  9,  5,  4, 16,\n",
       "        4, 15, 11,  9,  5, 12,  6,  7, 16, 22,  1, 13, 13, 19, 15,  4,  1,\n",
       "       13, 19,  7,  1,  1,  4, 14,  9, 11,  5,  5,  2, 22,  1, 21, 11,  3,\n",
       "        6,  1,  8,  0,  9, 16,  5, 22,  9, 21,  1,  2,  4, 16,  4, 18,  3,\n",
       "        2,  3, 22,  0,  7, 13, 23, 13,  1,  0, 18,  4,  6,  0,  7,  1, 13,\n",
       "        7, 17,  1, 17,  4, 19,  5,  6,  0,  4,  5,  3, 21,  1,  5,  8,  3,\n",
       "        7, 17, 12,  0,  6,  1, 14, 14,  9,  3,  6,  9,  7, 10,  0,  4, 11,\n",
       "        1,  0,  2,  8, 20,  8, 23,  1, 21,  9,  2,  3,  7, 22,  1, 21,  0,\n",
       "       22,  8,  6,  0, 20,  2,  5,  3,  1, 21,  5, 16, 23,  1,  2,  2, 15,\n",
       "        3, 13,  8, 16,  4, 13,  0,  0,  1,  1,  3, 11,  4,  0, 16,  7,  3,\n",
       "       11, 13,  6, 22,  5,  6, 16, 23,  1,  7, 17,  3,  0,  3,  5,  6, 22,\n",
       "        7, 23, 11, 22,  7, 10, 16, 14, 16,  4, 14, 12, 21, 11, 19,  6,  5,\n",
       "        3, 16,  6, 12,  7,  1, 18,  1, 10, 10, 10,  4,  7, 19, 11, 15, 22,\n",
       "        4,  2, 23,  1,  7, 11,  1, 12,  3,  6, 16,  1, 21, 20,  6,  1,  1,\n",
       "       10,  8])"
      ]
     },
     "execution_count": 25,
     "metadata": {},
     "output_type": "execute_result"
    }
   ],
   "source": [
    "y_pred"
   ]
  },
  {
   "cell_type": "code",
   "execution_count": 42,
   "id": "9d7e522b",
   "metadata": {},
   "outputs": [
    {
     "name": "stdout",
     "output_type": "stream",
     "text": [
      "10 selected Features:\n",
      "['1059' '1065' '1066' '1067' '1068']\n"
     ]
    }
   ],
   "source": [
    "#Reduction of variables using Recursive Feature Elimination(RFE) techineque\n",
    "\n",
    "from sklearn.svm import SVC\n",
    "svc = SVC(kernel=\"linear\", C=1)\n",
    "rfe_10 = RFE(estimator=svc, n_features_to_select=5, step=1)\n",
    "#rfe.fit(X, y)\n",
    "\n",
    "X = df.iloc[:,1:330]\n",
    "X_col = X.columns\n",
    "from sklearn.feature_selection import RFE\n",
    "\n",
    "rfe_10.fit(X_train, y_train)\n",
    "#feature_importances_\n",
    "\n",
    "# selected features\n",
    "features_bool = np.array(rfe_10.support_)\n",
    "features = np.array(X_col)\n",
    "result = features[features_bool]\n",
    "print('10 selected Features:')\n",
    "print(result)  "
   ]
  },
  {
   "cell_type": "code",
   "execution_count": 37,
   "id": "9efecf5a",
   "metadata": {},
   "outputs": [],
   "source": [
    "#ValueError: when `importance_getter=='auto'`, the underlying estimator KNeighborsClassifier should have `coef_` \n",
    "#    or `feature_importances_` attribute. \n",
    "#    Either pass a fitted estimator to feature selector or call fit before calling transform."
   ]
  },
  {
   "cell_type": "code",
   "execution_count": 43,
   "id": "15545759",
   "metadata": {},
   "outputs": [],
   "source": [
    "# 14:31 - SVC - 14:34 : 5 minutes\n",
    "\n",
    "#5 selected Features:\n",
    "#['1059' '1065' '1066' '1067' '1068']"
   ]
  },
  {
   "cell_type": "code",
   "execution_count": null,
   "id": "7b02b919",
   "metadata": {},
   "outputs": [],
   "source": [
    "print(result)  "
   ]
  }
 ],
 "metadata": {
  "kernelspec": {
   "display_name": "Python 3",
   "language": "python",
   "name": "python3"
  },
  "language_info": {
   "codemirror_mode": {
    "name": "ipython",
    "version": 3
   },
   "file_extension": ".py",
   "mimetype": "text/x-python",
   "name": "python",
   "nbconvert_exporter": "python",
   "pygments_lexer": "ipython3",
   "version": "3.8.8"
  }
 },
 "nbformat": 4,
 "nbformat_minor": 5
}
