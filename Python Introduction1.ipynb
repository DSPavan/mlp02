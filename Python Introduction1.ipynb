{
 "cells": [
  {
   "cell_type": "code",
   "execution_count": 1,
   "id": "2ca9f401",
   "metadata": {},
   "outputs": [],
   "source": [
    "# Python IDE List\n",
    "# Python IDLE\n",
    "# Pycharm\n",
    "# VStudio\n",
    "# EClipse\n",
    "# Spyder   --- List goes on\n",
    "\n",
    "# for Data scince - Jupyter Notebook\n"
   ]
  },
  {
   "cell_type": "code",
   "execution_count": 2,
   "id": "4efb771e",
   "metadata": {},
   "outputs": [],
   "source": [
    "# Python History\n",
    "# Python Uses\n",
    "# Web Development, Gaming, Testing, Data Science, AI, ML,DL "
   ]
  },
  {
   "cell_type": "code",
   "execution_count": 3,
   "id": "013f1f47",
   "metadata": {},
   "outputs": [],
   "source": [
    "# DATA TYPES\n",
    "\n",
    "# 1. String\n",
    "# 2. Numeric\n",
    "# 3. List\n",
    "# 4. Tuple\n",
    "# 5. Dictionary"
   ]
  },
  {
   "cell_type": "markdown",
   "id": "bf4394f9",
   "metadata": {},
   "source": [
    "<h2> String </h2>"
   ]
  },
  {
   "cell_type": "code",
   "execution_count": 4,
   "id": "956a86ac",
   "metadata": {},
   "outputs": [
    {
     "name": "stdout",
     "output_type": "stream",
     "text": [
      "Indian cricket team\n",
      "Bank of America \n"
     ]
    }
   ],
   "source": [
    "var1 = 'Indian cricket team'\n",
    "var2 = \"Bank of America \"\n",
    "\n",
    "print(var1)\n",
    "print(var2)"
   ]
  },
  {
   "cell_type": "code",
   "execution_count": 5,
   "id": "bd4dfec8",
   "metadata": {},
   "outputs": [
    {
     "name": "stdout",
     "output_type": "stream",
     "text": [
      "My name is Pavan and my score is 69 runs!\n",
      "My name is Pavan and my score is 69.000 runs!\n"
     ]
    }
   ],
   "source": [
    "print(\"My name is %s and my score is %d runs!\" % ('Pavan', 69)) \n",
    "print(\"My name is %s and my score is %0.3f runs!\" % ('Pavan', 69))\n",
    "\n",
    "# %s = string , %d = digits  , %f = floating point number\n",
    "# %e  = exponetial"
   ]
  },
  {
   "cell_type": "code",
   "execution_count": 6,
   "id": "37dad1af",
   "metadata": {},
   "outputs": [
    {
     "name": "stdout",
     "output_type": "stream",
     "text": [
      "capitalize() :  Indian cricket team\n",
      "lower :  indian cricket team\n",
      "upper:  INDIAN CRICKET TEAM\n",
      "Count of string(s) :  1\n",
      "Length of a string:  19\n",
      "Title:  Indian Cricket Team\n"
     ]
    }
   ],
   "source": [
    "# string functions\n",
    "var1 = 'Indian cricket team'\n",
    "print( \"capitalize() : \", var1.capitalize())\n",
    "print( \"lower : \", var1.lower())\n",
    "print( \"upper: \", var1.upper())\n",
    "print( \"Count of string(s) : \", var1.count(\"cricket\")) \n",
    "print( \"Length of a string: \", len(var1))\n",
    "print( \"Title: \", var1.title())\n"
   ]
  },
  {
   "cell_type": "code",
   "execution_count": 7,
   "id": "19167710",
   "metadata": {},
   "outputs": [
    {
     "name": "stdout",
     "output_type": "stream",
     "text": [
      "Length of a string:  32\n",
      "remove First and end white spaces -  Indian cricket team\n",
      "Length of a string:  19\n"
     ]
    }
   ],
   "source": [
    "var1 = '      Indian cricket team       '\n",
    "print( \"Length of a string: \", len(var1))\n",
    "print(\"remove First and end white spaces - \", var1.strip())\n",
    "print( \"Length of a string: \", len(var1.strip()))"
   ]
  },
  {
   "cell_type": "code",
   "execution_count": 8,
   "id": "63cecc7f",
   "metadata": {},
   "outputs": [
    {
     "name": "stdout",
     "output_type": "stream",
     "text": [
      "split ['Indian', 'cricket', 'team']\n"
     ]
    }
   ],
   "source": [
    "var1 = 'Indian cricket team'\n",
    "print( \"split\", var1.split(' ') )\n"
   ]
  },
  {
   "cell_type": "code",
   "execution_count": 9,
   "id": "5ccb3120",
   "metadata": {},
   "outputs": [
    {
     "name": "stdout",
     "output_type": "stream",
     "text": [
      "indian_cricket_team\n"
     ]
    }
   ],
   "source": [
    "# JOIN\n",
    "str = \"_\"\n",
    "str1 = ( \"indian\", \"cricket\", \"team\" )\n",
    "print (str.join(str1))"
   ]
  },
  {
   "cell_type": "code",
   "execution_count": 10,
   "id": "4e713e99",
   "metadata": {},
   "outputs": [
    {
     "name": "stdout",
     "output_type": "stream",
     "text": [
      "************************************************************\n"
     ]
    }
   ],
   "source": [
    "var3 = \"*\"\n",
    "print(var3 * 60 )     # Prints string two times\n"
   ]
  },
  {
   "cell_type": "code",
   "execution_count": 11,
   "id": "808a47fe",
   "metadata": {},
   "outputs": [
    {
     "name": "stdout",
     "output_type": "stream",
     "text": [
      "Bank of Hyderabad Merged  into Bank of India\n"
     ]
    }
   ],
   "source": [
    "var2 = \"Bank of Hyderabad\"\n",
    "print(var2 + \" Merged  into Bank of India\" )# Prints concatenated string\n",
    "# space at +"
   ]
  },
  {
   "cell_type": "markdown",
   "id": "3e583d1d",
   "metadata": {},
   "source": [
    "<h2> Numeric </h2>\n"
   ]
  },
  {
   "cell_type": "code",
   "execution_count": 12,
   "id": "5bf0ef67",
   "metadata": {},
   "outputs": [
    {
     "name": "stdout",
     "output_type": "stream",
     "text": [
      "Perimter is =  9.0\n",
      "The area of the triangle is 14.70\n"
     ]
    }
   ],
   "source": [
    "# Integers, Numbers\n",
    "\n",
    "a = 5\n",
    "b = 6\n",
    "c = 7\n",
    " \n",
    "s = (a+b+c)/2\n",
    "perimeter = s\n",
    "print(\"Perimter is = \", perimeter)\n",
    "\n",
    "area = (s*(s-a)*(s-b)*(s-c)) ** 0.5\n",
    "print('The area of the triangle is %0.2f' %area)"
   ]
  },
  {
   "cell_type": "code",
   "execution_count": 13,
   "id": "5fab3720",
   "metadata": {},
   "outputs": [
    {
     "name": "stdout",
     "output_type": "stream",
     "text": [
      "14.696938456699069\n"
     ]
    }
   ],
   "source": [
    "import math\n",
    "area2 =   math.sqrt(s*(s-a)*(s-b)*(s-c))\n",
    "print(area2)\n"
   ]
  },
  {
   "cell_type": "code",
   "execution_count": 14,
   "id": "3e0daae1",
   "metadata": {},
   "outputs": [
    {
     "name": "stdout",
     "output_type": "stream",
     "text": [
      "14.7\n",
      "The area of the triangle is 14.70\n",
      "<class 'float'>\n"
     ]
    }
   ],
   "source": [
    "print(round(area2,1))\n",
    "print('The area of the triangle is %0.2f'  %area2)\n",
    "print(type(area2))"
   ]
  },
  {
   "cell_type": "code",
   "execution_count": 15,
   "id": "3b13d705",
   "metadata": {},
   "outputs": [
    {
     "name": "stdout",
     "output_type": "stream",
     "text": [
      "100\n",
      "<class 'int'>\n",
      "100.0\n",
      "<class 'float'>\n",
      "(100+0j)\n",
      "<class 'complex'>\n"
     ]
    }
   ],
   "source": [
    "##\n",
    "#There are three numeric types in Python:\n",
    "\n",
    "#int\n",
    "#float\n",
    "#complex\n",
    "'''\n",
    "int (signed integers) \n",
    "long (long integers ) \n",
    "float (floating point real values)\n",
    "complex (complex numbers\n",
    "'''\n",
    "\n",
    "## Type conversion - Casting\n",
    "'''\n",
    "int(x)\n",
    "long(x)  # his is not in python3\n",
    "float(x)\n",
    "complex(x)\n",
    "'''\n",
    "\n",
    "x = 100\n",
    "\n",
    "print(int(x))\n",
    "print(type(int(x)))\n",
    "\n",
    "#print(long(y))\n",
    "print(float(x))\n",
    "print(type(float(x)))\n",
    "# imaginary - J\n",
    "print(complex(x))\n",
    "print(type(complex(x)))"
   ]
  },
  {
   "cell_type": "code",
   "execution_count": 16,
   "id": "e335dda4",
   "metadata": {},
   "outputs": [
    {
     "name": "stdout",
     "output_type": "stream",
     "text": [
      "101\n",
      "100\n",
      "100.3\n"
     ]
    }
   ],
   "source": [
    "y = 100.276\n",
    "print(math.ceil(y))\n",
    "print(math.floor(y))\n",
    "print(round(y,1))"
   ]
  },
  {
   "cell_type": "code",
   "execution_count": 17,
   "id": "68beba50",
   "metadata": {},
   "outputs": [
    {
     "name": "stdout",
     "output_type": "stream",
     "text": [
      "100.276\n",
      "(4, 0)\n",
      "(4, 1)\n",
      "4\n",
      "1\n"
     ]
    }
   ],
   "source": [
    "y2 = -100.276\n",
    "print(abs(y2)) # No sign difference\n",
    "\n",
    "print(divmod(16,4)) # division, Remainder\n",
    "\n",
    "print(divmod(17,4)) # division, Remainder\n",
    "\n",
    "\n",
    "print(17 // 4) # quotient\n",
    "print(17 %  4) # remainder"
   ]
  },
  {
   "cell_type": "code",
   "execution_count": 18,
   "id": "10205899",
   "metadata": {},
   "outputs": [
    {
     "name": "stdout",
     "output_type": "stream",
     "text": [
      "16\n",
      "16\n"
     ]
    }
   ],
   "source": [
    "print(pow(2,4))\n",
    "print(2**4)"
   ]
  },
  {
   "cell_type": "code",
   "execution_count": 19,
   "id": "a9a0cdc9",
   "metadata": {},
   "outputs": [
    {
     "name": "stdout",
     "output_type": "stream",
     "text": [
      "10.392304845413264\n",
      "math.log10 :  2.0\n",
      "math.log :  4.605170185988092\n"
     ]
    }
   ],
   "source": [
    "#\n",
    "print(math.sqrt(108)) \n",
    "print(\"math.log10 : \", math.log10(100)) \n",
    "print(\"math.log : \", math.log(100)) # Natutal Log"
   ]
  },
  {
   "cell_type": "markdown",
   "id": "5a7749b7",
   "metadata": {},
   "source": [
    "<h2> List </h2>"
   ]
  },
  {
   "cell_type": "code",
   "execution_count": 20,
   "id": "e979e43c",
   "metadata": {},
   "outputs": [
    {
     "name": "stdout",
     "output_type": "stream",
     "text": [
      "['India', 'USA', 'UK', 'Australia', 'Canada']\n"
     ]
    }
   ],
   "source": [
    "# lists\n",
    "\n",
    "# without using list keyword []\n",
    "countries1 = [\"India\",\"USA\",\"UK\",\"Australia\",\"Canada\"]\n",
    "print(countries1)"
   ]
  },
  {
   "cell_type": "code",
   "execution_count": 21,
   "id": "eaab4200",
   "metadata": {},
   "outputs": [
    {
     "name": "stdout",
     "output_type": "stream",
     "text": [
      "['India', 'USA', 'UK', 'Australia', 'Canada']\n"
     ]
    }
   ],
   "source": [
    "# usibg list ((  )) # note double brackets\n",
    "countries = list((\"India\",\"USA\",\"UK\",\"Australia\",\"Canada\"))\n",
    "print(countries)"
   ]
  },
  {
   "cell_type": "code",
   "execution_count": 22,
   "id": "8f2f9f1e",
   "metadata": {},
   "outputs": [
    {
     "name": "stdout",
     "output_type": "stream",
     "text": [
      "5\n"
     ]
    }
   ],
   "source": [
    "print(len(countries))"
   ]
  },
  {
   "cell_type": "code",
   "execution_count": 23,
   "id": "fa1f3763",
   "metadata": {},
   "outputs": [
    {
     "name": "stdout",
     "output_type": "stream",
     "text": [
      "['India', 'Germany', 'USA', 'UK', 'Australia', 'Canada']\n"
     ]
    }
   ],
   "source": [
    "# insert at certain index\n",
    "# index starts from 0\n",
    "countries.insert(1,\"Germany\")\n",
    "print(countries)"
   ]
  },
  {
   "cell_type": "code",
   "execution_count": 24,
   "id": "70e1a537",
   "metadata": {},
   "outputs": [
    {
     "name": "stdout",
     "output_type": "stream",
     "text": [
      "['India', 'Germany', 'USA', 'UK', 'Australia', 'Canada', 'France']\n"
     ]
    }
   ],
   "source": [
    "# ## append()\tAdds an element at the end of the list\n",
    "countries.append(\"France\")\n",
    "print(countries)"
   ]
  },
  {
   "cell_type": "code",
   "execution_count": 25,
   "id": "6ee1549c",
   "metadata": {},
   "outputs": [
    {
     "name": "stdout",
     "output_type": "stream",
     "text": [
      "['India', 'Germany', 'USA', 'UK', 'Spain', 'Canada', 'France']\n"
     ]
    }
   ],
   "source": [
    "## Update\n",
    "countries[4] = \"Spain\"  # if 5, outside index\n",
    "print(countries)"
   ]
  },
  {
   "cell_type": "code",
   "execution_count": 26,
   "id": "78985351",
   "metadata": {},
   "outputs": [
    {
     "name": "stdout",
     "output_type": "stream",
     "text": [
      "list  ['India', 'USA', 'UK']\n",
      "list  USA\n"
     ]
    }
   ],
   "source": [
    "# List Index\n",
    "print (\"list \", countries1[0:3])\n",
    "\n",
    "print (\"list \", countries1[1])"
   ]
  },
  {
   "cell_type": "code",
   "execution_count": 27,
   "id": "14f953cc",
   "metadata": {},
   "outputs": [
    {
     "name": "stdout",
     "output_type": "stream",
     "text": [
      "['India', 'Germany', 'USA', 'UK', 'Canada', 'France']\n"
     ]
    }
   ],
   "source": [
    "del(countries[4])\n",
    "print(countries)"
   ]
  },
  {
   "cell_type": "code",
   "execution_count": 28,
   "id": "0b00c1d4",
   "metadata": {},
   "outputs": [
    {
     "name": "stdout",
     "output_type": "stream",
     "text": [
      "['Canada', 'France', 'Germany', 'India', 'UK', 'USA']\n"
     ]
    }
   ],
   "source": [
    "# sorted : Aplhabetic\n",
    "#print(list(sorted(countries)))\n",
    "print(sorted(countries))"
   ]
  },
  {
   "cell_type": "code",
   "execution_count": 29,
   "id": "115da6c3",
   "metadata": {},
   "outputs": [
    {
     "data": {
      "text/plain": [
       "['USA', 'UK', 'India', 'Germany', 'France', 'Canada']"
      ]
     },
     "execution_count": 29,
     "metadata": {},
     "output_type": "execute_result"
    }
   ],
   "source": [
    "sorted(countries, reverse=True)"
   ]
  },
  {
   "cell_type": "code",
   "execution_count": 30,
   "id": "d4bb9dbc",
   "metadata": {},
   "outputs": [
    {
     "name": "stdout",
     "output_type": "stream",
     "text": [
      "['India', 'Germany', 'USA', 'UK', 'Canada', 'France']\n"
     ]
    }
   ],
   "source": [
    "# sorted by Position\n",
    "print(list(countries))"
   ]
  },
  {
   "cell_type": "code",
   "execution_count": 31,
   "id": "e2b0147d",
   "metadata": {},
   "outputs": [
    {
     "name": "stdout",
     "output_type": "stream",
     "text": [
      "<list_reverseiterator object at 0x00000017D20C5A60>\n"
     ]
    }
   ],
   "source": [
    "# sorted by Position\n",
    "print(reversed(countries))"
   ]
  },
  {
   "cell_type": "code",
   "execution_count": 32,
   "id": "820ecece",
   "metadata": {},
   "outputs": [
    {
     "name": "stdout",
     "output_type": "stream",
     "text": [
      "['France', 'Canada', 'UK', 'USA', 'Germany', 'India']\n"
     ]
    }
   ],
   "source": [
    "print(list(reversed(countries)))"
   ]
  },
  {
   "cell_type": "code",
   "execution_count": 33,
   "id": "b306fb85",
   "metadata": {},
   "outputs": [
    {
     "name": "stdout",
     "output_type": "stream",
     "text": [
      "['India', 'Germany', 'USA', 'UK', 'Canada', 'France']\n",
      "Index for:  0\n"
     ]
    }
   ],
   "source": [
    "print(countries)\n",
    "print( \"Index for: \", countries.index( 'India' ) )"
   ]
  },
  {
   "cell_type": "code",
   "execution_count": 34,
   "id": "5d8b2d9a",
   "metadata": {},
   "outputs": [],
   "source": [
    "# same element in different Index Number, but we will get only first"
   ]
  },
  {
   "cell_type": "code",
   "execution_count": 35,
   "id": "1e79d226",
   "metadata": {},
   "outputs": [
    {
     "name": "stdout",
     "output_type": "stream",
     "text": [
      "['India', 'USA', 'UK', 'Australia', 'Canada', 'USA']\n",
      "2\n"
     ]
    }
   ],
   "source": [
    "countries = list((\"India\",\"USA\",\"UK\",\"Australia\",\"Canada\",\"USA\"))\n",
    "print(countries)\n",
    "x = countries.count(\"USA\")\n",
    "print(x) # number of times of USA in the list\n"
   ]
  },
  {
   "cell_type": "code",
   "execution_count": 36,
   "id": "7eff7418",
   "metadata": {},
   "outputs": [
    {
     "name": "stdout",
     "output_type": "stream",
     "text": [
      "['India', 'USA', 'UK', 'Australia', 'USA']\n"
     ]
    }
   ],
   "source": [
    "del(countries[4])\n",
    "print(countries)"
   ]
  },
  {
   "cell_type": "markdown",
   "id": "250286f0",
   "metadata": {},
   "source": [
    "<h2> Tuple </h2>"
   ]
  },
  {
   "cell_type": "code",
   "execution_count": 37,
   "id": "28cd65a0",
   "metadata": {},
   "outputs": [
    {
     "name": "stdout",
     "output_type": "stream",
     "text": [
      "('India', 'USA', 'UK', 'Australia', 'Canada')\n"
     ]
    }
   ],
   "source": [
    "# Tuple\n",
    "\n",
    "# without using list keyword [] -> ()\n",
    "countries1 = (\"India\",\"USA\",\"UK\",\"Australia\",\"Canada\")\n",
    "print(countries1)"
   ]
  },
  {
   "cell_type": "code",
   "execution_count": 38,
   "id": "d234450a",
   "metadata": {},
   "outputs": [
    {
     "name": "stdout",
     "output_type": "stream",
     "text": [
      "('India', 'USA', 'UK', 'Australia', 'Canada')\n"
     ]
    }
   ],
   "source": [
    "# usibg Tuple ((  )) # note double brackets\n",
    "countries = tuple((\"India\",\"USA\",\"UK\",\"Australia\",\"Canada\"))\n",
    "print(countries)"
   ]
  },
  {
   "cell_type": "markdown",
   "id": "1a351d6d",
   "metadata": {},
   "source": [
    "\n",
    "### ## Remove, insert, append , update , deletion - Not allowed"
   ]
  },
  {
   "cell_type": "code",
   "execution_count": 39,
   "id": "622f3722",
   "metadata": {},
   "outputs": [
    {
     "ename": "AttributeError",
     "evalue": "'tuple' object has no attribute 'remove'",
     "output_type": "error",
     "traceback": [
      "\u001b[1;31m---------------------------------------------------------------------------\u001b[0m",
      "\u001b[1;31mAttributeError\u001b[0m                            Traceback (most recent call last)",
      "\u001b[1;32m<ipython-input-39-f9deafc0c83a>\u001b[0m in \u001b[0;36m<module>\u001b[1;34m\u001b[0m\n\u001b[1;32m----> 1\u001b[1;33m \u001b[0mx\u001b[0m \u001b[1;33m=\u001b[0m \u001b[0mcountries\u001b[0m\u001b[1;33m.\u001b[0m\u001b[0mremove\u001b[0m\u001b[1;33m(\u001b[0m\u001b[1;34m\"USA\"\u001b[0m\u001b[1;33m)\u001b[0m\u001b[1;33m\u001b[0m\u001b[1;33m\u001b[0m\u001b[0m\n\u001b[0m\u001b[0;32m      2\u001b[0m \u001b[0mprint\u001b[0m\u001b[1;33m(\u001b[0m\u001b[0mx\u001b[0m\u001b[1;33m)\u001b[0m \u001b[1;31m# number of times of USA in the list\u001b[0m\u001b[1;33m\u001b[0m\u001b[1;33m\u001b[0m\u001b[0m\n",
      "\u001b[1;31mAttributeError\u001b[0m: 'tuple' object has no attribute 'remove'"
     ]
    }
   ],
   "source": [
    "x = countries.remove(\"USA\")\n",
    "print(x) # number of times of USA in the list"
   ]
  },
  {
   "cell_type": "markdown",
   "id": "e6384a8c",
   "metadata": {},
   "source": [
    "NOTE: Other than Delete,Remove, insert, update, Remain all are same between TUPLE and LIST. TUPLE IS IMMUTABLE - NON modifiable."
   ]
  },
  {
   "cell_type": "markdown",
   "id": "73639dff",
   "metadata": {},
   "source": [
    "<h2> Dictionary </h2>"
   ]
  },
  {
   "cell_type": "code",
   "execution_count": 40,
   "id": "495cd22a",
   "metadata": {},
   "outputs": [
    {
     "name": "stdout",
     "output_type": "stream",
     "text": [
      "{1: 'Python', 2: 'R script', 3: 'SAS', 4: 'Java'}\n"
     ]
    }
   ],
   "source": [
    "# dictionary with integer keys\n",
    "my_dict = {1: 'Python', 2: 'R script', 3:'SAS',4:'Java'}\n",
    "print(my_dict)\n"
   ]
  },
  {
   "cell_type": "code",
   "execution_count": 41,
   "id": "f3265228",
   "metadata": {},
   "outputs": [
    {
     "name": "stdout",
     "output_type": "stream",
     "text": [
      "{1: 'Python', 2: 'R script', 3: 'SAS', 4: 'Java'}\n"
     ]
    }
   ],
   "source": [
    "# using dict()\n",
    "my_dict = dict({1:'Python', 2:'R script', 3:'SAS',4:'Java'}) \n",
    "print(my_dict)"
   ]
  },
  {
   "cell_type": "code",
   "execution_count": 42,
   "id": "cf391265",
   "metadata": {},
   "outputs": [
    {
     "name": "stdout",
     "output_type": "stream",
     "text": [
      "4\n"
     ]
    }
   ],
   "source": [
    "#''' Note: No duplicate key is allowed. When duplicate keys encountered during assignment, the last assignment wins. '''\n",
    "print(len(my_dict ))"
   ]
  },
  {
   "cell_type": "code",
   "execution_count": 43,
   "id": "30adf763",
   "metadata": {},
   "outputs": [
    {
     "name": "stdout",
     "output_type": "stream",
     "text": [
      "dict_keys([1, 2, 3, 4])\n"
     ]
    }
   ],
   "source": [
    "print(my_dict.keys())   # Prints all the keys"
   ]
  },
  {
   "cell_type": "code",
   "execution_count": 44,
   "id": "33bfceee",
   "metadata": {},
   "outputs": [
    {
     "name": "stdout",
     "output_type": "stream",
     "text": [
      "dict_values(['Python', 'R script', 'SAS', 'Java'])\n"
     ]
    }
   ],
   "source": [
    "print(my_dict.values()) # Prints all the values"
   ]
  },
  {
   "cell_type": "code",
   "execution_count": 45,
   "id": "253c5575",
   "metadata": {},
   "outputs": [
    {
     "name": "stdout",
     "output_type": "stream",
     "text": [
      "Python\n",
      "Python\n"
     ]
    }
   ],
   "source": [
    "# access Dictonary Key - value\n",
    "# Giving KEY and getting Value\n",
    "Y = my_dict[1]\n",
    "print(Y)\n",
    "# my_dict[\"name\"] # if key is in Names/text/string. In our case it is number\n",
    "\n",
    "X = my_dict.get(1)\n",
    "print(X)"
   ]
  },
  {
   "cell_type": "code",
   "execution_count": 46,
   "id": "5fdd20a4",
   "metadata": {},
   "outputs": [
    {
     "name": "stdout",
     "output_type": "stream",
     "text": [
      "[4]\n"
     ]
    }
   ],
   "source": [
    "# List Comprehension Get KEY from VALUE\n",
    "KeyID = [key for key, value in my_dict.items() if value == \"Java\"]\n",
    "print(KeyID)"
   ]
  },
  {
   "cell_type": "code",
   "execution_count": 47,
   "id": "faf02ad5",
   "metadata": {},
   "outputs": [
    {
     "name": "stdout",
     "output_type": "stream",
     "text": [
      "[(1, 'Python'), (2, 'R script'), (3, 'SAS'), (4, 'Java')]\n",
      "[(4, 'Java'), (1, 'Python'), (2, 'R script'), (3, 'SAS')]\n",
      "\n",
      "Correct sort Order in Values\n",
      "\n",
      "[(4, 'Java'), (1, 'Python'), (2, 'R Script'), (3, 'Sas')]\n"
     ]
    }
   ],
   "source": [
    "#sort\n",
    "import operator\n",
    "# To sort dict based on KEYS\n",
    "sorted_x = sorted(my_dict.items(), key= operator.itemgetter(0))\n",
    "print(sorted_x)\n",
    "\n",
    "# To sort dict based on values\n",
    "sorted_y = sorted(my_dict.items(), key=operator.itemgetter(1))\n",
    "print(sorted_y) \n",
    "## this sorting _ Descending is Incorrect, specially case senistive Eg: Java and java - TRY\n",
    "\n",
    "\n",
    "# complicated, I will explain in Other sections in Python\n",
    "#my_dict = dict((k, v.lower()) for k,v in my_dict.items())\n",
    "my_dict = dict((k, v.title()) for k,v in my_dict.items())\n",
    "#print(my_dict)\n",
    "# To sort dict based on values\n",
    "print(\"\\nCorrect sort Order in Values\\n\")\n",
    "sorted_y = sorted(my_dict.items(), key=operator.itemgetter(1))\n",
    "print(sorted_y)"
   ]
  },
  {
   "cell_type": "code",
   "execution_count": 48,
   "id": "7f559cb5",
   "metadata": {},
   "outputs": [
    {
     "name": "stdout",
     "output_type": "stream",
     "text": [
      "{1: 'Python', 2: 'R Script', 3: 'Sas', 4: 'Java', 5: 'Artificial Intelligence'}\n"
     ]
    }
   ],
   "source": [
    "# UPDATE\n",
    "my_dict[5] = 'Artificial Intelligence'\n",
    "print(my_dict)"
   ]
  },
  {
   "cell_type": "code",
   "execution_count": 49,
   "id": "fa40c29d",
   "metadata": {},
   "outputs": [
    {
     "name": "stdout",
     "output_type": "stream",
     "text": [
      "{1: 'Python', 2: 'R Script', 3: 'Sas', 4: 'Java', 5: 'Artificial Intelligence', 6: 'Machine Learning'}\n"
     ]
    }
   ],
   "source": [
    "my_dict.update({6:'Machine Learning'})\n",
    "print(my_dict)"
   ]
  },
  {
   "cell_type": "code",
   "execution_count": 50,
   "id": "2e0fa490",
   "metadata": {},
   "outputs": [
    {
     "name": "stdout",
     "output_type": "stream",
     "text": [
      "{1: 'Python', 2: 'R Script', 4: 'Java', 5: 'Artificial Intelligence', 6: 'Machine Learning'}\n"
     ]
    }
   ],
   "source": [
    "#DELETE\n",
    "del my_dict[3]\n",
    "print(my_dict)\n"
   ]
  },
  {
   "cell_type": "markdown",
   "id": "536ab1ea",
   "metadata": {},
   "source": [
    "<h2 style=\"color:blue;\">SETS</h2>\n"
   ]
  },
  {
   "cell_type": "code",
   "execution_count": 51,
   "id": "0c12bcb4",
   "metadata": {},
   "outputs": [
    {
     "name": "stdout",
     "output_type": "stream",
     "text": [
      "{'Hyd', 'Che', 'Ben'}\n"
     ]
    }
   ],
   "source": [
    "# A set is a collection which is both unordered and unindexed.\n",
    "# Sets are unordered, so you cannot be sure in which order the items will appear.\n",
    "# Set items can appear in a different order every time you use them, and cannot be referred to by index or key.\n",
    "# Once a set is created, you cannot change its items, but you can add new items.\n",
    "#Sets cannot have two items with the same value. - No duplicates\n",
    "firstSet = {\"Hyd\", \"Che\", \"Ben\"}\n",
    "print(firstSet )"
   ]
  },
  {
   "cell_type": "code",
   "execution_count": 52,
   "id": "045df328",
   "metadata": {},
   "outputs": [
    {
     "name": "stdout",
     "output_type": "stream",
     "text": [
      "<class 'set'>\n"
     ]
    }
   ],
   "source": [
    "print(type(firstSet))"
   ]
  },
  {
   "cell_type": "code",
   "execution_count": 53,
   "id": "60e195ac",
   "metadata": {},
   "outputs": [
    {
     "data": {
      "text/plain": [
       "'\\nText Type:\\tstr\\nNumeric Types:\\tint, float, complex\\nSequence Types:\\tlist, tuple, range\\nMapping Type:\\tdict\\nSet Types:\\tset, frozenset\\nBoolean Type:\\tbool\\nBinary Types:\\tbytes, bytearray, memoryview\\n'"
      ]
     },
     "execution_count": 53,
     "metadata": {},
     "output_type": "execute_result"
    }
   ],
   "source": [
    "\"\"\"\n",
    "Text Type:\tstr\n",
    "Numeric Types:\tint, float, complex\n",
    "Sequence Types:\tlist, tuple, range\n",
    "Mapping Type:\tdict\n",
    "Set Types:\tset, frozenset\n",
    "Boolean Type:\tbool\n",
    "Binary Types:\tbytes, bytearray, memoryview\n",
    "\"\"\""
   ]
  },
  {
   "cell_type": "markdown",
   "id": "ae5579ba",
   "metadata": {},
   "source": [
    "<h2> Advance </h2>"
   ]
  },
  {
   "cell_type": "code",
   "execution_count": 55,
   "id": "621023b5",
   "metadata": {},
   "outputs": [
    {
     "name": "stdout",
     "output_type": "stream",
     "text": [
      "frozenset Object is :  frozenset({1, 2, 3, 4, 5, 6, 7, 8, 9})\n"
     ]
    }
   ],
   "source": [
    "# frozenset  , Like Tuple, Non immutable\n",
    "# The frozenset() is an inbuilt function in Python which takes an iterable object as input and makes them immutable\n",
    "# tuple of numbers\n",
    "nu = (1, 2, 3, 4, 5, 6, 7, 8, 9)\n",
    "# converting tuple to frozenset\n",
    "fnum = frozenset(nu)\n",
    "# printing details\n",
    "print(\"frozenset Object is : \", fnum)"
   ]
  },
  {
   "cell_type": "code",
   "execution_count": 56,
   "id": "19ecfd9d",
   "metadata": {},
   "outputs": [
    {
     "name": "stdout",
     "output_type": "stream",
     "text": [
      "b'King always KING'\n"
     ]
    }
   ],
   "source": [
    "# bytes\n",
    "message = 'King always KING'\n",
    "\n",
    "# convert string to bytes\n",
    "byte_message = bytes(message, 'utf-8')\n",
    "print(byte_message)\n",
    "\n",
    "# Output: b'Python is fun'"
   ]
  },
  {
   "cell_type": "code",
   "execution_count": 66,
   "id": "877d79f4",
   "metadata": {},
   "outputs": [
    {
     "name": "stdout",
     "output_type": "stream",
     "text": [
      "b'\\x00\\x00\\x00\\x00\\x00'\n"
     ]
    }
   ],
   "source": [
    "size = 5\n",
    "arr = bytes(size)\n",
    "print(arr)"
   ]
  },
  {
   "cell_type": "code",
   "execution_count": 69,
   "id": "e20c32c3",
   "metadata": {},
   "outputs": [
    {
     "name": "stdout",
     "output_type": "stream",
     "text": [
      "bytearray(b'^[e}o#xese\\xc8')\n"
     ]
    }
   ],
   "source": [
    "x = bytearray([94, 91, 101, 125, 111, 35, 120, 101, 115, 101, 200])\n",
    "print(x)"
   ]
  },
  {
   "cell_type": "code",
   "execution_count": null,
   "id": "683adb98",
   "metadata": {},
   "outputs": [],
   "source": []
  }
 ],
 "metadata": {
  "kernelspec": {
   "display_name": "Python 3",
   "language": "python",
   "name": "python3"
  },
  "language_info": {
   "codemirror_mode": {
    "name": "ipython",
    "version": 3
   },
   "file_extension": ".py",
   "mimetype": "text/x-python",
   "name": "python",
   "nbconvert_exporter": "python",
   "pygments_lexer": "ipython3",
   "version": "3.8.8"
  }
 },
 "nbformat": 4,
 "nbformat_minor": 5
}
