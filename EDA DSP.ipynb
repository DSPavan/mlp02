{
 "cells": [
  {
   "cell_type": "code",
   "execution_count": 1,
   "id": "53c3d1f8",
   "metadata": {},
   "outputs": [],
   "source": [
    "#EDA\n",
    "#Exploratory Data Analysis\n",
    "#Discovered in the 1970s by American mathematician John Tukey, exploratory data analysis (EDA) \n",
    "#is a method of analysing and investigating the data sets to summarise their main characteristics."
   ]
  },
  {
   "cell_type": "code",
   "execution_count": 2,
   "id": "85b49602",
   "metadata": {},
   "outputs": [],
   "source": [
    "#PROCESSES\n",
    "# Explore DATA/ DATASETS\n",
    "# DISCOVER PATTERNS\n",
    "# ABONORMALITIES, MISSING VALUES, OUTLIERS, CLEANING\n",
    "# Summary Statistics\n",
    "# single variable - UNIVARIATE\n",
    "# Two or more : BIVARIATE / MULTIVARIATE\n",
    "# HYPOTHESIS TESTING\n",
    "# GRAPHICAL OUTPUT\n"
   ]
  },
  {
   "cell_type": "code",
   "execution_count": 3,
   "id": "3df724f3",
   "metadata": {},
   "outputs": [],
   "source": [
    "# HANDLING DATA TYPES\n",
    "# either graphical or quantitative (non-graphical).\n",
    "#univariate non-graphical, \n",
    "#multivariate non- graphical,\n",
    "#univariate graphical,\n",
    "# and multivariate graphical"
   ]
  },
  {
   "cell_type": "code",
   "execution_count": 4,
   "id": "a004af78",
   "metadata": {},
   "outputs": [],
   "source": [
    "# Univariate Non-graphical ( DESCRIPTIVE)\n",
    "# Analysing any one single variable"
   ]
  },
  {
   "cell_type": "code",
   "execution_count": 5,
   "id": "c18e72ab",
   "metadata": {},
   "outputs": [
    {
     "data": {
      "text/html": [
       "<div>\n",
       "<style scoped>\n",
       "    .dataframe tbody tr th:only-of-type {\n",
       "        vertical-align: middle;\n",
       "    }\n",
       "\n",
       "    .dataframe tbody tr th {\n",
       "        vertical-align: top;\n",
       "    }\n",
       "\n",
       "    .dataframe thead th {\n",
       "        text-align: right;\n",
       "    }\n",
       "</style>\n",
       "<table border=\"1\" class=\"dataframe\">\n",
       "  <thead>\n",
       "    <tr style=\"text-align: right;\">\n",
       "      <th></th>\n",
       "      <th>name</th>\n",
       "      <th>mfr</th>\n",
       "      <th>type</th>\n",
       "      <th>calories</th>\n",
       "      <th>protein</th>\n",
       "      <th>fat</th>\n",
       "      <th>sodium</th>\n",
       "      <th>fiber</th>\n",
       "      <th>carbo</th>\n",
       "      <th>sugars</th>\n",
       "      <th>potass</th>\n",
       "      <th>vitamins</th>\n",
       "      <th>shelf</th>\n",
       "      <th>weight</th>\n",
       "      <th>cups</th>\n",
       "      <th>rating</th>\n",
       "    </tr>\n",
       "  </thead>\n",
       "  <tbody>\n",
       "    <tr>\n",
       "      <th>0</th>\n",
       "      <td>100%_Bran</td>\n",
       "      <td>N</td>\n",
       "      <td>C</td>\n",
       "      <td>70</td>\n",
       "      <td>4</td>\n",
       "      <td>1</td>\n",
       "      <td>130</td>\n",
       "      <td>10.0</td>\n",
       "      <td>5.0</td>\n",
       "      <td>6</td>\n",
       "      <td>280</td>\n",
       "      <td>25</td>\n",
       "      <td>3</td>\n",
       "      <td>1.00</td>\n",
       "      <td>0.33</td>\n",
       "      <td>68.402973</td>\n",
       "    </tr>\n",
       "    <tr>\n",
       "      <th>1</th>\n",
       "      <td>All-Bran</td>\n",
       "      <td>K</td>\n",
       "      <td>C</td>\n",
       "      <td>70</td>\n",
       "      <td>4</td>\n",
       "      <td>1</td>\n",
       "      <td>260</td>\n",
       "      <td>9.0</td>\n",
       "      <td>7.0</td>\n",
       "      <td>5</td>\n",
       "      <td>320</td>\n",
       "      <td>25</td>\n",
       "      <td>3</td>\n",
       "      <td>1.00</td>\n",
       "      <td>0.33</td>\n",
       "      <td>59.425505</td>\n",
       "    </tr>\n",
       "    <tr>\n",
       "      <th>2</th>\n",
       "      <td>All-Bran_with_Extra_Fiber</td>\n",
       "      <td>K</td>\n",
       "      <td>C</td>\n",
       "      <td>50</td>\n",
       "      <td>4</td>\n",
       "      <td>0</td>\n",
       "      <td>140</td>\n",
       "      <td>14.0</td>\n",
       "      <td>8.0</td>\n",
       "      <td>0</td>\n",
       "      <td>330</td>\n",
       "      <td>25</td>\n",
       "      <td>3</td>\n",
       "      <td>1.00</td>\n",
       "      <td>0.50</td>\n",
       "      <td>93.704912</td>\n",
       "    </tr>\n",
       "    <tr>\n",
       "      <th>3</th>\n",
       "      <td>Cracklin'_Oat_Bran</td>\n",
       "      <td>K</td>\n",
       "      <td>C</td>\n",
       "      <td>110</td>\n",
       "      <td>3</td>\n",
       "      <td>3</td>\n",
       "      <td>140</td>\n",
       "      <td>4.0</td>\n",
       "      <td>10.0</td>\n",
       "      <td>7</td>\n",
       "      <td>160</td>\n",
       "      <td>25</td>\n",
       "      <td>3</td>\n",
       "      <td>1.00</td>\n",
       "      <td>0.50</td>\n",
       "      <td>40.448772</td>\n",
       "    </tr>\n",
       "    <tr>\n",
       "      <th>4</th>\n",
       "      <td>Post_Nat._Raisin_Bran</td>\n",
       "      <td>P</td>\n",
       "      <td>C</td>\n",
       "      <td>120</td>\n",
       "      <td>3</td>\n",
       "      <td>1</td>\n",
       "      <td>200</td>\n",
       "      <td>6.0</td>\n",
       "      <td>11.0</td>\n",
       "      <td>14</td>\n",
       "      <td>260</td>\n",
       "      <td>25</td>\n",
       "      <td>3</td>\n",
       "      <td>1.33</td>\n",
       "      <td>0.67</td>\n",
       "      <td>37.840594</td>\n",
       "    </tr>\n",
       "  </tbody>\n",
       "</table>\n",
       "</div>"
      ],
      "text/plain": [
       "                        name mfr type  calories  protein  fat  sodium  fiber  \\\n",
       "0                  100%_Bran   N    C        70        4    1     130   10.0   \n",
       "1                   All-Bran   K    C        70        4    1     260    9.0   \n",
       "2  All-Bran_with_Extra_Fiber   K    C        50        4    0     140   14.0   \n",
       "3         Cracklin'_Oat_Bran   K    C       110        3    3     140    4.0   \n",
       "4      Post_Nat._Raisin_Bran   P    C       120        3    1     200    6.0   \n",
       "\n",
       "   carbo  sugars  potass  vitamins  shelf  weight  cups     rating  \n",
       "0    5.0       6     280        25      3    1.00  0.33  68.402973  \n",
       "1    7.0       5     320        25      3    1.00  0.33  59.425505  \n",
       "2    8.0       0     330        25      3    1.00  0.50  93.704912  \n",
       "3   10.0       7     160        25      3    1.00  0.50  40.448772  \n",
       "4   11.0      14     260        25      3    1.33  0.67  37.840594  "
      ]
     },
     "execution_count": 5,
     "metadata": {},
     "output_type": "execute_result"
    }
   ],
   "source": [
    "import pandas as pd\n",
    "df = pd.read_csv('C:\\\\Users\\\\radha\\\\Desktop\\\\dsp27 Class\\\\cerealspga05.csv')\n",
    "df.head(5)"
   ]
  },
  {
   "cell_type": "code",
   "execution_count": 6,
   "id": "bc42572b",
   "metadata": {},
   "outputs": [
    {
     "data": {
      "text/html": [
       "<div>\n",
       "<style scoped>\n",
       "    .dataframe tbody tr th:only-of-type {\n",
       "        vertical-align: middle;\n",
       "    }\n",
       "\n",
       "    .dataframe tbody tr th {\n",
       "        vertical-align: top;\n",
       "    }\n",
       "\n",
       "    .dataframe thead th {\n",
       "        text-align: right;\n",
       "    }\n",
       "</style>\n",
       "<table border=\"1\" class=\"dataframe\">\n",
       "  <thead>\n",
       "    <tr style=\"text-align: right;\">\n",
       "      <th></th>\n",
       "      <th>calories</th>\n",
       "      <th>protein</th>\n",
       "      <th>fat</th>\n",
       "      <th>sodium</th>\n",
       "      <th>fiber</th>\n",
       "      <th>carbo</th>\n",
       "      <th>sugars</th>\n",
       "      <th>potass</th>\n",
       "      <th>vitamins</th>\n",
       "      <th>shelf</th>\n",
       "      <th>weight</th>\n",
       "      <th>cups</th>\n",
       "      <th>rating</th>\n",
       "    </tr>\n",
       "  </thead>\n",
       "  <tbody>\n",
       "    <tr>\n",
       "      <th>count</th>\n",
       "      <td>74.000000</td>\n",
       "      <td>74.000000</td>\n",
       "      <td>74.000000</td>\n",
       "      <td>74.000000</td>\n",
       "      <td>74.000000</td>\n",
       "      <td>74.000000</td>\n",
       "      <td>74.000000</td>\n",
       "      <td>74.000000</td>\n",
       "      <td>74.000000</td>\n",
       "      <td>74.000000</td>\n",
       "      <td>74.000000</td>\n",
       "      <td>74.000000</td>\n",
       "      <td>74.000000</td>\n",
       "    </tr>\n",
       "    <tr>\n",
       "      <th>mean</th>\n",
       "      <td>105.540541</td>\n",
       "      <td>2.500000</td>\n",
       "      <td>0.945946</td>\n",
       "      <td>160.675676</td>\n",
       "      <td>2.090541</td>\n",
       "      <td>14.594595</td>\n",
       "      <td>6.770270</td>\n",
       "      <td>92.675676</td>\n",
       "      <td>28.378378</td>\n",
       "      <td>2.175676</td>\n",
       "      <td>1.027432</td>\n",
       "      <td>0.818243</td>\n",
       "      <td>42.879265</td>\n",
       "    </tr>\n",
       "    <tr>\n",
       "      <th>std</th>\n",
       "      <td>18.442201</td>\n",
       "      <td>1.088546</td>\n",
       "      <td>0.963610</td>\n",
       "      <td>85.188447</td>\n",
       "      <td>2.404002</td>\n",
       "      <td>4.349205</td>\n",
       "      <td>4.467684</td>\n",
       "      <td>70.578065</td>\n",
       "      <td>22.787104</td>\n",
       "      <td>0.833512</td>\n",
       "      <td>0.151260</td>\n",
       "      <td>0.234914</td>\n",
       "      <td>14.280511</td>\n",
       "    </tr>\n",
       "    <tr>\n",
       "      <th>min</th>\n",
       "      <td>50.000000</td>\n",
       "      <td>1.000000</td>\n",
       "      <td>0.000000</td>\n",
       "      <td>0.000000</td>\n",
       "      <td>0.000000</td>\n",
       "      <td>-1.000000</td>\n",
       "      <td>-1.000000</td>\n",
       "      <td>-1.000000</td>\n",
       "      <td>0.000000</td>\n",
       "      <td>1.000000</td>\n",
       "      <td>0.500000</td>\n",
       "      <td>0.250000</td>\n",
       "      <td>18.042851</td>\n",
       "    </tr>\n",
       "    <tr>\n",
       "      <th>25%</th>\n",
       "      <td>100.000000</td>\n",
       "      <td>2.000000</td>\n",
       "      <td>0.000000</td>\n",
       "      <td>131.250000</td>\n",
       "      <td>0.250000</td>\n",
       "      <td>12.000000</td>\n",
       "      <td>3.000000</td>\n",
       "      <td>40.000000</td>\n",
       "      <td>25.000000</td>\n",
       "      <td>1.000000</td>\n",
       "      <td>1.000000</td>\n",
       "      <td>0.670000</td>\n",
       "      <td>32.449210</td>\n",
       "    </tr>\n",
       "    <tr>\n",
       "      <th>50%</th>\n",
       "      <td>110.000000</td>\n",
       "      <td>2.000000</td>\n",
       "      <td>1.000000</td>\n",
       "      <td>180.000000</td>\n",
       "      <td>1.500000</td>\n",
       "      <td>14.000000</td>\n",
       "      <td>6.000000</td>\n",
       "      <td>90.000000</td>\n",
       "      <td>25.000000</td>\n",
       "      <td>2.000000</td>\n",
       "      <td>1.000000</td>\n",
       "      <td>0.750000</td>\n",
       "      <td>40.424490</td>\n",
       "    </tr>\n",
       "    <tr>\n",
       "      <th>75%</th>\n",
       "      <td>110.000000</td>\n",
       "      <td>3.000000</td>\n",
       "      <td>1.000000</td>\n",
       "      <td>217.500000</td>\n",
       "      <td>3.000000</td>\n",
       "      <td>17.000000</td>\n",
       "      <td>10.750000</td>\n",
       "      <td>113.750000</td>\n",
       "      <td>25.000000</td>\n",
       "      <td>3.000000</td>\n",
       "      <td>1.000000</td>\n",
       "      <td>1.000000</td>\n",
       "      <td>51.401243</td>\n",
       "    </tr>\n",
       "    <tr>\n",
       "      <th>max</th>\n",
       "      <td>160.000000</td>\n",
       "      <td>6.000000</td>\n",
       "      <td>5.000000</td>\n",
       "      <td>320.000000</td>\n",
       "      <td>14.000000</td>\n",
       "      <td>23.000000</td>\n",
       "      <td>15.000000</td>\n",
       "      <td>330.000000</td>\n",
       "      <td>100.000000</td>\n",
       "      <td>3.000000</td>\n",
       "      <td>1.500000</td>\n",
       "      <td>1.500000</td>\n",
       "      <td>93.704912</td>\n",
       "    </tr>\n",
       "  </tbody>\n",
       "</table>\n",
       "</div>"
      ],
      "text/plain": [
       "         calories    protein        fat      sodium      fiber      carbo  \\\n",
       "count   74.000000  74.000000  74.000000   74.000000  74.000000  74.000000   \n",
       "mean   105.540541   2.500000   0.945946  160.675676   2.090541  14.594595   \n",
       "std     18.442201   1.088546   0.963610   85.188447   2.404002   4.349205   \n",
       "min     50.000000   1.000000   0.000000    0.000000   0.000000  -1.000000   \n",
       "25%    100.000000   2.000000   0.000000  131.250000   0.250000  12.000000   \n",
       "50%    110.000000   2.000000   1.000000  180.000000   1.500000  14.000000   \n",
       "75%    110.000000   3.000000   1.000000  217.500000   3.000000  17.000000   \n",
       "max    160.000000   6.000000   5.000000  320.000000  14.000000  23.000000   \n",
       "\n",
       "          sugars      potass    vitamins      shelf     weight       cups  \\\n",
       "count  74.000000   74.000000   74.000000  74.000000  74.000000  74.000000   \n",
       "mean    6.770270   92.675676   28.378378   2.175676   1.027432   0.818243   \n",
       "std     4.467684   70.578065   22.787104   0.833512   0.151260   0.234914   \n",
       "min    -1.000000   -1.000000    0.000000   1.000000   0.500000   0.250000   \n",
       "25%     3.000000   40.000000   25.000000   1.000000   1.000000   0.670000   \n",
       "50%     6.000000   90.000000   25.000000   2.000000   1.000000   0.750000   \n",
       "75%    10.750000  113.750000   25.000000   3.000000   1.000000   1.000000   \n",
       "max    15.000000  330.000000  100.000000   3.000000   1.500000   1.500000   \n",
       "\n",
       "          rating  \n",
       "count  74.000000  \n",
       "mean   42.879265  \n",
       "std    14.280511  \n",
       "min    18.042851  \n",
       "25%    32.449210  \n",
       "50%    40.424490  \n",
       "75%    51.401243  \n",
       "max    93.704912  "
      ]
     },
     "execution_count": 6,
     "metadata": {},
     "output_type": "execute_result"
    }
   ],
   "source": [
    "df.describe()"
   ]
  },
  {
   "cell_type": "markdown",
   "id": "390dfe59",
   "metadata": {},
   "source": [
    "Central tendency:  The central tendency or location of distribution has got to do with typical or middle values. The commonly useful measures of central tendency are statistics called mean, median, and sometimes mode during which the foremost common is mean. \n",
    "For skewed distribution or when there’s concern about outliers, the median may be preferred.\n",
    "\n",
    "Spread:  \n",
    "Spread is an indicator of what proportion distant from the middle we are to seek out the find the info values. the quality deviation and variance are two useful measures of spread. \n",
    "The variance is that the mean of the square of the individual deviations and therefore the variance is the root of the variance\n",
    "\n",
    "Skewness and kurtosis: Two more useful univariates descriptors are the skewness and kurtosis of the distribution. Skewness is that the measure of asymmetry and kurtosis may be a more subtle measure of peakedness compared to a normal distribution"
   ]
  },
  {
   "cell_type": "code",
   "execution_count": 7,
   "id": "4e4c03ea",
   "metadata": {},
   "outputs": [
    {
     "data": {
      "text/plain": [
       "name        0\n",
       "mfr         0\n",
       "type        0\n",
       "calories    0\n",
       "protein     0\n",
       "fat         0\n",
       "sodium      0\n",
       "fiber       0\n",
       "carbo       0\n",
       "sugars      0\n",
       "potass      0\n",
       "vitamins    0\n",
       "shelf       0\n",
       "weight      0\n",
       "cups        0\n",
       "rating      0\n",
       "dtype: int64"
      ]
     },
     "execution_count": 7,
     "metadata": {},
     "output_type": "execute_result"
    }
   ],
   "source": [
    "df.isnull().sum()"
   ]
  },
  {
   "cell_type": "code",
   "execution_count": 8,
   "id": "c533bee9",
   "metadata": {},
   "outputs": [
    {
     "data": {
      "text/plain": [
       "name         object\n",
       "mfr          object\n",
       "type         object\n",
       "calories      int64\n",
       "protein       int64\n",
       "fat           int64\n",
       "sodium        int64\n",
       "fiber       float64\n",
       "carbo       float64\n",
       "sugars        int64\n",
       "potass        int64\n",
       "vitamins      int64\n",
       "shelf         int64\n",
       "weight      float64\n",
       "cups        float64\n",
       "rating      float64\n",
       "dtype: object"
      ]
     },
     "execution_count": 8,
     "metadata": {},
     "output_type": "execute_result"
    }
   ],
   "source": [
    "df.dtypes"
   ]
  },
  {
   "cell_type": "code",
   "execution_count": 9,
   "id": "2dc02696",
   "metadata": {},
   "outputs": [],
   "source": [
    "# Univariate graphical\n",
    "\n",
    "from matplotlib import pyplot as plt\n",
    "import seaborn as sns\n",
    "%matplotlib inline"
   ]
  },
  {
   "cell_type": "code",
   "execution_count": 10,
   "id": "c533c6f9",
   "metadata": {},
   "outputs": [
    {
     "data": {
      "text/plain": [
       "<AxesSubplot:ylabel='Frequency'>"
      ]
     },
     "execution_count": 10,
     "metadata": {},
     "output_type": "execute_result"
    },
    {
     "data": {
      "image/png": "[encoded data removed]",
      "text/plain": [
       "<Figure size 432x288 with 1 Axes>"
      ]
     },
     "metadata": {
      "needs_background": "light"
     },
     "output_type": "display_data"
    }
   ],
   "source": [
    "# HISTOGRAM\n",
    "df['rating'].plot.hist()"
   ]
  },
  {
   "cell_type": "code",
   "execution_count": 11,
   "id": "928ee63d",
   "metadata": {},
   "outputs": [
    {
     "data": {
      "text/plain": [
       "<AxesSubplot:ylabel='Density'>"
      ]
     },
     "execution_count": 11,
     "metadata": {},
     "output_type": "execute_result"
    },
    {
     "data": {
      "image/png": "[encoded data removed]",
      "text/plain": [
       "<Figure size 432x288 with 1 Axes>"
      ]
     },
     "metadata": {
      "needs_background": "light"
     },
     "output_type": "display_data"
    }
   ],
   "source": [
    "#DENSITY PLOT\n",
    "df['rating'].plot(kind='density')"
   ]
  },
  {
   "cell_type": "code",
   "execution_count": 12,
   "id": "1064f0d1",
   "metadata": {},
   "outputs": [
    {
     "data": {
      "text/plain": [
       "(array([ 6., 14., 20., 10., 12.,  6.,  3.,  2.,  0.,  1.]),\n",
       " array([18.042851 , 25.6090571, 33.1752632, 40.7414693, 48.3076754,\n",
       "        55.8738815, 63.4400876, 71.0062937, 78.5724998, 86.1387059,\n",
       "        93.704912 ]),\n",
       " <BarContainer object of 10 artists>)"
      ]
     },
     "execution_count": 12,
     "metadata": {},
     "output_type": "execute_result"
    },
    {
     "data": {
      "image/png": "[encoded data removed]",
      "text/plain": [
       "<Figure size 432x288 with 1 Axes>"
      ]
     },
     "metadata": {
      "needs_background": "light"
     },
     "output_type": "display_data"
    }
   ],
   "source": [
    "plt.hist(df['rating'])  # from matplotlib"
   ]
  },
  {
   "cell_type": "code",
   "execution_count": 13,
   "id": "d6b8c341",
   "metadata": {},
   "outputs": [
    {
     "data": {
      "text/plain": [
       "{'whiskers': [<matplotlib.lines.Line2D at 0xe5f388e9d0>,\n",
       "  <matplotlib.lines.Line2D at 0xe5f388ed30>],\n",
       " 'caps': [<matplotlib.lines.Line2D at 0xe5f389c0d0>,\n",
       "  <matplotlib.lines.Line2D at 0xe5f389c430>],\n",
       " 'boxes': [<matplotlib.lines.Line2D at 0xe5f388e670>],\n",
       " 'medians': [<matplotlib.lines.Line2D at 0xe5f389c790>],\n",
       " 'fliers': [<matplotlib.lines.Line2D at 0xe5f389caf0>],\n",
       " 'means': []}"
      ]
     },
     "execution_count": 13,
     "metadata": {},
     "output_type": "execute_result"
    },
    {
     "data": {
      "image/png": "[encoded data removed]",
      "text/plain": [
       "<Figure size 432x288 with 1 Axes>"
      ]
     },
     "metadata": {
      "needs_background": "light"
     },
     "output_type": "display_data"
    }
   ],
   "source": [
    "plt.boxplot(df['rating'])"
   ]
  },
  {
   "cell_type": "code",
   "execution_count": 14,
   "id": "3204e9a1",
   "metadata": {},
   "outputs": [
    {
     "name": "stderr",
     "output_type": "stream",
     "text": [
      "C:\\ProgramData\\Anaconda3\\lib\\site-packages\\seaborn\\_decorators.py:36: FutureWarning: Pass the following variable as a keyword arg: x. From version 0.12, the only valid positional argument will be `data`, and passing other arguments without an explicit keyword will result in an error or misinterpretation.\n",
      "  warnings.warn(\n",
      "C:\\ProgramData\\Anaconda3\\lib\\site-packages\\seaborn\\_core.py:1319: UserWarning: Vertical orientation ignored with only `x` specified.\n",
      "  warnings.warn(single_var_warning.format(\"Vertical\", \"x\"))\n"
     ]
    },
    {
     "data": {
      "text/plain": [
       "<AxesSubplot:xlabel='rating'>"
      ]
     },
     "execution_count": 14,
     "metadata": {},
     "output_type": "execute_result"
    },
    {
     "data": {
      "image/png": "[encoded data removed]",
      "text/plain": [
       "<Figure size 432x288 with 1 Axes>"
      ]
     },
     "metadata": {
      "needs_background": "light"
     },
     "output_type": "display_data"
    }
   ],
   "source": [
    "#Seaborn Example\n",
    "sns.boxplot(df.rating, orient = 'v', showfliers=True)"
   ]
  },
  {
   "cell_type": "code",
   "execution_count": 15,
   "id": "4ebb3548",
   "metadata": {},
   "outputs": [
    {
     "data": {
      "text/plain": [
       "<AxesSubplot:>"
      ]
     },
     "execution_count": 15,
     "metadata": {},
     "output_type": "execute_result"
    },
    {
     "data": {
      "image/png": "[encoded data removed]",
      "text/plain": [
       "<Figure size 432x288 with 1 Axes>"
      ]
     },
     "metadata": {
      "needs_background": "light"
     },
     "output_type": "display_data"
    }
   ],
   "source": [
    "df['mfr'].value_counts().head(10).plot.bar()"
   ]
  },
  {
   "cell_type": "code",
   "execution_count": 16,
   "id": "69d9ddc0",
   "metadata": {},
   "outputs": [
    {
     "data": {
      "text/plain": [
       "<AxesSubplot:>"
      ]
     },
     "execution_count": 16,
     "metadata": {},
     "output_type": "execute_result"
    },
    {
     "data": {
      "image/png": "[encoded data removed]",
      "text/plain": [
       "<Figure size 432x288 with 1 Axes>"
      ]
     },
     "metadata": {
      "needs_background": "light"
     },
     "output_type": "display_data"
    }
   ],
   "source": [
    "df.loc[:,['calories','rating'] ].plot.bar(stacked=False)"
   ]
  },
  {
   "cell_type": "code",
   "execution_count": 17,
   "id": "24faa486",
   "metadata": {},
   "outputs": [
    {
     "data": {
      "text/plain": [
       "<AxesSubplot:>"
      ]
     },
     "execution_count": 17,
     "metadata": {},
     "output_type": "execute_result"
    },
    {
     "data": {
      "image/png": "[encoded data removed]",
      "text/plain": [
       "<Figure size 432x288 with 1 Axes>"
      ]
     },
     "metadata": {
      "needs_background": "light"
     },
     "output_type": "display_data"
    }
   ],
   "source": [
    "# DF  Filter\n",
    "dfFilter = df[df['calories'] > 120]\n",
    "\n",
    "dfFilter.loc[:,['calories','rating'] ].plot.bar(stacked=False)"
   ]
  },
  {
   "cell_type": "code",
   "execution_count": 18,
   "id": "3ed55dde",
   "metadata": {},
   "outputs": [
    {
     "data": {
      "text/plain": [
       "<AxesSubplot:>"
      ]
     },
     "execution_count": 18,
     "metadata": {},
     "output_type": "execute_result"
    },
    {
     "data": {
      "image/png": "[encoded data removed]",
      "text/plain": [
       "<Figure size 432x288 with 1 Axes>"
      ]
     },
     "metadata": {
      "needs_background": "light"
     },
     "output_type": "display_data"
    }
   ],
   "source": [
    "dfFilter.loc[:,['calories','rating'] ].plot.line()"
   ]
  },
  {
   "cell_type": "code",
   "execution_count": 19,
   "id": "edfbe687",
   "metadata": {},
   "outputs": [
    {
     "name": "stderr",
     "output_type": "stream",
     "text": [
      "C:\\ProgramData\\Anaconda3\\lib\\site-packages\\seaborn\\_decorators.py:36: FutureWarning: Pass the following variable as a keyword arg: x. From version 0.12, the only valid positional argument will be `data`, and passing other arguments without an explicit keyword will result in an error or misinterpretation.\n",
      "  warnings.warn(\n"
     ]
    },
    {
     "data": {
      "image/png": "[encoded data removed]",
      "text/plain": [
       "<Figure size 936x288 with 1 Axes>"
      ]
     },
     "metadata": {
      "needs_background": "light"
     },
     "output_type": "display_data"
    }
   ],
   "source": [
    "plt.figure(figsize=(13, 4))\n",
    "#http://stackoverflow.com/questions/32891211/limit-the-number-of-groups-shown-in-seaborn-countplot for odering\n",
    "sns.countplot(df.mfr.dropna(), order = df.mfr.value_counts().index);"
   ]
  },
  {
   "cell_type": "code",
   "execution_count": 20,
   "id": "ab343bb8",
   "metadata": {},
   "outputs": [],
   "source": [
    "#Multivariate Non-graphical\n",
    "# Chi-square, ANOVA"
   ]
  },
  {
   "cell_type": "code",
   "execution_count": 21,
   "id": "d52e48e2",
   "metadata": {},
   "outputs": [
    {
     "data": {
      "text/html": [
       "<div>\n",
       "<style scoped>\n",
       "    .dataframe tbody tr th:only-of-type {\n",
       "        vertical-align: middle;\n",
       "    }\n",
       "\n",
       "    .dataframe tbody tr th {\n",
       "        vertical-align: top;\n",
       "    }\n",
       "\n",
       "    .dataframe thead th {\n",
       "        text-align: right;\n",
       "    }\n",
       "</style>\n",
       "<table border=\"1\" class=\"dataframe\">\n",
       "  <thead>\n",
       "    <tr style=\"text-align: right;\">\n",
       "      <th></th>\n",
       "      <th>calories</th>\n",
       "      <th>vitamins</th>\n",
       "      <th>rating</th>\n",
       "    </tr>\n",
       "  </thead>\n",
       "  <tbody>\n",
       "    <tr>\n",
       "      <th>calories</th>\n",
       "      <td>340.114772</td>\n",
       "      <td>124.861163</td>\n",
       "      <td>-187.529398</td>\n",
       "    </tr>\n",
       "    <tr>\n",
       "      <th>vitamins</th>\n",
       "      <td>124.861163</td>\n",
       "      <td>519.252129</td>\n",
       "      <td>-79.328967</td>\n",
       "    </tr>\n",
       "    <tr>\n",
       "      <th>rating</th>\n",
       "      <td>-187.529398</td>\n",
       "      <td>-79.328967</td>\n",
       "      <td>203.932984</td>\n",
       "    </tr>\n",
       "  </tbody>\n",
       "</table>\n",
       "</div>"
      ],
      "text/plain": [
       "            calories    vitamins      rating\n",
       "calories  340.114772  124.861163 -187.529398\n",
       "vitamins  124.861163  519.252129  -79.328967\n",
       "rating   -187.529398  -79.328967  203.932984"
      ]
     },
     "execution_count": 21,
     "metadata": {},
     "output_type": "execute_result"
    }
   ],
   "source": [
    "df = df.loc[:,['calories','vitamins','rating']]\n",
    "df.cov()  #COVARIANCE"
   ]
  },
  {
   "cell_type": "code",
   "execution_count": 22,
   "id": "631d7669",
   "metadata": {},
   "outputs": [
    {
     "name": "stdout",
     "output_type": "stream",
     "text": [
      "-187.52939828026655\n"
     ]
    }
   ],
   "source": [
    "# covariance\n",
    "df4cov = df['calories'].cov(df['rating'])\n",
    "print(df4cov)"
   ]
  },
  {
   "cell_type": "code",
   "execution_count": 23,
   "id": "ad4a021d",
   "metadata": {},
   "outputs": [
    {
     "name": "stdout",
     "output_type": "stream",
     "text": [
      "-0.7120539091366642\n"
     ]
    }
   ],
   "source": [
    "df4cov = df['calories'].corr(df['rating'])  # CORRELATION\n",
    "print(df4cov)"
   ]
  },
  {
   "cell_type": "markdown",
   "id": "fc94201d",
   "metadata": {},
   "source": [
    "# Bivariate T-Test\n",
    "\"\"\"\n",
    "Hypotheses\n",
    "Now, when performing t-tests you typically have the following two hypotheses:\n",
    "\n",
    "    Null hypotheses: Two group means are equal\n",
    "    Alternative hypotheses: Two group means are different (two-tailed)\n",
    "\"\"\""
   ]
  },
  {
   "cell_type": "code",
   "execution_count": 24,
   "id": "82e64c50",
   "metadata": {},
   "outputs": [
    {
     "data": {
      "text/plain": [
       "Ttest_indResult(statistic=-3.9356234448471854, pvalue=0.000524613430583734)"
      ]
     },
     "metadata": {},
     "output_type": "display_data"
    }
   ],
   "source": [
    "df = pd.read_csv('C:\\\\Users\\\\radha\\\\Desktop\\\\dsp27 Class\\\\cerealspga05.csv')\n",
    "from scipy import stats\n",
    "\n",
    "# Subset data\n",
    "Ktype = df.query('mfr == \"K\"')['rating']\n",
    "NType = df.query('mfr == \"N\"')['rating']\n",
    "\n",
    "res = stats.ttest_ind(Ktype, NType, equal_var=True)\n",
    "\n",
    "display(res)\n",
    "#p-value for Hypothesis Testing"
   ]
  },
  {
   "cell_type": "code",
   "execution_count": 25,
   "id": "076487a9",
   "metadata": {},
   "outputs": [
    {
     "data": {
      "text/plain": [
       "LeveneResult(statistic=1.4050477750107753, pvalue=0.24620833900143407)"
      ]
     },
     "execution_count": 25,
     "metadata": {},
     "output_type": "execute_result"
    }
   ],
   "source": [
    "#Homogeneity of Variances\n",
    "stats.levene(Ktype, NType)"
   ]
  },
  {
   "cell_type": "code",
   "execution_count": 26,
   "id": "8c345c68",
   "metadata": {},
   "outputs": [
    {
     "data": {
      "text/plain": [
       "ShapiroResult(statistic=0.9568154811859131, pvalue=0.7948926687240601)"
      ]
     },
     "execution_count": 26,
     "metadata": {},
     "output_type": "execute_result"
    }
   ],
   "source": [
    "#Checking the Normality of Data\n",
    "stats.shapiro(Ktype)\n",
    "stats.shapiro(NType)"
   ]
  },
  {
   "cell_type": "code",
   "execution_count": 27,
   "id": "8a7619fb",
   "metadata": {},
   "outputs": [],
   "source": [
    "#Null hypothesis: Groups means are equal (no variation in means of groups)\n",
    "#H0: μ1=μ2=…=μp\n",
    "#Alternative hypothesis: At least, one group mean is different from other groups\n",
    "#H1: All μ are not equal"
   ]
  },
  {
   "cell_type": "code",
   "execution_count": 28,
   "id": "fa421de0",
   "metadata": {},
   "outputs": [
    {
     "name": "stdout",
     "output_type": "stream",
     "text": [
      "534.0638206545133 1.2368930297300685e-50\n"
     ]
    }
   ],
   "source": [
    "#ANOVA\n",
    "import scipy.stats as stats\n",
    "# stats f_oneway functions takes the groups as input and returns ANOVA F and p value\n",
    "fvalue, pvalue = stats.f_oneway(df['calories'], df['rating'])\n",
    "print(fvalue, pvalue)"
   ]
  },
  {
   "cell_type": "code",
   "execution_count": 29,
   "id": "6eb8ac8a",
   "metadata": {},
   "outputs": [
    {
     "data": {
      "text/html": [
       "<div>\n",
       "<style scoped>\n",
       "    .dataframe tbody tr th:only-of-type {\n",
       "        vertical-align: middle;\n",
       "    }\n",
       "\n",
       "    .dataframe tbody tr th {\n",
       "        vertical-align: top;\n",
       "    }\n",
       "\n",
       "    .dataframe thead th {\n",
       "        text-align: right;\n",
       "    }\n",
       "</style>\n",
       "<table border=\"1\" class=\"dataframe\">\n",
       "  <thead>\n",
       "    <tr style=\"text-align: right;\">\n",
       "      <th></th>\n",
       "      <th>sum_sq</th>\n",
       "      <th>df</th>\n",
       "      <th>F</th>\n",
       "      <th>PR(&gt;F)</th>\n",
       "    </tr>\n",
       "  </thead>\n",
       "  <tbody>\n",
       "    <tr>\n",
       "      <th>calories</th>\n",
       "      <td>1860.685539</td>\n",
       "      <td>1.0</td>\n",
       "      <td>31.927833</td>\n",
       "      <td>3.204198e-07</td>\n",
       "    </tr>\n",
       "    <tr>\n",
       "      <th>sugars</th>\n",
       "      <td>2912.108486</td>\n",
       "      <td>1.0</td>\n",
       "      <td>49.969386</td>\n",
       "      <td>9.352017e-10</td>\n",
       "    </tr>\n",
       "    <tr>\n",
       "      <th>calories:sugars</th>\n",
       "      <td>347.476844</td>\n",
       "      <td>1.0</td>\n",
       "      <td>5.962417</td>\n",
       "      <td>1.714377e-02</td>\n",
       "    </tr>\n",
       "    <tr>\n",
       "      <th>Residual</th>\n",
       "      <td>4079.449650</td>\n",
       "      <td>70.0</td>\n",
       "      <td>NaN</td>\n",
       "      <td>NaN</td>\n",
       "    </tr>\n",
       "  </tbody>\n",
       "</table>\n",
       "</div>"
      ],
      "text/plain": [
       "                      sum_sq    df          F        PR(>F)\n",
       "calories         1860.685539   1.0  31.927833  3.204198e-07\n",
       "sugars           2912.108486   1.0  49.969386  9.352017e-10\n",
       "calories:sugars   347.476844   1.0   5.962417  1.714377e-02\n",
       "Residual         4079.449650  70.0        NaN           NaN"
      ]
     },
     "execution_count": 29,
     "metadata": {},
     "output_type": "execute_result"
    }
   ],
   "source": [
    "from statsmodels.formula.api import ols\n",
    "from statsmodels.stats.anova import anova_lm\n",
    "#formula = 'rating ~ C(calories) + C(sugars) + C(calories):C(sugars)'\n",
    "formula = 'rating ~ calories + sugars + calories:sugars'\n",
    "#formula = 'rating ~ C(mfr) + C(type) + C(mfr):C(type)'\n",
    "model = ols(formula, df).fit()\n",
    "aov_table = anova_lm(model, typ=2)\n",
    "aov_table"
   ]
  },
  {
   "cell_type": "code",
   "execution_count": 30,
   "id": "01160e79",
   "metadata": {},
   "outputs": [
    {
     "data": {
      "text/html": [
       "<div>\n",
       "<style scoped>\n",
       "    .dataframe tbody tr th:only-of-type {\n",
       "        vertical-align: middle;\n",
       "    }\n",
       "\n",
       "    .dataframe tbody tr th {\n",
       "        vertical-align: top;\n",
       "    }\n",
       "\n",
       "    .dataframe thead th {\n",
       "        text-align: right;\n",
       "    }\n",
       "</style>\n",
       "<table border=\"1\" class=\"dataframe\">\n",
       "  <thead>\n",
       "    <tr style=\"text-align: right;\">\n",
       "      <th>type</th>\n",
       "      <th>C</th>\n",
       "      <th>H</th>\n",
       "    </tr>\n",
       "    <tr>\n",
       "      <th>mfr</th>\n",
       "      <th></th>\n",
       "      <th></th>\n",
       "    </tr>\n",
       "  </thead>\n",
       "  <tbody>\n",
       "    <tr>\n",
       "      <th>A</th>\n",
       "      <td>0</td>\n",
       "      <td>1</td>\n",
       "    </tr>\n",
       "    <tr>\n",
       "      <th>G</th>\n",
       "      <td>22</td>\n",
       "      <td>0</td>\n",
       "    </tr>\n",
       "    <tr>\n",
       "      <th>K</th>\n",
       "      <td>23</td>\n",
       "      <td>0</td>\n",
       "    </tr>\n",
       "    <tr>\n",
       "      <th>N</th>\n",
       "      <td>5</td>\n",
       "      <td>1</td>\n",
       "    </tr>\n",
       "    <tr>\n",
       "      <th>P</th>\n",
       "      <td>8</td>\n",
       "      <td>0</td>\n",
       "    </tr>\n",
       "    <tr>\n",
       "      <th>Q</th>\n",
       "      <td>7</td>\n",
       "      <td>1</td>\n",
       "    </tr>\n",
       "    <tr>\n",
       "      <th>R</th>\n",
       "      <td>6</td>\n",
       "      <td>0</td>\n",
       "    </tr>\n",
       "  </tbody>\n",
       "</table>\n",
       "</div>"
      ],
      "text/plain": [
       "type   C  H\n",
       "mfr        \n",
       "A      0  1\n",
       "G     22  0\n",
       "K     23  0\n",
       "N      5  1\n",
       "P      8  0\n",
       "Q      7  1\n",
       "R      6  0"
      ]
     },
     "execution_count": 30,
     "metadata": {},
     "output_type": "execute_result"
    }
   ],
   "source": [
    "# CROSS TAB\n",
    "\n",
    "\n",
    "table2 = pd.crosstab(df['mfr'], df['type'])\n",
    "pd.crosstab(df['mfr'], df['type'])"
   ]
  },
  {
   "cell_type": "code",
   "execution_count": 31,
   "id": "dfb7b759",
   "metadata": {},
   "outputs": [
    {
     "name": "stdout",
     "output_type": "stream",
     "text": [
      "[[10, 20, 30], [6, 9, 17]]\n",
      "dof=6\n",
      "[[ 0.95945946  0.04054054]\n",
      " [21.10810811  0.89189189]\n",
      " [22.06756757  0.93243243]\n",
      " [ 5.75675676  0.24324324]\n",
      " [ 7.67567568  0.32432432]\n",
      " [ 7.67567568  0.32432432]\n",
      " [ 5.75675676  0.24324324]]\n",
      "probability=0.950, critical=12.592, stat=30.081\n",
      "Dependent (reject H0)\n",
      "significance=0.050, p=0.000\n",
      "Dependent (reject H0)\n"
     ]
    }
   ],
   "source": [
    "from scipy.stats import chi2_contingency\n",
    "from scipy.stats import chi2\n",
    "# contingency table\n",
    "#         Science,\tMath,\tArt\n",
    "#Male         20,      30,    15\n",
    "#Female       20,      15,    30\n",
    "\n",
    "table = [\t[10, 20, 30],\n",
    "\t\t\t[6,  9,  17]]\n",
    "print(table)\n",
    "stat, p, dof, expected = chi2_contingency(table2)\n",
    "print('dof=%d' % dof)\n",
    "print(expected)\n",
    "# interpret test-statistic\n",
    "prob = 0.95\n",
    "critical = chi2.ppf(prob, dof)\n",
    "print('probability=%.3f, critical=%.3f, stat=%.3f' % (prob, critical, stat))\n",
    "if abs(stat) >= critical:\n",
    "\tprint('Dependent (reject H0)')\n",
    "else:\n",
    "\tprint('Independent (fail to reject H0)')\n",
    "# interpret p-value\n",
    "alpha = 1.0 - prob\n",
    "print('significance=%.3f, p=%.3f' % (alpha, p))\n",
    "if p <= alpha:\n",
    "\tprint('Dependent (reject H0)')\n",
    "else:\n",
    "\tprint('Independent (fail to reject H0)')"
   ]
  },
  {
   "cell_type": "code",
   "execution_count": 32,
   "id": "2e241a47",
   "metadata": {},
   "outputs": [],
   "source": [
    "#Multivariate graphical\n",
    "# Scatterplot\n",
    "# Heat map"
   ]
  },
  {
   "cell_type": "code",
   "execution_count": 33,
   "id": "35c40d8b",
   "metadata": {},
   "outputs": [
    {
     "data": {
      "text/plain": [
       "<AxesSubplot:xlabel='rating', ylabel='mfr'>"
      ]
     },
     "execution_count": 33,
     "metadata": {},
     "output_type": "execute_result"
    },
    {
     "data": {
      "image/png": "[encoded data removed]",
      "text/plain": [
       "<Figure size 432x288 with 1 Axes>"
      ]
     },
     "metadata": {
      "needs_background": "light"
     },
     "output_type": "display_data"
    }
   ],
   "source": [
    "sns.boxplot(x='rating',y='mfr', data=df)"
   ]
  },
  {
   "cell_type": "code",
   "execution_count": 34,
   "id": "a281ff03",
   "metadata": {},
   "outputs": [
    {
     "data": {
      "image/png": "[encoded data removed]",
      "text/plain": [
       "<Figure size 1080x648 with 1 Axes>"
      ]
     },
     "metadata": {
      "needs_background": "light"
     },
     "output_type": "display_data"
    }
   ],
   "source": [
    "#Plot\n",
    "import matplotlib.patches as mpatches\n",
    "plt.figure(figsize=(15, 9))\n",
    "ax = sns.pointplot(x = df.calories, y = df.rating, color = 'blue', label='cal Vs rating')\n",
    "#ax = sns.pointplot(x = df.sugars, y = df.rating, color = 'red', label='Sugars vs rating')\n",
    "\n",
    "blue_patch = mpatches.Patch(color='blue', label='Calories')\n",
    "#red_patch = mpatches.Patch(color='red', label='Sugars')\n",
    "plt.legend(handles=[blue_patch], loc='upper right', fontsize = 16)\n",
    "#plt.legend(handles=[blue_patch, red_patch], loc='upper left', fontsize = 16)\n",
    "\n",
    "plt.xticks(rotation=45);"
   ]
  },
  {
   "cell_type": "code",
   "execution_count": 35,
   "id": "224174db",
   "metadata": {},
   "outputs": [
    {
     "name": "stdout",
     "output_type": "stream",
     "text": [
      "   calories  vitamins     rating\n",
      "0        70        25  68.402973\n",
      "1        70        25  59.425505\n",
      "2        50        25  93.704912\n",
      "3       110        25  40.448772\n",
      "4       120        25  37.840594\n"
     ]
    },
    {
     "data": {
      "image/png": "[encoded data removed]",
      "text/plain": [
       "<Figure size 864x576 with 2 Axes>"
      ]
     },
     "metadata": {
      "needs_background": "light"
     },
     "output_type": "display_data"
    }
   ],
   "source": [
    "import matplotlib.patches as mpatches\n",
    "\n",
    "plt.figure(figsize=(12, 8))\n",
    "\n",
    "df = df.loc[:,['calories','vitamins','rating']]\n",
    "print(df.head())\n",
    "\n",
    "vg_corr = df.corr()\n",
    "sns.heatmap(vg_corr, \n",
    "            xticklabels = vg_corr.columns.values,\n",
    "            yticklabels = vg_corr.columns.values,\n",
    "            annot = True);"
   ]
  },
  {
   "cell_type": "code",
   "execution_count": null,
   "id": "60f6dde4",
   "metadata": {},
   "outputs": [],
   "source": []
  }
 ],
 "metadata": {
  "kernelspec": {
   "display_name": "Python 3",
   "language": "python",
   "name": "python3"
  },
  "language_info": {
   "codemirror_mode": {
    "name": "ipython",
    "version": 3
   },
   "file_extension": ".py",
   "mimetype": "text/x-python",
   "name": "python",
   "nbconvert_exporter": "python",
   "pygments_lexer": "ipython3",
   "version": "3.8.8"
  }
 },
 "nbformat": 4,
 "nbformat_minor": 5
}
