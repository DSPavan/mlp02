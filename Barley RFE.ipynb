{
 "cells": [
  {
   "cell_type": "code",
   "execution_count": 2,
   "id": "de6d5b5b",
   "metadata": {},
   "outputs": [
    {
     "name": "stdout",
     "output_type": "stream",
     "text": [
      "  Predictor       740       741       742       743       744       745  \\\n",
      "0     HB-52  1.499853  1.500665  1.501564  1.502536  1.503537  1.504548   \n",
      "1     HB-52  1.530877  1.531669  1.532524  1.533419  1.534308  1.535169   \n",
      "2     HB-52  1.607175  1.608642  1.610044  1.611357  1.612540  1.613585   \n",
      "3     HB-52  1.677333  1.678098  1.678930  1.679809  1.680688  1.681539   \n",
      "4     HB-52  1.507830  1.509293  1.510683  1.511977  1.513145  1.514180   \n",
      "\n",
      "        746       747       748  ...      1061      1062      1063      1064  \\\n",
      "0  1.505588  1.506689  1.507828  ...  1.636411  1.637350  1.636452  1.634370   \n",
      "1  1.536024  1.536916  1.537830  ...  1.643299  1.644222  1.643302  1.641195   \n",
      "2  1.614534  1.615456  1.616359  ...  1.703343  1.704291  1.703329  1.701137   \n",
      "3  1.682384  1.683260  1.684145  ...  1.755067  1.756013  1.754996  1.752716   \n",
      "4  1.515125  1.516049  1.516964  ...  1.641968  1.642877  1.641946  1.639829   \n",
      "\n",
      "       1065      1066      1067      1068      1069      1070  \n",
      "0  1.632287  1.630265  1.630722  1.633166  1.636204  1.637872  \n",
      "1  1.639088  1.637046  1.637493  1.639938  1.642981  1.644649  \n",
      "2  1.698946  1.696822  1.697278  1.699806  1.702953  1.704677  \n",
      "3  1.750441  1.748238  1.748696  1.751290  1.754525  1.756294  \n",
      "4  1.637714  1.635664  1.636101  1.638535  1.641567  1.643227  \n",
      "\n",
      "[5 rows x 332 columns]\n",
      "(1200, 332)\n"
     ]
    }
   ],
   "source": [
    "\n",
    "import pandas as pd\n",
    "# CSV File - Read\n",
    "df = pd.read_csv('C:\\\\Users\\\\radha\\\\Desktop\\\\dsp27\\\\Barley.csv')\n",
    "#  ,header=None ,skiprows=1 , names=['Cal', 'Pr', 'Fat', 'sod', 'Fib', 'Rting']\n",
    "print(df.head(5)) \n",
    "print(df.shape)"
   ]
  },
  {
   "cell_type": "code",
   "execution_count": 4,
   "id": "a6f581e4",
   "metadata": {},
   "outputs": [],
   "source": [
    "\n",
    "import numpy as np\n",
    "from sklearn.preprocessing import StandardScaler\n",
    "# split data table into data X and class labels y\n",
    "\n",
    "X = df.iloc[:,1:333]\n",
    "X_col = X.columns\n",
    "\n",
    "X = df.iloc[:,1:333].values\n",
    "y = df.iloc[:,0].values\n",
    "\n",
    "from sklearn.preprocessing import LabelEncoder\n",
    "labelencoder = LabelEncoder()\n",
    "y= labelencoder.fit_transform(y)"
   ]
  },
  {
   "cell_type": "code",
   "execution_count": 5,
   "id": "bc3e6b4a",
   "metadata": {},
   "outputs": [],
   "source": [
    "from sklearn.ensemble import RandomForestClassifier\n",
    "from sklearn.model_selection import train_test_split\n",
    "X_train, X_test, y_train, y_test =train_test_split(X, y ,  test_size=0.2, random_state=123,stratify=y)\n",
    "\n",
    "Rf = RandomForestClassifier(random_state=52)\n",
    "\n",
    "from sklearn.neighbors import KNeighborsClassifier\n",
    "#Rf = KNeighborsClassifier(n_neighbors=3, algorithm=\"ball_tree\")\n",
    "\n",
    "Rf_fit=Rf.fit(X_train, y_train)\n",
    "y_pred = Rf_fit.predict(X_test)"
   ]
  },
  {
   "cell_type": "code",
   "execution_count": 6,
   "id": "f8896873",
   "metadata": {},
   "outputs": [
    {
     "name": "stderr",
     "output_type": "stream",
     "text": [
      "C:\\ProgramData\\Anaconda3\\lib\\site-packages\\sklearn\\utils\\validation.py:70: FutureWarning: Pass n_features_to_select=3 as keyword args. From version 1.0 (renaming of 0.25) passing these as positional arguments will result in an error\n",
      "  warnings.warn(f\"Pass {args_msg} as keyword args. From version \"\n"
     ]
    },
    {
     "name": "stdout",
     "output_type": "stream",
     "text": [
      "10 selected Features:\n",
      "['830' '1050' '1063']\n"
     ]
    }
   ],
   "source": [
    "#Reduction of variables using Recursive Feature Elimination(RFE) techineque\n",
    "\n",
    "X = df.iloc[:,1:333]\n",
    "X_col = X.columns\n",
    "\n",
    "\n",
    "from sklearn.feature_selection import RFE\n",
    "\n",
    "# RFE with 10 features\n",
    "\n",
    "rfe_10 = RFE(Rf,3) \n",
    "\n",
    "#sfm = SelectFromModel(LassoCV(), 0.25)\n",
    "#sfm.fit(X_train, y_train)\n",
    "#print(sfm.estimator_.coef_)  # print \"importance\" scores\n",
    "\n",
    "rfe_10.fit(X_train, y_train)\n",
    "#feature_importances_\n",
    "\n",
    "# selected features\n",
    "features_bool = np.array(rfe_10.support_)\n",
    "features = np.array(X_col)\n",
    "result = features[features_bool]\n",
    "print('10 selected Features:')\n",
    "print(result)\n"
   ]
  },
  {
   "cell_type": "code",
   "execution_count": 8,
   "id": "10cdb11a",
   "metadata": {},
   "outputs": [
    {
     "name": "stdout",
     "output_type": "stream",
     "text": [
      "10 selected Features:\n",
      "['830' '1050' '1063']\n"
     ]
    }
   ],
   "source": [
    "from sklearn.neighbors import KNeighborsClassifier\n",
    "Rf = KNeighborsClassifier(n_neighbors=3, algorithm=\"ball_tree\")\n",
    "\n",
    "#Rf_fit=Rf.fit(X_train, y_train)\n",
    "#y_pred = Rf_fit.predict(X_test)\n",
    "\n",
    "rfe_10.fit(X_train, y_train)\n",
    "\n",
    "# selected features\n",
    "features_bool = np.array(rfe_10.support_)\n",
    "features = np.array(X_col)\n",
    "result = features[features_bool]\n",
    "print('10 selected Features:')\n",
    "print(result)"
   ]
  },
  {
   "cell_type": "code",
   "execution_count": null,
   "id": "dbc22267",
   "metadata": {},
   "outputs": [],
   "source": []
  }
 ],
 "metadata": {
  "kernelspec": {
   "display_name": "Python 3",
   "language": "python",
   "name": "python3"
  },
  "language_info": {
   "codemirror_mode": {
    "name": "ipython",
    "version": 3
   },
   "file_extension": ".py",
   "mimetype": "text/x-python",
   "name": "python",
   "nbconvert_exporter": "python",
   "pygments_lexer": "ipython3",
   "version": "3.8.8"
  }
 },
 "nbformat": 4,
 "nbformat_minor": 5
}
