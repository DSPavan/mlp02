{
 "cells": [
  {
   "cell_type": "code",
   "execution_count": 49,
   "id": "62950dc2",
   "metadata": {},
   "outputs": [],
   "source": [
    "\n",
    "# Feature Selection\n",
    "\n",
    "# Irrelevant or partially relevant features can negatively impact model performance.\n",
    "\n",
    "# https://scikit-learn.org/stable/modules/feature_selection.html"
   ]
  },
  {
   "cell_type": "code",
   "execution_count": 2,
   "id": "b3cbc608",
   "metadata": {},
   "outputs": [],
   "source": [
    "#Three benefits of performing feature selection before modeling your data are:\n",
    "\n",
    "#Reduces Overfitting: Less redundant data means less opportunity to make decisions based on noise.\n",
    "#Improves Accuracy: Less misleading data means modeling accuracy improves.\n",
    "#Reduces Training Time: Less data means that algorithms train faster."
   ]
  },
  {
   "cell_type": "code",
   "execution_count": 3,
   "id": "a12edba0",
   "metadata": {},
   "outputs": [],
   "source": [
    "# 1. Univariate Selection\n",
    "\n",
    "# 2. The Recursive Feature Elimination (or RFE)  - Filename: RFE\n",
    "#    works by recursively removing attributes and building a model on those attributes that remain.\n",
    "  # Test and Repeat 2- 3 times"
   ]
  },
  {
   "cell_type": "code",
   "execution_count": 4,
   "id": "d537e596",
   "metadata": {},
   "outputs": [],
   "source": [
    "# 3. Principal Component Analysis (or PCA) uses linear algebra to transform the dataset into a compressed form.\n",
    "\n",
    "# 4. Feature Importance: Bagged decision trees like Random Forest and Extra Trees"
   ]
  },
  {
   "cell_type": "code",
   "execution_count": 48,
   "id": "cfcb6fc1",
   "metadata": {},
   "outputs": [],
   "source": [
    "# Barley Data - Huge Columns\n",
    "#"
   ]
  },
  {
   "cell_type": "code",
   "execution_count": 46,
   "id": "c692b6d1",
   "metadata": {},
   "outputs": [
    {
     "name": "stdout",
     "output_type": "stream",
     "text": [
      "[0.00357254 0.00344345 0.00387564 0.0030417  0.00309992 0.003127\n",
      " 0.00268543 0.00298185 0.00299127 0.00291745 0.00327982 0.00258753\n",
      " 0.00291984 0.00252741 0.00291094 0.00272477 0.00277822 0.00312886\n",
      " 0.00283405 0.0027488  0.00284911 0.00297416 0.00269229 0.0028199\n",
      " 0.00290891 0.00279044 0.00286902 0.00270974 0.00249959 0.00273418\n",
      " 0.00246594 0.00265678 0.00269255 0.00267876 0.00237963 0.0024896\n",
      " 0.00307666 0.00255302 0.0022788  0.00287916 0.00328429 0.00257663\n",
      " 0.00234002 0.00249316 0.00242507 0.00233117 0.00219635 0.00282939\n",
      " 0.00244713 0.00262093 0.00271958 0.00265831 0.00259407 0.00237001\n",
      " 0.00238093 0.00250662 0.00218557 0.00235275 0.00217355 0.00243775\n",
      " 0.00234056 0.00238863 0.0025984  0.00244652 0.00226952 0.00237973\n",
      " 0.0026478  0.00206766 0.00235635 0.00205216 0.00239183 0.00279916\n",
      " 0.00199996 0.00238803 0.00214742 0.00200793 0.00235653 0.00224772\n",
      " 0.00231295 0.00213867 0.00241199 0.00217098 0.00210696 0.00249681\n",
      " 0.00212996 0.00209193 0.00250495 0.00235958 0.00194362 0.00211352\n",
      " 0.00247679 0.00244867 0.00221813 0.00220216 0.00240362 0.00230416\n",
      " 0.00257172 0.00235161 0.002323   0.00250452 0.00240062 0.00229453\n",
      " 0.00233451 0.00235107 0.00209634 0.00223685 0.00232909 0.00208234\n",
      " 0.00237878 0.00213094 0.00223083 0.0025151  0.00217183 0.00230092\n",
      " 0.00218282 0.0025034  0.00237219 0.00226186 0.00218127 0.00223828\n",
      " 0.00221052 0.00225098 0.00242816 0.00244698 0.00222902 0.00191888\n",
      " 0.0025968  0.00248056 0.00264119 0.002499   0.00238893 0.00233022\n",
      " 0.00283193 0.00251907 0.00281117 0.00227976 0.00257242 0.00268499\n",
      " 0.00208825 0.00236053 0.00244494 0.00219537 0.00256888 0.0022967\n",
      " 0.00250262 0.0023256  0.00230996 0.00222894 0.0024106  0.00217776\n",
      " 0.00263254 0.00267955 0.0022925  0.0024316  0.00217069 0.00231872\n",
      " 0.00254216 0.00225702 0.00264734 0.00236427 0.00216357 0.00268746\n",
      " 0.00240865 0.00251901 0.00218578 0.00245374 0.00208192 0.00226645\n",
      " 0.00209887 0.00245795 0.00236243 0.0024238  0.00223992 0.00226334\n",
      " 0.00212988 0.00200333 0.00201679 0.00212376 0.00273158 0.00235692\n",
      " 0.00233726 0.00292779 0.00246534 0.00233577 0.0022361  0.00237133\n",
      " 0.00240626 0.00271056 0.00281555 0.00313763 0.00311423 0.00307591\n",
      " 0.00276949 0.00277302 0.0027673  0.00330885 0.00278088 0.0029298\n",
      " 0.00305413 0.00290304 0.00271052 0.00258734 0.00271902 0.0027091\n",
      " 0.00294874 0.00273444 0.00296693 0.00298271 0.00282769 0.00269048\n",
      " 0.00282726 0.00276212 0.0032637  0.00338977 0.00281757 0.00252847\n",
      " 0.00304554 0.00255385 0.00225189 0.00288622 0.00260969 0.00248906\n",
      " 0.00262079 0.00272606 0.00232724 0.0022873  0.00252345 0.00230077\n",
      " 0.00306758 0.00258144 0.0021808  0.00279137 0.0028916  0.00261684\n",
      " 0.0027005  0.00272016 0.00277959 0.00227081 0.00254086 0.00321111\n",
      " 0.0028153  0.00304697 0.00275688 0.00278541 0.00301961 0.00302719\n",
      " 0.00300508 0.00327072 0.00305621 0.00302341 0.00365345 0.00322239\n",
      " 0.00288608 0.00347357 0.00359304 0.00370844 0.00342872 0.00348263\n",
      " 0.00352716 0.00385681 0.00357767 0.0037266  0.00382552 0.0033889\n",
      " 0.0033289  0.00337657 0.00332699 0.00322941 0.00322744 0.00290821\n",
      " 0.00309659 0.00325275 0.00325505 0.00354128 0.00343826 0.00384562\n",
      " 0.0035373  0.00393069 0.00374576 0.00326832 0.00380105 0.00394332\n",
      " 0.00343678 0.0035197  0.00356396 0.00322894 0.00341657 0.00365075\n",
      " 0.00397065 0.00347522 0.00341566 0.00350622 0.00336946 0.00365021\n",
      " 0.00390347 0.00412226 0.00423701 0.00390203 0.00437504 0.00375449\n",
      " 0.00385101 0.00399722 0.0043849  0.00418752 0.00445477 0.0050296\n",
      " 0.00544136 0.00548976 0.0067641  0.00645932 0.00664663 0.00624415\n",
      " 0.00617407 0.00577539 0.00526457 0.00481854 0.00634105 0.00616632\n",
      " 0.00630428 0.00728561 0.00774659 0.00861431 0.00821408 0.00893635\n",
      " 0.00818273 0.00787773 0.00721982 0.00836467 0.00788713]\n"
     ]
    }
   ],
   "source": [
    "###########  Feature Importance   ############\n",
    "import pandas as pd\n",
    "df = pd.read_csv('C:\\\\Users\\\\radha\\\\Desktop\\\\dsp27 Class\\\\Barley.csv')\n",
    "#array = df.values\n",
    "import numpy as np\n",
    "from sklearn.preprocessing import StandardScaler\n",
    "# split data table into data X and class labels y\n",
    "\n",
    "X1 = df.iloc[:,1:330] # For Names\n",
    "\n",
    "X = df.iloc[:,1:330].values\n",
    "y = df.iloc[:,0].values\n",
    "\n",
    "from sklearn.preprocessing import LabelEncoder\n",
    "labelencoder = LabelEncoder()\n",
    "y= labelencoder.fit_transform(y)\n",
    "# feature extraction\n",
    "model = ExtraTreesClassifier(n_estimators=100)\n",
    "model.fit(X, y)\n",
    "print(model.feature_importances_)"
   ]
  },
  {
   "cell_type": "code",
   "execution_count": 32,
   "id": "836694a8",
   "metadata": {},
   "outputs": [
    {
     "data": {
      "text/plain": [
       "numpy.ndarray"
      ]
     },
     "execution_count": 32,
     "metadata": {},
     "output_type": "execute_result"
    }
   ],
   "source": [
    "type(model.feature_importances_)"
   ]
  },
  {
   "cell_type": "code",
   "execution_count": null,
   "id": "38ec3ff9",
   "metadata": {},
   "outputs": [],
   "source": [
    "# numpy.ndarray  Filter by value"
   ]
  },
  {
   "cell_type": "code",
   "execution_count": 28,
   "id": "67f0e627",
   "metadata": {},
   "outputs": [],
   "source": [
    "# Computing the importance of each feature\n",
    "feature_importance = model.feature_importances_\n",
    "  \n",
    "# Normalizing the individual importances\n",
    "feature_importance_normalized = np.std([tree.feature_importances_ for tree in \n",
    "                                        model.estimators_],\n",
    "                                        axis = 0)"
   ]
  },
  {
   "cell_type": "code",
   "execution_count": 33,
   "id": "269226de",
   "metadata": {},
   "outputs": [
    {
     "data": {
      "text/plain": [
       "numpy.ndarray"
      ]
     },
     "execution_count": 33,
     "metadata": {},
     "output_type": "execute_result"
    }
   ],
   "source": [
    "type(feature_importance_normalized)"
   ]
  },
  {
   "cell_type": "code",
   "execution_count": 47,
   "id": "24ece598",
   "metadata": {},
   "outputs": [
    {
     "data": {
      "text/plain": [
       "array([0.00237487, 0.00223337, 0.00243654, 0.00243698, 0.00214206,\n",
       "       0.00196391, 0.0019843 , 0.00196015, 0.00244448, 0.00213987,\n",
       "       0.00218674, 0.00185536, 0.00192768, 0.00232587, 0.00198076,\n",
       "       0.00186342, 0.00189636, 0.00231419, 0.00216435, 0.00215653,\n",
       "       0.00217835, 0.00189953, 0.00153275, 0.00196971, 0.00156627,\n",
       "       0.00215921, 0.00180971, 0.00191884, 0.00190253, 0.00191106,\n",
       "       0.00214521, 0.00222048, 0.00178807, 0.0023387 , 0.00193524,\n",
       "       0.00187009, 0.00205926, 0.00196798, 0.00188399, 0.00216974,\n",
       "       0.00210279, 0.00208784, 0.00190345, 0.00186666, 0.0019447 ,\n",
       "       0.00169119, 0.00176661, 0.00199152, 0.00194615, 0.00171171,\n",
       "       0.00198023, 0.00187553, 0.00218624, 0.0019002 , 0.00195997,\n",
       "       0.0017539 , 0.00223316, 0.00187161, 0.00195431, 0.0020156 ,\n",
       "       0.00168284, 0.00194833, 0.00194267, 0.00151444, 0.00178161,\n",
       "       0.00172549, 0.00212761, 0.0020485 , 0.0017475 , 0.00160873,\n",
       "       0.00205314, 0.00163571, 0.00182742, 0.00188905, 0.00159829,\n",
       "       0.00197362, 0.00137437, 0.00194876, 0.00188949, 0.00185278,\n",
       "       0.00204574, 0.001903  , 0.00195692, 0.00161314, 0.00209837,\n",
       "       0.00159506, 0.00180654, 0.00174778, 0.00207956, 0.00254137,\n",
       "       0.00163784, 0.00194184, 0.0019747 , 0.00189335, 0.00187076,\n",
       "       0.00189514, 0.00164772, 0.0016984 , 0.00255829, 0.00197358,\n",
       "       0.00190228, 0.00187295, 0.00222711, 0.00177274, 0.00177538,\n",
       "       0.00177327, 0.00173998, 0.00185435, 0.00191192, 0.0017794 ,\n",
       "       0.00176554, 0.00151055, 0.00195806, 0.00180652, 0.00175085,\n",
       "       0.00194208, 0.00216192, 0.00223506, 0.00174117, 0.00225736,\n",
       "       0.00200333, 0.00225894, 0.00196177, 0.0016374 , 0.00182909,\n",
       "       0.00198251, 0.00179028, 0.00187543, 0.00178034, 0.00218087,\n",
       "       0.00164602, 0.00193726, 0.00172114, 0.00193277, 0.00171635,\n",
       "       0.00182913, 0.00213411, 0.00170801, 0.00201736, 0.00197811,\n",
       "       0.00199202, 0.00182304, 0.00188738, 0.00254674, 0.00179571,\n",
       "       0.00209889, 0.00176363, 0.00172931, 0.00213467, 0.00226307,\n",
       "       0.00187612, 0.00184974, 0.00195895, 0.00191128, 0.00203262,\n",
       "       0.00196813, 0.00228758, 0.00236041, 0.00187384, 0.00201611,\n",
       "       0.00168907, 0.00168843, 0.00161421, 0.00171868, 0.00150786,\n",
       "       0.00219358, 0.00163775, 0.00186409, 0.00150764, 0.00174722,\n",
       "       0.00171075, 0.00176904, 0.0017556 , 0.00246198, 0.00171972,\n",
       "       0.00201706, 0.002369  , 0.00165166, 0.00189252, 0.00222321,\n",
       "       0.00184482, 0.00221443, 0.00190907, 0.0020957 , 0.00228523,\n",
       "       0.0027144 , 0.00195809, 0.00205   , 0.00208222, 0.00204123,\n",
       "       0.00234862, 0.00196432, 0.00217333, 0.00232105, 0.00246424,\n",
       "       0.002022  , 0.0019926 , 0.00201633, 0.00189644, 0.00233621,\n",
       "       0.00173341, 0.0021411 , 0.00193986, 0.00195055, 0.00230693,\n",
       "       0.00195467, 0.00196895, 0.00225693, 0.00198271, 0.00206961,\n",
       "       0.00261526, 0.00213281, 0.0029012 , 0.00198962, 0.00213869,\n",
       "       0.00186294, 0.00176821, 0.00188326, 0.00162587, 0.00205145,\n",
       "       0.00231266, 0.00292985, 0.00198535, 0.00170813, 0.00315439,\n",
       "       0.00233836, 0.00228044, 0.00224343, 0.00214806, 0.00215868,\n",
       "       0.00210914, 0.00218851, 0.00216843, 0.0022592 , 0.00207198,\n",
       "       0.00200573, 0.00206498, 0.00200574, 0.00204898, 0.00186981,\n",
       "       0.00195918, 0.00215832, 0.00217866, 0.00228998, 0.00217988,\n",
       "       0.00264983, 0.00216565, 0.00230973, 0.00232479, 0.00217564,\n",
       "       0.0022535 , 0.00266425, 0.00274737, 0.00245529, 0.00320609,\n",
       "       0.00228171, 0.00263093, 0.00244879, 0.00260465, 0.00215994,\n",
       "       0.00229594, 0.00237447, 0.00249935, 0.00291152, 0.00245921,\n",
       "       0.00209561, 0.0023441 , 0.00227783, 0.002321  , 0.00259201,\n",
       "       0.00216455, 0.00247483, 0.00283028, 0.00251245, 0.00273678,\n",
       "       0.00275919, 0.00238598, 0.00269316, 0.00347056, 0.00276138,\n",
       "       0.00325717, 0.00285661, 0.00257508, 0.00210093, 0.00260241,\n",
       "       0.00254821, 0.00234096, 0.00276806, 0.00251183, 0.002305  ,\n",
       "       0.00241799, 0.00261892, 0.00300116, 0.00256773, 0.00227804,\n",
       "       0.00280177, 0.00277813, 0.00267473, 0.00259741, 0.00298872,\n",
       "       0.00312124, 0.0024115 , 0.00281919, 0.0031295 , 0.00332354,\n",
       "       0.00388937, 0.0031166 , 0.00344467, 0.00330917, 0.00414488,\n",
       "       0.0036212 , 0.00349006, 0.00356395, 0.00357878, 0.00331803,\n",
       "       0.00349919, 0.00340114, 0.00358029, 0.00271723, 0.00362652,\n",
       "       0.00412853, 0.00411067, 0.00415641, 0.00352233, 0.00400871,\n",
       "       0.00396362, 0.00471433, 0.00397516, 0.00440299])"
      ]
     },
     "execution_count": 47,
     "metadata": {},
     "output_type": "execute_result"
    }
   ],
   "source": [
    "feature_importance_normalized"
   ]
  },
  {
   "cell_type": "code",
   "execution_count": 27,
   "id": "6b59fd2a",
   "metadata": {},
   "outputs": [
    {
     "data": {
      "text/plain": [
       "Index(['740', '741', '742', '743', '744', '745', '746', '747', '748', '749',\n",
       "       ...\n",
       "       '1059', '1060', '1061', '1062', '1063', '1064', '1065', '1066', '1067',\n",
       "       '1068'],\n",
       "      dtype='object', length=329)"
      ]
     },
     "execution_count": 27,
     "metadata": {},
     "output_type": "execute_result"
    }
   ],
   "source": [
    "X1.columns"
   ]
  },
  {
   "cell_type": "code",
   "execution_count": 45,
   "id": "f5889bfe",
   "metadata": {},
   "outputs": [
    {
     "data": {
      "image/png": "[encoded data removed]",
      "text/plain": [
       "<Figure size 432x288 with 1 Axes>"
      ]
     },
     "metadata": {
      "needs_background": "light"
     },
     "output_type": "display_data"
    }
   ],
   "source": [
    "# Plotting a Bar Graph to compare the models\n",
    "import matplotlib.pyplot as plt\n",
    "# 0.0035\n",
    "plt.bar(X1.columns[feature_importance_normalized >= 0.0035], feature_importance_normalized[feature_importance_normalized >= 0.0035])\n",
    "\n",
    "# Logic: plt.plot(x[y <= 50], y[y <= 50])\n",
    "#plt.bar(X1.columns, feature_importance_normalized)\n",
    "plt.xlabel('Feature Labels' )\n",
    "plt.ylabel('Feature Importances')\n",
    "plt.xticks(rotation=90) # impt\n",
    "# matplotlib y axis direction text label\n",
    "plt.title('Comparison of different Feature Importances')\n",
    "plt.show()"
   ]
  },
  {
   "cell_type": "code",
   "execution_count": 50,
   "id": "95dcb0be",
   "metadata": {},
   "outputs": [],
   "source": [
    "##  SelectKBest"
   ]
  },
  {
   "cell_type": "code",
   "execution_count": 56,
   "id": "52c0571b",
   "metadata": {},
   "outputs": [
    {
     "name": "stdout",
     "output_type": "stream",
     "text": [
      "[ 4.49  4.47  4.44  4.43  4.43  4.44  4.45  4.47  4.47  4.48  4.48  4.49\n",
      "  4.51  4.52  4.53  4.53  4.52  4.52  4.51  4.52  4.53  4.53  4.54  4.53\n",
      "  4.53  4.52  4.52  4.53  4.53  4.53  4.53  4.52  4.52  4.52  4.52  4.53\n",
      "  4.54  4.56  4.57  4.59  4.6   4.61  4.62  4.64  4.65  4.67  4.68  4.69\n",
      "  4.7   4.7   4.71  4.72  4.73  4.73  4.74  4.75  4.74  4.74  4.74  4.74\n",
      "  4.75  4.77  4.79  4.81  4.83  4.85  4.86  4.88  4.9   4.92  4.94  4.94\n",
      "  4.94  4.93  4.94  4.95  4.98  5.    5.02  5.03  5.03  5.02  5.03  5.04\n",
      "  5.05  5.07  5.07  5.07  5.08  5.09  5.11  5.14  5.16  5.17  5.18  5.19\n",
      "  5.2   5.21  5.23  5.25  5.27  5.28  5.29  5.29  5.29  5.29  5.29  5.31\n",
      "  5.33  5.36  5.38  5.4   5.42  5.44  5.47  5.5   5.52  5.53  5.53  5.53\n",
      "  5.54  5.55  5.57  5.59  5.61  5.62  5.62  5.62  5.62  5.63  5.65  5.67\n",
      "  5.68  5.7   5.71  5.74  5.77  5.81  5.84  5.87  5.88  5.88  5.89  5.9\n",
      "  5.91  5.93  5.94  5.96  5.98  6.01  6.05  6.09  6.13  6.16  6.2   6.23\n",
      "  6.25  6.28  6.31  6.33  6.36  6.4   6.44  6.49  6.53  6.57  6.61  6.64\n",
      "  6.67  6.7   6.71  6.73  6.74  6.76  6.79  6.83  6.86  6.9   6.95  7.\n",
      "  7.05  7.1   7.16  7.2   7.24  7.28  7.31  7.33  7.36  7.38  7.41  7.44\n",
      "  7.46  7.49  7.51  7.54  7.59  7.64  7.69  7.73  7.76  7.78  7.8   7.84\n",
      "  7.89  7.93  7.97  7.99  8.    8.03  8.08  8.12  8.17  8.19  8.2   8.22\n",
      "  8.26  8.33  8.4   8.46  8.51  8.54  8.56  8.6   8.64  8.7   8.75  8.8\n",
      "  8.85  8.91  8.97  9.05  9.12  9.19  9.24  9.3   9.35  9.4   9.45  9.52\n",
      "  9.61  9.72  9.85  9.97 10.06 10.1  10.1  10.08 10.05 10.03 10.    9.98\n",
      "  9.97  9.99 10.06 10.16 10.26 10.33 10.37 10.39 10.4  10.42 10.44 10.46\n",
      " 10.47 10.5  10.6  10.73 10.91 11.05 11.14 11.2  11.24 11.28 11.34 11.37\n",
      " 11.36 11.31 11.26 11.26 11.33 11.46 11.6  11.72 11.79 11.83 11.87 11.91\n",
      " 11.95 11.98 11.97 11.96 11.94 11.91 11.88 11.87 11.88 11.94 12.02 12.1\n",
      " 12.17 12.17 12.17 12.2  12.32 12.53 12.76 12.96 13.18 13.36 13.5  13.7\n",
      " 13.89 14.02 14.07 14.08 14.09 14.18 14.24 14.27 14.22 14.   13.87 13.9\n",
      " 14.07 14.29 14.54 14.53 14.32]\n",
      "[[1.63 1.63 1.63 1.63 1.63 1.63]\n",
      " [1.64 1.64 1.64 1.64 1.64 1.64]\n",
      " [1.7  1.7  1.7  1.7  1.7  1.7 ]\n",
      " [1.75 1.75 1.75 1.75 1.75 1.75]\n",
      " [1.64 1.64 1.64 1.64 1.64 1.64]]\n"
     ]
    }
   ],
   "source": [
    "from pandas import read_csv\n",
    "from numpy import set_printoptions\n",
    "from sklearn.feature_selection import SelectKBest\n",
    "from sklearn.feature_selection import f_classif\n",
    "# load data\n",
    "#filename = 'pima-indians-diabetes.data.csv'\n",
    "#names = ['preg', 'plas', 'pres', 'skin', 'test', 'mass', 'pedi', 'age', 'class']\n",
    "#dataframe = read_csv(filename, names=names)\n",
    "#array = dataframe.values\n",
    "#X = array[:,0:8]\n",
    "#Y = array[:,8]\n",
    "\n",
    "# feature extraction\n",
    "test = SelectKBest(score_func=f_classif, k=6) # 6 columns\n",
    "fit = test.fit(X, y)\n",
    "# summarize scores\n",
    "set_printoptions(precision=2)\n",
    "print(fit.scores_)\n",
    "features = fit.transform(X)\n",
    "# summarize selected features\n",
    "print(features[0:5,:])\n",
    "#features"
   ]
  },
  {
   "cell_type": "code",
   "execution_count": 62,
   "id": "e85908bc",
   "metadata": {},
   "outputs": [
    {
     "name": "stdout",
     "output_type": "stream",
     "text": [
      "[[1.63 1.63 1.63 1.63 1.63 1.63]\n",
      " [1.64 1.64 1.64 1.64 1.64 1.64]\n",
      " [1.7  1.7  1.7  1.7  1.7  1.7 ]\n",
      " [1.75 1.75 1.75 1.75 1.75 1.75]\n",
      " [1.64 1.64 1.64 1.64 1.64 1.64]\n",
      " [1.72 1.72 1.72 1.72 1.72 1.72]\n",
      " [1.63 1.64 1.63 1.63 1.63 1.64]\n",
      " [1.73 1.73 1.73 1.73 1.73 1.73]\n",
      " [1.63 1.63 1.63 1.63 1.63 1.63]\n",
      " [1.62 1.62 1.62 1.62 1.62 1.62]]\n"
     ]
    }
   ],
   "source": [
    "print(features[:10])"
   ]
  },
  {
   "cell_type": "code",
   "execution_count": 69,
   "id": "21d5d882",
   "metadata": {},
   "outputs": [],
   "source": [
    "# https://stackoverflow.com/questions/39839112/the-easiest-way-for-getting-feature-names-after-running-selectkbest-in-scikit-le\n",
    "mask = test.get_support()\n",
    "new_features = X1.columns[mask]"
   ]
  },
  {
   "cell_type": "code",
   "execution_count": 70,
   "id": "33bab24c",
   "metadata": {},
   "outputs": [
    {
     "data": {
      "text/plain": [
       "Index(['1058', '1059', '1065', '1066', '1067', '1068'], dtype='object')"
      ]
     },
     "execution_count": 70,
     "metadata": {},
     "output_type": "execute_result"
    }
   ],
   "source": [
    "new_features"
   ]
  },
  {
   "cell_type": "code",
   "execution_count": 54,
   "id": "9faffefd",
   "metadata": {},
   "outputs": [],
   "source": [
    "#SelectKBest class that can be used with a suite of different statistical tests to select a specific number of features.\n",
    "\n",
    "#You can see the scores for each attribute and the 4 attributes chosen (those with the highest scores). \n",
    "#Specifically features with indexes 0 (preq), 1 (plas), 5 (mass), and 7 (age)."
   ]
  },
  {
   "cell_type": "code",
   "execution_count": 71,
   "id": "07f9478e",
   "metadata": {},
   "outputs": [],
   "source": [
    "#Feature selection method: SelectKBest\n",
    "\n",
    "#Score function:\n",
    "#For regression: f_regression, mutual_info_regression\n",
    "#For classification: chi2, f_classif, mutual_info_classif"
   ]
  },
  {
   "cell_type": "code",
   "execution_count": null,
   "id": "0008ef1e",
   "metadata": {},
   "outputs": [],
   "source": []
  }
 ],
 "metadata": {
  "kernelspec": {
   "display_name": "Python 3",
   "language": "python",
   "name": "python3"
  },
  "language_info": {
   "codemirror_mode": {
    "name": "ipython",
    "version": 3
   },
   "file_extension": ".py",
   "mimetype": "text/x-python",
   "name": "python",
   "nbconvert_exporter": "python",
   "pygments_lexer": "ipython3",
   "version": "3.8.8"
  }
 },
 "nbformat": 4,
 "nbformat_minor": 5
}
