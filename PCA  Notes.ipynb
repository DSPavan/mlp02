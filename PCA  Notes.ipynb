{
 "cells": [
  {
   "cell_type": "code",
   "execution_count": 1,
   "id": "9f49d400",
   "metadata": {},
   "outputs": [],
   "source": [
    "#HOW DO YOU DO A PCA?\n",
    "\n",
    "#1. Standardize the range of continuous initial variables\n",
    "#2. Compute the covariance matrix to identify correlations\n",
    "#3. Compute the eigenvectors and eigenvalues of the covariance matrix to identify the principal components\n",
    "#4. Create a feature vector to decide which principal components to keep\n",
    "#5. Recast the data along the principal components axes"
   ]
  },
  {
   "cell_type": "code",
   "execution_count": 2,
   "id": "4e3c897f",
   "metadata": {},
   "outputs": [],
   "source": [
    "#  first principal component accounts for the largest possible variance in the data set.\n",
    "\n",
    "\n",
    "# The second principal component is calculated in the same way, with the condition that it is uncorrelated with\n",
    "#(i.e., perpendicular to) the first principal component and that it accounts for the next highest variance."
   ]
  },
  {
   "cell_type": "code",
   "execution_count": 3,
   "id": "9597ff9b",
   "metadata": {},
   "outputs": [],
   "source": [
    "#When enough features are not present in the data, the model is likely to underfit, and when data contains too many features, \n",
    "#it is expected to overfit or underfit. This phenomenon is known as the curse of dimensionality. "
   ]
  },
  {
   "cell_type": "code",
   "execution_count": 4,
   "id": "de2f7f1d",
   "metadata": {},
   "outputs": [],
   "source": [
    "\n",
    "# we apply dimensionality reduction \n",
    "# by selecting the optimal set of lower dimensionality features in order to improve classification accuracy."
   ]
  },
  {
   "cell_type": "code",
   "execution_count": 5,
   "id": "3f8abf03",
   "metadata": {},
   "outputs": [],
   "source": [
    "\n",
    "#Following are the techniques to perform the dimensionality reduction:\n",
    "\n",
    "#Feature Selection\n",
    "#Feature Extraction"
   ]
  },
  {
   "cell_type": "code",
   "execution_count": 6,
   "id": "8ec52842",
   "metadata": {},
   "outputs": [
    {
     "data": {
      "text/plain": [
       "[<matplotlib.lines.Line2D at 0x8bde3cff70>]"
      ]
     },
     "execution_count": 6,
     "metadata": {},
     "output_type": "execute_result"
    },
    {
     "data": {
      "image/png": "[encoded data removed]",
      "text/plain": [
       "<Figure size 360x360 with 1 Axes>"
      ]
     },
     "metadata": {},
     "output_type": "display_data"
    }
   ],
   "source": [
    "import matplotlib.pyplot as plt\n",
    "plt.style.use('fivethirtyeight')\n",
    "\n",
    "import numpy as np\n",
    "plt.figure(figsize=(5,5))\n",
    "plt.title(\n",
    "    \"Euclidean Distance between $[0]^{1 x n}$ and $[1]^{1 x n}$ for $n \\in \\{1, \\ldots, 10\\}$\"\n",
    ")\n",
    "plt.xlabel('$n$')\n",
    "plt.ylabel('$|| a - b ||_2$')\n",
    "plt.plot(range(1, 10), np.sqrt(range(1, 10)))"
   ]
  },
  {
   "cell_type": "code",
   "execution_count": 8,
   "id": "9335850c",
   "metadata": {},
   "outputs": [],
   "source": [
    "# Feature selection techniques\n",
    "\n",
    "#1. Low Variance filter\n",
    "#2. High Correlation filter\n",
    "#3. Multicollinearity  ( \n",
    "# Multicollinearity occurs when a high degree correlation occurs between two or more independent variables\n",
    "       #in a regression model.\n",
    "#It means that one independent variable can be determined or predicted from another independent variable.)  - Duplicate\n",
    "#4. Feature Ranking \n",
    "#  The lower-ranked variables in high dimensional data could be eliminated to reduce the dimensions.\n",
    "#5. Forward selection  \n",
    "# If there is a noticeable improvement in Adjusted-R2 values, then the variable is retained; else, it is discarded.\n",
    "    \n",
    "    \n",
    "#Actual Feature set ---> subset of Features\n",
    "\n"
   ]
  },
  {
   "cell_type": "code",
   "execution_count": 9,
   "id": "900bdfd6",
   "metadata": {},
   "outputs": [],
   "source": [
    "# Feature Extraction Methods\n",
    "\n",
    "#There are a number of feature extraction techniques such as:\n",
    "\n",
    "#Independent Component Analysis\n",
    "#Principal Component Analysis\n",
    "#Autoencoder\n",
    "#Partial Least Squares"
   ]
  },
  {
   "cell_type": "code",
   "execution_count": 10,
   "id": "78eeb21c",
   "metadata": {},
   "outputs": [],
   "source": [
    "# PCA\n",
    "#   find those valuable features \n",
    "# A dimensionality-reduction technique in which transformation of high dimensional correlated data\n",
    "#is performed into a lower-dimensional set of uncorrelated components also referred to as principal components.\n",
    "\n",
    "# HIGH DIM DATA -> LOW DIM DATA\n",
    "# HIGH CORR. DATA -> LOw or  UNCORR> DATA"
   ]
  },
  {
   "cell_type": "code",
   "execution_count": 11,
   "id": "647e7668",
   "metadata": {},
   "outputs": [],
   "source": [
    "# USE\n",
    "# 1. To decrease the number of dimensions in the dataset.\n",
    "# 2. To obtain a compact description"
   ]
  },
  {
   "cell_type": "code",
   "execution_count": 12,
   "id": "4f8a1b23",
   "metadata": {},
   "outputs": [],
   "source": [
    "\n",
    "#Eigenvectors determine the direction of the new attribute space, \n",
    "# and the magnitude is determined by eigenvalues. "
   ]
  },
  {
   "cell_type": "code",
   "execution_count": 13,
   "id": "cb61a0db",
   "metadata": {},
   "outputs": [
    {
     "name": "stdout",
     "output_type": "stream",
     "text": [
      "[[ 1  0]\n",
      " [ 0 -2]]\n"
     ]
    }
   ],
   "source": [
    "## A simple example depicting the calculation of eigenvalues and eigenvectors\n",
    "import numpy as np\n",
    "import matplotlib.pyplot as plt\n",
    "import scipy.linalg as la\n",
    "\n",
    "X = np.array([[1,0],[0,-2]])\n",
    "print(X)"
   ]
  },
  {
   "cell_type": "code",
   "execution_count": 15,
   "id": "5b3d2226",
   "metadata": {},
   "outputs": [
    {
     "name": "stdout",
     "output_type": "stream",
     "text": [
      "[ 1.+0.j -2.+0.j]\n",
      "[[1. 0.]\n",
      " [0. 1.]]\n"
     ]
    }
   ],
   "source": [
    "results = la.eig(X)\n",
    "print(results[0]) # The eigenvalues of the matrix X are as:  MAGNITUDE\n",
    "print(results[1])  # The corresponding eigenvectors are as:  DIRECTION"
   ]
  },
  {
   "cell_type": "code",
   "execution_count": 16,
   "id": "f94eb7b0",
   "metadata": {},
   "outputs": [],
   "source": [
    "# Noise Reduction:\n",
    "# Image Compression\n",
    "# Face Recognition:"
   ]
  },
  {
   "cell_type": "code",
   "execution_count": 18,
   "id": "04d5074d",
   "metadata": {},
   "outputs": [],
   "source": [
    "# BIPLOT\n",
    "\n",
    "# On PC1, LONG LENGTH\n",
    "# on PC@, LONG LENGTH"
   ]
  },
  {
   "cell_type": "code",
   "execution_count": 19,
   "id": "c39916df",
   "metadata": {},
   "outputs": [],
   "source": [
    "#You probably notice that a PCA biplot simply merge an usual PCA plot with a plot of loadings. The arrangement is like this:\n",
    "\n",
    "#Bottom axis: PC1 score.\n",
    "#Left axis: PC2 score.\n",
    "#Top axis: loadings on PC1.\n",
    "#Right axis: loadings on PC2."
   ]
  },
  {
   "cell_type": "code",
   "execution_count": null,
   "id": "11c4b1d5",
   "metadata": {},
   "outputs": [],
   "source": []
  }
 ],
 "metadata": {
  "kernelspec": {
   "display_name": "Python 3",
   "language": "python",
   "name": "python3"
  },
  "language_info": {
   "codemirror_mode": {
    "name": "ipython",
    "version": 3
   },
   "file_extension": ".py",
   "mimetype": "text/x-python",
   "name": "python",
   "nbconvert_exporter": "python",
   "pygments_lexer": "ipython3",
   "version": "3.8.8"
  }
 },
 "nbformat": 4,
 "nbformat_minor": 5
}
