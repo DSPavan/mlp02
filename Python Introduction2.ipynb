{
 "cells": [
  {
   "cell_type": "code",
   "execution_count": 7,
   "id": "b317de34",
   "metadata": {},
   "outputs": [
    {
     "name": "stdout",
     "output_type": "stream",
     "text": [
      "variable  100\n",
      "100\n"
     ]
    }
   ],
   "source": [
    "#IF - ELSE\n",
    "var1 = 100\n",
    "if var1:\n",
    "   print(\"variable \", var1)\n",
    "   print(var1)\n",
    "   \n",
    "#Note : No curly brackets"
   ]
  },
  {
   "cell_type": "code",
   "execution_count": 3,
   "id": "08254f2d",
   "metadata": {},
   "outputs": [],
   "source": [
    "var1 = 45\n",
    "if var1 > 51:\n",
    "    print(\"Higher than 50, actual data is\", var1)\n",
    "    \n",
    "## NO output. WE need another condition"
   ]
  },
  {
   "cell_type": "code",
   "execution_count": 4,
   "id": "79591bd5",
   "metadata": {},
   "outputs": [
    {
     "name": "stdout",
     "output_type": "stream",
     "text": [
      "less than 50\n"
     ]
    }
   ],
   "source": [
    "# if-else    \n",
    "var2 = 45    \n",
    "if var2 > 50:\n",
    "    print(\"Higher than 50, actual data is\")\n",
    "else:\n",
    "    print (\"less than 50\")\n"
   ]
  },
  {
   "cell_type": "code",
   "execution_count": 5,
   "id": "07698bd3",
   "metadata": {},
   "outputs": [
    {
     "name": "stdout",
     "output_type": "stream",
     "text": [
      "3 = above 100\n",
      "130\n"
     ]
    }
   ],
   "source": [
    "# If - elif - else\n",
    "var = 130\n",
    "if var >= 200:\n",
    "   print(\"1 = above 200\")\n",
    "   print(var)\n",
    "elif var >= 150:\n",
    "   print(\"2 = above 150\")\n",
    "   print(var)\n",
    "elif var >= 100:\n",
    "   print (\"3 = above 100\")\n",
    "   print (var)\n",
    "else:\n",
    "   print (\"4 = less than 100\")\n",
    "   print (var)"
   ]
  },
  {
   "cell_type": "code",
   "execution_count": 6,
   "id": "6896a699",
   "metadata": {},
   "outputs": [
    {
     "name": "stdout",
     "output_type": "stream",
     "text": [
      "Above\n",
      "-19\n"
     ]
    }
   ],
   "source": [
    "## Nested\n",
    "varA = 101\n",
    "varB = 120\n",
    "\n",
    "if varA > 100:\n",
    "    print(\"Above\")\n",
    "    if varB > 150:\n",
    "        print(varA+varB)\n",
    "    else:\n",
    "        print(varA-varB)\n",
    "        \n",
    "else:\n",
    "    print (\"Below -  No calculation on this combination\")   \n",
    "\t \n",
    "# Note: Importance of Indentation. Need more explanation to students"
   ]
  },
  {
   "cell_type": "code",
   "execution_count": 8,
   "id": "e227a26e",
   "metadata": {},
   "outputs": [
    {
     "name": "stdout",
     "output_type": "stream",
     "text": [
      "Current fruit : banana\n",
      "Current fruit : apple\n",
      "Current fruit : mango\n"
     ]
    }
   ],
   "source": [
    "# FOR LOOP\n",
    "fruits = ['banana', 'apple',  'mango']\n",
    "for fruit in fruits:        \n",
    "   print ('Current fruit :', fruit)"
   ]
  },
  {
   "cell_type": "code",
   "execution_count": 9,
   "id": "7b14e903",
   "metadata": {},
   "outputs": [
    {
     "name": "stdout",
     "output_type": "stream",
     "text": [
      "Current fruit : banana\n",
      "Current fruit : apple\n",
      "Current fruit : mango\n"
     ]
    }
   ],
   "source": [
    "for index in range(len(fruits)):\n",
    "   print ('Current fruit :', fruits[index])"
   ]
  },
  {
   "cell_type": "code",
   "execution_count": 10,
   "id": "cdffa47f",
   "metadata": {},
   "outputs": [
    {
     "name": "stdout",
     "output_type": "stream",
     "text": [
      "Prime numbers between 10 and 20 are:\n",
      "11 is a prime number \n",
      "\n",
      "13 is a prime number \n",
      "\n",
      "17 is a prime number \n",
      "\n",
      "19 is a prime number \n",
      "\n"
     ]
    }
   ],
   "source": [
    "## For Loop and Else\n",
    "lower = 10\n",
    "upper = 20\n",
    "\n",
    "print(\"Prime numbers between\",lower,\"and\",upper,\"are:\")\n",
    "\n",
    "for num in range(lower,upper):\n",
    "   for i in range(2,num):\n",
    "      if (num % i) == 0:\n",
    "         break\n",
    "   else:\n",
    "       print( '%d is a prime number \\n' %(num),  )\n",
    "        \n",
    "\n",
    "# explain – Else, and problem with indentation !!"
   ]
  },
  {
   "cell_type": "code",
   "execution_count": 11,
   "id": "932cdb79",
   "metadata": {},
   "outputs": [
    {
     "name": "stdout",
     "output_type": "stream",
     "text": [
      "{1: 'Python', 2: 'R script', 3: 'SAS', 4: 'Java'}\n",
      "1 = Python\n",
      "2 = R script\n",
      "3 = SAS\n",
      "4 = Java\n",
      "done\n"
     ]
    }
   ],
   "source": [
    "# For loop for Dict\n",
    "# dictionary with integer keys\n",
    "my_dict = {1: 'Python', 2: 'R script', 3:'SAS',4:'Java'}\n",
    "print(my_dict)\n",
    "for k, v in my_dict.items():\n",
    "    print(k,\"=\",v)\n",
    "\n",
    "print(\"done\")"
   ]
  },
  {
   "cell_type": "code",
   "execution_count": 12,
   "id": "b88de14d",
   "metadata": {},
   "outputs": [
    {
     "name": "stdout",
     "output_type": "stream",
     "text": [
      "1 corresponds to  Python\n",
      "2 corresponds to  R script\n",
      "3 corresponds to  SAS\n",
      "4 corresponds to  Java\n"
     ]
    }
   ],
   "source": [
    "for key, vak in my_dict.items():\n",
    "     print(key, 'corresponds to ',my_dict[key])"
   ]
  },
  {
   "cell_type": "code",
   "execution_count": 13,
   "id": "abe419fb",
   "metadata": {},
   "outputs": [
    {
     "name": "stdout",
     "output_type": "stream",
     "text": [
      "1 corresponds to  Python\n"
     ]
    }
   ],
   "source": [
    "for key, vak in my_dict.items():\n",
    "    if(my_dict[key]==\"Python\"):\n",
    "        print(key, 'corresponds to ',my_dict[key]) \n",
    "    else:\n",
    "        pass"
   ]
  },
  {
   "cell_type": "code",
   "execution_count": 14,
   "id": "70dc86c9",
   "metadata": {},
   "outputs": [
    {
     "name": "stdout",
     "output_type": "stream",
     "text": [
      "1  ::  Python\n",
      "2  ::  R script\n",
      "3  ::  SAS\n",
      "4  ::  Java\n"
     ]
    }
   ],
   "source": [
    "# Not efficient, but works !!\n",
    "for key in my_dict:\n",
    "    value = my_dict[key]\n",
    "    print(key, \" :: \", value)"
   ]
  },
  {
   "cell_type": "code",
   "execution_count": 15,
   "id": "51925802",
   "metadata": {},
   "outputs": [
    {
     "name": "stdout",
     "output_type": "stream",
     "text": [
      "The count is: 0\n",
      "The count is: 1\n",
      "The count is: 2\n",
      "The count is: 3\n",
      "The count is: 4\n",
      "The count is: 5\n",
      "The count is: 6\n",
      "The count is: 7\n",
      "The count is: 8\n"
     ]
    }
   ],
   "source": [
    "# WHILE Loop\n",
    "# while - Condition\n",
    "\n",
    "count = 0\n",
    "\n",
    "while (count < 9):\n",
    "   print ('The count is:', count)\n",
    "   count = count + 1\n",
    "\n",
    "# care about infinity loop"
   ]
  },
  {
   "cell_type": "code",
   "execution_count": 16,
   "id": "3acba769",
   "metadata": {},
   "outputs": [
    {
     "name": "stdout",
     "output_type": "stream",
     "text": [
      "0  is  less than 5\n",
      "1  is  less than 5\n",
      "2  is  less than 5\n",
      "3  is  less than 5\n",
      "4  is  less than 5\n",
      "5  is not less than 5\n"
     ]
    }
   ],
   "source": [
    "\n",
    "#while - else\n",
    "count = 0\n",
    "while count < 5:\n",
    "   print (count, \" is  less than 5\")\n",
    "   count = count + 1\n",
    "else:\n",
    "   print (count, \" is not less than 5\")"
   ]
  },
  {
   "cell_type": "code",
   "execution_count": 17,
   "id": "0d635a58",
   "metadata": {},
   "outputs": [
    {
     "name": "stdout",
     "output_type": "stream",
     "text": [
      "Current variable value : 10\n",
      "Current variable value : 9\n",
      "Current variable value : 8\n",
      "Current variable value : 7\n",
      "Current variable value : 6\n"
     ]
    }
   ],
   "source": [
    "# Break, Continue, Pass\n",
    "var = 10                    # Second Example\n",
    "while var > 0:              \n",
    "   print ('Current variable value :', var)\n",
    "   var = var -1\n",
    "   if var == 5:\n",
    "      break"
   ]
  },
  {
   "cell_type": "code",
   "execution_count": 18,
   "id": "108094c8",
   "metadata": {},
   "outputs": [
    {
     "name": "stdout",
     "output_type": "stream",
     "text": [
      "Current variable value : 9\n",
      "Current variable value : 8\n",
      "Current variable value : 7\n",
      "Current variable value : 6\n",
      "Current variable value : 4\n",
      "Current variable value : 3\n",
      "Current variable value : 2\n",
      "Current variable value : 1\n",
      "Current variable value : 0\n"
     ]
    }
   ],
   "source": [
    "var = 10                    # Second Example\n",
    "while var > 0:              \n",
    "   var = var -1\n",
    "   if var == 5:\n",
    "      continue\n",
    "   print ('Current variable value :', var  )"
   ]
  },
  {
   "cell_type": "code",
   "execution_count": 19,
   "id": "49eed63d",
   "metadata": {},
   "outputs": [
    {
     "name": "stdout",
     "output_type": "stream",
     "text": [
      "{1: 'Python', 2: 'R script', 3: 'SAS', 4: 'Java'}\n",
      "1 Python\n",
      "2 R script\n",
      "3 SAS\n",
      "4 Java\n"
     ]
    }
   ],
   "source": [
    "# Complex way !!! but possible from \"while\"\n",
    "\n",
    "my_dict = {1: 'Python', 2: 'R script', 3:'SAS',4:'Java'}\n",
    "print(my_dict)\n",
    "\n",
    "while my_dict:\n",
    "  x = next(x for x in my_dict)\n",
    "  print(x, my_dict.pop(x))\n",
    "    "
   ]
  },
  {
   "cell_type": "code",
   "execution_count": null,
   "id": "341ff2ba",
   "metadata": {},
   "outputs": [],
   "source": []
  }
 ],
 "metadata": {
  "kernelspec": {
   "display_name": "Python 3",
   "language": "python",
   "name": "python3"
  },
  "language_info": {
   "codemirror_mode": {
    "name": "ipython",
    "version": 3
   },
   "file_extension": ".py",
   "mimetype": "text/x-python",
   "name": "python",
   "nbconvert_exporter": "python",
   "pygments_lexer": "ipython3",
   "version": "3.8.8"
  }
 },
 "nbformat": 4,
 "nbformat_minor": 5
}
