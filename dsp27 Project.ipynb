{
 "cells": [
  {
   "cell_type": "raw",
   "id": "54cc29f1",
   "metadata": {},
   "source": [
    "#  PROJECT FILE - DSP27\n",
    "\n",
    "1. PAYSIM: https://www.kaggle.com/ealaxi/paysim1\n",
    "        https://drive.google.com/file/d/19X_X3OfEqCJPlzIZx5IiAh4Vf5no6Vlm/view?usp=sharing\n",
    "        \n",
    "2. BANK SEGMENTATION : https://www.kaggle.com/shivamb/bank-customer-segmentation\n",
    "        https://drive.google.com/file/d/19X_X3OfEqCJPlzIZx5IiAh4Vf5no6Vlm/view?usp=sharing\n",
    "        \n",
    "3.  https://www.kaggle.com/prakharrathi25/banking-dataset-marketing-targets\n",
    "    \n",
    "    https://drive.google.com/file/d/1IXyZlN4N0NN12BhntW_wn-qdNjHd-dEj/view?usp=sharing\n",
    "   \n",
    "\n"
   ]
  },
  {
   "cell_type": "code",
   "execution_count": null,
   "id": "7cd0ee14",
   "metadata": {},
   "outputs": [],
   "source": []
  }
 ],
 "metadata": {
  "kernelspec": {
   "display_name": "Python 3",
   "language": "python",
   "name": "python3"
  },
  "language_info": {
   "codemirror_mode": {
    "name": "ipython",
    "version": 3
   },
   "file_extension": ".py",
   "mimetype": "text/x-python",
   "name": "python",
   "nbconvert_exporter": "python",
   "pygments_lexer": "ipython3",
   "version": "3.8.8"
  }
 },
 "nbformat": 4,
 "nbformat_minor": 5
}
