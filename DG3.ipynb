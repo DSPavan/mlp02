{
 "cells": [
  {
   "cell_type": "code",
   "execution_count": 2,
   "id": "b8b2d2c6",
   "metadata": {},
   "outputs": [
    {
     "name": "stdout",
     "output_type": "stream",
     "text": [
      "      exam_1     exam_2  admitted\n",
      "0  34.623660  78.024693         0\n",
      "1  30.286711  43.894998         0\n"
     ]
    }
   ],
   "source": [
    "# Data Manupulation\n",
    "import numpy as np\n",
    "import pandas as pd\n",
    "# Plotting graphs\n",
    "import matplotlib.pyplot as plt\n",
    "\n",
    "# CSV File - Read\n",
    "df = pd.read_csv('C:\\\\Users\\\\radha\\\\Desktop\\\\dsp27 Class\\\\marks.csv')\n",
    "#  ,header=None ,skiprows=1 , names=['Cal', 'Pr', 'Fat', 'sod', 'Fib', 'Rting']\n",
    "print(df.head(2))\n",
    "\n"
   ]
  },
  {
   "cell_type": "code",
   "execution_count": 4,
   "id": "ed71d2a1",
   "metadata": {},
   "outputs": [],
   "source": [
    "X = df.iloc[:, 0]\n",
    "y = df.iloc[:, 1]"
   ]
  },
  {
   "cell_type": "code",
   "execution_count": 15,
   "id": "fae5c549",
   "metadata": {},
   "outputs": [],
   "source": [
    "# https://www.kaggle.com/residentmario/gradient-descent-with-linear-regression\n",
    "import numpy as np\n",
    "\n",
    "\n",
    "    \n",
    "def fit(X, y):\n",
    "    b = 0\n",
    "    m = 0\n",
    "    n = X.shape[0]\n",
    "    print(n)\n",
    "    learning_rate=0.001\n",
    "    iterations=1000\n",
    "    for x1 in range(iterations):\n",
    "        yi = m*X + b\n",
    "        b_gradient = (-2 * np.sum(y - yi ) )/n\n",
    "        m_gradient = (-2 * np.sum(X*(y - yi)))/n\n",
    "        #print(m_gradient)\n",
    "        b = b - (learning_rate * b_gradient)\n",
    "        m = m - (learning_rate * m_gradient)\n",
    "        return(m,b)\n",
    "\n",
    "def predict(x,m,b):\n",
    "    return m*X + b"
   ]
  },
  {
   "cell_type": "code",
   "execution_count": 16,
   "id": "887b79dd",
   "metadata": {},
   "outputs": [
    {
     "name": "stdout",
     "output_type": "stream",
     "text": [
      "100\n"
     ]
    },
    {
     "data": {
      "text/plain": [
       "(8.6772474616335, 0.1324439961762339)"
      ]
     },
     "execution_count": 16,
     "metadata": {},
     "output_type": "execute_result"
    }
   ],
   "source": [
    "d2 = fit(X, y)\n",
    "d2"
   ]
  },
  {
   "cell_type": "code",
   "execution_count": 17,
   "id": "5f7bbd8b",
   "metadata": {},
   "outputs": [
    {
     "data": {
      "text/plain": [
       "0     13.262943\n",
       "1     12.688540\n",
       "2     13.425022\n",
       "3     16.648071\n",
       "4     19.144659\n",
       "        ...    \n",
       "95    19.734886\n",
       "96    14.274556\n",
       "97    21.830924\n",
       "98    16.006701\n",
       "99    18.580866\n",
       "Name: exam_1, Length: 100, dtype: float64"
      ]
     },
     "execution_count": 17,
     "metadata": {},
     "output_type": "execute_result"
    }
   ],
   "source": [
    "b= 8.6772474616335\n",
    "m = 0.1324439961762339\n",
    "predict(X,m,b)"
   ]
  },
  {
   "cell_type": "code",
   "execution_count": 18,
   "id": "873c8ac9",
   "metadata": {},
   "outputs": [
    {
     "data": {
      "text/plain": [
       "Text(0.5, 1.0, 'Gradient Descent Linear Regressor')"
      ]
     },
     "execution_count": 18,
     "metadata": {},
     "output_type": "execute_result"
    },
    {
     "data": {
      "image/png": "[encoded data removed]",
      "text/plain": [
       "<Figure size 432x288 with 1 Axes>"
      ]
     },
     "metadata": {},
     "output_type": "display_data"
    }
   ],
   "source": [
    "import matplotlib.pyplot as plt\n",
    "plt.style.use('fivethirtyeight')\n",
    "\n",
    "##plt.scatter(A1, A1, color='black')\n",
    "plt.plot(X, predict(X,m,b),  color='red')\n",
    "plt.gca().set_title(\"Gradient Descent Linear Regressor\")"
   ]
  },
  {
   "cell_type": "code",
   "execution_count": null,
   "id": "86a2b390",
   "metadata": {},
   "outputs": [],
   "source": []
  }
 ],
 "metadata": {
  "kernelspec": {
   "display_name": "Python 3",
   "language": "python",
   "name": "python3"
  },
  "language_info": {
   "codemirror_mode": {
    "name": "ipython",
    "version": 3
   },
   "file_extension": ".py",
   "mimetype": "text/x-python",
   "name": "python",
   "nbconvert_exporter": "python",
   "pygments_lexer": "ipython3",
   "version": "3.8.8"
  }
 },
 "nbformat": 4,
 "nbformat_minor": 5
}
