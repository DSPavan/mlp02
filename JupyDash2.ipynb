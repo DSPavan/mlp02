{
 "cells": [
  {
   "cell_type": "code",
   "execution_count": 1,
   "id": "2b783e79",
   "metadata": {},
   "outputs": [],
   "source": [
    "# Chart Studio > Jupyter Notebook Tutorial"
   ]
  },
  {
   "cell_type": "code",
   "execution_count": 11,
   "id": "96d90ead",
   "metadata": {},
   "outputs": [],
   "source": [
    "import pandas as pd\n",
    "import numpy as np\n",
    "import scipy as sp\n",
    "import chart_studio.plotly as py"
   ]
  },
  {
   "cell_type": "code",
   "execution_count": 12,
   "id": "1e81cf56",
   "metadata": {},
   "outputs": [],
   "source": [
    "import chart_studio\n",
    "chart_studio.tools.set_credentials_file(username='', api_key='')\n",
    "# Plotly chart_studio"
   ]
  },
  {
   "cell_type": "code",
   "execution_count": 16,
   "id": "5075b15d",
   "metadata": {},
   "outputs": [
    {
     "data": {
      "text/html": [
       "\n",
       "        <iframe\n",
       "            width=\"100%\"\n",
       "            height=\"2300px\"\n",
       "            src=\"https://plotly.com/~gpavankumar1974/48.embed\"\n",
       "            frameborder=\"0\"\n",
       "            allowfullscreen\n",
       "        ></iframe>\n",
       "        "
      ],
      "text/plain": [
       "<IPython.lib.display.IFrame at 0xc1b6f02c70>"
      ]
     },
     "execution_count": 16,
     "metadata": {},
     "output_type": "execute_result"
    }
   ],
   "source": [
    "import chart_studio.plotly as py\n",
    "import plotly.figure_factory as ff\n",
    "import pandas as pd\n",
    "from plotly.offline import iplot\n",
    "\n",
    "df = pd.read_csv('C:\\\\Users\\\\radha\\\\Desktop\\\\dsp27 Class\\\\cerealspga05.csv')\n",
    "\n",
    "table = ff.create_table(df)\n",
    "# PlotlyRequestError: Authentication credentials were not provided.\n",
    "\n",
    "py.iplot(table, filename='cerealspga05')\n",
    "\n",
    "# pip install cufflinks"
   ]
  },
  {
   "cell_type": "code",
   "execution_count": 14,
   "id": "72fcfdb1",
   "metadata": {},
   "outputs": [
    {
     "data": {
      "text/plain": [
       "'100%_Bran'"
      ]
     },
     "execution_count": 14,
     "metadata": {},
     "output_type": "execute_result"
    }
   ],
   "source": [
    "# Use dataframe.column_title to index the dataframe:\n",
    "schools = df.name\n",
    "schools[0]"
   ]
  },
  {
   "cell_type": "code",
   "execution_count": 15,
   "id": "05f630fe",
   "metadata": {},
   "outputs": [
    {
     "data": {
      "text/html": [
       "\n",
       "        <iframe\n",
       "            width=\"100%\"\n",
       "            height=\"525px\"\n",
       "            src=\"https://plotly.com/~gpavankumar1974/50.embed\"\n",
       "            frameborder=\"0\"\n",
       "            allowfullscreen\n",
       "        ></iframe>\n",
       "        "
      ],
      "text/plain": [
       "<IPython.lib.display.IFrame at 0xc1b6f021c0>"
      ]
     },
     "execution_count": 15,
     "metadata": {},
     "output_type": "execute_result"
    }
   ],
   "source": [
    "\n",
    "import chart_studio.plotly as py\n",
    "import plotly.graph_objects as go\n",
    "\n",
    "data = [go.Bar(x=df.name,\n",
    "            y=df.rating)]\n",
    "\n",
    "py.iplot(data, filename='cerealspga05_jupyter-basic_bar')"
   ]
  },
  {
   "cell_type": "code",
   "execution_count": 17,
   "id": "c0188ded",
   "metadata": {},
   "outputs": [],
   "source": [
    "# https://chart-studio.plotly.com/Auth/login/?next=%2Fsettings%2Fapi#/"
   ]
  },
  {
   "cell_type": "code",
   "execution_count": 22,
   "id": "94173c84",
   "metadata": {},
   "outputs": [
    {
     "data": {
      "text/html": [
       "\n",
       "        <iframe\n",
       "            width=\"100%\"\n",
       "            height=\"525px\"\n",
       "            src=\"https://plotly.com/~gpavankumar1974/6.embed\"\n",
       "            frameborder=\"0\"\n",
       "            allowfullscreen\n",
       "        ></iframe>\n",
       "        "
      ],
      "text/plain": [
       "<IPython.lib.display.IFrame at 0xc1b691ef40>"
      ]
     },
     "execution_count": 22,
     "metadata": {},
     "output_type": "execute_result"
    }
   ],
   "source": [
    "import chart_studio.plotly as py\n",
    "import plotly.graph_objects as go\n",
    "\n",
    "trace_rating = go.Bar(x=df.name,\n",
    "                  y=df.rating,\n",
    "                  name='Rating',\n",
    "                  marker=dict(color='red'))\n",
    "\n",
    "trace_calories = go.Bar(x=df.name,\n",
    "                y=df.calories,\n",
    "                name='calories',\n",
    "                marker=dict(color='blue'))\n",
    "\n",
    "trace_protein = go.Bar(x=df.name,\n",
    "                y=df.protein,\n",
    "                name='Protein',\n",
    "                marker=dict(color='green'))\n",
    "\n",
    "data = [trace_rating, trace_calories, trace_protein]\n",
    "\n",
    "layout = go.Layout(title=\"FULL \",\n",
    "                xaxis=dict(title='Types'),\n",
    "                yaxis=dict(title='RATING (in percentage)'))\n",
    "\n",
    "fig = go.Figure(data=data, layout=layout)\n",
    "\n",
    "py.iplot(fig,  filename='jupyter-styled_bar')"
   ]
  },
  {
   "cell_type": "code",
   "execution_count": null,
   "id": "149489b4",
   "metadata": {},
   "outputs": [],
   "source": [
    "df = pd.read_csv('C:\\\\Users\\\\radha\\\\Desktop\\\\dsp27 Class\\\\cerealspga05.csv')\n",
    "newdf = df.loc[:,['calories','protein','fat','sodium','fiber','carbo','sugars','potass','vitamins','rating']]\n",
    "# X = feature values, all the columns except the last column\n",
    "X = newdf.iloc[:, [0,1,4,6]]\n",
    "# y = target values, last column of the data frame\n",
    "y = newdf.iloc[:, -1]\n",
    "\n",
    "split = int(0.8*len(newdf))\n",
    "X_train, X_test, y_train, y_test = X[:split], X[split:], y[:split], y[split:]"
   ]
  },
  {
   "cell_type": "code",
   "execution_count": 39,
   "id": "36a8bebf",
   "metadata": {},
   "outputs": [
    {
     "data": {
      "text/html": [
       "\n",
       "        <iframe\n",
       "            width=\"100%\"\n",
       "            height=\"650\"\n",
       "            src=\"http://127.0.0.1:8051/\"\n",
       "            frameborder=\"0\"\n",
       "            allowfullscreen\n",
       "        ></iframe>\n",
       "        "
      ],
      "text/plain": [
       "<IPython.lib.display.IFrame at 0xc1b62a6820>"
      ]
     },
     "metadata": {},
     "output_type": "display_data"
    }
   ],
   "source": [
    "import dash\n",
    "import dash_core_components as dcc\n",
    "import dash_html_components as html\n",
    "from dash.dependencies import Input, Output\n",
    "import numpy as np\n",
    "import plotly.graph_objects as go\n",
    "import plotly.express as px\n",
    "from sklearn.model_selection import train_test_split\n",
    "from sklearn import linear_model, tree, neighbors\n",
    "from jupyter_dash import JupyterDash\n",
    "\n",
    "\n",
    "df = pd.read_csv('C:\\\\Users\\\\radha\\\\Desktop\\\\dsp27 Class\\\\cerealspga05.csv')\n",
    "newdf = df.loc[:,['calories','protein','fat','sodium','fiber','carbo','sugars','potass','vitamins','rating']]\n",
    "# X = feature values, all the columns except the last column\n",
    "X = newdf.iloc[:, [0]]\n",
    "# y = target values, last column of the data frame\n",
    "y = newdf.iloc[:, -1]\n",
    "\n",
    "#split = int(0.8*len(newdf))\n",
    "#X_train, X_test, y_train, y_test = X[:split], X[split:], y[:split], y[split:]\n",
    "\n",
    "\n",
    "from sklearn.model_selection import train_test_split\n",
    "X_train,X_test,y_train,y_test = train_test_split(X,y,test_size=0.3,random_state=42)\n",
    "\n",
    "# https://plotly.com/python/ml-regression/\n",
    "\n",
    "models = {'Regression': linear_model.LinearRegression,\n",
    "          'Decision Tree': tree.DecisionTreeRegressor,\n",
    "          'k-NN': neighbors.KNeighborsRegressor}\n",
    "\n",
    "app = JupyterDash(__name__)\n",
    "\n",
    "app.layout = html.Div([\n",
    "    html.P(\"Select Model:\"),\n",
    "    dcc.Dropdown(\n",
    "        id='model-name',\n",
    "        options=[{'label': x, 'value': x} \n",
    "                 for x in models],\n",
    "        value='Regression',\n",
    "        clearable=False\n",
    "    ),\n",
    "    dcc.Graph(id=\"graph\"),\n",
    "])\n",
    "\n",
    "@app.callback(\n",
    "    Output(\"graph\", \"figure\"), \n",
    "    [Input('model-name', \"value\")])\n",
    "\n",
    "def train_and_display(name):\n",
    "    model = models[name]()\n",
    "    model.fit(X_train, y_train)\n",
    "\n",
    "    x_range = np.linspace(0, 200, 100)\n",
    "    y_range = model.predict(x_range.reshape(-1, 1))\n",
    "\n",
    "    fig = go.Figure([\n",
    "        go.Scatter(x=X_train.squeeze(), y=y_train, \n",
    "                   name='train', mode='markers'),\n",
    "        go.Scatter(x=X_test.squeeze(), y=y_test, \n",
    "                   name='test', mode='markers'),\n",
    "        go.Scatter(x=x_range, y=y_range, \n",
    "                  name='prediction')\n",
    "    ])\n",
    "\n",
    "    return fig\n",
    "\n",
    "\n",
    "#if __name__ == '__main__':\n",
    "#    app.run_server(debug=True, port=8051) # or whatever you choose\n",
    "app.run_server(mode='inline',port=8051)\n",
    "\n",
    "\n"
   ]
  },
  {
   "cell_type": "code",
   "execution_count": null,
   "id": "ec85b2bb",
   "metadata": {},
   "outputs": [],
   "source": []
  },
  {
   "cell_type": "code",
   "execution_count": null,
   "id": "c3336406",
   "metadata": {},
   "outputs": [],
   "source": []
  }
 ],
 "metadata": {
  "kernelspec": {
   "display_name": "Python 3",
   "language": "python",
   "name": "python3"
  },
  "language_info": {
   "codemirror_mode": {
    "name": "ipython",
    "version": 3
   },
   "file_extension": ".py",
   "mimetype": "text/x-python",
   "name": "python",
   "nbconvert_exporter": "python",
   "pygments_lexer": "ipython3",
   "version": "3.8.8"
  }
 },
 "nbformat": 4,
 "nbformat_minor": 5
}
