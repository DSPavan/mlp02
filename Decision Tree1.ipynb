{
 "cells": [
  {
   "cell_type": "code",
   "execution_count": null,
   "id": "0ed05ed6",
   "metadata": {},
   "outputs": [],
   "source": [
    "# DECISION TREE\n",
    "# Concepts of EMSEMBLE\n",
    "# HYPER PARAMETERS\n",
    "# BAGGING, EXTRATREES, RANDOM FOREST\n",
    "# BOOSTING, ADABOOST, GRADIENT"
   ]
  },
  {
   "cell_type": "code",
   "execution_count": 3,
   "id": "ed1947ba",
   "metadata": {},
   "outputs": [
    {
     "name": "stdout",
     "output_type": "stream",
     "text": [
      ">>>>> Trained fruit_classifier <<<<<\n",
      "DecisionTreeClassifier()\n"
     ]
    }
   ],
   "source": [
    "# Required Python Packages\n",
    "import pandas as pd\n",
    "import numpy as np\n",
    "from sklearn import tree\n",
    "# creating dataset for modeling Apple / Orange classification\n",
    "fruit_data_set = pd.DataFrame()\n",
    "fruit_data_set[\"fruit\"] = np.array([1, 1, 1, 1, 1,      # 1 for apple\n",
    "                                    0, 0, 0, 0, 0])     # 0 for orange\n",
    "fruit_data_set[\"weight\"] = np.array([170, 175, 180, 178, 182,\n",
    "                                     130, 120, 130, 138, 145])\n",
    "fruit_data_set[\"smooth\"] = np.array([9, 10, 8, 8, 7,\n",
    "                                     3, 4, 2, 5, 6])\n",
    "\n",
    "fruit_classifier = tree.DecisionTreeClassifier()\n",
    "fruit_classifier.fit(fruit_data_set[[\"weight\", \"smooth\"]], fruit_data_set[\"fruit\"])\n",
    "\n",
    "print(\">>>>> Trained fruit_classifier <<<<<\")\n",
    "print(fruit_classifier)"
   ]
  },
  {
   "cell_type": "code",
   "execution_count": 4,
   "id": "d57c674f",
   "metadata": {},
   "outputs": [
    {
     "name": "stdout",
     "output_type": "stream",
     "text": [
      "Actual fruit type: 1 , Fruit classifier predicted: [1]\n"
     ]
    }
   ],
   "source": [
    "# fruit data set 1st observation\n",
    "test_features_1 = [[fruit_data_set[\"weight\"][0], fruit_data_set[\"smooth\"][0]]]\n",
    "test_features_1_fruit = fruit_classifier.predict(test_features_1)\n",
    "print (\"Actual fruit type: {act_fruit} , Fruit classifier predicted: {predicted_fruit}\".format(\n",
    "    act_fruit=fruit_data_set[\"fruit\"][0], predicted_fruit=test_features_1_fruit))"
   ]
  },
  {
   "cell_type": "code",
   "execution_count": null,
   "id": "9100ed41",
   "metadata": {},
   "outputs": [],
   "source": [
    "#sklearn.externals.six\n",
    "\n",
    "# pydotplus\n"
   ]
  },
  {
   "cell_type": "code",
   "execution_count": null,
   "id": "8baa8921",
   "metadata": {},
   "outputs": [],
   "source": [
    "# May Not work/ may create issue with your OS !! Try alternative\n",
    "#pip install pydotplus\n",
    "# working PIP\n",
    "# InvocationException: GraphViz's executables not found\n",
    "\n",
    "# download and install Graphviz"
   ]
  },
  {
   "cell_type": "code",
   "execution_count": null,
   "id": "25de94c4",
   "metadata": {},
   "outputs": [],
   "source": [
    "#conda install graphviz\n",
    "# anaconda prompt - Run as administrator"
   ]
  },
  {
   "cell_type": "code",
   "execution_count": 12,
   "id": "d1897198",
   "metadata": {},
   "outputs": [],
   "source": [
    "from six import StringIO\n",
    "#from sklearn.externals.six import StringIO  \n",
    "from IPython.display import Image  \n",
    "from sklearn.tree import export_graphviz\n",
    "import pydotplus\n",
    "\n",
    "from sklearn import tree\n",
    "\n",
    "with open(\"fruit_classifier.txt\", \"w\") as f:\n",
    "    f = tree.export_graphviz(fruit_classifier, out_file=f)\n",
    "\n",
    "dot_data = StringIO()\n",
    "export_graphviz(fruit_classifier, out_file=dot_data,   filled=True, rounded=True, special_characters=True,feature_names=fruit_data_set.columns[1:], impurity=True)\n",
    "graph = pydotplus.graph_from_dot_data(dot_data.getvalue())  \n",
    "#Image(graph.create_png())"
   ]
  },
  {
   "cell_type": "code",
   "execution_count": 13,
   "id": "daee197c",
   "metadata": {},
   "outputs": [],
   "source": [
    "\n",
    "def get_code(tree, feature_names):\n",
    "        left      = tree.tree_.children_left\n",
    "        right     = tree.tree_.children_right\n",
    "        threshold = tree.tree_.threshold\n",
    "        features  = [feature_names[i] for i in tree.tree_.feature]\n",
    "        value = tree.tree_.value\n",
    "\n",
    "        def recurse(left, right, threshold, features, node):\n",
    "                if (threshold[node] != -2):\n",
    "                        print (\"if ( \" + features[node] + \" <= \" + str(threshold[node]) + \" ) {\")\n",
    "                        if left[node] != -1:\n",
    "                                recurse (left, right, threshold, features,left[node])\n",
    "                        print (\"} else {\")\n",
    "                        if right[node] != -1:\n",
    "                                recurse (left, right, threshold, features,right[node])\n",
    "                        print( \"}\")\n",
    "                else:\n",
    "                        print (\"return \" + str(value[node]))\n",
    "\n",
    "        recurse(left, right, threshold, features, 0)"
   ]
  },
  {
   "cell_type": "code",
   "execution_count": null,
   "id": "01b20bda",
   "metadata": {},
   "outputs": [],
   "source": [
    "#get_lineage(fruit_classifier, fruit_data_set.columns)\n",
    "get_code(fruit_classifier, fruit_data_set.columns)"
   ]
  },
  {
   "cell_type": "code",
   "execution_count": 10,
   "id": "83ff7cab",
   "metadata": {},
   "outputs": [],
   "source": [
    "#conda install -c anaconda pydotplus\n",
    "\n",
    "# conda install -c anaconda graphviz \n",
    "\n",
    "# THIS \n",
    "# Download from http://wingraphviz.sourceforge.net/wingraphviz/\n",
    "\n",
    "# http://wingraphviz.sourceforge.net/wingraphviz/\n",
    "\n",
    "# http://wingraphviz.sourceforge.net/wingraphviz/   # WinGraphviz_v1.02.24.msi\n",
    "\n",
    "#;C:\\Program Files (x86)\\Graphviz2.38\\bin \n",
    "\n",
    "#System avriable\n",
    "#Adavanced  -> Environment Varable\n",
    "# ;C:\\Program Files\\Graphviz\\bin\n",
    "\n",
    "#append line\n",
    "\n",
    "# OR this \n",
    "# https://graphviz.gitlab.io/_pages/Download/Download_windows.html \n",
    "\n",
    "# C:\\Program Files (x86)\\Graphviz2.38\\\n",
    "\n",
    "# https://medium.com/@rnbrown/creating-and-visualizing-decision-trees-with-python-f8e8fa394176"
   ]
  },
  {
   "cell_type": "code",
   "execution_count": 11,
   "id": "a10d3ba4",
   "metadata": {},
   "outputs": [],
   "source": [
    "# Check Graph HERE --------------------------------- if GRAPHVIZ NOT working\n",
    "#  http://webgraphviz.com/\n",
    "\n",
    "# copy  Fruit_classifier.txt data on to above page\n",
    "\n",
    "#digraph Tree {\n",
    "#node [shape=box] ;\n",
    "#0 [label=\"X[0] <= 157.5\\ngini = 0.5\\nsamples = 10\\nvalue = [5, 5]\"] ;\n",
    "#1 [label=\"gini = 0.0\\nsamples = 5\\nvalue = [5, 0]\"] ;\n",
    "#0 -> 1 [labeldistance=2.5, labelangle=45, headlabel=\"True\"] ;\n",
    "#2 [label=\"gini = 0.0\\nsamples = 5\\nvalue = [0, 5]\"] ;\n",
    "#0 -> 2 [labeldistance=2.5, labelangle=-45, headlabel=\"False\"] ;\n",
    "#}"
   ]
  },
  {
   "cell_type": "code",
   "execution_count": 14,
   "id": "591e6ac5",
   "metadata": {},
   "outputs": [],
   "source": [
    "# GRAPH may have different answers, for few it is Weight, for other Smooth"
   ]
  },
  {
   "cell_type": "code",
   "execution_count": null,
   "id": "7e9c4865",
   "metadata": {},
   "outputs": [],
   "source": []
  }
 ],
 "metadata": {
  "kernelspec": {
   "display_name": "Python 3",
   "language": "python",
   "name": "python3"
  },
  "language_info": {
   "codemirror_mode": {
    "name": "ipython",
    "version": 3
   },
   "file_extension": ".py",
   "mimetype": "text/x-python",
   "name": "python",
   "nbconvert_exporter": "python",
   "pygments_lexer": "ipython3",
   "version": "3.8.8"
  }
 },
 "nbformat": 4,
 "nbformat_minor": 5
}
