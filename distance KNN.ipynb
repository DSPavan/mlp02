{
 "cells": [
  {
   "cell_type": "raw",
   "id": "4ba035a1",
   "metadata": {},
   "source": [
    "\n",
    "-1,5\n",
    "1,6\n",
    "3,5\n",
    "2,3"
   ]
  },
  {
   "cell_type": "code",
   "execution_count": 34,
   "id": "aac8d5c3",
   "metadata": {},
   "outputs": [
    {
     "name": "stdout",
     "output_type": "stream",
     "text": [
      "2  +  1\n",
      "4  +  0\n",
      "3  +  2\n",
      "2  +  1\n",
      "1  +  3\n",
      "1  +  2\n",
      "22\n"
     ]
    }
   ],
   "source": [
    "#manhattan other : which is correct?\n",
    "def distancesum (x, y, n):\n",
    "    sum = 0\n",
    "     \n",
    "    # for each point, finding distance\n",
    "    # to rest of the point\n",
    "    for i in range(n):\n",
    "        for j in range(i+1,n):\n",
    "            print(abs(x[i] - x[j]),\" + \",abs(y[i] - y[j]))\n",
    "            sum += (abs(x[i] - x[j]) +  abs(y[i] - y[j]))\n",
    "     \n",
    "    return sum\n",
    " \n",
    "# Driven Code\n",
    "x = [ -1, 1, 3, 2 ]\n",
    "y = [ 5, 6, 5, 3 ]\n",
    "n = len(x)\n",
    "print(distancesum(x, y, n) )"
   ]
  },
  {
   "cell_type": "code",
   "execution_count": 35,
   "id": "5f86a31e",
   "metadata": {},
   "outputs": [
    {
     "name": "stdout",
     "output_type": "stream",
     "text": [
      "-1 - 5 -- 6\n",
      "1 - 6 -- 5\n",
      "3 - 5 -- 2\n",
      "2 - 3 -- 1\n",
      "14\n"
     ]
    }
   ],
   "source": [
    "# calculate manhattan distance\n",
    "def manhattan_distance(a, b):\n",
    "    #print(list(zip(a,b)))\n",
    "    for e1, e2 in zip(a,b):\n",
    "        print(e1,\"-\",e2,\"--\",abs(e1-e2))\n",
    "    #print(list(abs(e1-e2) for e1, e2 in zip(a,b)))\n",
    "    return sum(abs(e1-e2) for e1, e2 in zip(a,b))\n",
    " \n",
    "# define data\n",
    "row1 = [ -1, 1, 3, 2 ]\n",
    "row2 = [ 5, 6, 5, 3 ]\n",
    "# calculate distance\n",
    "dist = manhattan_distance(row1, row2)\n",
    "print(dist)"
   ]
  },
  {
   "cell_type": "code",
   "execution_count": 36,
   "id": "981353cb",
   "metadata": {},
   "outputs": [
    {
     "name": "stdout",
     "output_type": "stream",
     "text": [
      "14\n"
     ]
    }
   ],
   "source": [
    "#manhattan\n",
    "from scipy.spatial.distance import cityblock\n",
    "# define data\n",
    "x = [ -1, 1, 3, 2 ]\n",
    "y = [ 5, 6, 5, 3 ]\n",
    "# calculate distance\n",
    "dist = cityblock(x, y)\n",
    "print(dist)"
   ]
  },
  {
   "cell_type": "code",
   "execution_count": 37,
   "id": "38095ca4",
   "metadata": {},
   "outputs": [
    {
     "data": {
      "text/plain": [
       "14"
      ]
     },
     "execution_count": 37,
     "metadata": {},
     "output_type": "execute_result"
    }
   ],
   "source": [
    "from scipy.spatial import distance\n",
    "distance.cityblock([ -1, 1, 3, 2 ], [ 5, 6, 5, 3 ])"
   ]
  },
  {
   "cell_type": "code",
   "execution_count": null,
   "id": "97d769ba",
   "metadata": {},
   "outputs": [],
   "source": []
  }
 ],
 "metadata": {
  "kernelspec": {
   "display_name": "Python 3",
   "language": "python",
   "name": "python3"
  },
  "language_info": {
   "codemirror_mode": {
    "name": "ipython",
    "version": 3
   },
   "file_extension": ".py",
   "mimetype": "text/x-python",
   "name": "python",
   "nbconvert_exporter": "python",
   "pygments_lexer": "ipython3",
   "version": "3.8.8"
  }
 },
 "nbformat": 4,
 "nbformat_minor": 5
}
