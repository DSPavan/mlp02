{
 "cells": [
  {
   "cell_type": "code",
   "execution_count": 1,
   "id": "1c3c3af0",
   "metadata": {},
   "outputs": [],
   "source": [
    "class Employee:\n",
    "   'Common base class for all employees'\n",
    "   empCount = 0\n",
    "\n",
    "   def __init__(self, name, salary):\n",
    "      self.name = name\n",
    "      self.salary = salary\n",
    "      Employee.empCount += 1\n",
    "   \n",
    "   def displayCount(self):\n",
    "     print( \"Total Employee %d\" % Employee.empCount)\n",
    "\n",
    "   def displayEmployee(self):\n",
    "      print(\"Name : \", self.name,  \", Salary: \", self.salary)"
   ]
  },
  {
   "cell_type": "code",
   "execution_count": 2,
   "id": "87eddfc7",
   "metadata": {},
   "outputs": [
    {
     "data": {
      "text/plain": [
       "<__main__.Employee at 0x98c1b6f250>"
      ]
     },
     "execution_count": 2,
     "metadata": {},
     "output_type": "execute_result"
    }
   ],
   "source": [
    "emp1 = Employee(\"Pavan\", 2000)\n",
    "emp1"
   ]
  },
  {
   "cell_type": "code",
   "execution_count": 3,
   "id": "1e197105",
   "metadata": {},
   "outputs": [
    {
     "name": "stdout",
     "output_type": "stream",
     "text": [
      "Name :  Pavan , Salary:  2000\n",
      "Total Employee 1\n"
     ]
    }
   ],
   "source": [
    "emp1.displayEmployee()\n",
    "\n",
    "print (\"Total Employee %d\" % Employee.empCount)"
   ]
  },
  {
   "cell_type": "code",
   "execution_count": 4,
   "id": "ebcce9fa",
   "metadata": {},
   "outputs": [
    {
     "name": "stdout",
     "output_type": "stream",
     "text": [
      "Employee Class = Employee\n"
     ]
    }
   ],
   "source": [
    "print (\"Employee Class =\",Employee.__name__)"
   ]
  },
  {
   "cell_type": "code",
   "execution_count": 19,
   "id": "c169cd3f",
   "metadata": {},
   "outputs": [],
   "source": [
    "import  Employee\n",
    "# solution below  - Observe this Error"
   ]
  },
  {
   "cell_type": "code",
   "execution_count": 6,
   "id": "664791fb",
   "metadata": {},
   "outputs": [
    {
     "data": {
      "text/plain": [
       "['C:\\\\Users\\\\radha',\n",
       " 'C:\\\\ProgramData\\\\Anaconda3\\\\python38.zip',\n",
       " 'C:\\\\ProgramData\\\\Anaconda3\\\\DLLs',\n",
       " 'C:\\\\ProgramData\\\\Anaconda3\\\\lib',\n",
       " 'C:\\\\ProgramData\\\\Anaconda3',\n",
       " '',\n",
       " 'C:\\\\Users\\\\radha\\\\AppData\\\\Roaming\\\\Python\\\\Python38\\\\site-packages',\n",
       " 'C:\\\\ProgramData\\\\Anaconda3\\\\lib\\\\site-packages',\n",
       " 'C:\\\\ProgramData\\\\Anaconda3\\\\lib\\\\site-packages\\\\locket-0.2.1-py3.8.egg',\n",
       " 'C:\\\\ProgramData\\\\Anaconda3\\\\lib\\\\site-packages\\\\win32',\n",
       " 'C:\\\\ProgramData\\\\Anaconda3\\\\lib\\\\site-packages\\\\win32\\\\lib',\n",
       " 'C:\\\\ProgramData\\\\Anaconda3\\\\lib\\\\site-packages\\\\Pythonwin',\n",
       " 'C:\\\\ProgramData\\\\Anaconda3\\\\lib\\\\site-packages\\\\IPython\\\\extensions',\n",
       " 'C:\\\\Users\\\\radha\\\\.ipython']"
      ]
     },
     "execution_count": 6,
     "metadata": {},
     "output_type": "execute_result"
    }
   ],
   "source": [
    "import sys\n",
    "#sys.path.append('E:\\\\pynotes\\\\')\n",
    "sys.path"
   ]
  },
  {
   "cell_type": "code",
   "execution_count": 8,
   "id": "7ad07024",
   "metadata": {},
   "outputs": [],
   "source": [
    "# copy the CLASS code in  C:\\\\Users\\\\radha\n",
    "\n",
    "# Employee.py as python file"
   ]
  },
  {
   "cell_type": "code",
   "execution_count": 10,
   "id": "cbc5e598",
   "metadata": {},
   "outputs": [],
   "source": [
    "import  Employee\n",
    "# works now"
   ]
  },
  {
   "cell_type": "code",
   "execution_count": 11,
   "id": "811242ff",
   "metadata": {},
   "outputs": [
    {
     "name": "stdout",
     "output_type": "stream",
     "text": [
      "Name :  pavan G , Salary:  40000\n",
      "Name :  kumar G , Salary:  50000\n"
     ]
    }
   ],
   "source": [
    "import Employee as Emp\n",
    "#\"This would create first object of Employee class\"\n",
    "emp1 = Emp.Employee(\"pavan G\", 40000)\n",
    "#\"This would create second object of Employee class\"\n",
    "emp2 = Emp.Employee(\"kumar G\", 50000)\n",
    "emp1.displayEmployee()\n",
    "emp2.displayEmployee()"
   ]
  },
  {
   "cell_type": "code",
   "execution_count": 12,
   "id": "5c5b60e7",
   "metadata": {},
   "outputs": [],
   "source": [
    "# Import classname as cname \n",
    "\n",
    "# print(cnmae.variable) # Accessing Object Variables\n",
    "\n",
    "# cnmae.function()"
   ]
  },
  {
   "cell_type": "code",
   "execution_count": 15,
   "id": "f5be9aa9",
   "metadata": {},
   "outputs": [],
   "source": [
    "#"
   ]
  },
  {
   "cell_type": "code",
   "execution_count": 16,
   "id": "e3a0507b",
   "metadata": {},
   "outputs": [],
   "source": [
    "#class Human:\n",
    "\n",
    "# Create instance\n",
    "##obj = Human()\n",
    "\n",
    "# Call the method \n",
    "##obj.sayHello()\n",
    "\n",
    "# Call the method with a parameter\n",
    "##obj.sayHello('Guido')"
   ]
  },
  {
   "cell_type": "code",
   "execution_count": 17,
   "id": "f2e1cd5f",
   "metadata": {},
   "outputs": [
    {
     "name": "stdout",
     "output_type": "stream",
     "text": [
      "driving. maxspeed 200\n",
      "driving. maxspeed 200\n"
     ]
    }
   ],
   "source": [
    "#A private variable can only be changed \n",
    "# within a class method and not outside of the class.\n",
    "\n",
    "class Car:\n",
    " \n",
    "    __maxspeed = 0\n",
    "    __name = \"\"\n",
    " \n",
    "    def __init__(self):\n",
    "        self.__maxspeed = 200\n",
    "        self.__name = \"Supercar\"\n",
    " \n",
    "    def drive(self):\n",
    "        print('driving. maxspeed ' + str(self.__maxspeed))\n",
    " \n",
    "redcar = Car()\n",
    "redcar.drive()\n",
    "redcar.__maxspeed = 10  # will not change variable because its private\n",
    "redcar.drive()"
   ]
  },
  {
   "cell_type": "code",
   "execution_count": 18,
   "id": "246952ff",
   "metadata": {},
   "outputs": [],
   "source": [
    "# Magic Methods\n",
    "\n",
    "# if __name__ == \"__main__\":\n",
    "\n",
    "#Dunder or magic methods\n",
    "#Dunder here means “Double Under (Underscores)”\n",
    "\n",
    "#for example __init__"
   ]
  },
  {
   "cell_type": "code",
   "execution_count": 20,
   "id": "05b709bf",
   "metadata": {},
   "outputs": [],
   "source": [
    "# Class , Objects, methods\n",
    "# Magic Methods\n",
    "# Inheritance\n",
    "# Polymorphism\n",
    "# Encapsulation\n",
    "# Overloading\n",
    "# Private Variables \n",
    "# Public and Private methods\n",
    "# Class variables"
   ]
  },
  {
   "cell_type": "code",
   "execution_count": 48,
   "id": "4c2646d4",
   "metadata": {},
   "outputs": [],
   "source": [
    "##   MAGIC METHODS\n",
    "#They are special methods with fixed names\n",
    "\n",
    "#So what's magic about the __init__ method? The answer is, you don't have to invoke it directly.\n",
    "#The invocation is realized behind the scenes. \n",
    "#When you create an instance x of a class A with the statement \"x = A()\", \n",
    "#python will do the necessary calls to __new__ and __init__. \n",
    "\n",
    "# getattr , setattr\n",
    "# __dict__  , __doc__ , __name__  , __module__ , __bases__\n",
    "\n",
    "# Dunder or magic methods - DUNDER - Double Underscore\n",
    "\n",
    "#print(Employee.__dict__)"
   ]
  },
  {
   "cell_type": "code",
   "execution_count": 24,
   "id": "98919ca4",
   "metadata": {},
   "outputs": [
    {
     "name": "stdout",
     "output_type": "stream",
     "text": [
      "None\n",
      "Employee\n"
     ]
    }
   ],
   "source": [
    "print(Employee.__doc__)\n",
    "\n",
    "print(Employee.__name__)\n",
    "\n",
    "#print(Employee.__module__)\n",
    "\n",
    "#print(Employee.__bases__)"
   ]
  },
  {
   "cell_type": "code",
   "execution_count": 25,
   "id": "70f75951",
   "metadata": {},
   "outputs": [],
   "source": [
    "# __call__ method\n",
    "#The __call__ method enables Python programmers to write classes where the instances behave like functions.\n",
    "#Both functions and the instances of such classes are called callables\n",
    "\n",
    "#_ _XX_ _\n",
    "\n",
    "# if __name__ == \"__main__\":\n",
    "\n",
    "\n",
    "#A Program written in languages of C family (C, C++, Java, C# etc.) \n",
    "#                                            needs the main() function to indicate the starting point of execution.\n",
    "\n"
   ]
  },
  {
   "cell_type": "code",
   "execution_count": 44,
   "id": "7097fdbc",
   "metadata": {},
   "outputs": [
    {
     "name": "stdout",
     "output_type": "stream",
     "text": [
      "__main__\n"
     ]
    }
   ],
   "source": [
    "def f1():\n",
    "\tprint(__name__)\n",
    "def f2():\n",
    "    print(__name__)\n",
    "\n",
    "f2()"
   ]
  },
  {
   "cell_type": "code",
   "execution_count": 46,
   "id": "4bfd2cd0",
   "metadata": {},
   "outputs": [
    {
     "name": "stdout",
     "output_type": "stream",
     "text": [
      "Enter the first number to add: 5\n",
      "Enter the secode number to add: 10\n",
      "add() executed under the scope:  __main__\n",
      "5 + 10 = 15\n",
      "Code executed under the scope:  __main__\n"
     ]
    }
   ],
   "source": [
    "def add(x, y):\n",
    "    z=x+y\n",
    "    print('add() executed under the scope: ', __name__)\n",
    "    return z\n",
    "\n",
    "if __name__ == '__main__':\n",
    "    x=input('Enter the first number to add: ')\n",
    "    y=input('Enter the secode number to add: ')\n",
    "    result = add(int(x),int(y))\n",
    "    print(x, '+', y,'=', result)\n",
    "    print('Code executed under the scope: ', __name__)"
   ]
  },
  {
   "cell_type": "code",
   "execution_count": 40,
   "id": "ce46cebf",
   "metadata": {},
   "outputs": [
    {
     "name": "stdout",
     "output_type": "stream",
     "text": [
      "I am inside function\n",
      "Name :  G PK , Salary:  50000\n"
     ]
    }
   ],
   "source": [
    "#Before executing code, Python interpreter reads source file and define few special variables/global variables. \n",
    "\n",
    "\n",
    "\n",
    "    #If the python interpreter is running that module (the source file) as the main program, \n",
    "    #it sets the special __name__ variable to have a value “__main__”. \n",
    "    \n",
    "def my_function():\n",
    "    print (\"I am inside function\")\n",
    "    \n",
    "if __name__ == \"__main__\":\n",
    "    my_function()\n",
    "    \n",
    "    emp3 = Emp.Employee(\"G PK\", 50000)\n",
    "    emp3.displayEmployee()\n",
    "    "
   ]
  },
  {
   "cell_type": "code",
   "execution_count": 34,
   "id": "ae01e358",
   "metadata": {},
   "outputs": [
    {
     "data": {
      "text/plain": [
       "['Employee',\n",
       " '__builtins__',\n",
       " '__cached__',\n",
       " '__doc__',\n",
       " '__file__',\n",
       " '__loader__',\n",
       " '__name__',\n",
       " '__package__',\n",
       " '__spec__']"
      ]
     },
     "execution_count": 34,
     "metadata": {},
     "output_type": "execute_result"
    }
   ],
   "source": [
    "#To list the attributes of an instance/object, we have two functions:- \n",
    "#    vars()- This function displays the attribute of an instance in the form of an dictionary.\n",
    "#    dir()- This function displays more attributes than vars function,as it is not limited to instance. \n",
    "#    It displays the class attributes as well.\n",
    "\n",
    "\n",
    "dir(Employee)"
   ]
  },
  {
   "cell_type": "code",
   "execution_count": 37,
   "id": "b5175b9e",
   "metadata": {},
   "outputs": [],
   "source": [
    "#vars(Employee)"
   ]
  },
  {
   "cell_type": "code",
   "execution_count": null,
   "id": "cb00fc52",
   "metadata": {},
   "outputs": [],
   "source": []
  }
 ],
 "metadata": {
  "kernelspec": {
   "display_name": "Python 3",
   "language": "python",
   "name": "python3"
  },
  "language_info": {
   "codemirror_mode": {
    "name": "ipython",
    "version": 3
   },
   "file_extension": ".py",
   "mimetype": "text/x-python",
   "name": "python",
   "nbconvert_exporter": "python",
   "pygments_lexer": "ipython3",
   "version": "3.8.8"
  }
 },
 "nbformat": 4,
 "nbformat_minor": 5
}
