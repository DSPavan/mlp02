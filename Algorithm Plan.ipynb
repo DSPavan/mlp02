{
 "cells": [
  {
   "cell_type": "code",
   "execution_count": 1,
   "id": "ab5c8e4a",
   "metadata": {},
   "outputs": [],
   "source": [
    "# PLAN OF STEPS"
   ]
  },
  {
   "cell_type": "code",
   "execution_count": 2,
   "id": "c37d7baf",
   "metadata": {},
   "outputs": [],
   "source": [
    "# 1. DATA LOADING"
   ]
  },
  {
   "cell_type": "code",
   "execution_count": 3,
   "id": "7d468d70",
   "metadata": {},
   "outputs": [],
   "source": [
    "# 2. DROP UNNECESSARY COLUMNS"
   ]
  },
  {
   "cell_type": "code",
   "execution_count": 4,
   "id": "32cb94b3",
   "metadata": {},
   "outputs": [],
   "source": [
    "# 3. DUMMIES, LABEL ENCODER - Categorical Columns\n",
    "# 3B: EDA , MISSING VALUES, IMBALANCED DATA SETS"
   ]
  },
  {
   "cell_type": "code",
   "execution_count": 5,
   "id": "1343e504",
   "metadata": {},
   "outputs": [],
   "source": [
    "# 4. TRAIN / TEST SPLIT DATA: 80:20"
   ]
  },
  {
   "cell_type": "code",
   "execution_count": 6,
   "id": "e31ab551",
   "metadata": {},
   "outputs": [],
   "source": [
    "# 5. FIT - Equation on TRAIN data"
   ]
  },
  {
   "cell_type": "code",
   "execution_count": 7,
   "id": "82583959",
   "metadata": {},
   "outputs": [],
   "source": [
    "# 6. PREDICT - (TEST)"
   ]
  },
  {
   "cell_type": "code",
   "execution_count": 8,
   "id": "03dcf4d4",
   "metadata": {},
   "outputs": [],
   "source": [
    "# 7. DESCRIPTIVE INFORMATION"
   ]
  },
  {
   "cell_type": "code",
   "execution_count": 9,
   "id": "9066fd80",
   "metadata": {},
   "outputs": [],
   "source": [
    "# 8. GRAPHICAL OUTPUTS"
   ]
  },
  {
   "cell_type": "code",
   "execution_count": null,
   "id": "e6acd7c6",
   "metadata": {},
   "outputs": [],
   "source": []
  }
 ],
 "metadata": {
  "kernelspec": {
   "display_name": "Python 3",
   "language": "python",
   "name": "python3"
  },
  "language_info": {
   "codemirror_mode": {
    "name": "ipython",
    "version": 3
   },
   "file_extension": ".py",
   "mimetype": "text/x-python",
   "name": "python",
   "nbconvert_exporter": "python",
   "pygments_lexer": "ipython3",
   "version": "3.8.8"
  }
 },
 "nbformat": 4,
 "nbformat_minor": 5
}
