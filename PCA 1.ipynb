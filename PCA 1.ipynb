{
 "cells": [
  {
   "cell_type": "code",
   "execution_count": 1,
   "id": "ba03088d",
   "metadata": {},
   "outputs": [],
   "source": [
    "# Dimensionality Reduction\n",
    "# PCA\n",
    "#SCREE PLOT\n",
    "# one eigenvalue criterion\n",
    "#Factor Analysis"
   ]
  },
  {
   "cell_type": "code",
   "execution_count": 2,
   "id": "0fa757eb",
   "metadata": {},
   "outputs": [],
   "source": [
    "# PCA  Principle component\n",
    "\n",
    "# unsupervised algorithm\n",
    "# rather than attempting to predict the y values from the x values, the unsupervised learning problem attempts to \n",
    "# learn about the relationship between the x and y values.\n",
    "\n",
    "#These vectors represent the principal axes of the data, and \n",
    "#the length of the vector is an indication of how \"important\" \n",
    "#that axis is in describing the distribution of the data—more precisely, \n",
    "#it is a measure of the variance of the data when projected onto that axis. The projection of \n",
    "#each data point onto the principal axes are the \"principal components\" of the data.\n",
    "\n",
    "\n",
    "\n",
    "# This transformation from data axes to principal axes is an affine transformation, which basically means it is \n",
    "# composed of a translation, rotation, and uniform scaling.\n",
    "\n",
    "# Using PCA for dimensionality reduction involves zeroing out one or more of the smallest\n",
    "# principal components, resulting in a lower-dimensional \n",
    "# projection of the data that preserves the maximal data variance.\n",
    "\n"
   ]
  },
  {
   "cell_type": "code",
   "execution_count": 3,
   "id": "30c5442f",
   "metadata": {},
   "outputs": [],
   "source": [
    "#Both Linear Discriminant Analysis (LDA) and PCA are linear transformation methods. \n",
    "#PCA yields the directions (principal components) that maximize the variance of the data,\n",
    "#whereas LDA also aims to find the directions that maximize the separation (or discrimination) between different classes, \n",
    "#which can be useful in pattern classification problem (PCA \"ignores\" class labels).\n",
    "#In other words, PCA projects the entire dataset onto a different feature (sub)space, and \n",
    "#LDA tries to determine a suitable feature (sub)space in order to distinguish between patterns that belong to different classes."
   ]
  },
  {
   "cell_type": "code",
   "execution_count": 4,
   "id": "ae3e0358",
   "metadata": {},
   "outputs": [
    {
     "name": "stdout",
     "output_type": "stream",
     "text": [
      "   Pregnancies  Glucose  BloodPressure  SkinThickness  Insulin   BMI  \\\n",
      "0            6      148             72             35        0  33.6   \n",
      "1            1       85             66             29        0  26.6   \n",
      "2            8      183             64              0        0  23.3   \n",
      "3            1       89             66             23       94  28.1   \n",
      "4            0      137             40             35      168  43.1   \n",
      "\n",
      "   DiabetesPedigreeFunction  Age  Outcome  \n",
      "0                     0.627   50        1  \n",
      "1                     0.351   31        0  \n",
      "2                     0.672   32        1  \n",
      "3                     0.167   21        0  \n",
      "4                     2.288   33        1  \n",
      "(768, 9)\n"
     ]
    }
   ],
   "source": [
    "import pandas as pd\n",
    "# CSV File - Read\n",
    "df = pd.read_csv('C:\\\\Users\\\\radha\\\\Desktop\\\\dsp27 Class\\\\diabetes.csv')\n",
    "#  ,header=None ,skiprows=1 , names=['Cal', 'Pr', 'Fat', 'sod', 'Fib', 'Rting']\n",
    "print(df.head(5)) \n",
    "print(df.shape)"
   ]
  },
  {
   "cell_type": "code",
   "execution_count": 5,
   "id": "c46a0dc8",
   "metadata": {},
   "outputs": [],
   "source": [
    "import numpy as np\n",
    "diabetes_data_copy = df.copy(deep = True)\n",
    "diabetes_data_copy[['Glucose','BloodPressure','SkinThickness','Insulin','BMI']] = diabetes_data_copy[['Glucose','BloodPressure','SkinThickness','Insulin','BMI']].replace(0,np.NaN)"
   ]
  },
  {
   "cell_type": "code",
   "execution_count": 6,
   "id": "c48432cd",
   "metadata": {},
   "outputs": [],
   "source": [
    "diabetes_data_copy['Glucose'].fillna(diabetes_data_copy['Glucose'].mean(), inplace = True)\n",
    "diabetes_data_copy['BloodPressure'].fillna(diabetes_data_copy['BloodPressure'].mean(), inplace = True)\n",
    "diabetes_data_copy['SkinThickness'].fillna(diabetes_data_copy['SkinThickness'].median(), inplace = True)\n",
    "diabetes_data_copy['Insulin'].fillna(diabetes_data_copy['Insulin'].median(), inplace = True)\n",
    "diabetes_data_copy['BMI'].fillna(diabetes_data_copy['BMI'].median(), inplace = True)"
   ]
  },
  {
   "cell_type": "code",
   "execution_count": 7,
   "id": "eba1e78a",
   "metadata": {},
   "outputs": [
    {
     "data": {
      "text/html": [
       "<div>\n",
       "<style scoped>\n",
       "    .dataframe tbody tr th:only-of-type {\n",
       "        vertical-align: middle;\n",
       "    }\n",
       "\n",
       "    .dataframe tbody tr th {\n",
       "        vertical-align: top;\n",
       "    }\n",
       "\n",
       "    .dataframe thead th {\n",
       "        text-align: right;\n",
       "    }\n",
       "</style>\n",
       "<table border=\"1\" class=\"dataframe\">\n",
       "  <thead>\n",
       "    <tr style=\"text-align: right;\">\n",
       "      <th></th>\n",
       "      <th>Pregnancies</th>\n",
       "      <th>Glucose</th>\n",
       "      <th>BloodPressure</th>\n",
       "      <th>SkinThickness</th>\n",
       "      <th>Insulin</th>\n",
       "      <th>BMI</th>\n",
       "      <th>DiabetesPedigreeFunction</th>\n",
       "      <th>Age</th>\n",
       "      <th>Outcome</th>\n",
       "    </tr>\n",
       "  </thead>\n",
       "  <tbody>\n",
       "    <tr>\n",
       "      <th>0</th>\n",
       "      <td>6</td>\n",
       "      <td>148.0</td>\n",
       "      <td>72.0</td>\n",
       "      <td>35.0</td>\n",
       "      <td>125.0</td>\n",
       "      <td>33.6</td>\n",
       "      <td>0.627</td>\n",
       "      <td>50</td>\n",
       "      <td>1</td>\n",
       "    </tr>\n",
       "    <tr>\n",
       "      <th>1</th>\n",
       "      <td>1</td>\n",
       "      <td>85.0</td>\n",
       "      <td>66.0</td>\n",
       "      <td>29.0</td>\n",
       "      <td>125.0</td>\n",
       "      <td>26.6</td>\n",
       "      <td>0.351</td>\n",
       "      <td>31</td>\n",
       "      <td>0</td>\n",
       "    </tr>\n",
       "    <tr>\n",
       "      <th>2</th>\n",
       "      <td>8</td>\n",
       "      <td>183.0</td>\n",
       "      <td>64.0</td>\n",
       "      <td>29.0</td>\n",
       "      <td>125.0</td>\n",
       "      <td>23.3</td>\n",
       "      <td>0.672</td>\n",
       "      <td>32</td>\n",
       "      <td>1</td>\n",
       "    </tr>\n",
       "    <tr>\n",
       "      <th>3</th>\n",
       "      <td>1</td>\n",
       "      <td>89.0</td>\n",
       "      <td>66.0</td>\n",
       "      <td>23.0</td>\n",
       "      <td>94.0</td>\n",
       "      <td>28.1</td>\n",
       "      <td>0.167</td>\n",
       "      <td>21</td>\n",
       "      <td>0</td>\n",
       "    </tr>\n",
       "    <tr>\n",
       "      <th>4</th>\n",
       "      <td>0</td>\n",
       "      <td>137.0</td>\n",
       "      <td>40.0</td>\n",
       "      <td>35.0</td>\n",
       "      <td>168.0</td>\n",
       "      <td>43.1</td>\n",
       "      <td>2.288</td>\n",
       "      <td>33</td>\n",
       "      <td>1</td>\n",
       "    </tr>\n",
       "  </tbody>\n",
       "</table>\n",
       "</div>"
      ],
      "text/plain": [
       "   Pregnancies  Glucose  BloodPressure  SkinThickness  Insulin   BMI  \\\n",
       "0            6    148.0           72.0           35.0    125.0  33.6   \n",
       "1            1     85.0           66.0           29.0    125.0  26.6   \n",
       "2            8    183.0           64.0           29.0    125.0  23.3   \n",
       "3            1     89.0           66.0           23.0     94.0  28.1   \n",
       "4            0    137.0           40.0           35.0    168.0  43.1   \n",
       "\n",
       "   DiabetesPedigreeFunction  Age  Outcome  \n",
       "0                     0.627   50        1  \n",
       "1                     0.351   31        0  \n",
       "2                     0.672   32        1  \n",
       "3                     0.167   21        0  \n",
       "4                     2.288   33        1  "
      ]
     },
     "execution_count": 7,
     "metadata": {},
     "output_type": "execute_result"
    }
   ],
   "source": [
    "diabetes_data_copy.head()"
   ]
  },
  {
   "cell_type": "code",
   "execution_count": 8,
   "id": "24486e2b",
   "metadata": {},
   "outputs": [],
   "source": [
    "# split data table into data X and class labels y\n",
    "X = df.iloc[:,0:8].values\n",
    "y = df.iloc[:,-1].values"
   ]
  },
  {
   "cell_type": "code",
   "execution_count": 9,
   "id": "fd6fc044",
   "metadata": {},
   "outputs": [],
   "source": [
    "#from sklearn.preprocessing import StandardScaler\n",
    "#X_std = StandardScaler().fit_transform(X)"
   ]
  },
  {
   "cell_type": "code",
   "execution_count": 32,
   "id": "307bb54d",
   "metadata": {},
   "outputs": [],
   "source": [
    "from sklearn.preprocessing import StandardScaler\n",
    "from sklearn.decomposition import PCA as sklearnPCA\n",
    "sklearn_pca = sklearnPCA(n_components=8)  # 8 components and check with 2\n",
    "Y_sklearn = sklearn_pca.fit_transform(X)"
   ]
  },
  {
   "cell_type": "code",
   "execution_count": 11,
   "id": "607770ff",
   "metadata": {},
   "outputs": [
    {
     "data": {
      "text/plain": [
       "array([8.88546635e-01, 6.15907837e-02, 2.57901189e-02, 1.30861374e-02,\n",
       "       7.44093864e-03, 3.02614919e-03, 5.12444875e-04, 6.79264301e-06])"
      ]
     },
     "execution_count": 11,
     "metadata": {},
     "output_type": "execute_result"
    }
   ],
   "source": [
    "sklearn_pca.explained_variance_ratio_"
   ]
  },
  {
   "cell_type": "code",
   "execution_count": 12,
   "id": "367a2f9a",
   "metadata": {},
   "outputs": [
    {
     "name": "stdout",
     "output_type": "stream",
     "text": [
      "[[2.02176587e-03 9.78115765e-02 1.60930503e-02 6.07566861e-02\n",
      "  9.93110844e-01 1.40108085e-02 5.37167919e-04 3.56474430e-03]\n",
      " [2.26488861e-02 9.72210040e-01 1.41909330e-01 5.78614699e-02\n",
      "  9.46266913e-02 4.69729766e-02 8.16804621e-04 1.40168181e-01]\n",
      " [2.24649003e-02 1.43428710e-01 9.22467192e-01 3.07013055e-01\n",
      "  2.09773019e-02 1.32444542e-01 6.39983017e-04 1.25454310e-01]\n",
      " [4.90459604e-02 1.19830016e-01 2.62742788e-01 8.84369380e-01\n",
      "  6.55503615e-02 1.92801728e-01 2.69908637e-03 3.01024330e-01]\n",
      " [1.51612874e-01 8.79407680e-02 2.32165009e-01 2.59973487e-01\n",
      "  1.72312241e-04 2.14744823e-02 1.64080684e-03 9.20504903e-01]\n",
      " [5.04730888e-03 5.07391813e-02 7.56365525e-02 2.21363068e-01\n",
      "  6.13326472e-03 9.70776708e-01 2.02903702e-03 1.51133239e-02]\n",
      " [9.86672995e-01 8.83426114e-04 1.22975947e-03 3.76444746e-04\n",
      "  1.42307394e-03 2.73046214e-03 6.34402965e-03 1.62555343e-01]\n",
      " [6.10123250e-03 8.25459539e-04 5.20865450e-04 2.54871909e-03\n",
      "  2.68965921e-04 2.67341863e-03 9.99972146e-01 1.95271966e-03]]\n"
     ]
    }
   ],
   "source": [
    "print(abs(sklearn_pca.components_ ))"
   ]
  },
  {
   "cell_type": "code",
   "execution_count": 13,
   "id": "8afdf07a",
   "metadata": {},
   "outputs": [],
   "source": [
    "#from sklearn.preprocessing import LabelEncoder\n",
    "#labelencoder = LabelEncoder()\n",
    "#y= labelencoder.fit_transform(y)\n",
    "#y\n",
    "\n",
    "# Not required for this data !!"
   ]
  },
  {
   "cell_type": "code",
   "execution_count": 14,
   "id": "a1dbf8a1",
   "metadata": {},
   "outputs": [
    {
     "data": {
      "image/png": "[encoded data removed]",
      "text/plain": [
       "<Figure size 432x288 with 1 Axes>"
      ]
     },
     "metadata": {
      "needs_background": "light"
     },
     "output_type": "display_data"
    }
   ],
   "source": [
    "## biplot\n",
    "import numpy as np\n",
    "import matplotlib.pyplot as plt\n",
    "def myplot(score,coeff,labels=None):\n",
    "    xs = score[:,0]\n",
    "    ys = score[:,1]\n",
    "    n = coeff.shape[0]\n",
    "    scalex = 1.0/(xs.max() - xs.min())\n",
    "    scaley = 1.0/(ys.max() - ys.min())\n",
    "    plt.scatter(xs * scalex,ys * scaley, c = y)\n",
    "    for i in range(n):\n",
    "        plt.arrow(0, 0, coeff[i,0], coeff[i,1],color = 'r',alpha = 0.5)\n",
    "        if labels is None:\n",
    "            plt.text(coeff[i,0]* 1.15, coeff[i,1] * 1.15, \"Var\"+str(i+1), color = 'g', ha = 'center', va = 'center')\n",
    "        else:\n",
    "            plt.text(coeff[i,0]* 1.15, coeff[i,1] * 1.15, labels[i], color = 'g', ha = 'center', va = 'center')\n",
    "plt.xlim(-1,1)\n",
    "plt.ylim(-1,1)\n",
    "plt.xlabel(\"PC{}\".format(1))\n",
    "plt.ylabel(\"PC{}\".format(2))\n",
    "plt.grid()\n",
    "\n",
    "#Call the function. Use only the 2 PCs.\n",
    "myplot(Y_sklearn[:,0:2],np.transpose(sklearn_pca.components_[0:2, :]), labels=['Pregnancies','Glucose','BloodPressure','SkinThickness', 'Insulin', 'BMI', 'DiabetesPedigreeFunction'  ,   'Age'    ])                 \n",
    "                                                           \n",
    "\n",
    "plt.show()"
   ]
  },
  {
   "cell_type": "code",
   "execution_count": 15,
   "id": "c0f1d241",
   "metadata": {},
   "outputs": [
    {
     "data": {
      "text/plain": [
       "Index(['Pregnancies', 'Glucose', 'BloodPressure', 'SkinThickness', 'Insulin',\n",
       "       'BMI', 'DiabetesPedigreeFunction', 'Age'],\n",
       "      dtype='object')"
      ]
     },
     "execution_count": 15,
     "metadata": {},
     "output_type": "execute_result"
    }
   ],
   "source": [
    "# abobe Glucose,Insulin may be good\n",
    "df2 = df.iloc[:,0:8]\n",
    "df2.keys()"
   ]
  },
  {
   "cell_type": "code",
   "execution_count": 16,
   "id": "4c07fdc9",
   "metadata": {},
   "outputs": [
    {
     "data": {
      "image/png": "[encoded data removed]",
      "text/plain": [
       "<Figure size 1008x1008 with 1 Axes>"
      ]
     },
     "metadata": {
      "needs_background": "light"
     },
     "output_type": "display_data"
    }
   ],
   "source": [
    "def pca_results(data, pca):\n",
    "    \n",
    "    # Dimension indexing\n",
    "    dimensions = ['Dimension {}'.format(i) for i in range(1,len(pca.components_)+1)]\n",
    "    \n",
    "    # PCA components\n",
    "    components = pd.DataFrame(np.round(pca.components_, 2), columns = data.keys()) \n",
    "    components.index = dimensions\n",
    "\n",
    "    # PCA explained variance\n",
    "    ratios = pca.explained_variance_ratio_.reshape(len(pca.components_), 1) \n",
    "    variance_ratios = pd.DataFrame(np.round(ratios, 2), columns = ['Explained Variance']) \n",
    "    variance_ratios.index = dimensions\n",
    "\n",
    "   \n",
    "    # Create a bar plot visualization\n",
    "    fig, ax = plt.subplots(figsize = (14,14))\n",
    "    \n",
    "\n",
    "    # Plot the feature weights as a function of the components\n",
    "    components.plot(ax = ax, kind = 'bar')\n",
    "    ax.set_ylabel(\"Feature Weights\") \n",
    "    ax.set_xticklabels(dimensions, rotation=0)\n",
    "\n",
    "    # Display the explained variance ratios# \n",
    "    # Explained Variance = EV\n",
    "    for i, ev in enumerate(pca.explained_variance_ratio_): \n",
    "        ax.text(i-0.40, ax.get_ylim()[1] + 0.05, \"EV\\n %.4f\"%(ev))\n",
    "\n",
    "    # Return a concatenated DataFrame\n",
    "    return pd.concat([variance_ratios, components], axis = 1)\n",
    "\n",
    "#\n",
    "pca_results = pca_results(df2 ,sklearn_pca)\n",
    "\n",
    "# PC1 : Glucose, Insulin : 0.88\n",
    "\n",
    "# enumerate"
   ]
  },
  {
   "cell_type": "code",
   "execution_count": 17,
   "id": "91848601",
   "metadata": {},
   "outputs": [],
   "source": [
    "#################################################"
   ]
  },
  {
   "cell_type": "code",
   "execution_count": 18,
   "id": "073cc624",
   "metadata": {},
   "outputs": [
    {
     "name": "stdout",
     "output_type": "stream",
     "text": [
      "PCA(n_components=8)\n"
     ]
    }
   ],
   "source": [
    "print(sklearn_pca)"
   ]
  },
  {
   "cell_type": "code",
   "execution_count": 19,
   "id": "faf004da",
   "metadata": {},
   "outputs": [],
   "source": [
    "# Here, pca.components_ has shape [n_components, n_features]. \n",
    "#Thus, by looking at the PC1 (First Principal Component) which is the first row: [0.52237162 0.26335492 0.58125401 0.56561105]] we can conclude \n",
    "# that feature 1, 3 and 4 (or Var 1, 3 and 4 in the biplot) are the most important"
   ]
  },
  {
   "cell_type": "code",
   "execution_count": 20,
   "id": "a443005c",
   "metadata": {},
   "outputs": [
    {
     "data": {
      "text/plain": [
       "array([8.88546635e-01, 6.15907837e-02, 2.57901189e-02, 1.30861374e-02,\n",
       "       7.44093864e-03, 3.02614919e-03, 5.12444875e-04, 6.79264301e-06])"
      ]
     },
     "execution_count": 20,
     "metadata": {},
     "output_type": "execute_result"
    }
   ],
   "source": [
    "sklearn_pca.explained_variance_ratio_"
   ]
  },
  {
   "cell_type": "code",
   "execution_count": 21,
   "id": "06c3308f",
   "metadata": {},
   "outputs": [
    {
     "name": "stdout",
     "output_type": "stream",
     "text": [
      "[[0.00202177 0.09781158 0.01609305 0.06075669 0.99311084 0.01401081\n",
      "  0.00053717 0.00356474]\n",
      " [0.02264889 0.97221004 0.14190933 0.05786147 0.09462669 0.04697298\n",
      "  0.0008168  0.14016818]\n",
      " [0.0224649  0.14342871 0.92246719 0.30701306 0.0209773  0.13244454\n",
      "  0.00063998 0.12545431]\n",
      " [0.04904596 0.11983002 0.26274279 0.88436938 0.06555036 0.19280173\n",
      "  0.00269909 0.30102433]\n",
      " [0.15161287 0.08794077 0.23216501 0.25997349 0.00017231 0.02147448\n",
      "  0.00164081 0.9205049 ]\n",
      " [0.00504731 0.05073918 0.07563655 0.22136307 0.00613326 0.97077671\n",
      "  0.00202904 0.01511332]\n",
      " [0.98667299 0.00088343 0.00122976 0.00037644 0.00142307 0.00273046\n",
      "  0.00634403 0.16255534]\n",
      " [0.00610123 0.00082546 0.00052087 0.00254872 0.00026897 0.00267342\n",
      "  0.99997215 0.00195272]]\n"
     ]
    }
   ],
   "source": [
    "np.set_printoptions(suppress=True)\n",
    "print(abs(sklearn_pca.components_ ))\n",
    "#  you can get the eigenvectors using clf.components_.\n",
    "\n",
    "# hiding e-03 like\n",
    "# order : 5 variable\n",
    "# order 2 variable"
   ]
  },
  {
   "cell_type": "code",
   "execution_count": 22,
   "id": "11e7bd8f",
   "metadata": {},
   "outputs": [
    {
     "data": {
      "text/html": [
       "<div>\n",
       "<style scoped>\n",
       "    .dataframe tbody tr th:only-of-type {\n",
       "        vertical-align: middle;\n",
       "    }\n",
       "\n",
       "    .dataframe tbody tr th {\n",
       "        vertical-align: top;\n",
       "    }\n",
       "\n",
       "    .dataframe thead th {\n",
       "        text-align: right;\n",
       "    }\n",
       "</style>\n",
       "<table border=\"1\" class=\"dataframe\">\n",
       "  <thead>\n",
       "    <tr style=\"text-align: right;\">\n",
       "      <th></th>\n",
       "      <th>Explained Variance</th>\n",
       "      <th>Pregnancies</th>\n",
       "      <th>Glucose</th>\n",
       "      <th>BloodPressure</th>\n",
       "      <th>SkinThickness</th>\n",
       "      <th>Insulin</th>\n",
       "      <th>BMI</th>\n",
       "      <th>DiabetesPedigreeFunction</th>\n",
       "      <th>Age</th>\n",
       "    </tr>\n",
       "  </thead>\n",
       "  <tbody>\n",
       "    <tr>\n",
       "      <th>Dimension 1</th>\n",
       "      <td>0.89</td>\n",
       "      <td>-0.00</td>\n",
       "      <td>0.10</td>\n",
       "      <td>0.02</td>\n",
       "      <td>0.06</td>\n",
       "      <td>0.99</td>\n",
       "      <td>0.01</td>\n",
       "      <td>0.00</td>\n",
       "      <td>-0.00</td>\n",
       "    </tr>\n",
       "    <tr>\n",
       "      <th>Dimension 2</th>\n",
       "      <td>0.95</td>\n",
       "      <td>-0.02</td>\n",
       "      <td>-0.87</td>\n",
       "      <td>-0.12</td>\n",
       "      <td>0.12</td>\n",
       "      <td>1.08</td>\n",
       "      <td>-0.04</td>\n",
       "      <td>0.00</td>\n",
       "      <td>-0.14</td>\n",
       "    </tr>\n",
       "    <tr>\n",
       "      <th>Dimension 3</th>\n",
       "      <td>0.98</td>\n",
       "      <td>-0.04</td>\n",
       "      <td>-0.73</td>\n",
       "      <td>-1.04</td>\n",
       "      <td>-0.19</td>\n",
       "      <td>1.10</td>\n",
       "      <td>-0.17</td>\n",
       "      <td>0.00</td>\n",
       "      <td>-0.27</td>\n",
       "    </tr>\n",
       "    <tr>\n",
       "      <th>Dimension 4</th>\n",
       "      <td>0.99</td>\n",
       "      <td>-0.09</td>\n",
       "      <td>-0.61</td>\n",
       "      <td>-1.30</td>\n",
       "      <td>0.69</td>\n",
       "      <td>1.03</td>\n",
       "      <td>0.02</td>\n",
       "      <td>0.00</td>\n",
       "      <td>-0.57</td>\n",
       "    </tr>\n",
       "    <tr>\n",
       "      <th>Dimension 5</th>\n",
       "      <td>1.00</td>\n",
       "      <td>0.06</td>\n",
       "      <td>-0.70</td>\n",
       "      <td>-1.53</td>\n",
       "      <td>0.95</td>\n",
       "      <td>1.03</td>\n",
       "      <td>0.04</td>\n",
       "      <td>0.00</td>\n",
       "      <td>0.35</td>\n",
       "    </tr>\n",
       "    <tr>\n",
       "      <th>Dimension 6</th>\n",
       "      <td>1.00</td>\n",
       "      <td>0.05</td>\n",
       "      <td>-0.65</td>\n",
       "      <td>-1.45</td>\n",
       "      <td>1.17</td>\n",
       "      <td>1.02</td>\n",
       "      <td>-0.93</td>\n",
       "      <td>0.00</td>\n",
       "      <td>0.33</td>\n",
       "    </tr>\n",
       "    <tr>\n",
       "      <th>Dimension 7</th>\n",
       "      <td>1.00</td>\n",
       "      <td>1.04</td>\n",
       "      <td>-0.65</td>\n",
       "      <td>-1.45</td>\n",
       "      <td>1.17</td>\n",
       "      <td>1.02</td>\n",
       "      <td>-0.93</td>\n",
       "      <td>-0.01</td>\n",
       "      <td>0.17</td>\n",
       "    </tr>\n",
       "    <tr>\n",
       "      <th>Dimension 8</th>\n",
       "      <td>1.00</td>\n",
       "      <td>1.05</td>\n",
       "      <td>-0.65</td>\n",
       "      <td>-1.45</td>\n",
       "      <td>1.17</td>\n",
       "      <td>1.02</td>\n",
       "      <td>-0.93</td>\n",
       "      <td>0.99</td>\n",
       "      <td>0.17</td>\n",
       "    </tr>\n",
       "  </tbody>\n",
       "</table>\n",
       "</div>"
      ],
      "text/plain": [
       "             Explained Variance  Pregnancies  Glucose  BloodPressure  \\\n",
       "Dimension 1                0.89        -0.00     0.10           0.02   \n",
       "Dimension 2                0.95        -0.02    -0.87          -0.12   \n",
       "Dimension 3                0.98        -0.04    -0.73          -1.04   \n",
       "Dimension 4                0.99        -0.09    -0.61          -1.30   \n",
       "Dimension 5                1.00         0.06    -0.70          -1.53   \n",
       "Dimension 6                1.00         0.05    -0.65          -1.45   \n",
       "Dimension 7                1.00         1.04    -0.65          -1.45   \n",
       "Dimension 8                1.00         1.05    -0.65          -1.45   \n",
       "\n",
       "             SkinThickness  Insulin   BMI  DiabetesPedigreeFunction   Age  \n",
       "Dimension 1           0.06     0.99  0.01                      0.00 -0.00  \n",
       "Dimension 2           0.12     1.08 -0.04                      0.00 -0.14  \n",
       "Dimension 3          -0.19     1.10 -0.17                      0.00 -0.27  \n",
       "Dimension 4           0.69     1.03  0.02                      0.00 -0.57  \n",
       "Dimension 5           0.95     1.03  0.04                      0.00  0.35  \n",
       "Dimension 6           1.17     1.02 -0.93                      0.00  0.33  \n",
       "Dimension 7           1.17     1.02 -0.93                     -0.01  0.17  \n",
       "Dimension 8           1.17     1.02 -0.93                      0.99  0.17  "
      ]
     },
     "execution_count": 22,
     "metadata": {},
     "output_type": "execute_result"
    }
   ],
   "source": [
    "pca_results.cumsum()"
   ]
  },
  {
   "cell_type": "code",
   "execution_count": 112,
   "id": "40332476",
   "metadata": {},
   "outputs": [
    {
     "data": {
      "text/plain": [
       "array([100., 100., 100., 100., 100., 100., 100., 100., 100.])"
      ]
     },
     "execution_count": 112,
     "metadata": {},
     "output_type": "execute_result"
    }
   ],
   "source": [
    "sklearn_pca.fit(X)\n",
    "variance = sklearn_pca.explained_variance_ratio_ #calculate variance ratios\n",
    "\n",
    "var=np.cumsum(np.round(sklearn_pca.explained_variance_ratio_, decimals=3)*100)\n",
    "var #cumulative sum of variance explained with [n] features : till above 75%"
   ]
  },
  {
   "cell_type": "code",
   "execution_count": 23,
   "id": "f206f541",
   "metadata": {},
   "outputs": [],
   "source": [
    "##############################"
   ]
  },
  {
   "cell_type": "code",
   "execution_count": 24,
   "id": "29c1ea22",
   "metadata": {},
   "outputs": [],
   "source": [
    "# The eigenvectors and eigenvalues of a covariance (or correlation) matrix represent the \"core\" of a PCA: \n",
    "#    The eigenvectors (principal components) determine the directions of the new feature space, and \n",
    "#    the eigenvalues determine their magnitude. \n",
    "#    In other words, the eigenvalues explain the variance of the data along the new feature axes."
   ]
  },
  {
   "cell_type": "code",
   "execution_count": 26,
   "id": "f2652a6a",
   "metadata": {},
   "outputs": [
    {
     "name": "stdout",
     "output_type": "stream",
     "text": [
      "NumPy covariance matrix: \n",
      "[[13456.57298102    -0.             0.            -0.\n",
      "     -0.            -0.            -0.            -0.        ]\n",
      " [   -0.           932.76013231     0.            -0.\n",
      "     -0.            -0.            -0.            -0.        ]\n",
      " [    0.             0.           390.57783115    -0.\n",
      "      0.             0.            -0.            -0.        ]\n",
      " [   -0.            -0.            -0.           198.18269105\n",
      "     -0.             0.            -0.             0.        ]\n",
      " [   -0.            -0.             0.            -0.\n",
      "    112.68911496    -0.             0.             0.        ]\n",
      " [   -0.            -0.             0.             0.\n",
      "     -0.            45.82944307     0.            -0.        ]\n",
      " [   -0.            -0.            -0.            -0.\n",
      "      0.             0.             7.76070899     0.        ]\n",
      " [   -0.            -0.            -0.             0.\n",
      "      0.            -0.             0.             0.10287102]]\n"
     ]
    }
   ],
   "source": [
    "print('NumPy covariance matrix: \\n%s' %np.cov(X_std.T))"
   ]
  },
  {
   "cell_type": "code",
   "execution_count": 27,
   "id": "678f6c23",
   "metadata": {},
   "outputs": [
    {
     "name": "stdout",
     "output_type": "stream",
     "text": [
      "Eigenvectors \n",
      "[[ 1.  0. -0. -0.  0. -0.  0.  0.]\n",
      " [ 0.  1. -0.  0.  0.  0.  0.  0.]\n",
      " [ 0.  0.  1.  0. -0.  0. -0. -0.]\n",
      " [ 0. -0. -0. -1. -0.  0. -0. -0.]\n",
      " [ 0. -0.  0.  0.  1. -0. -0. -0.]\n",
      " [ 0. -0. -0.  0. -0. -1. -0.  0.]\n",
      " [ 0. -0.  0. -0. -0.  0.  1. -0.]\n",
      " [ 0.  0. -0.  0. -0.  0.  0.  1.]]\n",
      "\n",
      "Eigenvalues \n",
      "[13456.57298102   932.76013231   390.57783115   198.18269105\n",
      "   112.68911496    45.82944307     7.76070899     0.10287102]\n"
     ]
    }
   ],
   "source": [
    "# we perform an eigendecomposition on the covariance matrix:\n",
    "cov_mat = np.cov(X_std.T)\n",
    "eig_vals, eig_vecs = np.linalg.eig(cov_mat)\n",
    "print('Eigenvectors \\n%s' %eig_vecs)\n",
    "print('\\nEigenvalues \\n%s' %eig_vals)"
   ]
  },
  {
   "cell_type": "code",
   "execution_count": 28,
   "id": "457bac39",
   "metadata": {},
   "outputs": [
    {
     "data": {
      "text/plain": [
       "array([ 88.85466346,  95.01374183,  97.59275372,  98.90136747,\n",
       "        99.64546133,  99.94807625,  99.99932074, 100.        ])"
      ]
     },
     "execution_count": 28,
     "metadata": {},
     "output_type": "execute_result"
    }
   ],
   "source": [
    "tot = sum(eig_vals)\n",
    "var_exp = [(i / tot)*100 for i in sorted(eig_vals, reverse=True)]\n",
    "cum_var_exp = np.cumsum(var_exp)\n",
    "\n",
    "cum_var_exp"
   ]
  },
  {
   "cell_type": "code",
   "execution_count": 29,
   "id": "6e11f4bd",
   "metadata": {},
   "outputs": [],
   "source": [
    "# How to know, what contributing PCA1 ??\n",
    "# Feature importance using PCA\n",
    "\n",
    "#The plot above clearly shows that most of the variance (72.77% of the variance to be precise)\n",
    "#can be explained by the first principal component alone. \n",
    "#The second principal component still bears some information (23.03%) while the third and\n",
    "#fourth principal components can safely be dropped without losing to much information. \n",
    "#Together, the first two principal components contain 95.8% of the information."
   ]
  },
  {
   "cell_type": "code",
   "execution_count": 30,
   "id": "6598d4f9",
   "metadata": {},
   "outputs": [
    {
     "data": {
      "image/png": "[encoded data removed]",
      "text/plain": [
       "<Figure size 432x288 with 1 Axes>"
      ]
     },
     "metadata": {
      "needs_background": "light"
     },
     "output_type": "display_data"
    }
   ],
   "source": [
    "# scree plot - Like Elbow\n",
    "import numpy as np\n",
    "import matplotlib\n",
    "import matplotlib.pyplot as plt\n",
    "\n",
    "#pca = sklearnPCA(n_components=2)\n",
    "PC_values = np.arange(sklearn_pca.n_components_) + 1\n",
    "\n",
    "# explained_variance_ratio = EVR\n",
    "plt.plot(PC_values, sklearn_pca.explained_variance_ratio_, 'ro-', linewidth=2)\n",
    "plt.title('Scree Plot')\n",
    "plt.xlabel('Principal Component')\n",
    "plt.ylabel('Proportion of Variance Explained')\n",
    "plt.show()"
   ]
  },
  {
   "cell_type": "code",
   "execution_count": 42,
   "id": "b43a2347",
   "metadata": {},
   "outputs": [],
   "source": [
    "# Factor Loadings\n",
    "# eigen vecror for above is 0.8"
   ]
  },
  {
   "cell_type": "code",
   "execution_count": 38,
   "id": "3e9a9b37",
   "metadata": {},
   "outputs": [
    {
     "data": {
      "text/html": [
       "<div>\n",
       "<style scoped>\n",
       "    .dataframe tbody tr th:only-of-type {\n",
       "        vertical-align: middle;\n",
       "    }\n",
       "\n",
       "    .dataframe tbody tr th {\n",
       "        vertical-align: top;\n",
       "    }\n",
       "\n",
       "    .dataframe thead th {\n",
       "        text-align: right;\n",
       "    }\n",
       "</style>\n",
       "<table border=\"1\" class=\"dataframe\">\n",
       "  <thead>\n",
       "    <tr style=\"text-align: right;\">\n",
       "      <th></th>\n",
       "      <th>PC1</th>\n",
       "      <th>PC2</th>\n",
       "      <th>PC3</th>\n",
       "      <th>PC4</th>\n",
       "      <th>PC5</th>\n",
       "      <th>PC6</th>\n",
       "      <th>PC7</th>\n",
       "      <th>PC8</th>\n",
       "    </tr>\n",
       "  </thead>\n",
       "  <tbody>\n",
       "    <tr>\n",
       "      <th>Pregnancies</th>\n",
       "      <td>-0.002022</td>\n",
       "      <td>-0.022649</td>\n",
       "      <td>-0.022465</td>\n",
       "      <td>-0.049046</td>\n",
       "      <td>0.151613</td>\n",
       "      <td>-0.005047</td>\n",
       "      <td>0.986673</td>\n",
       "      <td>0.006101</td>\n",
       "    </tr>\n",
       "    <tr>\n",
       "      <th>Glucose</th>\n",
       "      <td>0.097812</td>\n",
       "      <td>-0.972210</td>\n",
       "      <td>0.143429</td>\n",
       "      <td>0.119830</td>\n",
       "      <td>-0.087941</td>\n",
       "      <td>0.050739</td>\n",
       "      <td>0.000883</td>\n",
       "      <td>-0.000825</td>\n",
       "    </tr>\n",
       "    <tr>\n",
       "      <th>BloodPressure</th>\n",
       "      <td>0.016093</td>\n",
       "      <td>-0.141909</td>\n",
       "      <td>-0.922467</td>\n",
       "      <td>-0.262743</td>\n",
       "      <td>-0.232165</td>\n",
       "      <td>0.075637</td>\n",
       "      <td>-0.001230</td>\n",
       "      <td>0.000521</td>\n",
       "    </tr>\n",
       "    <tr>\n",
       "      <th>SkinThickness</th>\n",
       "      <td>0.060757</td>\n",
       "      <td>0.057861</td>\n",
       "      <td>-0.307013</td>\n",
       "      <td>0.884369</td>\n",
       "      <td>0.259973</td>\n",
       "      <td>0.221363</td>\n",
       "      <td>-0.000376</td>\n",
       "      <td>-0.002549</td>\n",
       "    </tr>\n",
       "    <tr>\n",
       "      <th>Insulin</th>\n",
       "      <td>0.993111</td>\n",
       "      <td>0.094627</td>\n",
       "      <td>0.020977</td>\n",
       "      <td>-0.065550</td>\n",
       "      <td>-0.000172</td>\n",
       "      <td>-0.006133</td>\n",
       "      <td>0.001423</td>\n",
       "      <td>-0.000269</td>\n",
       "    </tr>\n",
       "    <tr>\n",
       "      <th>BMI</th>\n",
       "      <td>0.014011</td>\n",
       "      <td>-0.046973</td>\n",
       "      <td>-0.132445</td>\n",
       "      <td>0.192802</td>\n",
       "      <td>0.021474</td>\n",
       "      <td>-0.970777</td>\n",
       "      <td>-0.002730</td>\n",
       "      <td>-0.002673</td>\n",
       "    </tr>\n",
       "    <tr>\n",
       "      <th>DiabetesPedigreeFunction</th>\n",
       "      <td>0.000537</td>\n",
       "      <td>-0.000817</td>\n",
       "      <td>-0.000640</td>\n",
       "      <td>0.002699</td>\n",
       "      <td>0.001641</td>\n",
       "      <td>-0.002029</td>\n",
       "      <td>-0.006344</td>\n",
       "      <td>0.999972</td>\n",
       "    </tr>\n",
       "    <tr>\n",
       "      <th>Age</th>\n",
       "      <td>-0.003565</td>\n",
       "      <td>-0.140168</td>\n",
       "      <td>-0.125454</td>\n",
       "      <td>-0.301024</td>\n",
       "      <td>0.920505</td>\n",
       "      <td>-0.015113</td>\n",
       "      <td>-0.162555</td>\n",
       "      <td>-0.001953</td>\n",
       "    </tr>\n",
       "  </tbody>\n",
       "</table>\n",
       "</div>"
      ],
      "text/plain": [
       "                               PC1       PC2       PC3       PC4       PC5  \\\n",
       "Pregnancies              -0.002022 -0.022649 -0.022465 -0.049046  0.151613   \n",
       "Glucose                   0.097812 -0.972210  0.143429  0.119830 -0.087941   \n",
       "BloodPressure             0.016093 -0.141909 -0.922467 -0.262743 -0.232165   \n",
       "SkinThickness             0.060757  0.057861 -0.307013  0.884369  0.259973   \n",
       "Insulin                   0.993111  0.094627  0.020977 -0.065550 -0.000172   \n",
       "BMI                       0.014011 -0.046973 -0.132445  0.192802  0.021474   \n",
       "DiabetesPedigreeFunction  0.000537 -0.000817 -0.000640  0.002699  0.001641   \n",
       "Age                      -0.003565 -0.140168 -0.125454 -0.301024  0.920505   \n",
       "\n",
       "                               PC6       PC7       PC8  \n",
       "Pregnancies              -0.005047  0.986673  0.006101  \n",
       "Glucose                   0.050739  0.000883 -0.000825  \n",
       "BloodPressure             0.075637 -0.001230  0.000521  \n",
       "SkinThickness             0.221363 -0.000376 -0.002549  \n",
       "Insulin                  -0.006133  0.001423 -0.000269  \n",
       "BMI                      -0.970777 -0.002730 -0.002673  \n",
       "DiabetesPedigreeFunction -0.002029 -0.006344  0.999972  \n",
       "Age                      -0.015113 -0.162555 -0.001953  "
      ]
     },
     "execution_count": 38,
     "metadata": {},
     "output_type": "execute_result"
    }
   ],
   "source": [
    "loadings = pd.DataFrame(sklearn_pca.components_.T, columns=['PC1', 'PC2', 'PC3', 'PC4', 'PC5', 'PC6','PC7','PC8'], \n",
    "                        index=df2.columns)\n",
    "loadings"
   ]
  },
  {
   "cell_type": "code",
   "execution_count": 39,
   "id": "7de00e4d",
   "metadata": {},
   "outputs": [],
   "source": [
    "# one eigenvalue criterion\n",
    "# https://www.datasklr.com/principal-component-analysis-and-factor-analysis/principal-component-analysis"
   ]
  },
  {
   "cell_type": "code",
   "execution_count": 40,
   "id": "03561e71",
   "metadata": {},
   "outputs": [],
   "source": [
    "\n",
    "#  1. One criterion is the choose components that have eigenvalues greater than 1\n",
    "\n",
    "#Choosing the number of components to extract\n",
    "#Since the goal of running a PCA is to reduce our set of variables down, \n",
    "#it would useful to have a criterion for selecting the optimal number of components that are of course \n",
    "#smaller than the total number of items. One criterion is the choose components that have eigenvalues greater than 1.\n",
    "#Under the Total Variance Explained table, we see the first two components have an eigenvalue greater than 1. \n",
    "#This can be confirmed by the Scree Plot which plots the eigenvalue (total variance explained) by the component number. "
   ]
  },
  {
   "cell_type": "code",
   "execution_count": 43,
   "id": "e420ff08",
   "metadata": {},
   "outputs": [],
   "source": [
    "# https://stats.idre.ucla.edu/spss/seminars/efa-spss/\n",
    "\n",
    "# https://bradleyboehmke.github.io/HOML/pca.html"
   ]
  },
  {
   "cell_type": "code",
   "execution_count": 109,
   "id": "3f4e1401",
   "metadata": {},
   "outputs": [
    {
     "data": {
      "image/png": "[encoded data removed]",
      "text/plain": [
       "<Figure size 432x288 with 1 Axes>"
      ]
     },
     "metadata": {
      "needs_background": "light"
     },
     "output_type": "display_data"
    }
   ],
   "source": [
    "# Plot the explained variances\n",
    "features = range(sklearn_pca.n_components_)\n",
    "plt.bar(features, sklearn_pca.explained_variance_)\n",
    "plt.xlabel('PCA feature')\n",
    "plt.ylabel('Variance')\n",
    "plt.xticks(features)\n",
    "plt.show()"
   ]
  },
  {
   "cell_type": "raw",
   "id": "414b4b49",
   "metadata": {},
   "source": [
    "#Reduction of variables using Recursive Feature Elimination(RFE) techineque\n",
    "\n",
    "from sklearn.feature_selection import RFE\n",
    "\n",
    "# RFE with 10 features\n",
    "\n",
    "rfe_10 = RFE(Rf,10)\n",
    "\n",
    "rfe_10.fit(X_train, y_train)\n",
    "\n",
    "# selected features\n",
    "features_bool = np.array(rfe_10.support_)\n",
    "features = np.array(X_col)\n",
    "result = features[features_bool]\n",
    "print('10 selected Features:')\n",
    "print(result)    "
   ]
  },
  {
   "cell_type": "raw",
   "id": "348473f8",
   "metadata": {},
   "source": [
    "\n",
    "#sorting features with their importance\n",
    "feature_importances = pd.DataFrame(Rf.feature_importances_,\n",
    "                                   index = X_col_imp,\n",
    "                                    columns=['importance']).sort_values('importance',ascending=False)\n",
    "\n",
    "print(feature_importances)\n",
    "features =X_col_imp\n",
    "importances = Rf.feature_importances_\n",
    "indices = np.argsort(importances)\n",
    "\n",
    "plt.title('Feature Importances')\n",
    "plt.barh(range(len(indices)), importances[indices], color='gray', align='center')\n",
    "plt.yticks(range(len(indices)), [features[i] for i in indices])\n",
    "plt.xlabel('Relative Importance')\n",
    "plt.show()"
   ]
  },
  {
   "cell_type": "raw",
   "id": "10b13137",
   "metadata": {},
   "source": []
  },
  {
   "cell_type": "code",
   "execution_count": null,
   "id": "281e321f",
   "metadata": {},
   "outputs": [],
   "source": []
  }
 ],
 "metadata": {
  "kernelspec": {
   "display_name": "Python 3",
   "language": "python",
   "name": "python3"
  },
  "language_info": {
   "codemirror_mode": {
    "name": "ipython",
    "version": 3
   },
   "file_extension": ".py",
   "mimetype": "text/x-python",
   "name": "python",
   "nbconvert_exporter": "python",
   "pygments_lexer": "ipython3",
   "version": "3.8.8"
  }
 },
 "nbformat": 4,
 "nbformat_minor": 5
}
