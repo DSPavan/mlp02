{
 "cells": [
  {
   "cell_type": "code",
   "execution_count": 1,
   "id": "3bfc1e47",
   "metadata": {},
   "outputs": [],
   "source": [
    "# Function, Purpose,use, Creating a Function, Calling a function\n",
    "\n",
    "# special functions\n",
    "# *argv, **kwargs\n",
    "# lambda, Map, Zip, reduce, filter - \n",
    "\n",
    "# Decorators\n",
    "# Generators\n",
    "# Iterators\n",
    "## Function file import into another file\n",
    "\n",
    "# BMI userdefined function, full code in  separate file"
   ]
  },
  {
   "cell_type": "code",
   "execution_count": 2,
   "id": "cc618872",
   "metadata": {},
   "outputs": [
    {
     "name": "stdout",
     "output_type": "stream",
     "text": [
      "30\n"
     ]
    }
   ],
   "source": [
    "# function\n",
    "\n",
    "def sum(a=10,b=20):\n",
    "    \"sum of two values\"\n",
    "    c = a+b\n",
    "    return c\n",
    "\n",
    "\n",
    "total = sum()\n",
    "print(total)"
   ]
  },
  {
   "cell_type": "code",
   "execution_count": 3,
   "id": "12d85343",
   "metadata": {},
   "outputs": [
    {
     "name": "stdout",
     "output_type": "stream",
     "text": [
      "50\n",
      "50\n",
      "50\n"
     ]
    }
   ],
   "source": [
    "# 4 ways - !!\n",
    "# Required arguments \n",
    "def test(x,y):\n",
    "    print(x+y)\n",
    "\n",
    "test(20,30)\n",
    "\n",
    "# Default arguments \n",
    "def test(x,y=30):\n",
    "    print(x+y)\n",
    "\n",
    "test(20) # Y value not givn,, From default\n",
    "\n",
    "# Keyword arguments  - Order does not matter\n",
    "test(y=30,x=20)"
   ]
  },
  {
   "cell_type": "code",
   "execution_count": 4,
   "id": "17ccb8d9",
   "metadata": {},
   "outputs": [
    {
     "data": {
      "text/plain": [
       "100"
      ]
     },
     "execution_count": 4,
     "metadata": {},
     "output_type": "execute_result"
    }
   ],
   "source": [
    "# Variable-length arguments \n",
    "def test(x,*y):\n",
    "    for value in y:\n",
    "        #print(x,value)\n",
    "        x = (x+value)\n",
    "        #print(x)\n",
    "    return x\n",
    "\n",
    "test(20,30,50)"
   ]
  },
  {
   "cell_type": "code",
   "execution_count": 5,
   "id": "1945307b",
   "metadata": {},
   "outputs": [
    {
     "name": "stdout",
     "output_type": "stream",
     "text": [
      "Value of total :  30\n"
     ]
    }
   ],
   "source": [
    "# Lambda Functions - Limitation, Only one expression\n",
    "# Function definition is here\n",
    "sum = lambda X, Y : X + Y;\n",
    "\n",
    "# Now you can call sum as a function\n",
    "print (\"Value of total : \", sum( 10, 20 ))"
   ]
  },
  {
   "cell_type": "code",
   "execution_count": 6,
   "id": "45d470af",
   "metadata": {},
   "outputs": [
    {
     "name": "stdout",
     "output_type": "stream",
     "text": [
      "20\n"
     ]
    }
   ],
   "source": [
    "add = lambda x, y,z : x*y+ z \n",
    "  \n",
    "print (add(2, 5,10)) # Output: 5"
   ]
  },
  {
   "cell_type": "code",
   "execution_count": 7,
   "id": "495e79f1",
   "metadata": {},
   "outputs": [
    {
     "name": "stdout",
     "output_type": "stream",
     "text": [
      "first argument : 100\n",
      "Next argument through *argv : 2\n",
      "Arg 2\n",
      "Next argument through *argv : 5\n",
      "Arg 10\n",
      "5 10\n",
      "110\n"
     ]
    }
   ],
   "source": [
    "##  *ARGV \n",
    "# Very important\n",
    "# for group of items inArguments\n",
    "def mulitply(arg1, *argv):\n",
    "    print (\"first argument :\", arg1)\n",
    "    amt = 1;\n",
    "    for arg in argv:\n",
    "        print (\"Next argument through *argv :\", arg)\n",
    "        amt *= arg\n",
    "        print(\"Arg\",amt)\n",
    "    print(arg ,amt)    \n",
    "    return amt+arg1    \n",
    "        \n",
    "\n",
    "    \n",
    "# 100 +( 2*5*N)  = (2,5,10) etc\n",
    "m  = mulitply(100,2,5)\n",
    "print(m)"
   ]
  },
  {
   "cell_type": "code",
   "execution_count": 8,
   "id": "5db61abc",
   "metadata": {},
   "outputs": [
    {
     "name": "stdout",
     "output_type": "stream",
     "text": [
      "arg3 == 3\n",
      "arg2 == two\n",
      "arg1 == 5\n"
     ]
    }
   ],
   "source": [
    "## KWARGS - Dictionary\n",
    "\n",
    "def hello(**kwargs):\n",
    "    if kwargs is not None:\n",
    "        for key, value in kwargs.items():\n",
    "            print (\"%s == %s\" %(key, value))\n",
    "            \n",
    "            \n",
    "kwargs = {\"arg3\": 3, \"arg2\": \"two\",\"arg1\":5}\n",
    "x = hello(**kwargs)"
   ]
  },
  {
   "cell_type": "code",
   "execution_count": 9,
   "id": "93714548",
   "metadata": {},
   "outputs": [
    {
     "name": "stdout",
     "output_type": "stream",
     "text": [
      "[2, 4, 6, 8]\n"
     ]
    }
   ],
   "source": [
    "# MAP function - Iteration on List, without using for Loop\n",
    "\n",
    "def multiply2(x):\n",
    "  return x * 2\n",
    "    \n",
    "ans = map(multiply2, [1, 2, 3, 4]) \n",
    "print(list(ans))"
   ]
  },
  {
   "cell_type": "code",
   "execution_count": 10,
   "id": "56c4995d",
   "metadata": {},
   "outputs": [
    {
     "name": "stdout",
     "output_type": "stream",
     "text": [
      "['python', 'java']\n",
      "[100, 80]\n",
      "[True, False]\n"
     ]
    }
   ],
   "source": [
    "# Dictionary\n",
    "dict_a = [{'name': 'python', 'points': 10}, {'name': 'java', 'points': 8}]\n",
    "  \n",
    "m1 = map(lambda x : x['name'], dict_a) # Output: ['python', 'java']\n",
    "  \n",
    "m2 = map(lambda x : x['points']*10,  dict_a) # Output: [100, 80]\n",
    "\n",
    "m3 = map(lambda x : x['name'] == \"python\", dict_a) # Output: [True, False] \n",
    "\n",
    "\n",
    "print(list(m1))\n",
    "print(list(m2))\n",
    "print(list(m3))"
   ]
  },
  {
   "cell_type": "code",
   "execution_count": 11,
   "id": "1d3c073b",
   "metadata": {},
   "outputs": [
    {
     "name": "stdout",
     "output_type": "stream",
     "text": [
      "[2, 4, 6]\n"
     ]
    }
   ],
   "source": [
    "# Filter\n",
    "a = [1, 2, 3, 4, 5, 6]\n",
    "ft = filter(lambda x : x % 2 == 0, a) # Output: [2, 4, 6]\n",
    "print(list(ft))"
   ]
  },
  {
   "cell_type": "code",
   "execution_count": 12,
   "id": "5d8bc0b6",
   "metadata": {},
   "outputs": [
    {
     "name": "stdout",
     "output_type": "stream",
     "text": [
      "[(1, 'a'), (2, 'b'), (3, 'c'), (4, 'd'), (5, 'e')]\n"
     ]
    }
   ],
   "source": [
    "# ZIp - Join 2 Lists - Actually Adding two columns side by side - Cbind in R\n",
    "list_a = [1, 2, 3, 4, 5]\n",
    "list_b = ['a', 'b', 'c', 'd', 'e']\n",
    "\n",
    "zipped_list = zip(list_a, list_b)\n",
    "\n",
    "print (list(zipped_list))"
   ]
  },
  {
   "cell_type": "code",
   "execution_count": 13,
   "id": "b518860f",
   "metadata": {},
   "outputs": [
    {
     "name": "stdout",
     "output_type": "stream",
     "text": [
      "(1, 2, 3)\n",
      "('a', 'b', 'c')\n"
     ]
    }
   ],
   "source": [
    "# zip to unzip\n",
    "zipper_list = [(1, 'a'), (2, 'b'), (3, 'c')]\n",
    " \n",
    "list_a, list_b = zip(*zipper_list)\n",
    "\n",
    "print(list_a)\n",
    "print(list_b)"
   ]
  },
  {
   "cell_type": "code",
   "execution_count": 14,
   "id": "ccd134aa",
   "metadata": {},
   "outputs": [
    {
     "name": "stdout",
     "output_type": "stream",
     "text": [
      "[1, 4, 9, 16]\n"
     ]
    }
   ],
   "source": [
    "# without List comprehension\n",
    "numbers = [1, 2, 3, 4]\n",
    "squares = []\n",
    "\n",
    "for n in numbers:\n",
    "  squares.append(n**2)\n",
    "\n",
    "print(squares)  # Output: [1, 4, 9, 16]"
   ]
  },
  {
   "cell_type": "code",
   "execution_count": 15,
   "id": "119cb2ca",
   "metadata": {},
   "outputs": [
    {
     "name": "stdout",
     "output_type": "stream",
     "text": [
      "[1, 4, 9, 16]\n"
     ]
    }
   ],
   "source": [
    "# with List Comprehension - Oneliner/simplified code - for experts\n",
    "\n",
    "numbers = [1, 2, 3, 4]\n",
    "squares = [n**2 for n in numbers]\n",
    "\n",
    "print(squares)  # Output: [1, 4, 9, 16]"
   ]
  },
  {
   "cell_type": "code",
   "execution_count": 16,
   "id": "aeedb023",
   "metadata": {},
   "outputs": [
    {
     "name": "stdout",
     "output_type": "stream",
     "text": [
      "Wrapper function started\n",
      "Hello Friends\n",
      "Wrapper function ended\n"
     ]
    }
   ],
   "source": [
    "# Decorator functions\n",
    "# # define another WRAPPER function which modifies some_func\n",
    "# Returns\n",
    "#  # Wrapper function add something to the passed function and decorator returns the wrapper function\n",
    "\n",
    "# Decorators\n",
    "def decorator_func(some_func):\n",
    "  # define another wrapper function which modifies some_func\n",
    "  def wrapper_func():\n",
    "    print(\"Wrapper function started\")\n",
    "    \n",
    "    some_func()\n",
    "    \n",
    "    print(\"Wrapper function ended\")\n",
    "    \n",
    "  return wrapper_func # Wrapper function add something to the passed function and decorator returns the wrapper function\n",
    "    \n",
    "def wishme():\n",
    "  print (\"Hello Friends\")\n",
    "  \n",
    "say_hello = decorator_func(wishme)\n",
    "\n",
    "say_hello()"
   ]
  },
  {
   "cell_type": "code",
   "execution_count": 17,
   "id": "b52820b3",
   "metadata": {},
   "outputs": [
    {
     "name": "stdout",
     "output_type": "stream",
     "text": [
      "Wrapper function started\n",
      "Hello IMARTICUS\n",
      "Wrapper function ended\n"
     ]
    }
   ],
   "source": [
    "@decorator_func\n",
    "##\n",
    "def say_hello():\n",
    "    print( 'Hello IMARTICUS')\n",
    " \n",
    "   \n",
    "say_hello()"
   ]
  },
  {
   "cell_type": "code",
   "execution_count": 18,
   "id": "c89e0e3b",
   "metadata": {},
   "outputs": [
    {
     "name": "stdout",
     "output_type": "stream",
     "text": [
      "Sum of all the numbers:  19998\n",
      "Time it took to run the function: 0.003250598907470703\n",
      "\n"
     ]
    }
   ],
   "source": [
    "# Decorators\n",
    "import time\n",
    "def timing_function(some_function):\n",
    "\n",
    "    \"\"\"\n",
    "    Outputs the time a function takes\n",
    "    to execute.\n",
    "    \"\"\"\n",
    "\n",
    "    def wrapper():\n",
    "        t1 = time.time()\n",
    "        some_function()\n",
    "        t2 = time.time()\n",
    "        return \"Time it took to run the function: \" + str((t2 - t1)) + \"\\n\"\n",
    "    return wrapper\n",
    "\n",
    "\n",
    "@timing_function\n",
    "def my_function():\n",
    "    num_list = []\n",
    "    for num in (range(0, 10000)):\n",
    "        #num_list.append(num)\n",
    "        num += num\n",
    "    print(\"Sum of all the numbers: \" , num)\n",
    "\n",
    "\n",
    "print(my_function())"
   ]
  },
  {
   "cell_type": "code",
   "execution_count": 19,
   "id": "4cd60d9e",
   "metadata": {},
   "outputs": [
    {
     "name": "stdout",
     "output_type": "stream",
     "text": [
      "1\n",
      "<set_iterator object at 0x000000B4236E3F40>\n",
      "[3, 5]\n",
      "<class 'set'>\n",
      "<class 'set_iterator'>\n"
     ]
    }
   ],
   "source": [
    "# iterator\n",
    "a_set = {1, 5, 3, 8}\n",
    "b_iterator = iter(a_set) \n",
    "next(b_iterator)\n",
    "print(next(b_iterator))\n",
    "print(b_iterator)\n",
    "print(list(b_iterator))\n",
    "\n",
    "print(type(a_set))\n",
    "print(type(b_iterator))"
   ]
  },
  {
   "cell_type": "code",
   "execution_count": 20,
   "id": "69dbbb0d",
   "metadata": {},
   "outputs": [
    {
     "name": "stdout",
     "output_type": "stream",
     "text": [
      "[1, 2, 3, 4, 5, 6, 7, 8, 9, 10]\n"
     ]
    }
   ],
   "source": [
    "# GENERATOR - YIELD\n",
    "def series_generator(low, high):\n",
    "    while low <= high:\n",
    "       yield low\n",
    "       low += 1\n",
    "\n",
    "n_list = []\n",
    "for num in series_generator(1,10):\n",
    "    n_list.append(num)\n",
    "\n",
    "print(n_list)"
   ]
  },
  {
   "cell_type": "code",
   "execution_count": 21,
   "id": "c8427511",
   "metadata": {},
   "outputs": [
    {
     "name": "stdout",
     "output_type": "stream",
     "text": [
      "weight ::  150 height :: 165\n",
      "In pounds :: 330.693\n",
      "In Inches  :: 64.9605\n",
      "BMI :: 55.091\n",
      "**************************************************\n",
      "weight ::  145 height :: 155\n",
      "In pounds :: 319.6699\n",
      "In Inches  :: 61.0235\n",
      "BMI :: 60.348\n",
      "**************************************************\n",
      "weight ::  182 height :: 162\n",
      "In pounds :: 401.24084\n",
      "In Inches  :: 63.7794\n",
      "BMI :: 69.343\n",
      "**************************************************\n"
     ]
    }
   ],
   "source": [
    "# BMI function\n",
    "\n",
    "weightkg = list((150,145,182))\n",
    "heightinCms = list((165,155,162))\n",
    "\n",
    "def BMI(w,h):\n",
    "    for wt, ht in zip(weightkg, heightinCms):\n",
    "        weightconst = 2.20462\n",
    "        # in =cm * 0.39370\n",
    "        heightconst = 0.39370\n",
    "        print(\"weight :: \",wt,\"height ::\", ht)\n",
    "        weightinPounds = float(wt*weightconst)\n",
    "        heightinInches = float(ht*heightconst)\n",
    "        print(\"In pounds ::\",weightinPounds)\n",
    "        print(\"In Inches  ::\",heightinInches)\n",
    "        out =  (weightinPounds / (heightinInches*heightinInches)) *703\n",
    "        print(\"BMI ::\",round(out,3))\n",
    "        print(\"*\"  * 50)\n",
    "        \n",
    "\n",
    "        \n",
    "BMI(weightkg,heightinCms)"
   ]
  },
  {
   "cell_type": "code",
   "execution_count": null,
   "id": "eac9bd39",
   "metadata": {},
   "outputs": [],
   "source": []
  }
 ],
 "metadata": {
  "kernelspec": {
   "display_name": "Python 3",
   "language": "python",
   "name": "python3"
  },
  "language_info": {
   "codemirror_mode": {
    "name": "ipython",
    "version": 3
   },
   "file_extension": ".py",
   "mimetype": "text/x-python",
   "name": "python",
   "nbconvert_exporter": "python",
   "pygments_lexer": "ipython3",
   "version": "3.8.8"
  }
 },
 "nbformat": 4,
 "nbformat_minor": 5
}
