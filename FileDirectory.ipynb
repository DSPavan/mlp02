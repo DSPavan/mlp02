{
 "cells": [
  {
   "cell_type": "code",
   "execution_count": 1,
   "id": "d5a849bd",
   "metadata": {},
   "outputs": [
    {
     "name": "stdout",
     "output_type": "stream",
     "text": [
      "Paralympic gold-winners Avani Lekhara, Sumit Antil, Pramod Bhagat, Krishna Nagar, Manish Narwal were also given the Khel Ratna at a dazzling awards ceremony on Saturday.\n"
     ]
    }
   ],
   "source": [
    "f = open(\"c:/users/radha/Desktop/dsp27 Class/sampletText.txt\", \"r\")\n",
    "print(f.read())"
   ]
  },
  {
   "cell_type": "code",
   "execution_count": 2,
   "id": "a4d96b4e",
   "metadata": {},
   "outputs": [],
   "source": [
    "f = open(\"c:/users/radha/Desktop/dsp27 Class/demofile1.txt\", \"w\")\n",
    "f.write(\"Hai imarticus!\")\n",
    "f.close()"
   ]
  },
  {
   "cell_type": "code",
   "execution_count": 3,
   "id": "b1f52da5",
   "metadata": {},
   "outputs": [
    {
     "name": "stdout",
     "output_type": "stream",
     "text": [
      "Hai imarticus!\n"
     ]
    }
   ],
   "source": [
    "f = open(\"c:/users/radha/Desktop/dsp27 Class/demofile1.txt\", \"r\")\n",
    "print(f.read())"
   ]
  },
  {
   "cell_type": "code",
   "execution_count": 4,
   "id": "00d3bd8a",
   "metadata": {},
   "outputs": [
    {
     "name": "stdout",
     "output_type": "stream",
     "text": [
      "The file does not exist\n"
     ]
    }
   ],
   "source": [
    "# File exists\n",
    "import os\n",
    "if os.path.exists(\"c:/users/hp/downloads/demofile1.txt\"):\n",
    "    f = open(\"c:/users/hp/downloads/demofile1.txt\", \"r\")\n",
    "    print(f.read())\n",
    "    \n",
    "    #os.remove(\"demofile.txt\")\n",
    "\n",
    "else:\n",
    "  print(\"The file does not exist\")"
   ]
  },
  {
   "cell_type": "code",
   "execution_count": 5,
   "id": "8e72010f",
   "metadata": {},
   "outputs": [
    {
     "data": {
      "text/plain": [
       "'C:\\\\Users\\\\radha'"
      ]
     },
     "execution_count": 5,
     "metadata": {},
     "output_type": "execute_result"
    }
   ],
   "source": [
    "# Import `os` \n",
    "import os\n",
    "# Retrieve current working directory (`cwd`)\n",
    "cwd = os.getcwd()\n",
    "cwd"
   ]
  },
  {
   "cell_type": "code",
   "execution_count": 6,
   "id": "4fe9deb7",
   "metadata": {},
   "outputs": [],
   "source": [
    "# List all files and directories in current directory\n",
    "\n",
    "# os.listdir('c:/users/radha/downloads/')"
   ]
  },
  {
   "cell_type": "code",
   "execution_count": 7,
   "id": "40f69277",
   "metadata": {},
   "outputs": [
    {
     "name": "stdout",
     "output_type": "stream",
     "text": [
      "Barley.csv\n"
     ]
    }
   ],
   "source": [
    "import os\n",
    "\n",
    "for root, dirs, files in os.walk(\"C:\\\\Users\\\\radha\\\\Desktop\\\\dsp27 Class\\\\Dummy\"):  \n",
    "    for filename in files:\n",
    "        print(filename)\n",
    "        "
   ]
  },
  {
   "cell_type": "code",
   "execution_count": 8,
   "id": "44425167",
   "metadata": {},
   "outputs": [
    {
     "name": "stdout",
     "output_type": "stream",
     "text": [
      "Barley.csv\n"
     ]
    }
   ],
   "source": [
    "import os, fnmatch\n",
    "\n",
    "listOfFiles = os.listdir('C:\\\\Users\\\\radha\\\\Desktop\\\\dsp27 Class\\\\Dummy')  \n",
    "pattern = \"*.csv\"  \n",
    "for entry in listOfFiles:  \n",
    "    if fnmatch.fnmatch(entry, pattern):\n",
    "            print (entry)"
   ]
  },
  {
   "cell_type": "code",
   "execution_count": 9,
   "id": "7968d745",
   "metadata": {},
   "outputs": [
    {
     "name": "stdout",
     "output_type": "stream",
     "text": [
      "['realestate']\n"
     ]
    },
    {
     "data": {
      "text/html": [
       "<div>\n",
       "<style scoped>\n",
       "    .dataframe tbody tr th:only-of-type {\n",
       "        vertical-align: middle;\n",
       "    }\n",
       "\n",
       "    .dataframe tbody tr th {\n",
       "        vertical-align: top;\n",
       "    }\n",
       "\n",
       "    .dataframe thead th {\n",
       "        text-align: right;\n",
       "    }\n",
       "</style>\n",
       "<table border=\"1\" class=\"dataframe\">\n",
       "  <thead>\n",
       "    <tr style=\"text-align: right;\">\n",
       "      <th></th>\n",
       "      <th>Suburb</th>\n",
       "      <th>Address</th>\n",
       "      <th>Rooms</th>\n",
       "      <th>Type</th>\n",
       "      <th>Price</th>\n",
       "      <th>Method</th>\n",
       "      <th>SellerG</th>\n",
       "      <th>Date</th>\n",
       "      <th>Distance</th>\n",
       "      <th>Postcode</th>\n",
       "      <th>Bedroom2</th>\n",
       "      <th>Bathroom</th>\n",
       "      <th>Car</th>\n",
       "      <th>Landsize</th>\n",
       "      <th>BuildingArea</th>\n",
       "      <th>YearBuilt</th>\n",
       "      <th>CouncilArea</th>\n",
       "      <th>Lattitude</th>\n",
       "      <th>Longtitude</th>\n",
       "    </tr>\n",
       "  </thead>\n",
       "  <tbody>\n",
       "    <tr>\n",
       "      <th>0</th>\n",
       "      <td>Abbotsford</td>\n",
       "      <td>68 Studley St</td>\n",
       "      <td>2.0</td>\n",
       "      <td>h</td>\n",
       "      <td>NaN</td>\n",
       "      <td>SS</td>\n",
       "      <td>Jellis</td>\n",
       "      <td>2016-03-09 00:00:00</td>\n",
       "      <td>2.5</td>\n",
       "      <td>3067.0</td>\n",
       "      <td>2.0</td>\n",
       "      <td>1.0</td>\n",
       "      <td>1.0</td>\n",
       "      <td>126.0</td>\n",
       "      <td>NaN</td>\n",
       "      <td>NaN</td>\n",
       "      <td>Yarra</td>\n",
       "      <td>-37.8014</td>\n",
       "      <td>144.9958</td>\n",
       "    </tr>\n",
       "    <tr>\n",
       "      <th>1</th>\n",
       "      <td>Abbotsford</td>\n",
       "      <td>85 Turner St</td>\n",
       "      <td>2.0</td>\n",
       "      <td>h</td>\n",
       "      <td>1480000.0</td>\n",
       "      <td>S</td>\n",
       "      <td>Biggin</td>\n",
       "      <td>2016-03-12 00:00:00</td>\n",
       "      <td>2.5</td>\n",
       "      <td>3067.0</td>\n",
       "      <td>2.0</td>\n",
       "      <td>1.0</td>\n",
       "      <td>1.0</td>\n",
       "      <td>202.0</td>\n",
       "      <td>NaN</td>\n",
       "      <td>NaN</td>\n",
       "      <td>Yarra</td>\n",
       "      <td>-37.7996</td>\n",
       "      <td>144.9984</td>\n",
       "    </tr>\n",
       "    <tr>\n",
       "      <th>2</th>\n",
       "      <td>Abbotsford</td>\n",
       "      <td>25 Bloomburg St</td>\n",
       "      <td>2.0</td>\n",
       "      <td>h</td>\n",
       "      <td>1035000.0</td>\n",
       "      <td>S</td>\n",
       "      <td>Biggin</td>\n",
       "      <td>2016-04-02 00:00:00</td>\n",
       "      <td>2.5</td>\n",
       "      <td>3067.0</td>\n",
       "      <td>2.0</td>\n",
       "      <td>1.0</td>\n",
       "      <td>0.0</td>\n",
       "      <td>156.0</td>\n",
       "      <td>79.0</td>\n",
       "      <td>1900.0</td>\n",
       "      <td>Yarra</td>\n",
       "      <td>-37.8079</td>\n",
       "      <td>144.9934</td>\n",
       "    </tr>\n",
       "    <tr>\n",
       "      <th>3</th>\n",
       "      <td>Abbotsford</td>\n",
       "      <td>18/659 Victoria St</td>\n",
       "      <td>3.0</td>\n",
       "      <td>u</td>\n",
       "      <td>NaN</td>\n",
       "      <td>VB</td>\n",
       "      <td>Rounds</td>\n",
       "      <td>2016-04-02 00:00:00</td>\n",
       "      <td>2.5</td>\n",
       "      <td>3067.0</td>\n",
       "      <td>3.0</td>\n",
       "      <td>2.0</td>\n",
       "      <td>1.0</td>\n",
       "      <td>0.0</td>\n",
       "      <td>NaN</td>\n",
       "      <td>NaN</td>\n",
       "      <td>Yarra</td>\n",
       "      <td>-37.8114</td>\n",
       "      <td>145.0116</td>\n",
       "    </tr>\n",
       "    <tr>\n",
       "      <th>4</th>\n",
       "      <td>Abbotsford</td>\n",
       "      <td>5 Charles St</td>\n",
       "      <td>3.0</td>\n",
       "      <td>h</td>\n",
       "      <td>1465000.0</td>\n",
       "      <td>SP</td>\n",
       "      <td>Biggin</td>\n",
       "      <td>2017-04-03 00:00:00</td>\n",
       "      <td>2.5</td>\n",
       "      <td>3067.0</td>\n",
       "      <td>3.0</td>\n",
       "      <td>2.0</td>\n",
       "      <td>0.0</td>\n",
       "      <td>134.0</td>\n",
       "      <td>150.0</td>\n",
       "      <td>1900.0</td>\n",
       "      <td>Yarra</td>\n",
       "      <td>-37.8093</td>\n",
       "      <td>144.9944</td>\n",
       "    </tr>\n",
       "  </tbody>\n",
       "</table>\n",
       "</div>"
      ],
      "text/plain": [
       "       Suburb             Address  Rooms Type      Price Method SellerG  \\\n",
       "0  Abbotsford       68 Studley St    2.0    h        NaN     SS  Jellis   \n",
       "1  Abbotsford        85 Turner St    2.0    h  1480000.0      S  Biggin   \n",
       "2  Abbotsford     25 Bloomburg St    2.0    h  1035000.0      S  Biggin   \n",
       "3  Abbotsford  18/659 Victoria St    3.0    u        NaN     VB  Rounds   \n",
       "4  Abbotsford        5 Charles St    3.0    h  1465000.0     SP  Biggin   \n",
       "\n",
       "                  Date  Distance  Postcode  Bedroom2  Bathroom  Car  Landsize  \\\n",
       "0  2016-03-09 00:00:00       2.5    3067.0       2.0       1.0  1.0     126.0   \n",
       "1  2016-03-12 00:00:00       2.5    3067.0       2.0       1.0  1.0     202.0   \n",
       "2  2016-04-02 00:00:00       2.5    3067.0       2.0       1.0  0.0     156.0   \n",
       "3  2016-04-02 00:00:00       2.5    3067.0       3.0       2.0  1.0       0.0   \n",
       "4  2017-04-03 00:00:00       2.5    3067.0       3.0       2.0  0.0     134.0   \n",
       "\n",
       "   BuildingArea  YearBuilt CouncilArea Lattitude Longtitude  \n",
       "0           NaN        NaN       Yarra  -37.8014   144.9958  \n",
       "1           NaN        NaN       Yarra  -37.7996   144.9984  \n",
       "2          79.0     1900.0       Yarra  -37.8079   144.9934  \n",
       "3           NaN        NaN       Yarra  -37.8114   145.0116  \n",
       "4         150.0     1900.0       Yarra  -37.8093   144.9944  "
      ]
     },
     "execution_count": 9,
     "metadata": {},
     "output_type": "execute_result"
    }
   ],
   "source": [
    "# Read Excel file\n",
    "# Import pandas\n",
    "import pandas as pd\n",
    "\n",
    "# Assign spreadsheet filename to `file`\n",
    "file = 'C:\\\\Users\\\\radha\\\\Desktop\\\\dsp27 Class\\\\Realestate.xlsx'\n",
    "\n",
    "# Load spreadsheet\n",
    "xl = pd.ExcelFile(file)\n",
    "\n",
    "# Print the sheet names\n",
    "print(xl.sheet_names)\n",
    "\n",
    "# Load a sheet into a DataFrame by name: df1\n",
    "df1 = xl.parse('realestate')\n",
    "df1.head()"
   ]
  },
  {
   "cell_type": "code",
   "execution_count": 10,
   "id": "d8db6e54",
   "metadata": {},
   "outputs": [],
   "source": [
    "# PDF READER"
   ]
  },
  {
   "cell_type": "code",
   "execution_count": 11,
   "id": "15b5d841",
   "metadata": {},
   "outputs": [],
   "source": [
    "#pip install tabula-py"
   ]
  },
  {
   "cell_type": "code",
   "execution_count": 14,
   "id": "a3702e3f",
   "metadata": {},
   "outputs": [
    {
     "name": "stderr",
     "output_type": "stream",
     "text": [
      "Got stderr: Nov 13, 2021 7:56:31 AM org.apache.pdfbox.pdmodel.font.PDSimpleFont toUnicode\r\n",
      "WARNING: No Unicode mapping for C0 (1) in font KDKMNL+AdvP4C4E74\r\n",
      "Nov 13, 2021 7:56:33 AM org.apache.pdfbox.pdmodel.font.PDSimpleFont toUnicode\r\n",
      "WARNING: No Unicode mapping for C12 (2) in font KDKNGJ+AdvP4C4E46\r\n",
      "Nov 13, 2021 7:56:33 AM org.apache.pdfbox.pdmodel.font.PDSimpleFont toUnicode\r\n",
      "WARNING: No Unicode mapping for C3 (3) in font KDKMNL+AdvP4C4E74\r\n",
      "Nov 13, 2021 7:56:34 AM org.apache.pdfbox.pdmodel.font.PDSimpleFont toUnicode\r\n",
      "WARNING: No Unicode mapping for C138 (4) in font KDKMNL+AdvP4C4E74\r\n",
      "Nov 13, 2021 7:56:34 AM org.apache.pdfbox.pdmodel.font.PDSimpleFont toUnicode\r\n",
      "WARNING: No Unicode mapping for C2 (3) in font KDKNGJ+AdvP4C4E46\r\n",
      "Nov 13, 2021 7:56:34 AM org.apache.pdfbox.pdmodel.font.PDSimpleFont toUnicode\r\n",
      "WARNING: No Unicode mapping for C0 (4) in font KDKNGJ+AdvP4C4E46\r\n",
      "Nov 13, 2021 7:56:34 AM org.apache.pdfbox.pdmodel.font.PDSimpleFont toUnicode\r\n",
      "WARNING: No Unicode mapping for C3 (6) in font KDKNGJ+AdvP4C4E46\r\n",
      "Nov 13, 2021 7:56:34 AM org.apache.pdfbox.pdmodel.font.PDSimpleFont toUnicode\r\n",
      "WARNING: No Unicode mapping for C1 (7) in font KDKNGJ+AdvP4C4E46\r\n",
      "Nov 13, 2021 7:56:35 AM org.apache.pdfbox.pdmodel.font.PDSimpleFont toUnicode\r\n",
      "WARNING: No Unicode mapping for C25 (6) in font KDKMNL+AdvP4C4E74\r\n",
      "Nov 13, 2021 7:56:42 AM org.apache.pdfbox.pdmodel.font.PDSimpleFont toUnicode\r\n",
      "WARNING: No Unicode mapping for C16 (8) in font KDKNGJ+AdvP4C4E46\r\n",
      "Nov 13, 2021 7:56:42 AM org.apache.pdfbox.pdmodel.font.PDSimpleFont toUnicode\r\n",
      "WARNING: No Unicode mapping for C8 (9) in font KDKNGJ+AdvP4C4E46\r\n",
      "Nov 13, 2021 7:56:42 AM org.apache.pdfbox.pdmodel.font.PDSimpleFont toUnicode\r\n",
      "WARNING: No Unicode mapping for C9 (10) in font KDKNGJ+AdvP4C4E46\r\n",
      "Nov 13, 2021 7:56:42 AM org.apache.pdfbox.pdmodel.font.PDSimpleFont toUnicode\r\n",
      "WARNING: No Unicode mapping for C20 (11) in font KDKNGJ+AdvP4C4E46\r\n",
      "Nov 13, 2021 7:56:42 AM org.apache.pdfbox.pdmodel.font.PDSimpleFont toUnicode\r\n",
      "WARNING: No Unicode mapping for C21 (12) in font KDKNGJ+AdvP4C4E46\r\n",
      "Nov 13, 2021 7:56:42 AM org.apache.pdfbox.pdmodel.font.PDSimpleFont toUnicode\r\n",
      "WARNING: No Unicode mapping for C22 (2) in font KDKMMI+AdvP4C4E59\r\n",
      "\n"
     ]
    }
   ],
   "source": [
    "from tabula import read_pdf\n",
    "\n",
    "# require java jre\n",
    "\n",
    "df = read_pdf(\"C:\\\\Users\\\\radha\\\\Desktop\\\\dsp27 Class\\\\mukherjee2011.pdf\", multiple_tables=True,pages=\"1-18\")\n",
    "#df"
   ]
  },
  {
   "cell_type": "code",
   "execution_count": null,
   "id": "278dfaf0",
   "metadata": {},
   "outputs": [],
   "source": []
  }
 ],
 "metadata": {
  "kernelspec": {
   "display_name": "Python 3",
   "language": "python",
   "name": "python3"
  },
  "language_info": {
   "codemirror_mode": {
    "name": "ipython",
    "version": 3
   },
   "file_extension": ".py",
   "mimetype": "text/x-python",
   "name": "python",
   "nbconvert_exporter": "python",
   "pygments_lexer": "ipython3",
   "version": "3.8.8"
  }
 },
 "nbformat": 4,
 "nbformat_minor": 5
}
