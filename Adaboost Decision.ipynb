{
 "cells": [
  {
   "cell_type": "code",
   "execution_count": 1,
   "id": "5b58ab8c",
   "metadata": {},
   "outputs": [],
   "source": [
    "# Adaboost"
   ]
  },
  {
   "cell_type": "code",
   "execution_count": 2,
   "id": "49d30b7b",
   "metadata": {},
   "outputs": [],
   "source": [
    "# Data Manupulation\n",
    "import numpy as np\n",
    "import pandas as pd\n",
    "import matplotlib.pyplot as plt\n",
    "\n",
    "# CSV File - Read\n",
    "df = pd.read_csv('C:\\\\Users\\\\radha\\\\Desktop\\\\dsp27 Class\\\\cerealspga05.csv')\n",
    "#  ,header=None ,skiprows=1 , names=['Cal', 'Pr', 'Fat', 'sod', 'Fib', 'Rting']\n",
    "#print(df.head(2)) "
   ]
  },
  {
   "cell_type": "code",
   "execution_count": 16,
   "id": "62787bab",
   "metadata": {},
   "outputs": [],
   "source": [
    "newdf = df.loc[:,['mfr','calories','protein','fat','sodium','fiber','carbo','sugars','potass','vitamins','rating']]\n",
    "#print(newdf.head())\n",
    "x = newdf.iloc[:,1:11]\n",
    "y = newdf.iloc[:,0] # Y = category\n",
    "#print(y)"
   ]
  },
  {
   "cell_type": "code",
   "execution_count": 25,
   "id": "520020ee",
   "metadata": {},
   "outputs": [
    {
     "name": "stdout",
     "output_type": "stream",
     "text": [
      "0.38928571428571423\n"
     ]
    }
   ],
   "source": [
    "# AdaBoost Classification\n",
    "# GradientBoostingClassifier \n",
    "from sklearn import model_selection\n",
    "from sklearn.ensemble import AdaBoostClassifier\n",
    "from sklearn.metrics import classification_report, confusion_matrix\n",
    "num_trees = 30\n",
    "kfold = model_selection.KFold(n_splits=10)\n",
    "model = AdaBoostClassifier(n_estimators=num_trees)\n",
    "results = model_selection.cross_val_score(model, x, y, cv=kfold)\n",
    "print(results.mean())"
   ]
  },
  {
   "cell_type": "code",
   "execution_count": 30,
   "id": "9933a7f7",
   "metadata": {},
   "outputs": [],
   "source": [
    "#  ADABOOST"
   ]
  },
  {
   "cell_type": "code",
   "execution_count": 26,
   "id": "eaed920b",
   "metadata": {},
   "outputs": [
    {
     "data": {
      "text/plain": [
       "AdaBoostClassifier(n_estimators=300, random_state=0)"
      ]
     },
     "execution_count": 26,
     "metadata": {},
     "output_type": "execute_result"
    }
   ],
   "source": [
    "clf = AdaBoostClassifier(n_estimators=300, random_state=0)\n",
    "clf.fit(x, y)"
   ]
  },
  {
   "cell_type": "code",
   "execution_count": 27,
   "id": "08a4397b",
   "metadata": {},
   "outputs": [
    {
     "name": "stdout",
     "output_type": "stream",
     "text": [
      "[[ 0  1  0  0  0  0  0]\n",
      " [ 0 22  0  0  0  0  0]\n",
      " [ 0 10 12  1  0  0  0]\n",
      " [ 0  0  1  5  0  0  0]\n",
      " [ 0  4  4  0  0  0  0]\n",
      " [ 0  6  2  0  0  0  0]\n",
      " [ 0  3  3  0  0  0  0]]\n"
     ]
    }
   ],
   "source": [
    "y_pred = clf.predict(x)\n",
    "print(confusion_matrix(newdf[\"mfr\"], y_pred))\n"
   ]
  },
  {
   "cell_type": "code",
   "execution_count": 28,
   "id": "cb0e5746",
   "metadata": {},
   "outputs": [
    {
     "data": {
      "text/plain": [
       "array(['A', 'G', 'K', 'N', 'P', 'Q', 'R'], dtype=object)"
      ]
     },
     "execution_count": 28,
     "metadata": {},
     "output_type": "execute_result"
    }
   ],
   "source": [
    "clf.classes_"
   ]
  },
  {
   "cell_type": "code",
   "execution_count": 29,
   "id": "15721549",
   "metadata": {},
   "outputs": [
    {
     "data": {
      "image/png": "[encoded data removed]",
      "text/plain": [
       "<Figure size 432x288 with 2 Axes>"
      ]
     },
     "metadata": {
      "needs_background": "light"
     },
     "output_type": "display_data"
    }
   ],
   "source": [
    "import seaborn as sns\n",
    "import matplotlib.pyplot as plt     \n",
    "labels = ['A', 'G', 'K', 'N', 'P', 'Q', 'R']\n",
    "cm = confusion_matrix(newdf[\"mfr\"], y_pred)\n",
    "ax= plt.subplot()\n",
    "sns.heatmap(cm, annot=True, fmt='g', ax=ax); \n",
    "\n",
    "# labels, title and ticks\n",
    "ax.set_xlabel('Predicted labels');ax.set_ylabel('True labels'); \n",
    "ax.set_title('Confusion Matrix'); \n",
    "ax.xaxis.set_ticklabels(['A', 'G', 'K', 'N', 'P', 'Q', 'R']); ax.yaxis.set_ticklabels(['A', 'G', 'K', 'N', 'P', 'Q', 'R']);"
   ]
  },
  {
   "cell_type": "code",
   "execution_count": null,
   "id": "abf297d7",
   "metadata": {},
   "outputs": [],
   "source": [
    "#  Stochastic Gradient Boosting Classification"
   ]
  },
  {
   "cell_type": "code",
   "execution_count": 32,
   "id": "f70c018b",
   "metadata": {},
   "outputs": [
    {
     "name": "stdout",
     "output_type": "stream",
     "text": [
      "0.37857142857142856\n"
     ]
    }
   ],
   "source": [
    "# # Stochastic Gradient Boosting Classification\n",
    "import pandas\n",
    "from sklearn import model_selection\n",
    "from sklearn.ensemble import GradientBoostingClassifier\n",
    "\n",
    "num_trees = 100\n",
    "kfold = model_selection.KFold(n_splits=10)\n",
    "model = GradientBoostingClassifier(n_estimators=num_trees)\n",
    "results = model_selection.cross_val_score(model, x, y, cv=kfold)\n",
    "print(results.mean())"
   ]
  },
  {
   "cell_type": "code",
   "execution_count": 33,
   "id": "29bb672f",
   "metadata": {},
   "outputs": [
    {
     "name": "stdout",
     "output_type": "stream",
     "text": [
      "[[ 1  0  0  0  0  0  0]\n",
      " [ 0 22  0  0  0  0  0]\n",
      " [ 0  0 23  0  0  0  0]\n",
      " [ 0  0  0  6  0  0  0]\n",
      " [ 0  0  0  0  8  0  0]\n",
      " [ 0  0  0  0  0  8  0]\n",
      " [ 0  0  0  0  0  0  6]]\n"
     ]
    },
    {
     "data": {
      "image/png": "[encoded data removed]",
      "text/plain": [
       "<Figure size 432x288 with 2 Axes>"
      ]
     },
     "metadata": {
      "needs_background": "light"
     },
     "output_type": "display_data"
    }
   ],
   "source": [
    "clf = GradientBoostingClassifier(n_estimators=300, random_state=0)\n",
    "clf.fit(x, y)\n",
    "y_pred = clf.predict(x)\n",
    "print(confusion_matrix(newdf[\"mfr\"], y_pred))\n",
    "\n",
    "import seaborn as sns\n",
    "import matplotlib.pyplot as plt     \n",
    "labels = ['A', 'G', 'K', 'N', 'P', 'Q', 'R']\n",
    "cm = confusion_matrix(newdf[\"mfr\"], y_pred)\n",
    "ax= plt.subplot()\n",
    "sns.heatmap(cm, annot=True, fmt='g', ax=ax); \n",
    "\n",
    "# labels, title and ticks\n",
    "ax.set_xlabel('Predicted labels');ax.set_ylabel('True labels'); \n",
    "ax.set_title('Confusion Matrix'); \n",
    "ax.xaxis.set_ticklabels(['A', 'G', 'K', 'N', 'P', 'Q', 'R']); ax.yaxis.set_ticklabels(['A', 'G', 'K', 'N', 'P', 'Q', 'R']);"
   ]
  },
  {
   "cell_type": "code",
   "execution_count": 34,
   "id": "31468b6b",
   "metadata": {},
   "outputs": [],
   "source": [
    "# # RANDOM FOREST"
   ]
  },
  {
   "cell_type": "code",
   "execution_count": 36,
   "id": "2091356e",
   "metadata": {},
   "outputs": [
    {
     "name": "stdout",
     "output_type": "stream",
     "text": [
      "0.40178571428571425\n"
     ]
    }
   ],
   "source": [
    "# RANDOM FOREST\n",
    "\n",
    "# RandomForestClassifier\n",
    "\n",
    "import pandas\n",
    "from sklearn import model_selection\n",
    "from sklearn.ensemble import RandomForestClassifier\n",
    "\n",
    "kfold = model_selection.KFold(n_splits=10)\n",
    "model = RandomForestClassifier(n_estimators=num_trees, max_features=7)\n",
    "results = model_selection.cross_val_score(model, x, y, cv=kfold)\n",
    "print(results.mean())"
   ]
  },
  {
   "cell_type": "code",
   "execution_count": 37,
   "id": "cf1f08fb",
   "metadata": {},
   "outputs": [
    {
     "name": "stdout",
     "output_type": "stream",
     "text": [
      "[[ 1  0  0  0  0  0  0]\n",
      " [ 0 22  0  0  0  0  0]\n",
      " [ 0  0 23  0  0  0  0]\n",
      " [ 0  0  0  6  0  0  0]\n",
      " [ 0  0  0  0  8  0  0]\n",
      " [ 0  0  0  0  0  8  0]\n",
      " [ 0  0  0  0  0  0  6]]\n"
     ]
    },
    {
     "data": {
      "image/png": "[encoded data removed]",
      "text/plain": [
       "<Figure size 432x288 with 2 Axes>"
      ]
     },
     "metadata": {
      "needs_background": "light"
     },
     "output_type": "display_data"
    }
   ],
   "source": [
    "clf = RandomForestClassifier(n_estimators=300, random_state=0)\n",
    "clf.fit(x, y)\n",
    "y_pred = clf.predict(x)\n",
    "print(confusion_matrix(newdf[\"mfr\"], y_pred))\n",
    "\n",
    "import seaborn as sns\n",
    "import matplotlib.pyplot as plt     \n",
    "labels = ['A', 'G', 'K', 'N', 'P', 'Q', 'R']\n",
    "cm = confusion_matrix(newdf[\"mfr\"], y_pred)\n",
    "ax= plt.subplot()\n",
    "sns.heatmap(cm, annot=True, fmt='g', ax=ax); \n",
    "\n",
    "# labels, title and ticks\n",
    "ax.set_xlabel('Predicted labels');ax.set_ylabel('True labels'); \n",
    "ax.set_title('Confusion Matrix'); \n",
    "ax.xaxis.set_ticklabels(['A', 'G', 'K', 'N', 'P', 'Q', 'R']); ax.yaxis.set_ticklabels(['A', 'G', 'K', 'N', 'P', 'Q', 'R']);"
   ]
  },
  {
   "cell_type": "code",
   "execution_count": null,
   "id": "a91ea2fd",
   "metadata": {},
   "outputs": [],
   "source": []
  }
 ],
 "metadata": {
  "kernelspec": {
   "display_name": "Python 3",
   "language": "python",
   "name": "python3"
  },
  "language_info": {
   "codemirror_mode": {
    "name": "ipython",
    "version": 3
   },
   "file_extension": ".py",
   "mimetype": "text/x-python",
   "name": "python",
   "nbconvert_exporter": "python",
   "pygments_lexer": "ipython3",
   "version": "3.8.8"
  }
 },
 "nbformat": 4,
 "nbformat_minor": 5
}
