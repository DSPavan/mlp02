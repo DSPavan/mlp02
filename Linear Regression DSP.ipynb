{
 "cells": [
  {
   "cell_type": "code",
   "execution_count": 1,
   "id": "c9f8f6d3",
   "metadata": {},
   "outputs": [],
   "source": [
    "#introduction to linear regression\n",
    "#linear regression using gradient descent\n",
    "#linear regression using OLS\n",
    "#Linear Regression using Stochiastic gradient descent\n",
    "\n",
    "# y = mx +c\n",
    "\n",
    "#Where, y: dependent variable\n",
    "\n",
    "#             x: independent variable\n",
    "\n",
    "#           m: Slope of the line (For a unit increase in the quantity of X, Y increases by m.1 = m units.)\n",
    "\n",
    "#           c: y intercept (The value of Y is c when the value of X is 0)"
   ]
  },
  {
   "cell_type": "code",
   "execution_count": 2,
   "id": "343a8a9e",
   "metadata": {},
   "outputs": [
    {
     "name": "stdout",
     "output_type": "stream",
     "text": [
      "        name mfr type  calories  protein  fat  sodium  fiber  carbo  sugars  \\\n",
      "0  100%_Bran   N    C        70        4    1     130   10.0    5.0       6   \n",
      "1   All-Bran   K    C        70        4    1     260    9.0    7.0       5   \n",
      "\n",
      "   potass  vitamins  shelf  weight  cups     rating  \n",
      "0     280        25      3     1.0  0.33  68.402973  \n",
      "1     320        25      3     1.0  0.33  59.425505  \n"
     ]
    }
   ],
   "source": [
    "# Data Manupulation\n",
    "import numpy as np\n",
    "import pandas as pd\n",
    "# Plotting graphs\n",
    "import matplotlib.pyplot as plt\n",
    "\n",
    "# CSV File - Read\n",
    "df = pd.read_csv('C:\\\\Users\\\\radha\\\\Desktop\\\\dsp27 Class\\\\cerealspga05.csv')\n",
    "#  ,header=None ,skiprows=1 , names=['Cal', 'Pr', 'Fat', 'sod', 'Fib', 'Rting']\n",
    "print(df.head(2)) \n"
   ]
  },
  {
   "cell_type": "code",
   "execution_count": 3,
   "id": "a7689005",
   "metadata": {},
   "outputs": [
    {
     "name": "stdout",
     "output_type": "stream",
     "text": [
      "   calories  protein  fat  sodium  fiber  carbo  sugars  potass  vitamins  \\\n",
      "0        70        4    1     130   10.0    5.0       6     280        25   \n",
      "1        70        4    1     260    9.0    7.0       5     320        25   \n",
      "2        50        4    0     140   14.0    8.0       0     330        25   \n",
      "3       110        3    3     140    4.0   10.0       7     160        25   \n",
      "4       120        3    1     200    6.0   11.0      14     260        25   \n",
      "\n",
      "      rating  \n",
      "0  68.402973  \n",
      "1  59.425505  \n",
      "2  93.704912  \n",
      "3  40.448772  \n",
      "4  37.840594  \n"
     ]
    }
   ],
   "source": [
    "newdf = df.loc[:,['calories','protein','fat','sodium','fiber','carbo','sugars','potass','vitamins','rating']]\n",
    "print(newdf.head())\n"
   ]
  },
  {
   "cell_type": "code",
   "execution_count": 4,
   "id": "673ccad0",
   "metadata": {},
   "outputs": [],
   "source": [
    "import numpy as np\n",
    "import statsmodels.api as sm \n",
    "import statsmodels.formula.api as smf\n"
   ]
  },
  {
   "cell_type": "code",
   "execution_count": 5,
   "id": "ee5e16ed",
   "metadata": {},
   "outputs": [],
   "source": [
    "# ordinary least squares (OLS)\n",
    "#In statistics, ordinary least squares (OLS) is a type of linear least squares method \n",
    "#for estimating the unknown parameters in a linear regression model.\n"
   ]
  },
  {
   "cell_type": "code",
   "execution_count": 6,
   "id": "be5c38b4",
   "metadata": {},
   "outputs": [
    {
     "name": "stdout",
     "output_type": "stream",
     "text": [
      "                            OLS Regression Results                            \n",
      "==============================================================================\n",
      "Dep. Variable:                 rating   R-squared:                       0.703\n",
      "Model:                            OLS   Adj. R-squared:                  0.694\n",
      "Method:                 Least Squares   F-statistic:                     83.88\n",
      "Date:                Mon, 04 Oct 2021   Prob (F-statistic):           2.00e-19\n",
      "Time:                        18:55:55   Log-Likelihood:                -256.38\n",
      "No. Observations:                  74   AIC:                             518.8\n",
      "Df Residuals:                      71   BIC:                             525.7\n",
      "Df Model:                           2                                         \n",
      "Covariance Type:            nonrobust                                         \n",
      "==============================================================================\n",
      "                 coef    std err          t      P>|t|      [0.025      0.975]\n",
      "------------------------------------------------------------------------------\n",
      "Intercept     88.8505      5.658     15.704      0.000      77.569     100.132\n",
      "calories      -0.3272      0.060     -5.463      0.000      -0.447      -0.208\n",
      "sugars        -1.6897      0.247     -6.834      0.000      -2.183      -1.197\n",
      "==============================================================================\n",
      "Omnibus:                        2.963   Durbin-Watson:                   1.756\n",
      "Prob(Omnibus):                  0.227   Jarque-Bera (JB):                2.906\n",
      "Skew:                           0.441   Prob(JB):                        0.234\n",
      "Kurtosis:                       2.596   Cond. No.                         662.\n",
      "==============================================================================\n",
      "\n",
      "Notes:\n",
      "[1] Standard Errors assume that the covariance matrix of the errors is correctly specified.\n"
     ]
    }
   ],
   "source": [
    "results = smf.ols('rating ~ calories + sugars', data=newdf).fit()\n",
    "print(results.summary())"
   ]
  },
  {
   "cell_type": "code",
   "execution_count": 7,
   "id": "7785b294",
   "metadata": {},
   "outputs": [],
   "source": [
    "#pip install pandasql"
   ]
  },
  {
   "cell_type": "code",
   "execution_count": 8,
   "id": "0f7cd311",
   "metadata": {},
   "outputs": [
    {
     "name": "stdout",
     "output_type": "stream",
     "text": [
      "calories   -0.712054\n",
      "protein     0.504070\n",
      "fat        -0.407215\n",
      "sodium     -0.409548\n",
      "fiber       0.600230\n",
      "carbo       0.055804\n",
      "sugars     -0.760031\n",
      "potass      0.410556\n",
      "vitamins   -0.243780\n",
      "rating      1.000000\n",
      "Name: rating, dtype: float64\n"
     ]
    }
   ],
   "source": [
    "df2 = newdf.corr()\n",
    "#print(df2) Index\n",
    "x = df2.loc['rating']\n",
    "#x = df2.loc[df2.loc['rating'] > 0.6]\n",
    "print(x)\n",
    "#ndf = x.DataFrame(x)"
   ]
  },
  {
   "cell_type": "code",
   "execution_count": 9,
   "id": "3bdb153e",
   "metadata": {},
   "outputs": [
    {
     "name": "stdout",
     "output_type": "stream",
     "text": [
      "                        name mfr type  calories  protein  fat  sodium  fiber  \\\n",
      "0  All-Bran_with_Extra_Fiber   K    C        50        4    0     140   14.0   \n",
      "\n",
      "   carbo  sugars  potass  vitamins  shelf  weight  cups     rating  \n",
      "0    8.0       0     330        25      3     1.0   0.5  93.704912  \n"
     ]
    }
   ],
   "source": [
    "import pandasql as ps\n",
    "q1 = \"select * FROM df where rating > 80\"\n",
    "print(ps.sqldf(q1))"
   ]
  },
  {
   "cell_type": "code",
   "execution_count": 10,
   "id": "6cda3cba",
   "metadata": {},
   "outputs": [
    {
     "data": {
      "image/png": "[encoded data removed]",
      "text/plain": [
       "<Figure size 432x288 with 2 Axes>"
      ]
     },
     "metadata": {
      "needs_background": "light"
     },
     "output_type": "display_data"
    }
   ],
   "source": [
    "import statsmodels.graphics.api as smg\n",
    "corr_matrix = np.corrcoef(newdf.T)\n",
    "smg.plot_corr(corr_matrix, xnames=newdf.columns)\n",
    "plt.show()"
   ]
  },
  {
   "cell_type": "code",
   "execution_count": 11,
   "id": "ff15efb9",
   "metadata": {},
   "outputs": [
    {
     "data": {
      "text/plain": [
       "LinearRegression()"
      ]
     },
     "execution_count": 11,
     "metadata": {},
     "output_type": "execute_result"
    }
   ],
   "source": [
    "# Linear Regression\n",
    "import numpy as np\n",
    "from sklearn.linear_model import LinearRegression\n",
    "df = pd.read_csv('C:\\\\Users\\\\radha\\\\Desktop\\\\dsp27 Class\\\\cerealspga05.csv')\n",
    "\n",
    "x = np.array(df['calories']).reshape((-1, 1))\n",
    "y = np.array(df['rating'])\n",
    "reg = LinearRegression().fit(x, y)\n",
    "\n",
    "reg"
   ]
  },
  {
   "cell_type": "code",
   "execution_count": 12,
   "id": "94718a07",
   "metadata": {},
   "outputs": [
    {
     "name": "stdout",
     "output_type": "stream",
     "text": [
      "coefficient of determination: 0.5070207695168047\n"
     ]
    }
   ],
   "source": [
    "r_sq = reg.score(x, y)\n",
    "print('coefficient of determination:', r_sq)"
   ]
  },
  {
   "cell_type": "code",
   "execution_count": 13,
   "id": "a446e412",
   "metadata": {},
   "outputs": [],
   "source": [
    "#When you’re applying .score(), the arguments are also the predictor x and regressor y, and the return value is 𝑅².\n"
   ]
  },
  {
   "cell_type": "code",
   "execution_count": 14,
   "id": "6eff0056",
   "metadata": {},
   "outputs": [
    {
     "name": "stdout",
     "output_type": "stream",
     "text": [
      "intercept: 101.07125096674471\n"
     ]
    }
   ],
   "source": [
    "print('intercept:', reg.intercept_)"
   ]
  },
  {
   "cell_type": "code",
   "execution_count": 15,
   "id": "f0616dc3",
   "metadata": {},
   "outputs": [
    {
     "name": "stdout",
     "output_type": "stream",
     "text": [
      "slope: [-0.55137093]\n"
     ]
    }
   ],
   "source": [
    "print('slope:', reg.coef_)"
   ]
  },
  {
   "cell_type": "code",
   "execution_count": 16,
   "id": "67b6cb3d",
   "metadata": {},
   "outputs": [
    {
     "data": {
      "text/plain": [
       "array([62.47528587, 62.47528587, 73.50270447, 40.42044868, 34.90673938,\n",
       "       34.90673938, 34.90673938, 40.42044868, 40.42044868, 40.42044868,\n",
       "       29.39303008, 51.44786728, 51.44786728, 34.90673938, 40.42044868,\n",
       "       34.90673938, 40.42044868, 40.42044868, 40.42044868, 45.93415798,\n",
       "       40.42044868, 40.42044868, 45.93415798, 40.42044868, 45.93415798,\n",
       "       45.93415798, 40.42044868, 40.42044868, 45.93415798, 34.90673938,\n",
       "       40.42044868, 45.93415798, 40.42044868, 45.93415798, 40.42044868,\n",
       "       34.90673938, 34.90673938, 40.42044868, 40.42044868, 40.42044868,\n",
       "       23.87932078, 40.42044868, 45.93415798, 40.42044868, 45.93415798,\n",
       "       12.85190218, 45.93415798, 34.90673938, 23.87932078, 51.44786728,\n",
       "       29.39303008, 45.93415798, 73.50270447, 73.50270447, 45.93415798,\n",
       "       45.93415798, 45.93415798, 51.44786728, 40.42044868, 40.42044868,\n",
       "       56.96157657, 51.44786728, 51.44786728, 40.42044868, 40.42044868,\n",
       "       51.44786728, 40.42044868, 23.87932078, 45.93415798, 40.42044868,\n",
       "       40.42044868, 45.93415798, 45.93415798, 40.42044868])"
      ]
     },
     "execution_count": 16,
     "metadata": {},
     "output_type": "execute_result"
    }
   ],
   "source": [
    "y_pred = reg.predict(x)\n",
    "y_pred"
   ]
  },
  {
   "cell_type": "code",
   "execution_count": 17,
   "id": "0b5efe44",
   "metadata": {},
   "outputs": [],
   "source": [
    "y_pred = reg.intercept_ + reg.coef_ * x"
   ]
  },
  {
   "cell_type": "code",
   "execution_count": 18,
   "id": "2f01471e",
   "metadata": {},
   "outputs": [
    {
     "data": {
      "text/html": [
       "<div>\n",
       "<style scoped>\n",
       "    .dataframe tbody tr th:only-of-type {\n",
       "        vertical-align: middle;\n",
       "    }\n",
       "\n",
       "    .dataframe tbody tr th {\n",
       "        vertical-align: top;\n",
       "    }\n",
       "\n",
       "    .dataframe thead th {\n",
       "        text-align: right;\n",
       "    }\n",
       "</style>\n",
       "<table border=\"1\" class=\"dataframe\">\n",
       "  <thead>\n",
       "    <tr style=\"text-align: right;\">\n",
       "      <th></th>\n",
       "      <th>name</th>\n",
       "      <th>mfr</th>\n",
       "      <th>type</th>\n",
       "      <th>calories</th>\n",
       "      <th>protein</th>\n",
       "      <th>fat</th>\n",
       "      <th>sodium</th>\n",
       "      <th>fiber</th>\n",
       "      <th>carbo</th>\n",
       "      <th>sugars</th>\n",
       "      <th>potass</th>\n",
       "      <th>vitamins</th>\n",
       "      <th>shelf</th>\n",
       "      <th>weight</th>\n",
       "      <th>cups</th>\n",
       "      <th>rating</th>\n",
       "      <th>pred_rating</th>\n",
       "    </tr>\n",
       "  </thead>\n",
       "  <tbody>\n",
       "    <tr>\n",
       "      <th>0</th>\n",
       "      <td>100%_Bran</td>\n",
       "      <td>N</td>\n",
       "      <td>C</td>\n",
       "      <td>70</td>\n",
       "      <td>4</td>\n",
       "      <td>1</td>\n",
       "      <td>130</td>\n",
       "      <td>10.0</td>\n",
       "      <td>5.0</td>\n",
       "      <td>6</td>\n",
       "      <td>280</td>\n",
       "      <td>25</td>\n",
       "      <td>3</td>\n",
       "      <td>1.00</td>\n",
       "      <td>0.33</td>\n",
       "      <td>68.402973</td>\n",
       "      <td>62.475286</td>\n",
       "    </tr>\n",
       "    <tr>\n",
       "      <th>1</th>\n",
       "      <td>All-Bran</td>\n",
       "      <td>K</td>\n",
       "      <td>C</td>\n",
       "      <td>70</td>\n",
       "      <td>4</td>\n",
       "      <td>1</td>\n",
       "      <td>260</td>\n",
       "      <td>9.0</td>\n",
       "      <td>7.0</td>\n",
       "      <td>5</td>\n",
       "      <td>320</td>\n",
       "      <td>25</td>\n",
       "      <td>3</td>\n",
       "      <td>1.00</td>\n",
       "      <td>0.33</td>\n",
       "      <td>59.425505</td>\n",
       "      <td>62.475286</td>\n",
       "    </tr>\n",
       "    <tr>\n",
       "      <th>2</th>\n",
       "      <td>All-Bran_with_Extra_Fiber</td>\n",
       "      <td>K</td>\n",
       "      <td>C</td>\n",
       "      <td>50</td>\n",
       "      <td>4</td>\n",
       "      <td>0</td>\n",
       "      <td>140</td>\n",
       "      <td>14.0</td>\n",
       "      <td>8.0</td>\n",
       "      <td>0</td>\n",
       "      <td>330</td>\n",
       "      <td>25</td>\n",
       "      <td>3</td>\n",
       "      <td>1.00</td>\n",
       "      <td>0.50</td>\n",
       "      <td>93.704912</td>\n",
       "      <td>73.502704</td>\n",
       "    </tr>\n",
       "    <tr>\n",
       "      <th>3</th>\n",
       "      <td>Cracklin'_Oat_Bran</td>\n",
       "      <td>K</td>\n",
       "      <td>C</td>\n",
       "      <td>110</td>\n",
       "      <td>3</td>\n",
       "      <td>3</td>\n",
       "      <td>140</td>\n",
       "      <td>4.0</td>\n",
       "      <td>10.0</td>\n",
       "      <td>7</td>\n",
       "      <td>160</td>\n",
       "      <td>25</td>\n",
       "      <td>3</td>\n",
       "      <td>1.00</td>\n",
       "      <td>0.50</td>\n",
       "      <td>40.448772</td>\n",
       "      <td>40.420449</td>\n",
       "    </tr>\n",
       "    <tr>\n",
       "      <th>4</th>\n",
       "      <td>Post_Nat._Raisin_Bran</td>\n",
       "      <td>P</td>\n",
       "      <td>C</td>\n",
       "      <td>120</td>\n",
       "      <td>3</td>\n",
       "      <td>1</td>\n",
       "      <td>200</td>\n",
       "      <td>6.0</td>\n",
       "      <td>11.0</td>\n",
       "      <td>14</td>\n",
       "      <td>260</td>\n",
       "      <td>25</td>\n",
       "      <td>3</td>\n",
       "      <td>1.33</td>\n",
       "      <td>0.67</td>\n",
       "      <td>37.840594</td>\n",
       "      <td>34.906739</td>\n",
       "    </tr>\n",
       "    <tr>\n",
       "      <th>...</th>\n",
       "      <td>...</td>\n",
       "      <td>...</td>\n",
       "      <td>...</td>\n",
       "      <td>...</td>\n",
       "      <td>...</td>\n",
       "      <td>...</td>\n",
       "      <td>...</td>\n",
       "      <td>...</td>\n",
       "      <td>...</td>\n",
       "      <td>...</td>\n",
       "      <td>...</td>\n",
       "      <td>...</td>\n",
       "      <td>...</td>\n",
       "      <td>...</td>\n",
       "      <td>...</td>\n",
       "      <td>...</td>\n",
       "      <td>...</td>\n",
       "    </tr>\n",
       "    <tr>\n",
       "      <th>69</th>\n",
       "      <td>Triples</td>\n",
       "      <td>G</td>\n",
       "      <td>C</td>\n",
       "      <td>110</td>\n",
       "      <td>2</td>\n",
       "      <td>1</td>\n",
       "      <td>250</td>\n",
       "      <td>0.0</td>\n",
       "      <td>21.0</td>\n",
       "      <td>3</td>\n",
       "      <td>60</td>\n",
       "      <td>25</td>\n",
       "      <td>3</td>\n",
       "      <td>1.00</td>\n",
       "      <td>0.75</td>\n",
       "      <td>39.106174</td>\n",
       "      <td>40.420449</td>\n",
       "    </tr>\n",
       "    <tr>\n",
       "      <th>70</th>\n",
       "      <td>Trix</td>\n",
       "      <td>G</td>\n",
       "      <td>C</td>\n",
       "      <td>110</td>\n",
       "      <td>1</td>\n",
       "      <td>1</td>\n",
       "      <td>140</td>\n",
       "      <td>0.0</td>\n",
       "      <td>13.0</td>\n",
       "      <td>12</td>\n",
       "      <td>25</td>\n",
       "      <td>25</td>\n",
       "      <td>2</td>\n",
       "      <td>1.00</td>\n",
       "      <td>1.00</td>\n",
       "      <td>27.753301</td>\n",
       "      <td>40.420449</td>\n",
       "    </tr>\n",
       "    <tr>\n",
       "      <th>71</th>\n",
       "      <td>Wheat_Chex</td>\n",
       "      <td>R</td>\n",
       "      <td>C</td>\n",
       "      <td>100</td>\n",
       "      <td>3</td>\n",
       "      <td>1</td>\n",
       "      <td>230</td>\n",
       "      <td>3.0</td>\n",
       "      <td>17.0</td>\n",
       "      <td>3</td>\n",
       "      <td>115</td>\n",
       "      <td>25</td>\n",
       "      <td>1</td>\n",
       "      <td>1.00</td>\n",
       "      <td>0.67</td>\n",
       "      <td>49.787445</td>\n",
       "      <td>45.934158</td>\n",
       "    </tr>\n",
       "    <tr>\n",
       "      <th>72</th>\n",
       "      <td>Wheaties</td>\n",
       "      <td>G</td>\n",
       "      <td>C</td>\n",
       "      <td>100</td>\n",
       "      <td>3</td>\n",
       "      <td>1</td>\n",
       "      <td>200</td>\n",
       "      <td>3.0</td>\n",
       "      <td>17.0</td>\n",
       "      <td>3</td>\n",
       "      <td>110</td>\n",
       "      <td>25</td>\n",
       "      <td>1</td>\n",
       "      <td>1.00</td>\n",
       "      <td>1.00</td>\n",
       "      <td>51.592193</td>\n",
       "      <td>45.934158</td>\n",
       "    </tr>\n",
       "    <tr>\n",
       "      <th>73</th>\n",
       "      <td>Wheaties_Honey_Gold</td>\n",
       "      <td>G</td>\n",
       "      <td>C</td>\n",
       "      <td>110</td>\n",
       "      <td>2</td>\n",
       "      <td>1</td>\n",
       "      <td>200</td>\n",
       "      <td>1.0</td>\n",
       "      <td>16.0</td>\n",
       "      <td>8</td>\n",
       "      <td>60</td>\n",
       "      <td>25</td>\n",
       "      <td>1</td>\n",
       "      <td>1.00</td>\n",
       "      <td>0.75</td>\n",
       "      <td>36.187559</td>\n",
       "      <td>40.420449</td>\n",
       "    </tr>\n",
       "  </tbody>\n",
       "</table>\n",
       "<p>74 rows × 17 columns</p>\n",
       "</div>"
      ],
      "text/plain": [
       "                         name mfr type  calories  protein  fat  sodium  fiber  \\\n",
       "0                   100%_Bran   N    C        70        4    1     130   10.0   \n",
       "1                    All-Bran   K    C        70        4    1     260    9.0   \n",
       "2   All-Bran_with_Extra_Fiber   K    C        50        4    0     140   14.0   \n",
       "3          Cracklin'_Oat_Bran   K    C       110        3    3     140    4.0   \n",
       "4       Post_Nat._Raisin_Bran   P    C       120        3    1     200    6.0   \n",
       "..                        ...  ..  ...       ...      ...  ...     ...    ...   \n",
       "69                    Triples   G    C       110        2    1     250    0.0   \n",
       "70                       Trix   G    C       110        1    1     140    0.0   \n",
       "71                 Wheat_Chex   R    C       100        3    1     230    3.0   \n",
       "72                   Wheaties   G    C       100        3    1     200    3.0   \n",
       "73        Wheaties_Honey_Gold   G    C       110        2    1     200    1.0   \n",
       "\n",
       "    carbo  sugars  potass  vitamins  shelf  weight  cups     rating  \\\n",
       "0     5.0       6     280        25      3    1.00  0.33  68.402973   \n",
       "1     7.0       5     320        25      3    1.00  0.33  59.425505   \n",
       "2     8.0       0     330        25      3    1.00  0.50  93.704912   \n",
       "3    10.0       7     160        25      3    1.00  0.50  40.448772   \n",
       "4    11.0      14     260        25      3    1.33  0.67  37.840594   \n",
       "..    ...     ...     ...       ...    ...     ...   ...        ...   \n",
       "69   21.0       3      60        25      3    1.00  0.75  39.106174   \n",
       "70   13.0      12      25        25      2    1.00  1.00  27.753301   \n",
       "71   17.0       3     115        25      1    1.00  0.67  49.787445   \n",
       "72   17.0       3     110        25      1    1.00  1.00  51.592193   \n",
       "73   16.0       8      60        25      1    1.00  0.75  36.187559   \n",
       "\n",
       "    pred_rating  \n",
       "0     62.475286  \n",
       "1     62.475286  \n",
       "2     73.502704  \n",
       "3     40.420449  \n",
       "4     34.906739  \n",
       "..          ...  \n",
       "69    40.420449  \n",
       "70    40.420449  \n",
       "71    45.934158  \n",
       "72    45.934158  \n",
       "73    40.420449  \n",
       "\n",
       "[74 rows x 17 columns]"
      ]
     },
     "execution_count": 18,
     "metadata": {},
     "output_type": "execute_result"
    }
   ],
   "source": [
    "# pandas DF - ADD NEW COLUMN OF PREDICTION\n",
    "# Original Rating, Predict Rating\n",
    "df['pred_rating'] = y_pred\n",
    "df"
   ]
  },
  {
   "cell_type": "code",
   "execution_count": 19,
   "id": "93be5cf3",
   "metadata": {},
   "outputs": [
    {
     "data": {
      "text/plain": [
       "LinearRegression()"
      ]
     },
     "execution_count": 19,
     "metadata": {},
     "output_type": "execute_result"
    }
   ],
   "source": [
    "x = np.array(df.loc[:,['calories','sugars']]).reshape((-1, 2))\n",
    "y = np.array(df['rating'])\n",
    "Mreg = LinearRegression().fit(x, y)\n",
    "\n",
    "Mreg"
   ]
  },
  {
   "cell_type": "code",
   "execution_count": 20,
   "id": "fbf17a49",
   "metadata": {},
   "outputs": [
    {
     "name": "stdout",
     "output_type": "stream",
     "text": [
      "coefficient of determination: 0.7026335448146463\n"
     ]
    }
   ],
   "source": [
    "r_sq = Mreg.score(x, y)\n",
    "print('coefficient of determination:', r_sq)"
   ]
  },
  {
   "cell_type": "code",
   "execution_count": 21,
   "id": "7f942c7b",
   "metadata": {},
   "outputs": [
    {
     "name": "stdout",
     "output_type": "stream",
     "text": [
      "coefficient of determination: 0.7026335448146463\n",
      "intercept: 88.85052181293153\n",
      "slope: [-0.32719027 -1.68965472]\n"
     ]
    }
   ],
   "source": [
    "r_sq = Mreg.score(x, y)\n",
    "print('coefficient of determination:', r_sq)\n",
    "\n",
    "print('intercept:', Mreg.intercept_)\n",
    "\n",
    "print('slope:', Mreg.coef_)"
   ]
  },
  {
   "cell_type": "code",
   "execution_count": 22,
   "id": "b8f43d2b",
   "metadata": {},
   "outputs": [],
   "source": [
    "# Other Method"
   ]
  },
  {
   "cell_type": "code",
   "execution_count": 23,
   "id": "1d378f18",
   "metadata": {},
   "outputs": [
    {
     "data": {
      "text/html": [
       "<div>\n",
       "<style scoped>\n",
       "    .dataframe tbody tr th:only-of-type {\n",
       "        vertical-align: middle;\n",
       "    }\n",
       "\n",
       "    .dataframe tbody tr th {\n",
       "        vertical-align: top;\n",
       "    }\n",
       "\n",
       "    .dataframe thead th {\n",
       "        text-align: right;\n",
       "    }\n",
       "</style>\n",
       "<table border=\"1\" class=\"dataframe\">\n",
       "  <thead>\n",
       "    <tr style=\"text-align: right;\">\n",
       "      <th></th>\n",
       "      <th>calories</th>\n",
       "      <th>protein</th>\n",
       "      <th>fiber</th>\n",
       "      <th>sugars</th>\n",
       "    </tr>\n",
       "  </thead>\n",
       "  <tbody>\n",
       "    <tr>\n",
       "      <th>0</th>\n",
       "      <td>70</td>\n",
       "      <td>4</td>\n",
       "      <td>10.0</td>\n",
       "      <td>6</td>\n",
       "    </tr>\n",
       "    <tr>\n",
       "      <th>1</th>\n",
       "      <td>70</td>\n",
       "      <td>4</td>\n",
       "      <td>9.0</td>\n",
       "      <td>5</td>\n",
       "    </tr>\n",
       "    <tr>\n",
       "      <th>2</th>\n",
       "      <td>50</td>\n",
       "      <td>4</td>\n",
       "      <td>14.0</td>\n",
       "      <td>0</td>\n",
       "    </tr>\n",
       "    <tr>\n",
       "      <th>3</th>\n",
       "      <td>110</td>\n",
       "      <td>3</td>\n",
       "      <td>4.0</td>\n",
       "      <td>7</td>\n",
       "    </tr>\n",
       "    <tr>\n",
       "      <th>4</th>\n",
       "      <td>120</td>\n",
       "      <td>3</td>\n",
       "      <td>6.0</td>\n",
       "      <td>14</td>\n",
       "    </tr>\n",
       "  </tbody>\n",
       "</table>\n",
       "</div>"
      ],
      "text/plain": [
       "   calories  protein  fiber  sugars\n",
       "0        70        4   10.0       6\n",
       "1        70        4    9.0       5\n",
       "2        50        4   14.0       0\n",
       "3       110        3    4.0       7\n",
       "4       120        3    6.0      14"
      ]
     },
     "execution_count": 23,
     "metadata": {},
     "output_type": "execute_result"
    }
   ],
   "source": [
    "# X = feature values, all the columns except the last column\n",
    "X = newdf.iloc[:, [0,1,4,6]]\n",
    "# y = target values, last column of the data frame\n",
    "y = newdf.iloc[:, -1]\n",
    "X.head()"
   ]
  },
  {
   "cell_type": "code",
   "execution_count": 24,
   "id": "dc3ac0ad",
   "metadata": {},
   "outputs": [],
   "source": [
    "split = int(0.8*len(newdf))\n",
    "X_train, X_test, Y_train, Y_test = X[:split], X[split:], y[:split], y[split:]\n",
    "\n",
    "#import numpy as np\n",
    "#from sklearn.linear_model import LinearRegression\n",
    "reg = LinearRegression().fit(X_train, Y_train)"
   ]
  },
  {
   "cell_type": "code",
   "execution_count": 25,
   "id": "27102d67",
   "metadata": {},
   "outputs": [
    {
     "data": {
      "text/plain": [
       "0.8576570757842814"
      ]
     },
     "execution_count": 25,
     "metadata": {},
     "output_type": "execute_result"
    }
   ],
   "source": [
    "reg.score(X, y)"
   ]
  },
  {
   "cell_type": "code",
   "execution_count": 26,
   "id": "05c71a2d",
   "metadata": {},
   "outputs": [],
   "source": [
    "newpred = reg.predict(X_test)\n",
    "#type(newpred)\n",
    "xyz = pd.DataFrame(newpred)"
   ]
  },
  {
   "cell_type": "code",
   "execution_count": 27,
   "id": "307eb77b",
   "metadata": {},
   "outputs": [
    {
     "data": {
      "text/html": [
       "<div>\n",
       "<style scoped>\n",
       "    .dataframe tbody tr th:only-of-type {\n",
       "        vertical-align: middle;\n",
       "    }\n",
       "\n",
       "    .dataframe tbody tr th {\n",
       "        vertical-align: top;\n",
       "    }\n",
       "\n",
       "    .dataframe thead th {\n",
       "        text-align: right;\n",
       "    }\n",
       "</style>\n",
       "<table border=\"1\" class=\"dataframe\">\n",
       "  <thead>\n",
       "    <tr style=\"text-align: right;\">\n",
       "      <th></th>\n",
       "      <th>calories</th>\n",
       "      <th>protein</th>\n",
       "      <th>fiber</th>\n",
       "      <th>sugars</th>\n",
       "      <th>rating</th>\n",
       "      <th>pred_rating</th>\n",
       "    </tr>\n",
       "  </thead>\n",
       "  <tbody>\n",
       "    <tr>\n",
       "      <th>59</th>\n",
       "      <td>110</td>\n",
       "      <td>2</td>\n",
       "      <td>0.0</td>\n",
       "      <td>3</td>\n",
       "      <td>40.560159</td>\n",
       "      <td>41.673169</td>\n",
       "    </tr>\n",
       "    <tr>\n",
       "      <th>60</th>\n",
       "      <td>80</td>\n",
       "      <td>2</td>\n",
       "      <td>3.0</td>\n",
       "      <td>0</td>\n",
       "      <td>68.235885</td>\n",
       "      <td>58.714363</td>\n",
       "    </tr>\n",
       "    <tr>\n",
       "      <th>61</th>\n",
       "      <td>90</td>\n",
       "      <td>3</td>\n",
       "      <td>4.0</td>\n",
       "      <td>0</td>\n",
       "      <td>74.472949</td>\n",
       "      <td>60.203765</td>\n",
       "    </tr>\n",
       "    <tr>\n",
       "      <th>62</th>\n",
       "      <td>90</td>\n",
       "      <td>3</td>\n",
       "      <td>3.0</td>\n",
       "      <td>0</td>\n",
       "      <td>72.801787</td>\n",
       "      <td>58.268430</td>\n",
       "    </tr>\n",
       "    <tr>\n",
       "      <th>63</th>\n",
       "      <td>110</td>\n",
       "      <td>2</td>\n",
       "      <td>1.0</td>\n",
       "      <td>15</td>\n",
       "      <td>31.230054</td>\n",
       "      <td>26.485806</td>\n",
       "    </tr>\n",
       "    <tr>\n",
       "      <th>64</th>\n",
       "      <td>110</td>\n",
       "      <td>6</td>\n",
       "      <td>1.0</td>\n",
       "      <td>3</td>\n",
       "      <td>53.131324</td>\n",
       "      <td>51.097456</td>\n",
       "    </tr>\n",
       "    <tr>\n",
       "      <th>65</th>\n",
       "      <td>90</td>\n",
       "      <td>2</td>\n",
       "      <td>3.0</td>\n",
       "      <td>5</td>\n",
       "      <td>59.363993</td>\n",
       "      <td>49.261734</td>\n",
       "    </tr>\n",
       "    <tr>\n",
       "      <th>66</th>\n",
       "      <td>110</td>\n",
       "      <td>2</td>\n",
       "      <td>0.0</td>\n",
       "      <td>3</td>\n",
       "      <td>38.839746</td>\n",
       "      <td>41.673169</td>\n",
       "    </tr>\n",
       "    <tr>\n",
       "      <th>67</th>\n",
       "      <td>140</td>\n",
       "      <td>3</td>\n",
       "      <td>4.0</td>\n",
       "      <td>14</td>\n",
       "      <td>28.592785</td>\n",
       "      <td>28.636429</td>\n",
       "    </tr>\n",
       "    <tr>\n",
       "      <th>68</th>\n",
       "      <td>100</td>\n",
       "      <td>3</td>\n",
       "      <td>3.0</td>\n",
       "      <td>3</td>\n",
       "      <td>46.658844</td>\n",
       "      <td>51.669584</td>\n",
       "    </tr>\n",
       "    <tr>\n",
       "      <th>69</th>\n",
       "      <td>110</td>\n",
       "      <td>2</td>\n",
       "      <td>0.0</td>\n",
       "      <td>3</td>\n",
       "      <td>39.106174</td>\n",
       "      <td>41.673169</td>\n",
       "    </tr>\n",
       "    <tr>\n",
       "      <th>70</th>\n",
       "      <td>110</td>\n",
       "      <td>1</td>\n",
       "      <td>0.0</td>\n",
       "      <td>12</td>\n",
       "      <td>27.753301</td>\n",
       "      <td>26.958907</td>\n",
       "    </tr>\n",
       "    <tr>\n",
       "      <th>71</th>\n",
       "      <td>100</td>\n",
       "      <td>3</td>\n",
       "      <td>3.0</td>\n",
       "      <td>3</td>\n",
       "      <td>49.787445</td>\n",
       "      <td>51.669584</td>\n",
       "    </tr>\n",
       "    <tr>\n",
       "      <th>72</th>\n",
       "      <td>100</td>\n",
       "      <td>3</td>\n",
       "      <td>3.0</td>\n",
       "      <td>3</td>\n",
       "      <td>51.592193</td>\n",
       "      <td>51.669584</td>\n",
       "    </tr>\n",
       "    <tr>\n",
       "      <th>73</th>\n",
       "      <td>110</td>\n",
       "      <td>2</td>\n",
       "      <td>1.0</td>\n",
       "      <td>8</td>\n",
       "      <td>36.187559</td>\n",
       "      <td>36.474047</td>\n",
       "    </tr>\n",
       "  </tbody>\n",
       "</table>\n",
       "</div>"
      ],
      "text/plain": [
       "    calories  protein  fiber  sugars     rating  pred_rating\n",
       "59       110        2    0.0       3  40.560159    41.673169\n",
       "60        80        2    3.0       0  68.235885    58.714363\n",
       "61        90        3    4.0       0  74.472949    60.203765\n",
       "62        90        3    3.0       0  72.801787    58.268430\n",
       "63       110        2    1.0      15  31.230054    26.485806\n",
       "64       110        6    1.0       3  53.131324    51.097456\n",
       "65        90        2    3.0       5  59.363993    49.261734\n",
       "66       110        2    0.0       3  38.839746    41.673169\n",
       "67       140        3    4.0      14  28.592785    28.636429\n",
       "68       100        3    3.0       3  46.658844    51.669584\n",
       "69       110        2    0.0       3  39.106174    41.673169\n",
       "70       110        1    0.0      12  27.753301    26.958907\n",
       "71       100        3    3.0       3  49.787445    51.669584\n",
       "72       100        3    3.0       3  51.592193    51.669584\n",
       "73       110        2    1.0       8  36.187559    36.474047"
      ]
     },
     "execution_count": 27,
     "metadata": {},
     "output_type": "execute_result"
    }
   ],
   "source": [
    "df_new = pd.concat([X_test, Y_test], axis=1)\n",
    "# Original Rating, Predict Rating\n",
    "df_new['pred_rating'] = newpred\n",
    "df_new"
   ]
  },
  {
   "cell_type": "code",
   "execution_count": 28,
   "id": "8e1f46a2",
   "metadata": {},
   "outputs": [
    {
     "data": {
      "image/png": "[encoded data removed]",
      "text/plain": [
       "<Figure size 432x288 with 1 Axes>"
      ]
     },
     "metadata": {
      "needs_background": "light"
     },
     "output_type": "display_data"
    }
   ],
   "source": [
    "# any one variable in X for pLot\n",
    "#SCATTER PLOT\n",
    "# indentation\n",
    "#for i in range(0,9):\n",
    "X = newdf.iloc[:, [0]].values.reshape(-1, 1)  # values converts it into a numpy array\n",
    "Y = newdf.iloc[:, 9].values.reshape(-1, 1)  # -1 means that calculate the dimension of rows, but have 1 column\n",
    "linear_regressor = LinearRegression()  # create object for the class\n",
    "linear_regressor.fit(X, Y)  # perform linear regression\n",
    "Y_pred = linear_regressor.predict(X)  # make predictions\n",
    "plt.scatter(X, Y, color='green')\n",
    "plt.plot(X, Y_pred, color='red')\n",
    "plt.show()"
   ]
  },
  {
   "cell_type": "code",
   "execution_count": 29,
   "id": "2263c632",
   "metadata": {},
   "outputs": [],
   "source": [
    "# linear regression using gradient descent\n",
    "# Loss Function\n",
    "#The loss is the error in our predicted value of m and c. \n",
    "#Our goal is to minimize this error to obtain the most accurate value of m and c.\n",
    "#We will use the Mean Squared Error function to calculate the loss. "
   ]
  },
  {
   "cell_type": "code",
   "execution_count": 30,
   "id": "07f2ef54",
   "metadata": {},
   "outputs": [
    {
     "data": {
      "image/png": "[encoded data removed]",
      "text/plain": [
       "<Figure size 432x288 with 1 Axes>"
      ]
     },
     "metadata": {
      "needs_background": "light"
     },
     "output_type": "display_data"
    }
   ],
   "source": [
    "# Gradient descent is an iterative optimization algorithm to find the minimum of a function. \n",
    "X = newdf.iloc[:, 0]\n",
    "Y =  newdf.iloc[:, 9]\n",
    "plt.scatter(X, Y)\n",
    "plt.show()"
   ]
  },
  {
   "cell_type": "code",
   "execution_count": 31,
   "id": "237876c6",
   "metadata": {},
   "outputs": [
    {
     "name": "stdout",
     "output_type": "stream",
     "text": [
      "-7.367824961649988e+111 -6.776923752037206e+109\n"
     ]
    }
   ],
   "source": [
    "# Building the model\n",
    "m = 0\n",
    "c = 0\n",
    "\n",
    "L = 0.0001  # The learning Rate\n",
    "epochs = 1000  # The number of iterations to perform gradient descent\n",
    "\n",
    "n = float(len(X)) # Number of elements in X\n",
    "\n",
    "# Performing Gradient Descent \n",
    "for i in range(epochs): \n",
    "    Y_pred = m*X + c  # The current predicted value of Y\n",
    "    D_m = (-2/n) * sum(X * (Y - Y_pred))  # Derivative wrt m\n",
    "    D_c = (-2/n) * sum(Y - Y_pred)  # Derivative wrt c\n",
    "    m = m - L * D_m  # Update m\n",
    "    c = c - L * D_c  # Update c\n",
    "    \n",
    "print (m, c)"
   ]
  },
  {
   "cell_type": "code",
   "execution_count": 32,
   "id": "7d345717",
   "metadata": {},
   "outputs": [
    {
     "data": {
      "image/png": "[encoded data removed]",
      "text/plain": [
       "<Figure size 432x288 with 1 Axes>"
      ]
     },
     "metadata": {
      "needs_background": "light"
     },
     "output_type": "display_data"
    }
   ],
   "source": [
    "# Making predictions\n",
    "m = -7.367824961649988e+111 \n",
    "c = -6.776923752037206e+109\n",
    "Y_pred = m*X + c\n",
    "\n",
    "plt.scatter(X, Y) \n",
    "plt.plot([min(X), max(X)], [min(Y_pred), max(Y_pred)], color='red')  # regression line\n",
    "plt.show()"
   ]
  },
  {
   "cell_type": "code",
   "execution_count": 33,
   "id": "628ea4f3",
   "metadata": {},
   "outputs": [],
   "source": [
    "# Stochastic Gradient Descent"
   ]
  },
  {
   "cell_type": "code",
   "execution_count": 54,
   "id": "ff522f8f",
   "metadata": {},
   "outputs": [
    {
     "data": {
      "image/png": "[encoded data removed]",
      "text/plain": [
       "<Figure size 432x288 with 1 Axes>"
      ]
     },
     "metadata": {
      "needs_background": "light"
     },
     "output_type": "display_data"
    },
    {
     "name": "stdout",
     "output_type": "stream",
     "text": [
      "Mean Squared Error : 0.49470180008273373\n"
     ]
    }
   ],
   "source": [
    "from sklearn.linear_model import SGDRegressor\n",
    "from sklearn.metrics import mean_squared_error\n",
    "from sklearn.preprocessing import scale\n",
    "\n",
    "n_iter=1000\n",
    "clf_ = SGDRegressor(max_iter=n_iter)\n",
    "\n",
    "df = pd.read_csv('C:\\\\Users\\\\radha\\\\Desktop\\\\dsp27 Class\\\\cerealspga05.csv')\n",
    "\n",
    "# X = feature values, all the columns except the last column\n",
    "X = scale(df.iloc[:, [3]])\n",
    "# y = target values, last column of the data frame\n",
    "Y = scale(df.iloc[:, -1])\n",
    "\n",
    "clf_.fit(X, Y)\n",
    "y_pred_sksgd=clf_.predict(X)\n",
    "plt.scatter(Y,y_pred_sksgd)\n",
    "plt.grid()\n",
    "plt.xlabel('Actual y')\n",
    "plt.ylabel('Predicted y')\n",
    "plt.title('Scatter plot from actual y and predicted y')\n",
    "plt.show()\n",
    "\n",
    "print('Mean Squared Error :',mean_squared_error(Y, y_pred_sksgd))\n"
   ]
  },
  {
   "cell_type": "code",
   "execution_count": 74,
   "id": "482d00fe",
   "metadata": {},
   "outputs": [
    {
     "name": "stdout",
     "output_type": "stream",
     "text": [
      "R-squared: 0.7380610518424076\n",
      "MSE:  71.4399093015549\n",
      "RMSE:  8.452213278281311\n"
     ]
    },
    {
     "data": {
      "image/png": "[encoded data removed]",
      "text/plain": [
       "<Figure size 432x288 with 1 Axes>"
      ]
     },
     "metadata": {
      "needs_background": "light"
     },
     "output_type": "display_data"
    }
   ],
   "source": [
    "df = pd.read_csv('C:\\\\Users\\\\radha\\\\Desktop\\\\dsp27 Class\\\\cerealspga05.csv')\n",
    "\n",
    "from sklearn.model_selection import train_test_split\n",
    "from sklearn.model_selection import cross_val_score\n",
    "x = scale(df.iloc[:, [3,4]])\n",
    "# y = target values, last column of the data frame\n",
    "y = df.iloc[:, -1]\n",
    "\n",
    "xtrain, xtest, ytrain, ytest = train_test_split(x, y, test_size=.15)\n",
    "\n",
    "sgdr = SGDRegressor(alpha=0.0001, epsilon=0.01, eta0=0.1,penalty='elasticnet')\n",
    "sgdr.fit(xtrain, ytrain)\n",
    "\n",
    "score = sgdr.score(xtrain, ytrain)\n",
    "print(\"R-squared:\", score)\n",
    "\n",
    "# cv_score = cross_val_score(lsvr, x, y, cv=5)\n",
    "# print(\"CV mean score: \", cv_score.mean())\n",
    "\n",
    "ypred = sgdr.predict(xtest)\n",
    "\n",
    "\n",
    "mse = mean_squared_error(ytest, ypred)\n",
    "print(\"MSE: \", mse)\n",
    "print(\"RMSE: \", mse**(1/2.0))\n",
    "\n",
    "x_ax = range(len(ytest))\n",
    "plt.plot(x_ax, ytest, label=\"original\")\n",
    "plt.plot(x_ax, ypred, label=\"predicted\")\n",
    "plt.title(\"Boston test and predicted data\")\n",
    "plt.xlabel('X-axis')\n",
    "plt.ylabel('Y-axis')\n",
    "plt.legend(loc='best',fancybox=True, shadow=True)\n",
    "plt.grid(True)\n",
    "plt.show()"
   ]
  },
  {
   "cell_type": "code",
   "execution_count": 94,
   "id": "1af8534d",
   "metadata": {},
   "outputs": [
    {
     "data": {
      "text/html": [
       "<div>\n",
       "<style scoped>\n",
       "    .dataframe tbody tr th:only-of-type {\n",
       "        vertical-align: middle;\n",
       "    }\n",
       "\n",
       "    .dataframe tbody tr th {\n",
       "        vertical-align: top;\n",
       "    }\n",
       "\n",
       "    .dataframe thead th {\n",
       "        text-align: right;\n",
       "    }\n",
       "</style>\n",
       "<table border=\"1\" class=\"dataframe\">\n",
       "  <thead>\n",
       "    <tr style=\"text-align: right;\">\n",
       "      <th></th>\n",
       "      <th>0</th>\n",
       "      <th>1</th>\n",
       "      <th>0</th>\n",
       "      <th>pred_rating</th>\n",
       "      <th>Y_rating</th>\n",
       "    </tr>\n",
       "  </thead>\n",
       "  <tbody>\n",
       "    <tr>\n",
       "      <th>0</th>\n",
       "      <td>-1.940286</td>\n",
       "      <td>1.387392</td>\n",
       "      <td>1.386561</td>\n",
       "      <td>71.515985</td>\n",
       "      <td>NaN</td>\n",
       "    </tr>\n",
       "    <tr>\n",
       "      <th>1</th>\n",
       "      <td>0.789394</td>\n",
       "      <td>0.462464</td>\n",
       "      <td>0.266039</td>\n",
       "      <td>38.050971</td>\n",
       "      <td>59.425505</td>\n",
       "    </tr>\n",
       "    <tr>\n",
       "      <th>2</th>\n",
       "      <td>-0.302478</td>\n",
       "      <td>1.387392</td>\n",
       "      <td>0.226231</td>\n",
       "      <td>54.921268</td>\n",
       "      <td>NaN</td>\n",
       "    </tr>\n",
       "    <tr>\n",
       "      <th>3</th>\n",
       "      <td>1.881266</td>\n",
       "      <td>0.462464</td>\n",
       "      <td>-0.502733</td>\n",
       "      <td>26.987827</td>\n",
       "      <td>NaN</td>\n",
       "    </tr>\n",
       "    <tr>\n",
       "      <th>4</th>\n",
       "      <td>0.243458</td>\n",
       "      <td>-1.387392</td>\n",
       "      <td>-1.545365</td>\n",
       "      <td>31.968239</td>\n",
       "      <td>NaN</td>\n",
       "    </tr>\n",
       "    <tr>\n",
       "      <th>5</th>\n",
       "      <td>-0.302478</td>\n",
       "      <td>0.462464</td>\n",
       "      <td>-0.088558</td>\n",
       "      <td>49.114116</td>\n",
       "      <td>NaN</td>\n",
       "    </tr>\n",
       "    <tr>\n",
       "      <th>6</th>\n",
       "      <td>0.243458</td>\n",
       "      <td>-0.462464</td>\n",
       "      <td>-1.075758</td>\n",
       "      <td>37.775391</td>\n",
       "      <td>NaN</td>\n",
       "    </tr>\n",
       "    <tr>\n",
       "      <th>7</th>\n",
       "      <td>0.789394</td>\n",
       "      <td>-0.462464</td>\n",
       "      <td>-1.041621</td>\n",
       "      <td>32.243819</td>\n",
       "      <td>NaN</td>\n",
       "    </tr>\n",
       "    <tr>\n",
       "      <th>8</th>\n",
       "      <td>-0.848414</td>\n",
       "      <td>-0.462464</td>\n",
       "      <td>0.538358</td>\n",
       "      <td>48.838536</td>\n",
       "      <td>29.509541</td>\n",
       "    </tr>\n",
       "    <tr>\n",
       "      <th>9</th>\n",
       "      <td>-0.848414</td>\n",
       "      <td>0.462464</td>\n",
       "      <td>0.883520</td>\n",
       "      <td>54.645688</td>\n",
       "      <td>NaN</td>\n",
       "    </tr>\n",
       "    <tr>\n",
       "      <th>10</th>\n",
       "      <td>-0.302478</td>\n",
       "      <td>0.462464</td>\n",
       "      <td>1.807015</td>\n",
       "      <td>49.114116</td>\n",
       "      <td>NaN</td>\n",
       "    </tr>\n",
       "    <tr>\n",
       "      <th>11</th>\n",
       "      <td>0.243458</td>\n",
       "      <td>-0.462464</td>\n",
       "      <td>-0.853688</td>\n",
       "      <td>37.775391</td>\n",
       "      <td>49.120253</td>\n",
       "    </tr>\n",
       "  </tbody>\n",
       "</table>\n",
       "</div>"
      ],
      "text/plain": [
       "           0         1         0  pred_rating   Y_rating\n",
       "0  -1.940286  1.387392  1.386561    71.515985        NaN\n",
       "1   0.789394  0.462464  0.266039    38.050971  59.425505\n",
       "2  -0.302478  1.387392  0.226231    54.921268        NaN\n",
       "3   1.881266  0.462464 -0.502733    26.987827        NaN\n",
       "4   0.243458 -1.387392 -1.545365    31.968239        NaN\n",
       "5  -0.302478  0.462464 -0.088558    49.114116        NaN\n",
       "6   0.243458 -0.462464 -1.075758    37.775391        NaN\n",
       "7   0.789394 -0.462464 -1.041621    32.243819        NaN\n",
       "8  -0.848414 -0.462464  0.538358    48.838536  29.509541\n",
       "9  -0.848414  0.462464  0.883520    54.645688        NaN\n",
       "10 -0.302478  0.462464  1.807015    49.114116        NaN\n",
       "11  0.243458 -0.462464 -0.853688    37.775391  49.120253"
      ]
     },
     "execution_count": 94,
     "metadata": {},
     "output_type": "execute_result"
    }
   ],
   "source": [
    "xt = pd.DataFrame(xtest)\n",
    "yt = pd.DataFrame(scale(ytest))\n",
    "\n",
    "df_new = pd.concat([xt, yt], axis=1)\n",
    "# Original Rating, Predict Rating\n",
    "df_new['pred_rating'] = ypred\n",
    "df_new['Y_rating'] = ytest\n",
    "df_new"
   ]
  },
  {
   "cell_type": "code",
   "execution_count": 101,
   "id": "b56fc027",
   "metadata": {},
   "outputs": [
    {
     "data": {
      "image/png": "[encoded data removed]",
      "text/plain": [
       "<Figure size 432x288 with 1 Axes>"
      ]
     },
     "metadata": {
      "needs_background": "light"
     },
     "output_type": "display_data"
    },
    {
     "name": "stdout",
     "output_type": "stream",
     "text": [
      "Mean Squared Error : 22.490140518577128\n",
      "Mean Absolute Error : 3.7233885245095277\n"
     ]
    }
   ],
   "source": [
    "from sklearn.model_selection import train_test_split\n",
    "from sklearn.model_selection import cross_val_score\n",
    "from sklearn.metrics import mean_squared_error,mean_absolute_error\n",
    "\n",
    "\n",
    "df = pd.read_csv('C:\\\\Users\\\\radha\\\\Desktop\\\\dsp27 Class\\\\cerealspga05.csv')\n",
    "df.axes\n",
    "x = scale(df.iloc[:, [3,4,7,9]])\n",
    "# y = target values, last column of the data frame\n",
    "y = df.iloc[:, -1]\n",
    "\n",
    "#x_train, x_test, y_train, y_test = train_test_split(x, y, test_size=.30)\n",
    "\n",
    "x_train,x_test,y_train,y_test=train_test_split(x,y,test_size=0.3)\n",
    "\n",
    "# SkLearn SGD classifier\n",
    "clf_ = SGDRegressor()\n",
    "clf_.fit(x_train, y_train)\n",
    "plt.scatter(y_test,clf_.predict(x_test))\n",
    "plt.grid()\n",
    "plt.xlabel('Actual y')\n",
    "plt.ylabel('Predicted y')\n",
    "plt.title('scatter plot between actual y and predicted y')\n",
    "plt.show()\n",
    "print('Mean Squared Error :',mean_squared_error(y_test, clf_.predict(x_test)))\n",
    "print('Mean Absolute Error :',mean_absolute_error(y_test, clf_.predict(x_test)))"
   ]
  },
  {
   "cell_type": "code",
   "execution_count": 100,
   "id": "d35072af",
   "metadata": {},
   "outputs": [
    {
     "data": {
      "text/plain": [
       "[RangeIndex(start=0, stop=74, step=1),\n",
       " Index(['name', 'mfr', 'type', 'calories', 'protein', 'fat', 'sodium', 'fiber',\n",
       "        'carbo', 'sugars', 'potass', 'vitamins', 'shelf', 'weight', 'cups',\n",
       "        'rating'],\n",
       "       dtype='object')]"
      ]
     },
     "execution_count": 100,
     "metadata": {},
     "output_type": "execute_result"
    }
   ],
   "source": [
    "df.axes\n",
    "# 3,4,7,9"
   ]
  },
  {
   "cell_type": "code",
   "execution_count": 119,
   "id": "09584e5e",
   "metadata": {},
   "outputs": [
    {
     "data": {
      "text/plain": [
       "array([37.77580718, 43.09545518, 32.12317533, 35.58131327, 37.86910087,\n",
       "       37.49398661, 45.96552982, 25.44658962, 27.11573605, 55.76149335,\n",
       "       37.49398661, 46.74018049, 46.46048917, 31.17722622, 47.20475169,\n",
       "       43.09545518, 43.09545518, 25.19728645, 60.31245667, 52.64211553,\n",
       "       44.54568657, 40.21960428, 50.44762161])"
      ]
     },
     "execution_count": 119,
     "metadata": {},
     "output_type": "execute_result"
    }
   ],
   "source": [
    "clf_.predict(x_test)\n"
   ]
  },
  {
   "cell_type": "code",
   "execution_count": 141,
   "id": "7d062a56",
   "metadata": {},
   "outputs": [
    {
     "data": {
      "text/plain": [
       "pandas.core.series.Series"
      ]
     },
     "execution_count": 141,
     "metadata": {},
     "output_type": "execute_result"
    }
   ],
   "source": [
    "type(y_test)"
   ]
  },
  {
   "cell_type": "code",
   "execution_count": 142,
   "id": "7cc3ee11",
   "metadata": {},
   "outputs": [
    {
     "data": {
      "text/plain": [
       "numpy.ndarray"
      ]
     },
     "execution_count": 142,
     "metadata": {},
     "output_type": "execute_result"
    }
   ],
   "source": [
    "type(x_test)"
   ]
  },
  {
   "cell_type": "code",
   "execution_count": 143,
   "id": "392dd43a",
   "metadata": {},
   "outputs": [
    {
     "data": {
      "text/plain": [
       "numpy.ndarray"
      ]
     },
     "execution_count": 143,
     "metadata": {},
     "output_type": "execute_result"
    }
   ],
   "source": [
    "type(clf_.predict(x_test))"
   ]
  },
  {
   "cell_type": "code",
   "execution_count": 167,
   "id": "01b38b1a",
   "metadata": {},
   "outputs": [
    {
     "data": {
      "text/html": [
       "<div>\n",
       "<style scoped>\n",
       "    .dataframe tbody tr th:only-of-type {\n",
       "        vertical-align: middle;\n",
       "    }\n",
       "\n",
       "    .dataframe tbody tr th {\n",
       "        vertical-align: top;\n",
       "    }\n",
       "\n",
       "    .dataframe thead th {\n",
       "        text-align: right;\n",
       "    }\n",
       "</style>\n",
       "<table border=\"1\" class=\"dataframe\">\n",
       "  <thead>\n",
       "    <tr style=\"text-align: right;\">\n",
       "      <th></th>\n",
       "      <th>index</th>\n",
       "      <th>rating</th>\n",
       "    </tr>\n",
       "  </thead>\n",
       "  <tbody>\n",
       "    <tr>\n",
       "      <th>0</th>\n",
       "      <td>6</td>\n",
       "      <td>33.983679</td>\n",
       "    </tr>\n",
       "    <tr>\n",
       "      <th>1</th>\n",
       "      <td>59</td>\n",
       "      <td>40.560159</td>\n",
       "    </tr>\n",
       "    <tr>\n",
       "      <th>2</th>\n",
       "      <td>32</td>\n",
       "      <td>23.804043</td>\n",
       "    </tr>\n",
       "    <tr>\n",
       "      <th>3</th>\n",
       "      <td>10</td>\n",
       "      <td>37.038562</td>\n",
       "    </tr>\n",
       "    <tr>\n",
       "      <th>4</th>\n",
       "      <td>24</td>\n",
       "      <td>36.176196</td>\n",
       "    </tr>\n",
       "    <tr>\n",
       "      <th>5</th>\n",
       "      <td>29</td>\n",
       "      <td>41.015492</td>\n",
       "    </tr>\n",
       "    <tr>\n",
       "      <th>6</th>\n",
       "      <td>28</td>\n",
       "      <td>58.345141</td>\n",
       "    </tr>\n",
       "    <tr>\n",
       "      <th>7</th>\n",
       "      <td>17</td>\n",
       "      <td>22.736446</td>\n",
       "    </tr>\n",
       "    <tr>\n",
       "      <th>8</th>\n",
       "      <td>30</td>\n",
       "      <td>28.025765</td>\n",
       "    </tr>\n",
       "    <tr>\n",
       "      <th>9</th>\n",
       "      <td>12</td>\n",
       "      <td>53.313813</td>\n",
       "    </tr>\n",
       "    <tr>\n",
       "      <th>10</th>\n",
       "      <td>5</td>\n",
       "      <td>39.259197</td>\n",
       "    </tr>\n",
       "    <tr>\n",
       "      <th>11</th>\n",
       "      <td>57</td>\n",
       "      <td>55.333142</td>\n",
       "    </tr>\n",
       "    <tr>\n",
       "      <th>12</th>\n",
       "      <td>54</td>\n",
       "      <td>49.511874</td>\n",
       "    </tr>\n",
       "    <tr>\n",
       "      <th>13</th>\n",
       "      <td>50</td>\n",
       "      <td>30.450843</td>\n",
       "    </tr>\n",
       "    <tr>\n",
       "      <th>14</th>\n",
       "      <td>44</td>\n",
       "      <td>54.850917</td>\n",
       "    </tr>\n",
       "    <tr>\n",
       "      <th>15</th>\n",
       "      <td>41</td>\n",
       "      <td>39.241114</td>\n",
       "    </tr>\n",
       "    <tr>\n",
       "      <th>16</th>\n",
       "      <td>18</td>\n",
       "      <td>41.445019</td>\n",
       "    </tr>\n",
       "    <tr>\n",
       "      <th>17</th>\n",
       "      <td>63</td>\n",
       "      <td>31.230054</td>\n",
       "    </tr>\n",
       "    <tr>\n",
       "      <th>18</th>\n",
       "      <td>52</td>\n",
       "      <td>60.756112</td>\n",
       "    </tr>\n",
       "    <tr>\n",
       "      <th>19</th>\n",
       "      <td>72</td>\n",
       "      <td>51.592193</td>\n",
       "    </tr>\n",
       "    <tr>\n",
       "      <th>20</th>\n",
       "      <td>46</td>\n",
       "      <td>40.105965</td>\n",
       "    </tr>\n",
       "    <tr>\n",
       "      <th>21</th>\n",
       "      <td>39</td>\n",
       "      <td>36.523683</td>\n",
       "    </tr>\n",
       "    <tr>\n",
       "      <th>22</th>\n",
       "      <td>34</td>\n",
       "      <td>53.371007</td>\n",
       "    </tr>\n",
       "  </tbody>\n",
       "</table>\n",
       "</div>"
      ],
      "text/plain": [
       "    index     rating\n",
       "0       6  33.983679\n",
       "1      59  40.560159\n",
       "2      32  23.804043\n",
       "3      10  37.038562\n",
       "4      24  36.176196\n",
       "5      29  41.015492\n",
       "6      28  58.345141\n",
       "7      17  22.736446\n",
       "8      30  28.025765\n",
       "9      12  53.313813\n",
       "10      5  39.259197\n",
       "11     57  55.333142\n",
       "12     54  49.511874\n",
       "13     50  30.450843\n",
       "14     44  54.850917\n",
       "15     41  39.241114\n",
       "16     18  41.445019\n",
       "17     63  31.230054\n",
       "18     52  60.756112\n",
       "19     72  51.592193\n",
       "20     46  40.105965\n",
       "21     39  36.523683\n",
       "22     34  53.371007"
      ]
     },
     "execution_count": 167,
     "metadata": {},
     "output_type": "execute_result"
    }
   ],
   "source": [
    "# pandas.core.series.Series to DF\n",
    "ydf = y_test.to_frame()\n",
    "ydf = ydf.reset_index(level=0)\n",
    "ydf\n"
   ]
  },
  {
   "cell_type": "code",
   "execution_count": 168,
   "id": "4b42cbb5",
   "metadata": {},
   "outputs": [
    {
     "data": {
      "text/html": [
       "<div>\n",
       "<style scoped>\n",
       "    .dataframe tbody tr th:only-of-type {\n",
       "        vertical-align: middle;\n",
       "    }\n",
       "\n",
       "    .dataframe tbody tr th {\n",
       "        vertical-align: top;\n",
       "    }\n",
       "\n",
       "    .dataframe thead th {\n",
       "        text-align: right;\n",
       "    }\n",
       "</style>\n",
       "<table border=\"1\" class=\"dataframe\">\n",
       "  <thead>\n",
       "    <tr style=\"text-align: right;\">\n",
       "      <th></th>\n",
       "      <th>index</th>\n",
       "      <th>0</th>\n",
       "    </tr>\n",
       "  </thead>\n",
       "  <tbody>\n",
       "    <tr>\n",
       "      <th>0</th>\n",
       "      <td>0</td>\n",
       "      <td>37.775807</td>\n",
       "    </tr>\n",
       "    <tr>\n",
       "      <th>1</th>\n",
       "      <td>1</td>\n",
       "      <td>43.095455</td>\n",
       "    </tr>\n",
       "    <tr>\n",
       "      <th>2</th>\n",
       "      <td>2</td>\n",
       "      <td>32.123175</td>\n",
       "    </tr>\n",
       "    <tr>\n",
       "      <th>3</th>\n",
       "      <td>3</td>\n",
       "      <td>35.581313</td>\n",
       "    </tr>\n",
       "    <tr>\n",
       "      <th>4</th>\n",
       "      <td>4</td>\n",
       "      <td>37.869101</td>\n",
       "    </tr>\n",
       "    <tr>\n",
       "      <th>5</th>\n",
       "      <td>5</td>\n",
       "      <td>37.493987</td>\n",
       "    </tr>\n",
       "    <tr>\n",
       "      <th>6</th>\n",
       "      <td>6</td>\n",
       "      <td>45.965530</td>\n",
       "    </tr>\n",
       "    <tr>\n",
       "      <th>7</th>\n",
       "      <td>7</td>\n",
       "      <td>25.446590</td>\n",
       "    </tr>\n",
       "    <tr>\n",
       "      <th>8</th>\n",
       "      <td>8</td>\n",
       "      <td>27.115736</td>\n",
       "    </tr>\n",
       "    <tr>\n",
       "      <th>9</th>\n",
       "      <td>9</td>\n",
       "      <td>55.761493</td>\n",
       "    </tr>\n",
       "    <tr>\n",
       "      <th>10</th>\n",
       "      <td>10</td>\n",
       "      <td>37.493987</td>\n",
       "    </tr>\n",
       "    <tr>\n",
       "      <th>11</th>\n",
       "      <td>11</td>\n",
       "      <td>46.740180</td>\n",
       "    </tr>\n",
       "    <tr>\n",
       "      <th>12</th>\n",
       "      <td>12</td>\n",
       "      <td>46.460489</td>\n",
       "    </tr>\n",
       "    <tr>\n",
       "      <th>13</th>\n",
       "      <td>13</td>\n",
       "      <td>31.177226</td>\n",
       "    </tr>\n",
       "    <tr>\n",
       "      <th>14</th>\n",
       "      <td>14</td>\n",
       "      <td>47.204752</td>\n",
       "    </tr>\n",
       "    <tr>\n",
       "      <th>15</th>\n",
       "      <td>15</td>\n",
       "      <td>43.095455</td>\n",
       "    </tr>\n",
       "    <tr>\n",
       "      <th>16</th>\n",
       "      <td>16</td>\n",
       "      <td>43.095455</td>\n",
       "    </tr>\n",
       "    <tr>\n",
       "      <th>17</th>\n",
       "      <td>17</td>\n",
       "      <td>25.197286</td>\n",
       "    </tr>\n",
       "    <tr>\n",
       "      <th>18</th>\n",
       "      <td>18</td>\n",
       "      <td>60.312457</td>\n",
       "    </tr>\n",
       "    <tr>\n",
       "      <th>19</th>\n",
       "      <td>19</td>\n",
       "      <td>52.642116</td>\n",
       "    </tr>\n",
       "    <tr>\n",
       "      <th>20</th>\n",
       "      <td>20</td>\n",
       "      <td>44.545687</td>\n",
       "    </tr>\n",
       "    <tr>\n",
       "      <th>21</th>\n",
       "      <td>21</td>\n",
       "      <td>40.219604</td>\n",
       "    </tr>\n",
       "    <tr>\n",
       "      <th>22</th>\n",
       "      <td>22</td>\n",
       "      <td>50.447622</td>\n",
       "    </tr>\n",
       "  </tbody>\n",
       "</table>\n",
       "</div>"
      ],
      "text/plain": [
       "    index          0\n",
       "0       0  37.775807\n",
       "1       1  43.095455\n",
       "2       2  32.123175\n",
       "3       3  35.581313\n",
       "4       4  37.869101\n",
       "5       5  37.493987\n",
       "6       6  45.965530\n",
       "7       7  25.446590\n",
       "8       8  27.115736\n",
       "9       9  55.761493\n",
       "10     10  37.493987\n",
       "11     11  46.740180\n",
       "12     12  46.460489\n",
       "13     13  31.177226\n",
       "14     14  47.204752\n",
       "15     15  43.095455\n",
       "16     16  43.095455\n",
       "17     17  25.197286\n",
       "18     18  60.312457\n",
       "19     19  52.642116\n",
       "20     20  44.545687\n",
       "21     21  40.219604\n",
       "22     22  50.447622"
      ]
     },
     "execution_count": 168,
     "metadata": {},
     "output_type": "execute_result"
    }
   ],
   "source": [
    "# numpy.ndarray AS DF\n",
    "ypredx = pd.DataFrame(clf_.predict(x_test)).reset_index(level=0)\n",
    "ypredx"
   ]
  },
  {
   "cell_type": "code",
   "execution_count": 181,
   "id": "3c82e178",
   "metadata": {},
   "outputs": [
    {
     "data": {
      "text/html": [
       "<div>\n",
       "<style scoped>\n",
       "    .dataframe tbody tr th:only-of-type {\n",
       "        vertical-align: middle;\n",
       "    }\n",
       "\n",
       "    .dataframe tbody tr th {\n",
       "        vertical-align: top;\n",
       "    }\n",
       "\n",
       "    .dataframe thead th {\n",
       "        text-align: right;\n",
       "    }\n",
       "</style>\n",
       "<table border=\"1\" class=\"dataframe\">\n",
       "  <thead>\n",
       "    <tr style=\"text-align: right;\">\n",
       "      <th></th>\n",
       "      <th>rating</th>\n",
       "      <th>0</th>\n",
       "    </tr>\n",
       "  </thead>\n",
       "  <tbody>\n",
       "    <tr>\n",
       "      <th>0</th>\n",
       "      <td>33.983679</td>\n",
       "      <td>37.775807</td>\n",
       "    </tr>\n",
       "    <tr>\n",
       "      <th>1</th>\n",
       "      <td>40.560159</td>\n",
       "      <td>43.095455</td>\n",
       "    </tr>\n",
       "    <tr>\n",
       "      <th>2</th>\n",
       "      <td>23.804043</td>\n",
       "      <td>32.123175</td>\n",
       "    </tr>\n",
       "    <tr>\n",
       "      <th>3</th>\n",
       "      <td>37.038562</td>\n",
       "      <td>35.581313</td>\n",
       "    </tr>\n",
       "    <tr>\n",
       "      <th>4</th>\n",
       "      <td>36.176196</td>\n",
       "      <td>37.869101</td>\n",
       "    </tr>\n",
       "    <tr>\n",
       "      <th>5</th>\n",
       "      <td>41.015492</td>\n",
       "      <td>37.493987</td>\n",
       "    </tr>\n",
       "    <tr>\n",
       "      <th>6</th>\n",
       "      <td>58.345141</td>\n",
       "      <td>45.965530</td>\n",
       "    </tr>\n",
       "    <tr>\n",
       "      <th>7</th>\n",
       "      <td>22.736446</td>\n",
       "      <td>25.446590</td>\n",
       "    </tr>\n",
       "    <tr>\n",
       "      <th>8</th>\n",
       "      <td>28.025765</td>\n",
       "      <td>27.115736</td>\n",
       "    </tr>\n",
       "    <tr>\n",
       "      <th>9</th>\n",
       "      <td>53.313813</td>\n",
       "      <td>55.761493</td>\n",
       "    </tr>\n",
       "    <tr>\n",
       "      <th>10</th>\n",
       "      <td>39.259197</td>\n",
       "      <td>37.493987</td>\n",
       "    </tr>\n",
       "    <tr>\n",
       "      <th>11</th>\n",
       "      <td>55.333142</td>\n",
       "      <td>46.740180</td>\n",
       "    </tr>\n",
       "    <tr>\n",
       "      <th>12</th>\n",
       "      <td>49.511874</td>\n",
       "      <td>46.460489</td>\n",
       "    </tr>\n",
       "    <tr>\n",
       "      <th>13</th>\n",
       "      <td>30.450843</td>\n",
       "      <td>31.177226</td>\n",
       "    </tr>\n",
       "    <tr>\n",
       "      <th>14</th>\n",
       "      <td>54.850917</td>\n",
       "      <td>47.204752</td>\n",
       "    </tr>\n",
       "    <tr>\n",
       "      <th>15</th>\n",
       "      <td>39.241114</td>\n",
       "      <td>43.095455</td>\n",
       "    </tr>\n",
       "    <tr>\n",
       "      <th>16</th>\n",
       "      <td>41.445019</td>\n",
       "      <td>43.095455</td>\n",
       "    </tr>\n",
       "    <tr>\n",
       "      <th>17</th>\n",
       "      <td>31.230054</td>\n",
       "      <td>25.197286</td>\n",
       "    </tr>\n",
       "    <tr>\n",
       "      <th>18</th>\n",
       "      <td>60.756112</td>\n",
       "      <td>60.312457</td>\n",
       "    </tr>\n",
       "    <tr>\n",
       "      <th>19</th>\n",
       "      <td>51.592193</td>\n",
       "      <td>52.642116</td>\n",
       "    </tr>\n",
       "    <tr>\n",
       "      <th>20</th>\n",
       "      <td>40.105965</td>\n",
       "      <td>44.545687</td>\n",
       "    </tr>\n",
       "    <tr>\n",
       "      <th>21</th>\n",
       "      <td>36.523683</td>\n",
       "      <td>40.219604</td>\n",
       "    </tr>\n",
       "    <tr>\n",
       "      <th>22</th>\n",
       "      <td>53.371007</td>\n",
       "      <td>50.447622</td>\n",
       "    </tr>\n",
       "  </tbody>\n",
       "</table>\n",
       "</div>"
      ],
      "text/plain": [
       "       rating          0\n",
       "0   33.983679  37.775807\n",
       "1   40.560159  43.095455\n",
       "2   23.804043  32.123175\n",
       "3   37.038562  35.581313\n",
       "4   36.176196  37.869101\n",
       "5   41.015492  37.493987\n",
       "6   58.345141  45.965530\n",
       "7   22.736446  25.446590\n",
       "8   28.025765  27.115736\n",
       "9   53.313813  55.761493\n",
       "10  39.259197  37.493987\n",
       "11  55.333142  46.740180\n",
       "12  49.511874  46.460489\n",
       "13  30.450843  31.177226\n",
       "14  54.850917  47.204752\n",
       "15  39.241114  43.095455\n",
       "16  41.445019  43.095455\n",
       "17  31.230054  25.197286\n",
       "18  60.756112  60.312457\n",
       "19  51.592193  52.642116\n",
       "20  40.105965  44.545687\n",
       "21  36.523683  40.219604\n",
       "22  53.371007  50.447622"
      ]
     },
     "execution_count": 181,
     "metadata": {},
     "output_type": "execute_result"
    }
   ],
   "source": [
    "# RESET INDEX\n",
    "ydf = y_test.to_frame()\n",
    "#ydf = ydf.reset_index(level=0)\n",
    "ydf.reset_index(drop=True, inplace=True)\n",
    "\n",
    "# numpy.ndarray AS DF\n",
    "ypredx = pd.DataFrame(clf_.predict(x_test))\n",
    "\n",
    "ypredx.reset_index(drop=True, inplace=True)\n",
    "dfnew = pd.concat([ydf, ypredx],axis=1)\n",
    "dfnew"
   ]
  },
  {
   "cell_type": "code",
   "execution_count": null,
   "id": "57a13974",
   "metadata": {},
   "outputs": [],
   "source": []
  }
 ],
 "metadata": {
  "kernelspec": {
   "display_name": "Python 3",
   "language": "python",
   "name": "python3"
  },
  "language_info": {
   "codemirror_mode": {
    "name": "ipython",
    "version": 3
   },
   "file_extension": ".py",
   "mimetype": "text/x-python",
   "name": "python",
   "nbconvert_exporter": "python",
   "pygments_lexer": "ipython3",
   "version": "3.8.8"
  }
 },
 "nbformat": 4,
 "nbformat_minor": 5
}
