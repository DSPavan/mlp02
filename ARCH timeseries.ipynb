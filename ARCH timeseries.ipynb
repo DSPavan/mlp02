{
 "cells": [
  {
   "cell_type": "code",
   "execution_count": 1,
   "id": "3afd4192",
   "metadata": {},
   "outputs": [],
   "source": [
    "# ARCH (Autoregressive Conditional Heteroskedasticity)\n",
    "\n",
    "#Autoregressive conditional heteroskedasticity (ARCH) is a statistical model used to analyze volatility in time series\n",
    "#in order to forecast future volatility. \n"
   ]
  },
  {
   "cell_type": "code",
   "execution_count": 2,
   "id": "9dd06dc0",
   "metadata": {},
   "outputs": [],
   "source": [
    "# ARCH modeling is used to estimate risk by providing a model of volatility that more closely resembles real markets\n",
    "\n",
    "# ARCH concept was developed by economist Robert F. Engle III in the 1980s. \n",
    "\n",
    "# ARCH models are dynamic, meaning they respond to changes in the data.\n",
    "\n",
    "# ARCH models are used by financial institutions to model asset risks over different holding periods."
   ]
  },
  {
   "cell_type": "code",
   "execution_count": 3,
   "id": "b57f2031",
   "metadata": {},
   "outputs": [],
   "source": [
    "\n",
    "# A statistical model is autoregressive if it predicts future values based on past values. For example, \n",
    "# an autoregressive model might seek to predict a stock's future prices based on its past performance.\n",
    "\n",
    "\n",
    "# An AR(1) autoregressive process is one in which the current value is based on the immediately preceding value, \n",
    "# while an AR(2) process is one in which the current value is based on the previous two values. \n",
    "# An AR(0) process is used for white noise and has no dependence between the terms."
   ]
  },
  {
   "cell_type": "code",
   "execution_count": 4,
   "id": "9b02fda6",
   "metadata": {},
   "outputs": [],
   "source": [
    "\n",
    "#    A great example is the Autoregressive Integrated Moving Average (ARIMA), \n",
    "#    a sophisticated autoregressive model that can take into account trends, cycles, \n",
    "#    seasonality, errors, and other non-static types of data when making forecasts."
   ]
  },
  {
   "cell_type": "code",
   "execution_count": 5,
   "id": "dd380e1c",
   "metadata": {},
   "outputs": [],
   "source": [
    "# STOCK\n",
    "#For example, an investor using an autoregressive model to forecast stock prices would need to assume that new buyers and \n",
    "#sellers of that stock are influenced by recent market transactions when deciding how much to offer or accept for the security."
   ]
  },
  {
   "cell_type": "code",
   "execution_count": 6,
   "id": "fcbd0b4b",
   "metadata": {},
   "outputs": [],
   "source": [
    "# ARCH has spawned many related models that are also widely used in research and in finance, \n",
    "# including GARCH, EGARCH, STARCH, and others."
   ]
  },
  {
   "cell_type": "code",
   "execution_count": 7,
   "id": "3d3580b8",
   "metadata": {},
   "outputs": [],
   "source": [
    "# Conditional heteroskedasticity identifies nonconstant volatility related to prior period's (e.g., daily) volatility"
   ]
  },
  {
   "cell_type": "code",
   "execution_count": 8,
   "id": "52e08485",
   "metadata": {},
   "outputs": [],
   "source": [
    "#Unconditional heteroskedasticity refers to general structural changes in volatility \n",
    "#that are not related to prior period volatility."
   ]
  },
  {
   "cell_type": "code",
   "execution_count": 9,
   "id": "eeb2f71b",
   "metadata": {},
   "outputs": [],
   "source": [
    "# GARCH or Generalized Autoregressive Conditional Heteroskedasticity"
   ]
  },
  {
   "cell_type": "code",
   "execution_count": 10,
   "id": "3bd4d5ae",
   "metadata": {},
   "outputs": [],
   "source": [
    "#Autoregressive models can be developed for univariate time series data that \n",
    "#is stationary (AR),\n",
    "#has a trend (ARIMA), \n",
    "#and has a seasonal component (SARIMA)."
   ]
  },
  {
   "cell_type": "code",
   "execution_count": 11,
   "id": "1d7dd07a",
   "metadata": {},
   "outputs": [],
   "source": [
    "# https://machinelearningmastery.com/develop-arch-and-garch-models-for-time-series-forecasting-in-python/"
   ]
  },
  {
   "cell_type": "code",
   "execution_count": 12,
   "id": "1938fc6a",
   "metadata": {},
   "outputs": [],
   "source": [
    "# https://medium.com/@ranjithkumar.rocking/time-series-model-s-arch-and-garch-2781a982b448"
   ]
  },
  {
   "cell_type": "code",
   "execution_count": 18,
   "id": "43de635b",
   "metadata": {},
   "outputs": [],
   "source": [
    "#pip install pandas_datareader\n"
   ]
  },
  {
   "cell_type": "code",
   "execution_count": 19,
   "id": "d9e9e343",
   "metadata": {},
   "outputs": [
    {
     "name": "stdout",
     "output_type": "stream",
     "text": [
      "Collecting archNote: you may need to restart the kernel to use updated packages.\n",
      "\n",
      "  Downloading arch-5.0.1-cp38-cp38-win_amd64.whl (849 kB)\n",
      "Requirement already satisfied: scipy>=1.3 in c:\\programdata\\anaconda3\\lib\\site-packages (from arch) (1.6.2)\n",
      "Requirement already satisfied: numpy>=1.17 in c:\\users\\radha\\appdata\\roaming\\python\\python38\\site-packages (from arch) (1.21.2)\n",
      "Requirement already satisfied: pandas>=1.0 in c:\\programdata\\anaconda3\\lib\\site-packages (from arch) (1.2.4)\n",
      "Collecting property-cached>=1.6.4\n",
      "  Downloading property_cached-1.6.4-py2.py3-none-any.whl (7.8 kB)\n",
      "Requirement already satisfied: statsmodels>=0.11 in c:\\programdata\\anaconda3\\lib\\site-packages (from arch) (0.12.2)\n",
      "Requirement already satisfied: python-dateutil>=2.7.3 in c:\\programdata\\anaconda3\\lib\\site-packages (from pandas>=1.0->arch) (2.8.1)\n",
      "Requirement already satisfied: pytz>=2017.3 in c:\\programdata\\anaconda3\\lib\\site-packages (from pandas>=1.0->arch) (2021.1)\n",
      "Requirement already satisfied: six>=1.5 in c:\\programdata\\anaconda3\\lib\\site-packages (from python-dateutil>=2.7.3->pandas>=1.0->arch) (1.15.0)\n",
      "Requirement already satisfied: patsy>=0.5 in c:\\programdata\\anaconda3\\lib\\site-packages (from statsmodels>=0.11->arch) (0.5.1)\n",
      "Installing collected packages: property-cached, arch\n",
      "Successfully installed arch-5.0.1 property-cached-1.6.4\n"
     ]
    }
   ],
   "source": [
    "\n",
    "#pip install arch"
   ]
  },
  {
   "cell_type": "code",
   "execution_count": 21,
   "id": "7a919bd0",
   "metadata": {},
   "outputs": [
    {
     "name": "stdout",
     "output_type": "stream",
     "text": [
      "3.8.8 (default, Apr 13 2021, 15:08:03) [MSC v.1916 64 bit (AMD64)]\n"
     ]
    }
   ],
   "source": [
    "import os\n",
    "import sys\n",
    "\n",
    "import pandas as pd\n",
    "import pandas_datareader.data as web\n",
    "import numpy as np\n",
    "\n",
    "import statsmodels.formula.api as smf\n",
    "import statsmodels.tsa.api as smt\n",
    "import statsmodels.api as sm\n",
    "import scipy.stats as scs\n",
    "from arch import arch_model\n",
    "\n",
    "import matplotlib.pyplot as plt\n",
    "import matplotlib as mpl\n",
    "%matplotlib inline\n",
    "p = print\n",
    "\n",
    "\n",
    "p(sys.version)"
   ]
  },
  {
   "cell_type": "code",
   "execution_count": 22,
   "id": "52f62773",
   "metadata": {},
   "outputs": [],
   "source": [
    "end = '2015-01-01'\n",
    "start = '2007-01-01'\n",
    "get_px = lambda x: web.DataReader(x, 'yahoo', start=start, end=end)['Adj Close']\n",
    "\n",
    "symbols = ['SPY','TLT','MSFT']\n",
    "# raw adjusted close prices\n",
    "data = pd.DataFrame({sym:get_px(sym) for sym in symbols})\n",
    "# log returns\n",
    "lrets = np.log(data/data.shift(1)).dropna()"
   ]
  },
  {
   "cell_type": "code",
   "execution_count": 23,
   "id": "d24eddeb",
   "metadata": {},
   "outputs": [
    {
     "data": {
      "text/html": [
       "<div>\n",
       "<style scoped>\n",
       "    .dataframe tbody tr th:only-of-type {\n",
       "        vertical-align: middle;\n",
       "    }\n",
       "\n",
       "    .dataframe tbody tr th {\n",
       "        vertical-align: top;\n",
       "    }\n",
       "\n",
       "    .dataframe thead th {\n",
       "        text-align: right;\n",
       "    }\n",
       "</style>\n",
       "<table border=\"1\" class=\"dataframe\">\n",
       "  <thead>\n",
       "    <tr style=\"text-align: right;\">\n",
       "      <th></th>\n",
       "      <th>SPY</th>\n",
       "      <th>TLT</th>\n",
       "      <th>MSFT</th>\n",
       "    </tr>\n",
       "    <tr>\n",
       "      <th>Date</th>\n",
       "      <th></th>\n",
       "      <th></th>\n",
       "      <th></th>\n",
       "    </tr>\n",
       "  </thead>\n",
       "  <tbody>\n",
       "    <tr>\n",
       "      <th>2007-01-03</th>\n",
       "      <td>105.446716</td>\n",
       "      <td>57.170452</td>\n",
       "      <td>21.869659</td>\n",
       "    </tr>\n",
       "    <tr>\n",
       "      <th>2007-01-04</th>\n",
       "      <td>105.670479</td>\n",
       "      <td>57.517128</td>\n",
       "      <td>21.833046</td>\n",
       "    </tr>\n",
       "    <tr>\n",
       "      <th>2007-01-05</th>\n",
       "      <td>104.827614</td>\n",
       "      <td>57.266781</td>\n",
       "      <td>21.708529</td>\n",
       "    </tr>\n",
       "    <tr>\n",
       "      <th>2007-01-08</th>\n",
       "      <td>105.312485</td>\n",
       "      <td>57.369511</td>\n",
       "      <td>21.920929</td>\n",
       "    </tr>\n",
       "    <tr>\n",
       "      <th>2007-01-09</th>\n",
       "      <td>105.222961</td>\n",
       "      <td>57.369511</td>\n",
       "      <td>21.942905</td>\n",
       "    </tr>\n",
       "    <tr>\n",
       "      <th>...</th>\n",
       "      <td>...</td>\n",
       "      <td>...</td>\n",
       "      <td>...</td>\n",
       "    </tr>\n",
       "    <tr>\n",
       "      <th>2014-12-24</th>\n",
       "      <td>183.037720</td>\n",
       "      <td>106.493950</td>\n",
       "      <td>42.487164</td>\n",
       "    </tr>\n",
       "    <tr>\n",
       "      <th>2014-12-26</th>\n",
       "      <td>183.627914</td>\n",
       "      <td>106.889160</td>\n",
       "      <td>42.257690</td>\n",
       "    </tr>\n",
       "    <tr>\n",
       "      <th>2014-12-29</th>\n",
       "      <td>183.874573</td>\n",
       "      <td>107.688225</td>\n",
       "      <td>41.878181</td>\n",
       "    </tr>\n",
       "    <tr>\n",
       "      <th>2014-12-30</th>\n",
       "      <td>182.887955</td>\n",
       "      <td>107.980331</td>\n",
       "      <td>41.498672</td>\n",
       "    </tr>\n",
       "    <tr>\n",
       "      <th>2014-12-31</th>\n",
       "      <td>181.073151</td>\n",
       "      <td>108.186516</td>\n",
       "      <td>40.995613</td>\n",
       "    </tr>\n",
       "  </tbody>\n",
       "</table>\n",
       "<p>2014 rows × 3 columns</p>\n",
       "</div>"
      ],
      "text/plain": [
       "                   SPY         TLT       MSFT\n",
       "Date                                         \n",
       "2007-01-03  105.446716   57.170452  21.869659\n",
       "2007-01-04  105.670479   57.517128  21.833046\n",
       "2007-01-05  104.827614   57.266781  21.708529\n",
       "2007-01-08  105.312485   57.369511  21.920929\n",
       "2007-01-09  105.222961   57.369511  21.942905\n",
       "...                ...         ...        ...\n",
       "2014-12-24  183.037720  106.493950  42.487164\n",
       "2014-12-26  183.627914  106.889160  42.257690\n",
       "2014-12-29  183.874573  107.688225  41.878181\n",
       "2014-12-30  182.887955  107.980331  41.498672\n",
       "2014-12-31  181.073151  108.186516  40.995613\n",
       "\n",
       "[2014 rows x 3 columns]"
      ]
     },
     "execution_count": 23,
     "metadata": {},
     "output_type": "execute_result"
    }
   ],
   "source": [
    "data"
   ]
  },
  {
   "cell_type": "code",
   "execution_count": 24,
   "id": "fa9c4dc2",
   "metadata": {},
   "outputs": [
    {
     "data": {
      "text/html": [
       "<div>\n",
       "<style scoped>\n",
       "    .dataframe tbody tr th:only-of-type {\n",
       "        vertical-align: middle;\n",
       "    }\n",
       "\n",
       "    .dataframe tbody tr th {\n",
       "        vertical-align: top;\n",
       "    }\n",
       "\n",
       "    .dataframe thead th {\n",
       "        text-align: right;\n",
       "    }\n",
       "</style>\n",
       "<table border=\"1\" class=\"dataframe\">\n",
       "  <thead>\n",
       "    <tr style=\"text-align: right;\">\n",
       "      <th></th>\n",
       "      <th>SPY</th>\n",
       "      <th>TLT</th>\n",
       "      <th>MSFT</th>\n",
       "    </tr>\n",
       "    <tr>\n",
       "      <th>Date</th>\n",
       "      <th></th>\n",
       "      <th></th>\n",
       "      <th></th>\n",
       "    </tr>\n",
       "  </thead>\n",
       "  <tbody>\n",
       "    <tr>\n",
       "      <th>2007-01-04</th>\n",
       "      <td>0.002120</td>\n",
       "      <td>0.006046</td>\n",
       "      <td>-0.001676</td>\n",
       "    </tr>\n",
       "    <tr>\n",
       "      <th>2007-01-05</th>\n",
       "      <td>-0.008008</td>\n",
       "      <td>-0.004362</td>\n",
       "      <td>-0.005719</td>\n",
       "    </tr>\n",
       "    <tr>\n",
       "      <th>2007-01-08</th>\n",
       "      <td>0.004615</td>\n",
       "      <td>0.001792</td>\n",
       "      <td>0.009737</td>\n",
       "    </tr>\n",
       "    <tr>\n",
       "      <th>2007-01-09</th>\n",
       "      <td>-0.000850</td>\n",
       "      <td>0.000000</td>\n",
       "      <td>0.001002</td>\n",
       "    </tr>\n",
       "    <tr>\n",
       "      <th>2007-01-10</th>\n",
       "      <td>0.003326</td>\n",
       "      <td>-0.004487</td>\n",
       "      <td>-0.010064</td>\n",
       "    </tr>\n",
       "    <tr>\n",
       "      <th>...</th>\n",
       "      <td>...</td>\n",
       "      <td>...</td>\n",
       "      <td>...</td>\n",
       "    </tr>\n",
       "    <tr>\n",
       "      <th>2014-12-24</th>\n",
       "      <td>0.000097</td>\n",
       "      <td>0.005428</td>\n",
       "      <td>-0.006419</td>\n",
       "    </tr>\n",
       "    <tr>\n",
       "      <th>2014-12-26</th>\n",
       "      <td>0.003219</td>\n",
       "      <td>0.003704</td>\n",
       "      <td>-0.005416</td>\n",
       "    </tr>\n",
       "    <tr>\n",
       "      <th>2014-12-29</th>\n",
       "      <td>0.001342</td>\n",
       "      <td>0.007448</td>\n",
       "      <td>-0.009021</td>\n",
       "    </tr>\n",
       "    <tr>\n",
       "      <th>2014-12-30</th>\n",
       "      <td>-0.005380</td>\n",
       "      <td>0.002709</td>\n",
       "      <td>-0.009104</td>\n",
       "    </tr>\n",
       "    <tr>\n",
       "      <th>2014-12-31</th>\n",
       "      <td>-0.009973</td>\n",
       "      <td>0.001908</td>\n",
       "      <td>-0.012196</td>\n",
       "    </tr>\n",
       "  </tbody>\n",
       "</table>\n",
       "<p>2013 rows × 3 columns</p>\n",
       "</div>"
      ],
      "text/plain": [
       "                 SPY       TLT      MSFT\n",
       "Date                                    \n",
       "2007-01-04  0.002120  0.006046 -0.001676\n",
       "2007-01-05 -0.008008 -0.004362 -0.005719\n",
       "2007-01-08  0.004615  0.001792  0.009737\n",
       "2007-01-09 -0.000850  0.000000  0.001002\n",
       "2007-01-10  0.003326 -0.004487 -0.010064\n",
       "...              ...       ...       ...\n",
       "2014-12-24  0.000097  0.005428 -0.006419\n",
       "2014-12-26  0.003219  0.003704 -0.005416\n",
       "2014-12-29  0.001342  0.007448 -0.009021\n",
       "2014-12-30 -0.005380  0.002709 -0.009104\n",
       "2014-12-31 -0.009973  0.001908 -0.012196\n",
       "\n",
       "[2013 rows x 3 columns]"
      ]
     },
     "execution_count": 24,
     "metadata": {},
     "output_type": "execute_result"
    }
   ],
   "source": [
    "lrets"
   ]
  },
  {
   "cell_type": "code",
   "execution_count": 26,
   "id": "c293f7c0",
   "metadata": {},
   "outputs": [],
   "source": [
    "# http://www.blackarbs.com/blog/time-series-analysis-in-python-linear-models-to-garch/11/1/2016"
   ]
  },
  {
   "cell_type": "code",
   "execution_count": 29,
   "id": "7b84294e",
   "metadata": {},
   "outputs": [],
   "source": [
    "am = arch_model(lrets['SPY'])"
   ]
  },
  {
   "cell_type": "code",
   "execution_count": 30,
   "id": "5e148f38",
   "metadata": {},
   "outputs": [
    {
     "data": {
      "text/html": [
       "<strong>Constant Mean</strong>(<strong>constant: </strong>yes,\n",
       "<strong>no. of exog: </strong>0,\n",
       "<strong>volatility: </strong>GARCH(p: 1, q: 1),\n",
       "<strong>distribution: </strong>Normal distribution,\n",
       "<strong>ID: </strong> 0xf1c645a790)"
      ],
      "text/plain": [
       "Constant Mean(constant: yes, no. of exog: 0, volatility: GARCH(p: 1, q: 1), distribution: Normal distribution), id: 0xf1c645a790"
      ]
     },
     "execution_count": 30,
     "metadata": {},
     "output_type": "execute_result"
    }
   ],
   "source": [
    "am"
   ]
  },
  {
   "cell_type": "code",
   "execution_count": 31,
   "id": "14802f0e",
   "metadata": {},
   "outputs": [
    {
     "name": "stdout",
     "output_type": "stream",
     "text": [
      "Iteration:      1,   Func. Count:      6,   Neg. LLF: 34930704844.73449\n",
      "Iteration:      2,   Func. Count:     19,   Neg. LLF: 3.027290661079709e+20\n",
      "Iteration:      3,   Func. Count:     34,   Neg. LLF: 761299090128.936\n",
      "Iteration:      4,   Func. Count:     49,   Neg. LLF: 1.3482538866389373e+19\n",
      "Iteration:      5,   Func. Count:     64,   Neg. LLF: 19688351245.718277\n",
      "Iteration:      6,   Func. Count:     76,   Neg. LLF: -6318.734520876596\n",
      "Optimization terminated successfully    (Exit mode 0)\n",
      "            Current function value: -6318.734534865167\n",
      "            Iterations: 10\n",
      "            Function evaluations: 76\n",
      "            Gradient evaluations: 6\n"
     ]
    },
    {
     "name": "stderr",
     "output_type": "stream",
     "text": [
      "C:\\ProgramData\\Anaconda3\\lib\\site-packages\\arch\\univariate\\base.py:309: DataScaleWarning: y is poorly scaled, which may affect convergence of the optimizer when\n",
      "estimating the model parameters. The scale of y is 0.000195. Parameter\n",
      "estimation work better when this value is between 1 and 1000. The recommended\n",
      "rescaling is 100 * y.\n",
      "\n",
      "This warning can be disabled by either rescaling y before initializing the\n",
      "model or by setting rescale=False.\n",
      "\n",
      "  warnings.warn(\n"
     ]
    }
   ],
   "source": [
    "res = am.fit()"
   ]
  },
  {
   "cell_type": "code",
   "execution_count": 37,
   "id": "c0baaf52",
   "metadata": {},
   "outputs": [
    {
     "name": "stdout",
     "output_type": "stream",
     "text": [
      "                     Constant Mean - GARCH Model Results                      \n",
      "==============================================================================\n",
      "Dep. Variable:                    SPY   R-squared:                       0.000\n",
      "Mean Model:             Constant Mean   Adj. R-squared:                  0.000\n",
      "Vol Model:                      GARCH   Log-Likelihood:                6318.73\n",
      "Distribution:                  Normal   AIC:                          -12629.5\n",
      "Method:            Maximum Likelihood   BIC:                          -12607.0\n",
      "                                        No. Observations:                 2013\n",
      "Date:                Wed, Nov 17 2021   Df Residuals:                     2012\n",
      "Time:                        14:01:30   Df Model:                            1\n",
      "                                 Mean Model                                 \n",
      "============================================================================\n",
      "                 coef    std err          t      P>|t|      95.0% Conf. Int.\n",
      "----------------------------------------------------------------------------\n",
      "mu         7.4159e-04  1.220e-06    607.907      0.000 [7.392e-04,7.440e-04]\n",
      "                              Volatility Model                              \n",
      "============================================================================\n",
      "                 coef    std err          t      P>|t|      95.0% Conf. Int.\n",
      "----------------------------------------------------------------------------\n",
      "omega      3.9011e-06  5.046e-12  7.731e+05      0.000 [3.901e-06,3.901e-06]\n",
      "alpha[1]       0.1000  1.653e-02      6.049  1.457e-09   [6.760e-02,  0.132]\n",
      "beta[1]        0.8800  1.180e-02     74.553      0.000     [  0.857,  0.903]\n",
      "============================================================================\n",
      "\n",
      "Covariance estimator: robust\n"
     ]
    }
   ],
   "source": [
    "print(res.summary())"
   ]
  },
  {
   "cell_type": "code",
   "execution_count": 41,
   "id": "d7f8f77f",
   "metadata": {},
   "outputs": [],
   "source": [
    "from arch.univariate import ConstantMean, ARCH, Normal\n",
    "\n",
    "\n",
    "am = ConstantMean(lrets['SPY'])\n",
    "am.volatility = ARCH()\n",
    "am.distribution = Normal()"
   ]
  },
  {
   "cell_type": "code",
   "execution_count": 42,
   "id": "40874329",
   "metadata": {},
   "outputs": [
    {
     "data": {
      "text/html": [
       "<strong>Constant Mean</strong>(<strong>constant: </strong>yes,\n",
       "<strong>no. of exog: </strong>0,\n",
       "<strong>volatility: </strong>ARCH(p: 1),\n",
       "<strong>distribution: </strong>Normal distribution,\n",
       "<strong>ID: </strong> 0xf1c6c88b20)"
      ],
      "text/plain": [
       "Constant Mean(constant: yes, no. of exog: 0, volatility: ARCH(p: 1), distribution: Normal distribution), id: 0xf1c6c88b20"
      ]
     },
     "execution_count": 42,
     "metadata": {},
     "output_type": "execute_result"
    }
   ],
   "source": [
    "am"
   ]
  },
  {
   "cell_type": "code",
   "execution_count": 43,
   "id": "ff25cc22",
   "metadata": {},
   "outputs": [
    {
     "name": "stderr",
     "output_type": "stream",
     "text": [
      "C:\\ProgramData\\Anaconda3\\lib\\site-packages\\arch\\univariate\\base.py:309: DataScaleWarning: y is poorly scaled, which may affect convergence of the optimizer when\n",
      "estimating the model parameters. The scale of y is 0.000195. Parameter\n",
      "estimation work better when this value is between 1 and 1000. The recommended\n",
      "rescaling is 100 * y.\n",
      "\n",
      "This warning can be disabled by either rescaling y before initializing the\n",
      "model or by setting rescale=False.\n",
      "\n",
      "  warnings.warn(\n"
     ]
    },
    {
     "name": "stdout",
     "output_type": "stream",
     "text": [
      "Iteration:      1,   Func. Count:      5,   Neg. LLF: 311789818841.2352\n",
      "Iteration:      2,   Func. Count:     16,   Neg. LLF: 2606197615.2429914\n",
      "Iteration:      3,   Func. Count:     27,   Neg. LLF: 1563.9553103720568\n",
      "Iteration:      4,   Func. Count:     35,   Neg. LLF: 2837612480.5109086\n",
      "Iteration:      5,   Func. Count:     46,   Neg. LLF: 43047.30493536901\n",
      "Iteration:      6,   Func. Count:     53,   Neg. LLF: -0.52980821342301\n",
      "Iteration:      7,   Func. Count:     62,   Neg. LLF: 9026.6589442638\n",
      "Iteration:      8,   Func. Count:     71,   Neg. LLF: 966069.9800313339\n",
      "Iteration:      9,   Func. Count:     82,   Neg. LLF: 1921874.6910902984\n",
      "Iteration:     10,   Func. Count:     89,   Neg. LLF: 26233193977571.12\n",
      "Iteration:     11,   Func. Count:     98,   Neg. LLF: -1651.5845445645646\n",
      "Iteration:     12,   Func. Count:    105,   Neg. LLF: 658801958.091648\n",
      "Iteration:     13,   Func. Count:    116,   Neg. LLF: -4959.124350580101\n",
      "Iteration:     14,   Func. Count:    122,   Neg. LLF: -5914.188065172538\n",
      "Optimization terminated successfully    (Exit mode 0)\n",
      "            Current function value: -5914.188064488959\n",
      "            Iterations: 18\n",
      "            Function evaluations: 122\n",
      "            Gradient evaluations: 14\n"
     ]
    }
   ],
   "source": [
    "res2 = am.fit()"
   ]
  },
  {
   "cell_type": "code",
   "execution_count": 44,
   "id": "4fb8cb06",
   "metadata": {},
   "outputs": [
    {
     "name": "stdout",
     "output_type": "stream",
     "text": [
      "                      Constant Mean - ARCH Model Results                      \n",
      "==============================================================================\n",
      "Dep. Variable:                    SPY   R-squared:                       0.000\n",
      "Mean Model:             Constant Mean   Adj. R-squared:                  0.000\n",
      "Vol Model:                       ARCH   Log-Likelihood:                5914.19\n",
      "Distribution:                  Normal   AIC:                          -11822.4\n",
      "Method:            Maximum Likelihood   BIC:                          -11805.6\n",
      "                                        No. Observations:                 2013\n",
      "Date:                Wed, Nov 17 2021   Df Residuals:                     2012\n",
      "Time:                        14:08:46   Df Model:                            1\n",
      "                                  Mean Model                                 \n",
      "=============================================================================\n",
      "                 coef    std err          t      P>|t|       95.0% Conf. Int.\n",
      "-----------------------------------------------------------------------------\n",
      "mu         5.1622e-04  3.223e-04      1.601      0.109 [-1.155e-04,1.148e-03]\n",
      "                              Volatility Model                              \n",
      "============================================================================\n",
      "                 coef    std err          t      P>|t|      95.0% Conf. Int.\n",
      "----------------------------------------------------------------------------\n",
      "omega      1.2034e-04  1.077e-05     11.176  5.347e-29 [9.923e-05,1.414e-04]\n",
      "alpha[1]       0.4043      0.109      3.707  2.097e-04     [  0.191,  0.618]\n",
      "============================================================================\n",
      "\n",
      "Covariance estimator: robust\n"
     ]
    }
   ],
   "source": [
    "print(res2.summary())"
   ]
  },
  {
   "cell_type": "code",
   "execution_count": 46,
   "id": "9e6fcf9d",
   "metadata": {},
   "outputs": [
    {
     "data": {
      "image/png": "[encoded data removed]",
      "text/plain": [
       "<Figure size 432x288 with 1 Axes>"
      ]
     },
     "metadata": {
      "needs_background": "light"
     },
     "output_type": "display_data"
    }
   ],
   "source": [
    "\n",
    "ax = lrets['SPY'].plot()\n",
    "xlim = ax.set_xlim(lrets['SPY'].index.min(), lrets['SPY'].index.max())"
   ]
  },
  {
   "cell_type": "code",
   "execution_count": 47,
   "id": "dc917d38",
   "metadata": {},
   "outputs": [
    {
     "data": {
      "image/png": "[encoded data removed]",
      "text/plain": [
       "<Figure size 432x288 with 2 Axes>"
      ]
     },
     "metadata": {
      "needs_background": "light"
     },
     "output_type": "display_data"
    }
   ],
   "source": [
    "fig = res2.plot(annualize=\"D\")"
   ]
  },
  {
   "cell_type": "code",
   "execution_count": 52,
   "id": "f49a7a6b",
   "metadata": {},
   "outputs": [
    {
     "name": "stderr",
     "output_type": "stream",
     "text": [
      "C:\\ProgramData\\Anaconda3\\lib\\site-packages\\arch\\__future__\\_utility.py:11: FutureWarning: \n",
      "The default for reindex is True. After September 2021 this will change to\n",
      "False. Set reindex to True or False to silence this message. Alternatively,\n",
      "you can use the import comment\n",
      "\n",
      "from arch.__future__ import reindexing\n",
      "\n",
      "to globally set reindex to True and silence this warning.\n",
      "\n",
      "  warnings.warn(\n"
     ]
    },
    {
     "data": {
      "text/plain": [
       "<AxesSubplot:xlabel='Date'>"
      ]
     },
     "execution_count": 52,
     "metadata": {},
     "output_type": "execute_result"
    },
    {
     "data": {
      "image/png": "[encoded data removed]",
      "text/plain": [
       "<Figure size 432x288 with 1 Axes>"
      ]
     },
     "metadata": {
      "needs_background": "light"
     },
     "output_type": "display_data"
    }
   ],
   "source": [
    "import datetime as dt\n",
    "split_date = dt.datetime(2013,1,1)\n",
    "forecasts = res2.forecast(horizon=5, start=split_date)\n",
    "forecasts.variance[split_date:].plot()"
   ]
  },
  {
   "cell_type": "code",
   "execution_count": 53,
   "id": "671fa083",
   "metadata": {},
   "outputs": [
    {
     "name": "stderr",
     "output_type": "stream",
     "text": [
      "C:\\ProgramData\\Anaconda3\\lib\\site-packages\\arch\\__future__\\_utility.py:11: FutureWarning: \n",
      "The default for reindex is True. After September 2021 this will change to\n",
      "False. Set reindex to True or False to silence this message. Alternatively,\n",
      "you can use the import comment\n",
      "\n",
      "from arch.__future__ import reindexing\n",
      "\n",
      "to globally set reindex to True and silence this warning.\n",
      "\n",
      "  warnings.warn(\n"
     ]
    }
   ],
   "source": [
    "forecasts = res.forecast(horizon=5, start=split_date, method='simulation')"
   ]
  },
  {
   "cell_type": "code",
   "execution_count": 55,
   "id": "3f9d3ae7",
   "metadata": {},
   "outputs": [
    {
     "name": "stdout",
     "output_type": "stream",
     "text": [
      "                 h.1       h.2       h.3       h.4       h.5\n",
      "Date                                                        \n",
      "2014-12-24  0.000115  0.000117  0.000119  0.000120  0.000121\n",
      "2014-12-26  0.000106  0.000108  0.000109  0.000111  0.000112\n",
      "2014-12-29  0.000097  0.000099  0.000101  0.000104  0.000106\n",
      "2014-12-30  0.000093  0.000096  0.000098  0.000100  0.000101\n",
      "2014-12-31  0.000097  0.000100  0.000102  0.000104  0.000105\n"
     ]
    }
   ],
   "source": [
    "print(forecasts.variance.tail())"
   ]
  },
  {
   "cell_type": "code",
   "execution_count": 56,
   "id": "14254a51",
   "metadata": {},
   "outputs": [],
   "source": [
    "# https://arch.readthedocs.io/en/latest/univariate/forecasting.html"
   ]
  },
  {
   "cell_type": "code",
   "execution_count": 58,
   "id": "d1320fcf",
   "metadata": {},
   "outputs": [
    {
     "name": "stdout",
     "output_type": "stream",
     "text": [
      "                 h.1       h.2       h.3       h.4       h.5\n",
      "Date                                                        \n",
      "2012-11-02       NaN       NaN       NaN       NaN       NaN\n",
      "2012-11-05       NaN       NaN       NaN       NaN       NaN\n",
      "2012-11-06       NaN       NaN       NaN       NaN       NaN\n",
      "2012-11-07       NaN       NaN       NaN       NaN       NaN\n",
      "2012-11-08       NaN       NaN       NaN       NaN       NaN\n",
      "...              ...       ...       ...       ...       ...\n",
      "2013-02-25  0.000107  0.000109  0.000110  0.000112  0.000114\n",
      "2013-02-26  0.000101  0.000104  0.000105  0.000108  0.000109\n",
      "2013-02-27  0.000107  0.000108  0.000110  0.000111  0.000113\n",
      "2013-02-28  0.000099  0.000101  0.000104  0.000105  0.000107\n",
      "2013-03-01  0.000091  0.000094  0.000097  0.000098  0.000100\n",
      "\n",
      "[81 rows x 5 columns]\n"
     ]
    }
   ],
   "source": [
    "day = dt.timedelta(12)\n",
    "print(forecasts.variance[split_date - 5 * day:split_date + 5 * day])"
   ]
  },
  {
   "cell_type": "code",
   "execution_count": 59,
   "id": "b79d31e0",
   "metadata": {},
   "outputs": [
    {
     "name": "stdout",
     "output_type": "stream",
     "text": [
      "Iteration:      5,   Func. Count:     64,   Neg. LLF: 19688351245.718277\n",
      "Optimization terminated successfully    (Exit mode 0)\n",
      "            Current function value: -6318.734534865167\n",
      "            Iterations: 10\n",
      "            Function evaluations: 76\n",
      "            Gradient evaluations: 6\n"
     ]
    },
    {
     "name": "stderr",
     "output_type": "stream",
     "text": [
      "C:\\ProgramData\\Anaconda3\\lib\\site-packages\\arch\\univariate\\base.py:309: DataScaleWarning: y is poorly scaled, which may affect convergence of the optimizer when\n",
      "estimating the model parameters. The scale of y is 0.000195. Parameter\n",
      "estimation work better when this value is between 1 and 1000. The recommended\n",
      "rescaling is 100 * y.\n",
      "\n",
      "This warning can be disabled by either rescaling y before initializing the\n",
      "model or by setting rescale=False.\n",
      "\n",
      "  warnings.warn(\n"
     ]
    }
   ],
   "source": [
    "am = arch_model(lrets['SPY'], vol=\"Garch\", p=1, o=0, q=1, dist=\"Normal\")\n",
    "res = am.fit(update_freq=5)"
   ]
  },
  {
   "cell_type": "code",
   "execution_count": 60,
   "id": "7a3ed8ac",
   "metadata": {},
   "outputs": [],
   "source": [
    "forecasts = res.forecast(reindex=False)"
   ]
  },
  {
   "cell_type": "code",
   "execution_count": 61,
   "id": "bd3d06e8",
   "metadata": {},
   "outputs": [
    {
     "name": "stdout",
     "output_type": "stream",
     "text": [
      "                 h.1\n",
      "Date                \n",
      "2014-12-31  0.000742\n",
      "                 h.1\n",
      "Date                \n",
      "2014-12-31  0.000097\n",
      "                 h.1\n",
      "Date                \n",
      "2014-12-31  0.000097\n"
     ]
    }
   ],
   "source": [
    "print(forecasts.mean.iloc[-3:])\n",
    "print(forecasts.residual_variance.iloc[-3:])\n",
    "print(forecasts.variance.iloc[-3:])"
   ]
  },
  {
   "cell_type": "code",
   "execution_count": 62,
   "id": "4c83d6b0",
   "metadata": {},
   "outputs": [
    {
     "name": "stdout",
     "output_type": "stream",
     "text": [
      "                 h.1       h.2       h.3       h.4       h.5\n",
      "Date                                                        \n",
      "2014-12-31  0.000097  0.000099  0.000101  0.000103  0.000105\n"
     ]
    }
   ],
   "source": [
    "forecasts = res.forecast(horizon=5, reindex=False)\n",
    "print(forecasts.residual_variance.iloc[-3:])"
   ]
  },
  {
   "cell_type": "code",
   "execution_count": 65,
   "id": "e47b952d",
   "metadata": {},
   "outputs": [
    {
     "data": {
      "text/plain": [
       "(16072.0, 16435.0)"
      ]
     },
     "execution_count": 65,
     "metadata": {},
     "output_type": "execute_result"
    },
    {
     "data": {
      "image/png": "[encoded data removed]",
      "text/plain": [
       "<Figure size 432x288 with 1 Axes>"
      ]
     },
     "metadata": {
      "needs_background": "light"
     },
     "output_type": "display_data"
    }
   ],
   "source": [
    "fig, ax = plt.subplots(1, 1)\n",
    "var_2016 = res.conditional_volatility[\"2014\"] ** 2.0\n",
    "subplot = var_2016.plot(ax=ax, title=\"Conditional Variance\")\n",
    "subplot.set_xlim(var_2016.index[0], var_2016.index[-1])"
   ]
  },
  {
   "cell_type": "code",
   "execution_count": null,
   "id": "cfd2d49f",
   "metadata": {},
   "outputs": [],
   "source": []
  }
 ],
 "metadata": {
  "kernelspec": {
   "display_name": "Python 3",
   "language": "python",
   "name": "python3"
  },
  "language_info": {
   "codemirror_mode": {
    "name": "ipython",
    "version": 3
   },
   "file_extension": ".py",
   "mimetype": "text/x-python",
   "name": "python",
   "nbconvert_exporter": "python",
   "pygments_lexer": "ipython3",
   "version": "3.8.8"
  }
 },
 "nbformat": 4,
 "nbformat_minor": 5
}
