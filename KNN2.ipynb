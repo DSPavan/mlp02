{
 "cells": [
  {
   "cell_type": "code",
   "execution_count": 16,
   "id": "84c7bc56",
   "metadata": {},
   "outputs": [],
   "source": [
    "corpus = [\n",
    "    \"Hemant Pandey on upcoming track, his role in 'Mere Sai: Shraddha aur Saburi\",\n",
    "    \"Television actor Hemant Pandey will be seen essaying the role of 'Prasad' in 'Mere Sai\",\n",
    "    \"I tried Gordon Ramsay's recipe for air-fryer steak and it only took 20 minutes for a perfect result\",\n",
    "    \"I never even thought you could - or should cook a nice steak in the air fryer, but Gordon Ramsay's coffee-and-chili-rubbed rib-eye recipe has totally proved me wrong.\",\n",
    " ]"
   ]
  },
  {
   "cell_type": "code",
   "execution_count": 2,
   "id": "c754b359",
   "metadata": {},
   "outputs": [],
   "source": [
    "import numpy as np\n",
    "from sklearn.datasets import fetch_20newsgroups\n",
    "from sklearn.feature_extraction.text import CountVectorizer\n",
    "from sklearn.feature_extraction.text import TfidfTransformer\n",
    "from sklearn.neighbors import KNeighborsClassifier\n",
    "from sklearn.pipeline import Pipeline"
   ]
  },
  {
   "cell_type": "code",
   "execution_count": 17,
   "id": "d3f91c02",
   "metadata": {},
   "outputs": [],
   "source": [
    "# Builds a dictionary of features and transforms documents to feature vectors and convert our text documents to a\n",
    "# matrix of token counts (CountVectorizer)\n",
    "count_vect = CountVectorizer()\n",
    "X_train_counts = count_vect.fit_transform(corpus)\n",
    "\n",
    "# transform a count matrix to a normalized tf-idf representation (tf-idf transformer)\n",
    "tfidf_transformer = TfidfTransformer()\n",
    "X_train_tfidf = tfidf_transformer.fit_transform(X_train_counts)"
   ]
  },
  {
   "cell_type": "code",
   "execution_count": 22,
   "id": "f27a0d6b",
   "metadata": {},
   "outputs": [],
   "source": [
    "knn = KNeighborsClassifier(n_neighbors=2)\n",
    "\n",
    "# train_data.target\n",
    "target = [1,0,2,2]\n",
    "# training our classifier ; train_data.target will be having numbers assigned for each category in train data\n",
    "clf = knn.fit(X_train_tfidf, target)\n",
    "\n",
    "# Input Data to predict their classes of the given categories\n",
    "docs_new = ['I have a Harley Davidson and Yamaha.', 'I have a GTX 1050 GPU','Television discovery increased entertainment',\n",
    "            \"Sports Minister Anurag Thakur on Sunday came hard on Hockey India for unilaterally deciding to pull out of next year's Commonwealth Games, saying the national federation is bound to consult with the government before taking any such step.\",\n",
    "           \"should cook a nice steak in the air fryer\",\"Pavan Likes datascience\"]\n",
    "# building up feature vector of our input\n",
    "X_new_counts = count_vect.transform(docs_new)\n",
    "# We call transform instead of fit_transform because it's already been fit\n",
    "X_new_tfidf = tfidf_transformer.transform(X_new_counts)"
   ]
  },
  {
   "cell_type": "code",
   "execution_count": 23,
   "id": "195c9c34",
   "metadata": {},
   "outputs": [
    {
     "name": "stdout",
     "output_type": "stream",
     "text": [
      "'I have a Harley Davidson and Yamaha.' => 2\n",
      "'I have a GTX 1050 GPU' => 1\n",
      "'Television discovery increased entertainment' => 1\n",
      "\"Sports Minister Anurag Thakur on Sunday came hard on Hockey India for unilaterally deciding to pull out of next year's Commonwealth Games, saying the national federation is bound to consult with the government before taking any such step.\" => 1\n",
      "'should cook a nice steak in the air fryer' => 2\n",
      "'Pavan Likes datascience' => 1\n"
     ]
    }
   ],
   "source": [
    "# predicting the category of our input text: Will give out number for category\n",
    "predicted = clf.predict(X_new_tfidf)\n",
    "\n",
    "for doc, category in zip(docs_new, predicted):\n",
    "    print('%r => %s' % (doc, target[category]))"
   ]
  },
  {
   "cell_type": "code",
   "execution_count": null,
   "id": "1f0fa14a",
   "metadata": {},
   "outputs": [],
   "source": []
  }
 ],
 "metadata": {
  "kernelspec": {
   "display_name": "Python 3",
   "language": "python",
   "name": "python3"
  },
  "language_info": {
   "codemirror_mode": {
    "name": "ipython",
    "version": 3
   },
   "file_extension": ".py",
   "mimetype": "text/x-python",
   "name": "python",
   "nbconvert_exporter": "python",
   "pygments_lexer": "ipython3",
   "version": "3.8.8"
  }
 },
 "nbformat": 4,
 "nbformat_minor": 5
}
