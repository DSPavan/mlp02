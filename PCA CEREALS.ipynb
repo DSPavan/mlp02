{
 "cells": [
  {
   "cell_type": "code",
   "execution_count": 1,
   "id": "65789d65",
   "metadata": {},
   "outputs": [
    {
     "name": "stdout",
     "output_type": "stream",
     "text": [
      "                        name mfr type  calories  protein  fat  sodium  fiber  \\\n",
      "0                  100%_Bran   N    C        70        4    1     130   10.0   \n",
      "1                   All-Bran   K    C        70        4    1     260    9.0   \n",
      "2  All-Bran_with_Extra_Fiber   K    C        50        4    0     140   14.0   \n",
      "3         Cracklin'_Oat_Bran   K    C       110        3    3     140    4.0   \n",
      "4      Post_Nat._Raisin_Bran   P    C       120        3    1     200    6.0   \n",
      "\n",
      "   carbo  sugars  potass  vitamins  shelf  weight  cups     rating  \n",
      "0    5.0       6     280        25      3    1.00  0.33  68.402973  \n",
      "1    7.0       5     320        25      3    1.00  0.33  59.425505  \n",
      "2    8.0       0     330        25      3    1.00  0.50  93.704912  \n",
      "3   10.0       7     160        25      3    1.00  0.50  40.448772  \n",
      "4   11.0      14     260        25      3    1.33  0.67  37.840594  \n",
      "(74, 16)\n"
     ]
    }
   ],
   "source": [
    "import pandas as pd\n",
    "# CSV File - Read\n",
    "df = pd.read_csv('C:\\\\Users\\\\radha\\\\Desktop\\\\dsp27 Class\\\\cerealspga05.csv')\n",
    "#  ,header=None ,skiprows=1 , names=['Cal', 'Pr', 'Fat', 'sod', 'Fib', 'Rting']\n",
    "print(df.head(5)) \n",
    "print(df.shape)"
   ]
  },
  {
   "cell_type": "code",
   "execution_count": 2,
   "id": "c4ccd7bd",
   "metadata": {},
   "outputs": [],
   "source": [
    "import numpy as np\n",
    "diabetes_data_copy = df.copy(deep = True)\n",
    "\n",
    "# split data table into data X and class labels y\n",
    "X = df.iloc[:,3:12].values\n",
    "y = df.iloc[:,-1].values\n"
   ]
  },
  {
   "cell_type": "code",
   "execution_count": 3,
   "id": "4e186561",
   "metadata": {},
   "outputs": [
    {
     "data": {
      "text/plain": [
       "Index(['calories', 'protein', 'fat', 'sodium', 'fiber', 'carbo', 'sugars',\n",
       "       'potass', 'vitamins'],\n",
       "      dtype='object')"
      ]
     },
     "execution_count": 3,
     "metadata": {},
     "output_type": "execute_result"
    }
   ],
   "source": [
    "# abobe Glucose,Insulin may be good\n",
    "df2 = df.iloc[:,3:12]\n",
    "df2.keys()"
   ]
  },
  {
   "cell_type": "code",
   "execution_count": 4,
   "id": "0b4ccbdb",
   "metadata": {},
   "outputs": [],
   "source": [
    "from sklearn.preprocessing import StandardScaler\n",
    "from sklearn.decomposition import PCA as sklearnPCA\n",
    "sklearn_pca = sklearnPCA(n_components=5)  # 8 components and check with 2\n",
    "Y_sklearn = sklearn_pca.fit_transform(X)"
   ]
  },
  {
   "cell_type": "code",
   "execution_count": 5,
   "id": "ee5a1556",
   "metadata": {},
   "outputs": [
    {
     "data": {
      "image/png": "[encoded data removed]",
      "text/plain": [
       "<Figure size 432x288 with 1 Axes>"
      ]
     },
     "metadata": {
      "needs_background": "light"
     },
     "output_type": "display_data"
    }
   ],
   "source": [
    "## biplot\n",
    "import numpy as np\n",
    "import matplotlib.pyplot as plt\n",
    "def myplot(score,coeff,labels=None):\n",
    "    xs = score[:,0]\n",
    "    ys = score[:,1]\n",
    "    n = coeff.shape[0]\n",
    "    scalex = 1.0/(xs.max() - xs.min())\n",
    "    scaley = 1.0/(ys.max() - ys.min())\n",
    "    plt.scatter(xs * scalex,ys * scaley, c = y)\n",
    "    for i in range(n):\n",
    "        plt.arrow(0, 0, coeff[i,0], coeff[i,1],color = 'r',alpha = 0.5)\n",
    "        if labels is None:\n",
    "            plt.text(coeff[i,0]* 1.15, coeff[i,1] * 1.15, \"Var\"+str(i+1), color = 'g', ha = 'center', va = 'center')\n",
    "        else:\n",
    "            plt.text(coeff[i,0]* 1.15, coeff[i,1] * 1.15, labels[i], color = 'g', ha = 'center', va = 'center')\n",
    "plt.xlim(-1,1)\n",
    "plt.ylim(-1,1)\n",
    "plt.xlabel(\"PC{}\".format(1))\n",
    "plt.ylabel(\"PC{}\".format(2))\n",
    "plt.grid()\n",
    "\n",
    "#Call the function. Use only the 2 PCs.\n",
    "myplot(Y_sklearn[:,0:2],np.transpose(sklearn_pca.components_[0:2, :]), \n",
    "       labels=['calories',  'protein',  'fat',  'sodium',  'fiber', 'carbo',  'sugars',  'potass',  'vitamins' ])                 \n",
    "                                                           \n",
    "\n",
    "plt.show()"
   ]
  },
  {
   "cell_type": "code",
   "execution_count": 6,
   "id": "e7fd6cb9",
   "metadata": {},
   "outputs": [],
   "source": [
    "# as per this, sodium and Potass\n"
   ]
  },
  {
   "cell_type": "code",
   "execution_count": 7,
   "id": "2d31c34a",
   "metadata": {},
   "outputs": [
    {
     "data": {
      "image/png": "[encoded data removed]",
      "text/plain": [
       "<Figure size 1008x1008 with 1 Axes>"
      ]
     },
     "metadata": {
      "needs_background": "light"
     },
     "output_type": "display_data"
    }
   ],
   "source": [
    "def pca_results(data, pca):\n",
    "    \n",
    "    # Dimension indexing\n",
    "    dimensions = ['Dimension {}'.format(i) for i in range(1,len(pca.components_)+1)]\n",
    "    \n",
    "    # PCA components\n",
    "    components = pd.DataFrame(np.round(pca.components_, 2), columns = data.keys()) \n",
    "    components.index = dimensions\n",
    "\n",
    "    # PCA explained variance\n",
    "    ratios = pca.explained_variance_ratio_.reshape(len(pca.components_), 1) \n",
    "    variance_ratios = pd.DataFrame(np.round(ratios, 2), columns = ['Explained Variance']) \n",
    "    variance_ratios.index = dimensions\n",
    "\n",
    "   \n",
    "    # Create a bar plot visualization\n",
    "    fig, ax = plt.subplots(figsize = (14,14))\n",
    "    \n",
    "\n",
    "    # Plot the feature weights as a function of the components\n",
    "    components.plot(ax = ax, kind = 'bar')\n",
    "    ax.set_ylabel(\"Feature Weights\") \n",
    "    ax.set_xticklabels(dimensions, rotation=0)\n",
    "\n",
    "    # Display the explained variance ratios# \n",
    "    # Explained Variance = EV\n",
    "    for i, ev in enumerate(pca.explained_variance_ratio_): \n",
    "        ax.text(i-0.40, ax.get_ylim()[1] + 0.05, \"EV\\n %.4f\"%(ev))\n",
    "\n",
    "    # Return a concatenated DataFrame\n",
    "    return pd.concat([variance_ratios, components], axis = 1)\n",
    "\n",
    "#\n",
    "pca_results = pca_results(df2 ,sklearn_pca)\n"
   ]
  },
  {
   "cell_type": "code",
   "execution_count": 8,
   "id": "8e107541",
   "metadata": {},
   "outputs": [],
   "source": [
    "# sodium , potass, vitamins"
   ]
  },
  {
   "cell_type": "code",
   "execution_count": 9,
   "id": "e8bc1c98",
   "metadata": {},
   "outputs": [
    {
     "data": {
      "text/html": [
       "<div>\n",
       "<style scoped>\n",
       "    .dataframe tbody tr th:only-of-type {\n",
       "        vertical-align: middle;\n",
       "    }\n",
       "\n",
       "    .dataframe tbody tr th {\n",
       "        vertical-align: top;\n",
       "    }\n",
       "\n",
       "    .dataframe thead th {\n",
       "        text-align: right;\n",
       "    }\n",
       "</style>\n",
       "<table border=\"1\" class=\"dataframe\">\n",
       "  <thead>\n",
       "    <tr style=\"text-align: right;\">\n",
       "      <th></th>\n",
       "      <th>Explained Variance</th>\n",
       "      <th>calories</th>\n",
       "      <th>protein</th>\n",
       "      <th>fat</th>\n",
       "      <th>sodium</th>\n",
       "      <th>fiber</th>\n",
       "      <th>carbo</th>\n",
       "      <th>sugars</th>\n",
       "      <th>potass</th>\n",
       "      <th>vitamins</th>\n",
       "    </tr>\n",
       "  </thead>\n",
       "  <tbody>\n",
       "    <tr>\n",
       "      <th>Dimension 1</th>\n",
       "      <td>0.56</td>\n",
       "      <td>0.08</td>\n",
       "      <td>-0.00</td>\n",
       "      <td>0.00</td>\n",
       "      <td>0.99</td>\n",
       "      <td>-0.000000e+00</td>\n",
       "      <td>0.02</td>\n",
       "      <td>0.01</td>\n",
       "      <td>-0.06</td>\n",
       "      <td>0.10</td>\n",
       "    </tr>\n",
       "    <tr>\n",
       "      <th>Dimension 2</th>\n",
       "      <td>0.94</td>\n",
       "      <td>0.04</td>\n",
       "      <td>0.01</td>\n",
       "      <td>0.00</td>\n",
       "      <td>1.05</td>\n",
       "      <td>3.000000e-02</td>\n",
       "      <td>0.00</td>\n",
       "      <td>0.01</td>\n",
       "      <td>0.94</td>\n",
       "      <td>0.12</td>\n",
       "    </tr>\n",
       "    <tr>\n",
       "      <th>Dimension 3</th>\n",
       "      <td>0.98</td>\n",
       "      <td>0.40</td>\n",
       "      <td>0.01</td>\n",
       "      <td>0.00</td>\n",
       "      <td>0.92</td>\n",
       "      <td>2.000000e-02</td>\n",
       "      <td>0.03</td>\n",
       "      <td>0.06</td>\n",
       "      <td>0.94</td>\n",
       "      <td>1.04</td>\n",
       "    </tr>\n",
       "    <tr>\n",
       "      <th>Dimension 4</th>\n",
       "      <td>1.00</td>\n",
       "      <td>1.32</td>\n",
       "      <td>0.01</td>\n",
       "      <td>0.03</td>\n",
       "      <td>0.88</td>\n",
       "      <td>-1.000000e-02</td>\n",
       "      <td>0.03</td>\n",
       "      <td>0.20</td>\n",
       "      <td>0.98</td>\n",
       "      <td>0.67</td>\n",
       "    </tr>\n",
       "    <tr>\n",
       "      <th>Dimension 5</th>\n",
       "      <td>1.00</td>\n",
       "      <td>1.42</td>\n",
       "      <td>0.08</td>\n",
       "      <td>-0.01</td>\n",
       "      <td>0.87</td>\n",
       "      <td>-1.734723e-18</td>\n",
       "      <td>0.74</td>\n",
       "      <td>-0.50</td>\n",
       "      <td>1.00</td>\n",
       "      <td>0.64</td>\n",
       "    </tr>\n",
       "  </tbody>\n",
       "</table>\n",
       "</div>"
      ],
      "text/plain": [
       "             Explained Variance  calories  protein   fat  sodium  \\\n",
       "Dimension 1                0.56      0.08    -0.00  0.00    0.99   \n",
       "Dimension 2                0.94      0.04     0.01  0.00    1.05   \n",
       "Dimension 3                0.98      0.40     0.01  0.00    0.92   \n",
       "Dimension 4                1.00      1.32     0.01  0.03    0.88   \n",
       "Dimension 5                1.00      1.42     0.08 -0.01    0.87   \n",
       "\n",
       "                    fiber  carbo  sugars  potass  vitamins  \n",
       "Dimension 1 -0.000000e+00   0.02    0.01   -0.06      0.10  \n",
       "Dimension 2  3.000000e-02   0.00    0.01    0.94      0.12  \n",
       "Dimension 3  2.000000e-02   0.03    0.06    0.94      1.04  \n",
       "Dimension 4 -1.000000e-02   0.03    0.20    0.98      0.67  \n",
       "Dimension 5 -1.734723e-18   0.74   -0.50    1.00      0.64  "
      ]
     },
     "execution_count": 9,
     "metadata": {},
     "output_type": "execute_result"
    }
   ],
   "source": [
    "pca_results.cumsum()"
   ]
  },
  {
   "cell_type": "code",
   "execution_count": 10,
   "id": "2adb352d",
   "metadata": {},
   "outputs": [
    {
     "data": {
      "image/png": "[encoded data removed]",
      "text/plain": [
       "<Figure size 432x288 with 1 Axes>"
      ]
     },
     "metadata": {
      "needs_background": "light"
     },
     "output_type": "display_data"
    }
   ],
   "source": [
    "# scree plot - Like Elbow\n",
    "import numpy as np\n",
    "import matplotlib\n",
    "import matplotlib.pyplot as plt\n",
    "\n",
    "#pca = sklearnPCA(n_components=2)\n",
    "PC_values = np.arange(sklearn_pca.n_components_) + 1\n",
    "\n",
    "# explained_variance_ratio = EVR\n",
    "plt.plot(PC_values, sklearn_pca.explained_variance_ratio_, 'ro-', linewidth=2)\n",
    "plt.title('Scree Plot')\n",
    "plt.xlabel('Principal Component')\n",
    "plt.ylabel('Proportion of Variance Explained')\n",
    "plt.show()"
   ]
  },
  {
   "cell_type": "code",
   "execution_count": 23,
   "id": "679d12a2",
   "metadata": {},
   "outputs": [
    {
     "name": "stderr",
     "output_type": "stream",
     "text": [
      "C:\\ProgramData\\Anaconda3\\lib\\site-packages\\sklearn\\utils\\validation.py:70: FutureWarning: Pass n_features_to_select=3 as keyword args. From version 1.0 (renaming of 0.25) passing these as positional arguments will result in an error\n",
      "  warnings.warn(f\"Pass {args_msg} as keyword args. From version \"\n"
     ]
    },
    {
     "name": "stdout",
     "output_type": "stream",
     "text": [
      "3 selected Features:\n",
      "['calories' 'fiber' 'sugars']\n"
     ]
    }
   ],
   "source": [
    "#Reduction of variables using Recursive Feature Elimination(RFE) techineque\n",
    "# REGRESSOR\n",
    "\n",
    "X = df.iloc[:,3:12]\n",
    "X_col = X.columns\n",
    "\n",
    "from sklearn.ensemble import RandomForestRegressor\n",
    "from sklearn.neighbors import KNeighborsRegressor\n",
    "\n",
    "from sklearn.model_selection import train_test_split\n",
    "X_train, X_test, y_train, y_test =train_test_split(X, y ,  test_size=0.2, random_state=123)\n",
    "\n",
    "Rf = RandomForestRegressor(random_state=52)\n",
    "\n",
    "\n",
    "Rf_fit=Rf.fit(X_train, y_train)\n",
    "y_pred = Rf_fit.predict(X_test)\n",
    "\n",
    "from sklearn.feature_selection import RFE\n",
    "\n",
    "# RFE with 10 features\n",
    "\n",
    "rfe_10 = RFE(Rf,3)\n",
    "\n",
    "rfe_10.fit(X_train, y_train)\n",
    "\n",
    "# selected features\n",
    "features_bool = np.array(rfe_10.support_)\n",
    "features = np.array(X_col)\n",
    "result = features[features_bool]\n",
    "print('3 selected Features:')\n",
    "print(result)    "
   ]
  },
  {
   "cell_type": "code",
   "execution_count": null,
   "id": "3a2a624a",
   "metadata": {},
   "outputs": [],
   "source": []
  }
 ],
 "metadata": {
  "kernelspec": {
   "display_name": "Python 3",
   "language": "python",
   "name": "python3"
  },
  "language_info": {
   "codemirror_mode": {
    "name": "ipython",
    "version": 3
   },
   "file_extension": ".py",
   "mimetype": "text/x-python",
   "name": "python",
   "nbconvert_exporter": "python",
   "pygments_lexer": "ipython3",
   "version": "3.8.8"
  }
 },
 "nbformat": 4,
 "nbformat_minor": 5
}
