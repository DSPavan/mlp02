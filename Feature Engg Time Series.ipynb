{
 "cells": [
  {
   "cell_type": "code",
   "execution_count": 2,
   "id": "0ae6c96d",
   "metadata": {},
   "outputs": [],
   "source": [
    "# 1. Date-Related Features\n",
    "# 2. Time-Based Features\n",
    "# 3. Lag Features   t-1 is lag 1, t-2 is lag 2,\n",
    "# 4. Rolling Window Feature  # calculating some statistical values based on past values , weighted average\n",
    "# 5. Expanding Window Feature\n",
    "# 6. Domain-Specific Features"
   ]
  },
  {
   "cell_type": "code",
   "execution_count": 3,
   "id": "23c98912",
   "metadata": {},
   "outputs": [
    {
     "data": {
      "text/html": [
       "<div>\n",
       "<style scoped>\n",
       "    .dataframe tbody tr th:only-of-type {\n",
       "        vertical-align: middle;\n",
       "    }\n",
       "\n",
       "    .dataframe tbody tr th {\n",
       "        vertical-align: top;\n",
       "    }\n",
       "\n",
       "    .dataframe thead th {\n",
       "        text-align: right;\n",
       "    }\n",
       "</style>\n",
       "<table border=\"1\" class=\"dataframe\">\n",
       "  <thead>\n",
       "    <tr style=\"text-align: right;\">\n",
       "      <th></th>\n",
       "      <th>month</th>\n",
       "      <th>milk_prod_per_cow_kg</th>\n",
       "    </tr>\n",
       "  </thead>\n",
       "  <tbody>\n",
       "    <tr>\n",
       "      <th>0</th>\n",
       "      <td>1/1/1962</td>\n",
       "      <td>265.05</td>\n",
       "    </tr>\n",
       "    <tr>\n",
       "      <th>1</th>\n",
       "      <td>2/1/1962</td>\n",
       "      <td>252.45</td>\n",
       "    </tr>\n",
       "    <tr>\n",
       "      <th>2</th>\n",
       "      <td>3/1/1962</td>\n",
       "      <td>288.00</td>\n",
       "    </tr>\n",
       "    <tr>\n",
       "      <th>3</th>\n",
       "      <td>4/1/1962</td>\n",
       "      <td>295.20</td>\n",
       "    </tr>\n",
       "    <tr>\n",
       "      <th>4</th>\n",
       "      <td>5/1/1962</td>\n",
       "      <td>327.15</td>\n",
       "    </tr>\n",
       "  </tbody>\n",
       "</table>\n",
       "</div>"
      ],
      "text/plain": [
       "      month  milk_prod_per_cow_kg\n",
       "0  1/1/1962                265.05\n",
       "1  2/1/1962                252.45\n",
       "2  3/1/1962                288.00\n",
       "3  4/1/1962                295.20\n",
       "4  5/1/1962                327.15"
      ]
     },
     "execution_count": 3,
     "metadata": {},
     "output_type": "execute_result"
    }
   ],
   "source": [
    "import numpy as np\n",
    "\n",
    "import pandas as pd\n",
    "\n",
    "import statsmodels.api as sm\n",
    "\n",
    "import matplotlib.pyplot as plt\n",
    "\n",
    "%matplotlib inline\n",
    "\n",
    "#from pandas.core import datetools\n",
    "\n",
    "df = pd.read_csv(\"C:\\\\Users\\\\radha\\\\Desktop\\\\dsp27 Class\\\\monthly_milk.csv\")\n",
    "\n",
    "df.head()"
   ]
  },
  {
   "cell_type": "code",
   "execution_count": 7,
   "id": "69383d25",
   "metadata": {},
   "outputs": [
    {
     "data": {
      "text/plain": [
       "month                           object\n",
       "milk_prod_per_cow_kg           float64\n",
       "Datetime                datetime64[ns]\n",
       "dtype: object"
      ]
     },
     "execution_count": 7,
     "metadata": {},
     "output_type": "execute_result"
    }
   ],
   "source": [
    "\n",
    "df['Datetime'] = pd.to_datetime(df['month'],format='%d/%m/%Y')\n",
    "df.dtypes"
   ]
  },
  {
   "cell_type": "code",
   "execution_count": 12,
   "id": "0faf3d62",
   "metadata": {},
   "outputs": [
    {
     "data": {
      "text/html": [
       "<div>\n",
       "<style scoped>\n",
       "    .dataframe tbody tr th:only-of-type {\n",
       "        vertical-align: middle;\n",
       "    }\n",
       "\n",
       "    .dataframe tbody tr th {\n",
       "        vertical-align: top;\n",
       "    }\n",
       "\n",
       "    .dataframe thead th {\n",
       "        text-align: right;\n",
       "    }\n",
       "</style>\n",
       "<table border=\"1\" class=\"dataframe\">\n",
       "  <thead>\n",
       "    <tr style=\"text-align: right;\">\n",
       "      <th></th>\n",
       "      <th>month</th>\n",
       "      <th>milk_prod_per_cow_kg</th>\n",
       "      <th>Datetime</th>\n",
       "      <th>year</th>\n",
       "      <th>day</th>\n",
       "      <th>dayofweek_num</th>\n",
       "      <th>dayofweek_name</th>\n",
       "    </tr>\n",
       "  </thead>\n",
       "  <tbody>\n",
       "    <tr>\n",
       "      <th>0</th>\n",
       "      <td>1</td>\n",
       "      <td>265.05</td>\n",
       "      <td>1962-01-01</td>\n",
       "      <td>1962</td>\n",
       "      <td>1</td>\n",
       "      <td>0</td>\n",
       "      <td>Monday</td>\n",
       "    </tr>\n",
       "    <tr>\n",
       "      <th>1</th>\n",
       "      <td>1</td>\n",
       "      <td>252.45</td>\n",
       "      <td>1962-01-02</td>\n",
       "      <td>1962</td>\n",
       "      <td>2</td>\n",
       "      <td>1</td>\n",
       "      <td>Tuesday</td>\n",
       "    </tr>\n",
       "    <tr>\n",
       "      <th>2</th>\n",
       "      <td>1</td>\n",
       "      <td>288.00</td>\n",
       "      <td>1962-01-03</td>\n",
       "      <td>1962</td>\n",
       "      <td>3</td>\n",
       "      <td>2</td>\n",
       "      <td>Wednesday</td>\n",
       "    </tr>\n",
       "    <tr>\n",
       "      <th>3</th>\n",
       "      <td>1</td>\n",
       "      <td>295.20</td>\n",
       "      <td>1962-01-04</td>\n",
       "      <td>1962</td>\n",
       "      <td>4</td>\n",
       "      <td>3</td>\n",
       "      <td>Thursday</td>\n",
       "    </tr>\n",
       "    <tr>\n",
       "      <th>4</th>\n",
       "      <td>1</td>\n",
       "      <td>327.15</td>\n",
       "      <td>1962-01-05</td>\n",
       "      <td>1962</td>\n",
       "      <td>5</td>\n",
       "      <td>4</td>\n",
       "      <td>Friday</td>\n",
       "    </tr>\n",
       "  </tbody>\n",
       "</table>\n",
       "</div>"
      ],
      "text/plain": [
       "   month  milk_prod_per_cow_kg   Datetime  year  day  dayofweek_num  \\\n",
       "0      1                265.05 1962-01-01  1962    1              0   \n",
       "1      1                252.45 1962-01-02  1962    2              1   \n",
       "2      1                288.00 1962-01-03  1962    3              2   \n",
       "3      1                295.20 1962-01-04  1962    4              3   \n",
       "4      1                327.15 1962-01-05  1962    5              4   \n",
       "\n",
       "  dayofweek_name  \n",
       "0         Monday  \n",
       "1        Tuesday  \n",
       "2      Wednesday  \n",
       "3       Thursday  \n",
       "4         Friday  "
      ]
     },
     "execution_count": 12,
     "metadata": {},
     "output_type": "execute_result"
    }
   ],
   "source": [
    "\n",
    "\n",
    "df['year']=df['Datetime'].dt.year \n",
    "df['month']=df['Datetime'].dt.month \n",
    "df['day']=df['Datetime'].dt.day\n",
    "\n",
    "df['dayofweek_num']=df['Datetime'].dt.dayofweek  \n",
    "df['dayofweek_name']=df['Datetime'].dt.day_name()\n",
    "\n",
    "df.head()\n",
    "\n"
   ]
  },
  {
   "cell_type": "code",
   "execution_count": 13,
   "id": "be4cd8cd",
   "metadata": {},
   "outputs": [
    {
     "data": {
      "text/html": [
       "<div>\n",
       "<style scoped>\n",
       "    .dataframe tbody tr th:only-of-type {\n",
       "        vertical-align: middle;\n",
       "    }\n",
       "\n",
       "    .dataframe tbody tr th {\n",
       "        vertical-align: top;\n",
       "    }\n",
       "\n",
       "    .dataframe thead th {\n",
       "        text-align: right;\n",
       "    }\n",
       "</style>\n",
       "<table border=\"1\" class=\"dataframe\">\n",
       "  <thead>\n",
       "    <tr style=\"text-align: right;\">\n",
       "      <th></th>\n",
       "      <th>month</th>\n",
       "      <th>milk_prod_per_cow_kg</th>\n",
       "      <th>Datetime</th>\n",
       "      <th>year</th>\n",
       "      <th>day</th>\n",
       "      <th>dayofweek_num</th>\n",
       "      <th>dayofweek_name</th>\n",
       "      <th>Hour</th>\n",
       "      <th>minute</th>\n",
       "    </tr>\n",
       "  </thead>\n",
       "  <tbody>\n",
       "    <tr>\n",
       "      <th>0</th>\n",
       "      <td>1</td>\n",
       "      <td>265.05</td>\n",
       "      <td>1962-01-01</td>\n",
       "      <td>1962</td>\n",
       "      <td>1</td>\n",
       "      <td>0</td>\n",
       "      <td>Monday</td>\n",
       "      <td>0</td>\n",
       "      <td>0</td>\n",
       "    </tr>\n",
       "    <tr>\n",
       "      <th>1</th>\n",
       "      <td>1</td>\n",
       "      <td>252.45</td>\n",
       "      <td>1962-01-02</td>\n",
       "      <td>1962</td>\n",
       "      <td>2</td>\n",
       "      <td>1</td>\n",
       "      <td>Tuesday</td>\n",
       "      <td>0</td>\n",
       "      <td>0</td>\n",
       "    </tr>\n",
       "    <tr>\n",
       "      <th>2</th>\n",
       "      <td>1</td>\n",
       "      <td>288.00</td>\n",
       "      <td>1962-01-03</td>\n",
       "      <td>1962</td>\n",
       "      <td>3</td>\n",
       "      <td>2</td>\n",
       "      <td>Wednesday</td>\n",
       "      <td>0</td>\n",
       "      <td>0</td>\n",
       "    </tr>\n",
       "    <tr>\n",
       "      <th>3</th>\n",
       "      <td>1</td>\n",
       "      <td>295.20</td>\n",
       "      <td>1962-01-04</td>\n",
       "      <td>1962</td>\n",
       "      <td>4</td>\n",
       "      <td>3</td>\n",
       "      <td>Thursday</td>\n",
       "      <td>0</td>\n",
       "      <td>0</td>\n",
       "    </tr>\n",
       "    <tr>\n",
       "      <th>4</th>\n",
       "      <td>1</td>\n",
       "      <td>327.15</td>\n",
       "      <td>1962-01-05</td>\n",
       "      <td>1962</td>\n",
       "      <td>5</td>\n",
       "      <td>4</td>\n",
       "      <td>Friday</td>\n",
       "      <td>0</td>\n",
       "      <td>0</td>\n",
       "    </tr>\n",
       "  </tbody>\n",
       "</table>\n",
       "</div>"
      ],
      "text/plain": [
       "   month  milk_prod_per_cow_kg   Datetime  year  day  dayofweek_num  \\\n",
       "0      1                265.05 1962-01-01  1962    1              0   \n",
       "1      1                252.45 1962-01-02  1962    2              1   \n",
       "2      1                288.00 1962-01-03  1962    3              2   \n",
       "3      1                295.20 1962-01-04  1962    4              3   \n",
       "4      1                327.15 1962-01-05  1962    5              4   \n",
       "\n",
       "  dayofweek_name  Hour  minute  \n",
       "0         Monday     0       0  \n",
       "1        Tuesday     0       0  \n",
       "2      Wednesday     0       0  \n",
       "3       Thursday     0       0  \n",
       "4         Friday     0       0  "
      ]
     },
     "execution_count": 13,
     "metadata": {},
     "output_type": "execute_result"
    }
   ],
   "source": [
    "df['Hour'] = df['Datetime'].dt.hour \n",
    "df['minute'] = df['Datetime'].dt.minute \n",
    "\n",
    "df.head()"
   ]
  },
  {
   "cell_type": "code",
   "execution_count": 15,
   "id": "bb99e23d",
   "metadata": {},
   "outputs": [
    {
     "data": {
      "text/html": [
       "<div>\n",
       "<style scoped>\n",
       "    .dataframe tbody tr th:only-of-type {\n",
       "        vertical-align: middle;\n",
       "    }\n",
       "\n",
       "    .dataframe tbody tr th {\n",
       "        vertical-align: top;\n",
       "    }\n",
       "\n",
       "    .dataframe thead th {\n",
       "        text-align: right;\n",
       "    }\n",
       "</style>\n",
       "<table border=\"1\" class=\"dataframe\">\n",
       "  <thead>\n",
       "    <tr style=\"text-align: right;\">\n",
       "      <th></th>\n",
       "      <th>Datetime</th>\n",
       "      <th>lag_1</th>\n",
       "      <th>milk_prod_per_cow_kg</th>\n",
       "    </tr>\n",
       "  </thead>\n",
       "  <tbody>\n",
       "    <tr>\n",
       "      <th>0</th>\n",
       "      <td>1962-01-01</td>\n",
       "      <td>NaN</td>\n",
       "      <td>265.05</td>\n",
       "    </tr>\n",
       "    <tr>\n",
       "      <th>1</th>\n",
       "      <td>1962-01-02</td>\n",
       "      <td>265.05</td>\n",
       "      <td>252.45</td>\n",
       "    </tr>\n",
       "    <tr>\n",
       "      <th>2</th>\n",
       "      <td>1962-01-03</td>\n",
       "      <td>252.45</td>\n",
       "      <td>288.00</td>\n",
       "    </tr>\n",
       "    <tr>\n",
       "      <th>3</th>\n",
       "      <td>1962-01-04</td>\n",
       "      <td>288.00</td>\n",
       "      <td>295.20</td>\n",
       "    </tr>\n",
       "    <tr>\n",
       "      <th>4</th>\n",
       "      <td>1962-01-05</td>\n",
       "      <td>295.20</td>\n",
       "      <td>327.15</td>\n",
       "    </tr>\n",
       "  </tbody>\n",
       "</table>\n",
       "</div>"
      ],
      "text/plain": [
       "    Datetime   lag_1  milk_prod_per_cow_kg\n",
       "0 1962-01-01     NaN                265.05\n",
       "1 1962-01-02  265.05                252.45\n",
       "2 1962-01-03  252.45                288.00\n",
       "3 1962-01-04  288.00                295.20\n",
       "4 1962-01-05  295.20                327.15"
      ]
     },
     "execution_count": 15,
     "metadata": {},
     "output_type": "execute_result"
    }
   ],
   "source": [
    "# shift  1 to 12\n",
    "df['lag_1'] = df['milk_prod_per_cow_kg'].shift(1)\n",
    "df = df[['Datetime', 'lag_1', 'milk_prod_per_cow_kg']]\n",
    "df.head()"
   ]
  },
  {
   "cell_type": "code",
   "execution_count": 17,
   "id": "29653f57",
   "metadata": {},
   "outputs": [
    {
     "data": {
      "image/png": "[encoded data removed]",
      "text/plain": [
       "<Figure size 432x288 with 1 Axes>"
      ]
     },
     "execution_count": 17,
     "metadata": {},
     "output_type": "execute_result"
    },
    {
     "data": {
      "image/png": "[encoded data removed]",
      "text/plain": [
       "<Figure size 432x288 with 1 Axes>"
      ]
     },
     "metadata": {
      "needs_background": "light"
     },
     "output_type": "display_data"
    },
    {
     "data": {
      "image/png": "[encoded data removed]",
      "text/plain": [
       "<Figure size 432x288 with 1 Axes>"
      ]
     },
     "metadata": {
      "needs_background": "light"
     },
     "output_type": "display_data"
    }
   ],
   "source": [
    "from statsmodels.graphics.tsaplots import plot_acf\n",
    "from statsmodels.graphics.tsaplots import plot_pacf\n",
    "plot_acf(df['milk_prod_per_cow_kg'], lags=10)\n",
    "plot_pacf(df['milk_prod_per_cow_kg'], lags=10)"
   ]
  },
  {
   "cell_type": "code",
   "execution_count": 19,
   "id": "5c18d783",
   "metadata": {},
   "outputs": [
    {
     "data": {
      "text/html": [
       "<div>\n",
       "<style scoped>\n",
       "    .dataframe tbody tr th:only-of-type {\n",
       "        vertical-align: middle;\n",
       "    }\n",
       "\n",
       "    .dataframe tbody tr th {\n",
       "        vertical-align: top;\n",
       "    }\n",
       "\n",
       "    .dataframe thead th {\n",
       "        text-align: right;\n",
       "    }\n",
       "</style>\n",
       "<table border=\"1\" class=\"dataframe\">\n",
       "  <thead>\n",
       "    <tr style=\"text-align: right;\">\n",
       "      <th></th>\n",
       "      <th>Datetime</th>\n",
       "      <th>rolling_mean</th>\n",
       "      <th>milk_prod_per_cow_kg</th>\n",
       "    </tr>\n",
       "  </thead>\n",
       "  <tbody>\n",
       "    <tr>\n",
       "      <th>0</th>\n",
       "      <td>1962-01-01</td>\n",
       "      <td>NaN</td>\n",
       "      <td>265.05</td>\n",
       "    </tr>\n",
       "    <tr>\n",
       "      <th>1</th>\n",
       "      <td>1962-01-02</td>\n",
       "      <td>NaN</td>\n",
       "      <td>252.45</td>\n",
       "    </tr>\n",
       "    <tr>\n",
       "      <th>2</th>\n",
       "      <td>1962-01-03</td>\n",
       "      <td>NaN</td>\n",
       "      <td>288.00</td>\n",
       "    </tr>\n",
       "    <tr>\n",
       "      <th>3</th>\n",
       "      <td>1962-01-04</td>\n",
       "      <td>NaN</td>\n",
       "      <td>295.20</td>\n",
       "    </tr>\n",
       "    <tr>\n",
       "      <th>4</th>\n",
       "      <td>1962-01-05</td>\n",
       "      <td>NaN</td>\n",
       "      <td>327.15</td>\n",
       "    </tr>\n",
       "    <tr>\n",
       "      <th>5</th>\n",
       "      <td>1962-01-06</td>\n",
       "      <td>NaN</td>\n",
       "      <td>313.65</td>\n",
       "    </tr>\n",
       "    <tr>\n",
       "      <th>6</th>\n",
       "      <td>1962-01-07</td>\n",
       "      <td>289.928571</td>\n",
       "      <td>288.00</td>\n",
       "    </tr>\n",
       "    <tr>\n",
       "      <th>7</th>\n",
       "      <td>1962-01-08</td>\n",
       "      <td>290.571429</td>\n",
       "      <td>269.55</td>\n",
       "    </tr>\n",
       "    <tr>\n",
       "      <th>8</th>\n",
       "      <td>1962-01-09</td>\n",
       "      <td>291.021429</td>\n",
       "      <td>255.60</td>\n",
       "    </tr>\n",
       "    <tr>\n",
       "      <th>9</th>\n",
       "      <td>1962-01-10</td>\n",
       "      <td>286.971429</td>\n",
       "      <td>259.65</td>\n",
       "    </tr>\n",
       "  </tbody>\n",
       "</table>\n",
       "</div>"
      ],
      "text/plain": [
       "    Datetime  rolling_mean  milk_prod_per_cow_kg\n",
       "0 1962-01-01           NaN                265.05\n",
       "1 1962-01-02           NaN                252.45\n",
       "2 1962-01-03           NaN                288.00\n",
       "3 1962-01-04           NaN                295.20\n",
       "4 1962-01-05           NaN                327.15\n",
       "5 1962-01-06           NaN                313.65\n",
       "6 1962-01-07    289.928571                288.00\n",
       "7 1962-01-08    290.571429                269.55\n",
       "8 1962-01-09    291.021429                255.60\n",
       "9 1962-01-10    286.971429                259.65"
      ]
     },
     "execution_count": 19,
     "metadata": {},
     "output_type": "execute_result"
    }
   ],
   "source": [
    "\n",
    "df['rolling_mean'] = df['milk_prod_per_cow_kg'].rolling(window=7).mean()\n",
    "df = df[['Datetime', 'rolling_mean', 'milk_prod_per_cow_kg']]\n",
    "df.head(10)\n",
    "\n"
   ]
  },
  {
   "cell_type": "code",
   "execution_count": 21,
   "id": "fdf0edae",
   "metadata": {},
   "outputs": [
    {
     "data": {
      "text/html": [
       "<div>\n",
       "<style scoped>\n",
       "    .dataframe tbody tr th:only-of-type {\n",
       "        vertical-align: middle;\n",
       "    }\n",
       "\n",
       "    .dataframe tbody tr th {\n",
       "        vertical-align: top;\n",
       "    }\n",
       "\n",
       "    .dataframe thead th {\n",
       "        text-align: right;\n",
       "    }\n",
       "</style>\n",
       "<table border=\"1\" class=\"dataframe\">\n",
       "  <thead>\n",
       "    <tr style=\"text-align: right;\">\n",
       "      <th></th>\n",
       "      <th>Datetime</th>\n",
       "      <th>milk_prod_per_cow_kg</th>\n",
       "      <th>expanding_mean</th>\n",
       "    </tr>\n",
       "  </thead>\n",
       "  <tbody>\n",
       "    <tr>\n",
       "      <th>0</th>\n",
       "      <td>1962-01-01</td>\n",
       "      <td>265.05</td>\n",
       "      <td>NaN</td>\n",
       "    </tr>\n",
       "    <tr>\n",
       "      <th>1</th>\n",
       "      <td>1962-01-02</td>\n",
       "      <td>252.45</td>\n",
       "      <td>258.750000</td>\n",
       "    </tr>\n",
       "    <tr>\n",
       "      <th>2</th>\n",
       "      <td>1962-01-03</td>\n",
       "      <td>288.00</td>\n",
       "      <td>268.500000</td>\n",
       "    </tr>\n",
       "    <tr>\n",
       "      <th>3</th>\n",
       "      <td>1962-01-04</td>\n",
       "      <td>295.20</td>\n",
       "      <td>275.175000</td>\n",
       "    </tr>\n",
       "    <tr>\n",
       "      <th>4</th>\n",
       "      <td>1962-01-05</td>\n",
       "      <td>327.15</td>\n",
       "      <td>285.570000</td>\n",
       "    </tr>\n",
       "    <tr>\n",
       "      <th>5</th>\n",
       "      <td>1962-01-06</td>\n",
       "      <td>313.65</td>\n",
       "      <td>290.250000</td>\n",
       "    </tr>\n",
       "    <tr>\n",
       "      <th>6</th>\n",
       "      <td>1962-01-07</td>\n",
       "      <td>288.00</td>\n",
       "      <td>289.928571</td>\n",
       "    </tr>\n",
       "    <tr>\n",
       "      <th>7</th>\n",
       "      <td>1962-01-08</td>\n",
       "      <td>269.55</td>\n",
       "      <td>287.381250</td>\n",
       "    </tr>\n",
       "    <tr>\n",
       "      <th>8</th>\n",
       "      <td>1962-01-09</td>\n",
       "      <td>255.60</td>\n",
       "      <td>283.850000</td>\n",
       "    </tr>\n",
       "    <tr>\n",
       "      <th>9</th>\n",
       "      <td>1962-01-10</td>\n",
       "      <td>259.65</td>\n",
       "      <td>281.430000</td>\n",
       "    </tr>\n",
       "  </tbody>\n",
       "</table>\n",
       "</div>"
      ],
      "text/plain": [
       "    Datetime  milk_prod_per_cow_kg  expanding_mean\n",
       "0 1962-01-01                265.05             NaN\n",
       "1 1962-01-02                252.45      258.750000\n",
       "2 1962-01-03                288.00      268.500000\n",
       "3 1962-01-04                295.20      275.175000\n",
       "4 1962-01-05                327.15      285.570000\n",
       "5 1962-01-06                313.65      290.250000\n",
       "6 1962-01-07                288.00      289.928571\n",
       "7 1962-01-08                269.55      287.381250\n",
       "8 1962-01-09                255.60      283.850000\n",
       "9 1962-01-10                259.65      281.430000"
      ]
     },
     "execution_count": 21,
     "metadata": {},
     "output_type": "execute_result"
    }
   ],
   "source": [
    "\n",
    "df['expanding_mean'] = df['milk_prod_per_cow_kg'].expanding(2).mean()\n",
    "df = df[['Datetime','milk_prod_per_cow_kg', 'expanding_mean']]\n",
    "df.head(10)"
   ]
  },
  {
   "cell_type": "code",
   "execution_count": 22,
   "id": "966ffaca",
   "metadata": {},
   "outputs": [
    {
     "data": {
      "text/plain": [
       "(Timestamp('1962-01-01 00:00:00'),\n",
       " Timestamp('1975-01-12 00:00:00'),\n",
       " Timedelta('4759 days 00:00:00'))"
      ]
     },
     "execution_count": 22,
     "metadata": {},
     "output_type": "execute_result"
    }
   ],
   "source": [
    "\n",
    "df['Datetime'].min(), df['Datetime'].max(), (df['Datetime'].max() -df['Datetime'].min())"
   ]
  },
  {
   "cell_type": "code",
   "execution_count": 23,
   "id": "5b230c2b",
   "metadata": {},
   "outputs": [],
   "source": [
    "# OTHERS"
   ]
  },
  {
   "cell_type": "code",
   "execution_count": 24,
   "id": "bed0bb8f",
   "metadata": {},
   "outputs": [
    {
     "name": "stdout",
     "output_type": "stream",
     "text": [
      "2021-11-17 20:32:17.735982\n"
     ]
    }
   ],
   "source": [
    "import datetime\n",
    "\n",
    "x = datetime.datetime.now()\n",
    "print(x)"
   ]
  },
  {
   "cell_type": "code",
   "execution_count": 25,
   "id": "fabc023d",
   "metadata": {},
   "outputs": [
    {
     "name": "stdout",
     "output_type": "stream",
     "text": [
      "2021\n",
      "Wednesday\n"
     ]
    }
   ],
   "source": [
    "print(x.year)\n",
    "print(x.strftime(\"%A\"))"
   ]
  },
  {
   "cell_type": "code",
   "execution_count": 26,
   "id": "12874748",
   "metadata": {},
   "outputs": [
    {
     "name": "stdout",
     "output_type": "stream",
     "text": [
      "2021-11-17 00:00:00\n"
     ]
    }
   ],
   "source": [
    "x = datetime.datetime(2021, 11, 17)\n",
    "print(x)"
   ]
  },
  {
   "cell_type": "code",
   "execution_count": 27,
   "id": "ef28413d",
   "metadata": {},
   "outputs": [
    {
     "name": "stdout",
     "output_type": "stream",
     "text": [
      "November\n"
     ]
    }
   ],
   "source": [
    "print(x.strftime(\"%B\"))"
   ]
  },
  {
   "cell_type": "code",
   "execution_count": 28,
   "id": "e9dbf8be",
   "metadata": {},
   "outputs": [],
   "source": [
    "# https://docs.python.org/3/library/datetime.html"
   ]
  },
  {
   "cell_type": "code",
   "execution_count": 31,
   "id": "f9ce221c",
   "metadata": {},
   "outputs": [
    {
     "data": {
      "text/plain": [
       "datetime.timedelta(days=3650)"
      ]
     },
     "execution_count": 31,
     "metadata": {},
     "output_type": "execute_result"
    }
   ],
   "source": [
    "from datetime import timedelta\n",
    "year = timedelta(days=365)\n",
    "ten_years = 10 * year\n",
    "ten_years"
   ]
  },
  {
   "cell_type": "code",
   "execution_count": 33,
   "id": "44383ff1",
   "metadata": {},
   "outputs": [
    {
     "data": {
      "text/plain": [
       "datetime.date(2021, 11, 17)"
      ]
     },
     "execution_count": 33,
     "metadata": {},
     "output_type": "execute_result"
    }
   ],
   "source": [
    "import time\n",
    "from datetime import date\n",
    "today = date.today()\n",
    "today\n",
    "\n"
   ]
  },
  {
   "cell_type": "code",
   "execution_count": 34,
   "id": "a74fa1e3",
   "metadata": {},
   "outputs": [
    {
     "name": "stdout",
     "output_type": "stream",
     "text": [
      "initial_date 2021-11-17 20:40:30.922627\n",
      "future_date_after_2yrs: 2023-11-17 20:40:30.922627\n",
      "future_date_after_2days: 2021-11-19 20:40:30.922627\n"
     ]
    }
   ],
   "source": [
    "from datetime import datetime, timedelta\n",
    "# Using current time\n",
    "ini_time_for_now = datetime.now()\n",
    "# printing initial_date\n",
    "print (\"initial_date\", str(ini_time_for_now))\n",
    "  # Calculating future dates\n",
    "# for two years\n",
    "future_date_after_2yrs = ini_time_for_now + \\\n",
    "                        timedelta(days = 730)\n",
    "  \n",
    "future_date_after_2days = ini_time_for_now + \\\n",
    "                         timedelta(days = 2)\n",
    "  \n",
    "# printing calculated future_dates\n",
    "print('future_date_after_2yrs:', str(future_date_after_2yrs))\n",
    "print('future_date_after_2days:', str(future_date_after_2days))"
   ]
  },
  {
   "cell_type": "code",
   "execution_count": 46,
   "id": "f05100ff",
   "metadata": {},
   "outputs": [],
   "source": [
    "######  white noise\n",
    "\n"
   ]
  },
  {
   "cell_type": "code",
   "execution_count": 36,
   "id": "18ebd755",
   "metadata": {},
   "outputs": [],
   "source": [
    "# If a time series is white noise, it is a sequence of random numbers and cannot be predicted.\n",
    "\n",
    "#  time series is white noise if the variables are independent and identically distributed with a mean of zero.  : MEAN ZERO"
   ]
  },
  {
   "cell_type": "code",
   "execution_count": 37,
   "id": "20d003b2",
   "metadata": {},
   "outputs": [],
   "source": [
    "from random import gauss\n",
    "from random import seed\n",
    "from pandas import Series\n",
    "from pandas.plotting import autocorrelation_plot\n",
    "# seed random number generator\n",
    "seed(1)\n",
    "# create white noise series\n",
    "series = [gauss(0.0, 1.0) for i in range(1000)]\n",
    "series = Series(series)"
   ]
  },
  {
   "cell_type": "code",
   "execution_count": 38,
   "id": "380e2ab8",
   "metadata": {},
   "outputs": [
    {
     "data": {
      "text/plain": [
       "0      1.288185\n",
       "1      1.449446\n",
       "2      0.066336\n",
       "3     -0.764544\n",
       "4     -1.092173\n",
       "         ...   \n",
       "995    0.619316\n",
       "996    0.395090\n",
       "997   -0.602409\n",
       "998   -0.240635\n",
       "999    1.546682\n",
       "Length: 1000, dtype: float64"
      ]
     },
     "execution_count": 38,
     "metadata": {},
     "output_type": "execute_result"
    }
   ],
   "source": [
    "series"
   ]
  },
  {
   "cell_type": "code",
   "execution_count": 39,
   "id": "e0050aa2",
   "metadata": {},
   "outputs": [
    {
     "name": "stdout",
     "output_type": "stream",
     "text": [
      "count    1000.000000\n",
      "mean       -0.013222\n",
      "std         1.003685\n",
      "min        -2.961214\n",
      "25%        -0.684192\n",
      "50%        -0.010934\n",
      "75%         0.703915\n",
      "max         2.737260\n",
      "dtype: float64\n"
     ]
    }
   ],
   "source": [
    "# summary stats\n",
    "print(series.describe())"
   ]
  },
  {
   "cell_type": "code",
   "execution_count": 40,
   "id": "7aa3ac24",
   "metadata": {},
   "outputs": [],
   "source": [
    "# MEAN ZERO"
   ]
  },
  {
   "cell_type": "code",
   "execution_count": 42,
   "id": "3e023554",
   "metadata": {},
   "outputs": [
    {
     "data": {
      "text/plain": [
       "<AxesSubplot:>"
      ]
     },
     "execution_count": 42,
     "metadata": {},
     "output_type": "execute_result"
    },
    {
     "data": {
      "image/png": "[encoded data removed]",
      "text/plain": [
       "<Figure size 432x288 with 1 Axes>"
      ]
     },
     "metadata": {
      "needs_background": "light"
     },
     "output_type": "display_data"
    }
   ],
   "source": [
    "series.plot()\n"
   ]
  },
  {
   "cell_type": "code",
   "execution_count": 43,
   "id": "a036168e",
   "metadata": {},
   "outputs": [
    {
     "data": {
      "text/plain": [
       "<AxesSubplot:>"
      ]
     },
     "execution_count": 43,
     "metadata": {},
     "output_type": "execute_result"
    },
    {
     "data": {
      "image/png": "[encoded data removed]",
      "text/plain": [
       "<Figure size 432x288 with 1 Axes>"
      ]
     },
     "metadata": {
      "needs_background": "light"
     },
     "output_type": "display_data"
    }
   ],
   "source": [
    "series.hist()"
   ]
  },
  {
   "cell_type": "code",
   "execution_count": 44,
   "id": "f35939a4",
   "metadata": {},
   "outputs": [
    {
     "data": {
      "text/plain": [
       "<AxesSubplot:xlabel='Lag', ylabel='Autocorrelation'>"
      ]
     },
     "execution_count": 44,
     "metadata": {},
     "output_type": "execute_result"
    },
    {
     "data": {
      "image/png": "[encoded data removed]",
      "text/plain": [
       "<Figure size 432x288 with 1 Axes>"
      ]
     },
     "metadata": {
      "needs_background": "light"
     },
     "output_type": "display_data"
    }
   ],
   "source": [
    "autocorrelation_plot(series)"
   ]
  },
  {
   "cell_type": "code",
   "execution_count": 45,
   "id": "35a8c3e8",
   "metadata": {},
   "outputs": [
    {
     "name": "stdout",
     "output_type": "stream",
     "text": [
      "       milk_prod_per_cow_kg  expanding_mean\n",
      "count            168.000000      167.000000\n",
      "mean             339.618750      307.408642\n",
      "std               45.992036       19.665967\n",
      "min              248.850000      258.750000\n",
      "25%              304.987500      290.218500\n",
      "50%              342.450000      306.799412\n",
      "75%              371.025000      325.617379\n",
      "max              436.050000      339.618750\n"
     ]
    }
   ],
   "source": [
    "# summary stats\n",
    "print(df.describe())"
   ]
  },
  {
   "cell_type": "code",
   "execution_count": 47,
   "id": "58b081e2",
   "metadata": {},
   "outputs": [],
   "source": [
    "# exponential smoothing"
   ]
  },
  {
   "cell_type": "code",
   "execution_count": 48,
   "id": "1417e337",
   "metadata": {},
   "outputs": [],
   "source": [
    "#Exponential smoothing is a time series forecasting method for univariate data that can be extended to support data \n",
    "#with a systematic trend or seasonal component. "
   ]
  },
  {
   "cell_type": "code",
   "execution_count": 49,
   "id": "c3230fc4",
   "metadata": {},
   "outputs": [],
   "source": [
    "# exponential functions are used to assign exponentially decreasing weights over time."
   ]
  },
  {
   "cell_type": "code",
   "execution_count": 50,
   "id": "6e882c11",
   "metadata": {},
   "outputs": [],
   "source": [
    "# Basic (simple) exponential smoothing (Holt linear)"
   ]
  },
  {
   "cell_type": "code",
   "execution_count": 51,
   "id": "5e263c21",
   "metadata": {},
   "outputs": [],
   "source": [
    "# The name 'exponential smoothing' is attributed to the use of the exponential window function during convolution. "
   ]
  },
  {
   "cell_type": "code",
   "execution_count": 52,
   "id": "46574181",
   "metadata": {},
   "outputs": [],
   "source": [
    "# Triple exponential smoothing (Holt Winters)"
   ]
  },
  {
   "cell_type": "code",
   "execution_count": 53,
   "id": "3789171b",
   "metadata": {},
   "outputs": [],
   "source": [
    "#Stationarity is the property of exhibiting constant statistical properties (mean, variance, autocorrelation, etc.). \n",
    "#If the mean of a time-series increases over time, then it’s not stationary."
   ]
  },
  {
   "cell_type": "code",
   "execution_count": 54,
   "id": "a0938c9c",
   "metadata": {},
   "outputs": [],
   "source": [
    "# here are several spikes above the blue region, meaning there are correlations at lags 1, 2, 3 and 4. ACF/PACF"
   ]
  },
  {
   "cell_type": "code",
   "execution_count": null,
   "id": "16529f16",
   "metadata": {},
   "outputs": [],
   "source": []
  },
  {
   "cell_type": "code",
   "execution_count": null,
   "id": "65609a78",
   "metadata": {},
   "outputs": [],
   "source": []
  }
 ],
 "metadata": {
  "kernelspec": {
   "display_name": "Python 3",
   "language": "python",
   "name": "python3"
  },
  "language_info": {
   "codemirror_mode": {
    "name": "ipython",
    "version": 3
   },
   "file_extension": ".py",
   "mimetype": "text/x-python",
   "name": "python",
   "nbconvert_exporter": "python",
   "pygments_lexer": "ipython3",
   "version": "3.8.8"
  }
 },
 "nbformat": 4,
 "nbformat_minor": 5
}
